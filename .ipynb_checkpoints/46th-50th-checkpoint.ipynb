{
 "cells": [
  {
   "cell_type": "markdown",
   "metadata": {},
   "source": [
    "# 第46回"
   ]
  },
  {
   "cell_type": "code",
   "execution_count": 1,
   "metadata": {},
   "outputs": [],
   "source": [
    "import os\n",
    "from pathlib import Path\n",
    "import shutil\n",
    "\n",
    "Path('xxx.txt').write_text('xxx')\n",
    "os.chmod('xxx.txt', 0o777)"
   ]
  },
  {
   "cell_type": "code",
   "execution_count": 3,
   "metadata": {},
   "outputs": [
    {
     "name": "stdout",
     "output_type": "stream",
     "text": [
      " ドライブ C のボリューム ラベルは Windows です\n",
      " ボリューム シリアル番号は 8E4D-3B07 です\n",
      "\n",
      " C:\\Users\\U268137\\atmarkit_python のディレクトリ\n",
      "\n",
      "2022/03/24  11:21    <DIR>          .\n",
      "2022/03/24  11:21    <DIR>          ..\n",
      "2022/03/23  18:00    <DIR>          .ipynb_checkpoints\n",
      "2022/03/14  14:02    <DIR>          __pycache__\n",
      "2022/03/08  09:15               291 1.py\n",
      "2022/03/11  10:56           259,097 11th-15th.ipynb\n",
      "2022/03/11  15:57           923,031 16th-20th.ipynb\n",
      "2022/03/09  10:55            27,268 1st-5th.ipynb\n",
      "2022/03/14  14:52           232,312 21th-25th.ipynb\n",
      "2022/03/15  14:39            33,834 26th-30th.ipynb\n",
      "2022/03/18  15:14            47,551 31-35th.ipynb\n",
      "2022/03/23  13:20            51,051 36-40th.ipynb\n",
      "2022/03/23  18:00           199,950 41th-45th.ipynb\n",
      "2022/03/24  11:21               925 46th-50th.ipynb\n",
      "2022/03/09  10:57            30,569 6th-10th.ipynb\n",
      "2022/03/23  15:33    <DIR>          aaa\n",
      "2022/03/23  18:00                33 b.txt\n",
      "2022/03/23  17:53                 0 c.txt\n",
      "2022/03/22  14:08            14,945 di-pybasic3908.gif\n",
      "2022/03/23  15:26    <DIR>          foo\n",
      "2022/03/23  13:16                96 insecure.pickle\n",
      "2022/03/23  13:46                43 myaddrbook.bak\n",
      "2022/03/23  13:46               569 myaddrbook.dat\n",
      "2022/03/23  13:46                43 myaddrbook.dir\n",
      "2022/03/22  15:42                36 mydata.data\n",
      "2022/03/23  12:50               158 mydata.pickle\n",
      "2022/03/22  15:35                 0 myfile.bin\n",
      "2022/03/22  14:03                 2 myfile.txt\n",
      "2022/03/14  14:28    <DIR>          mypkg\n",
      "2022/03/14  13:49               482 myutil.py\n",
      "2022/03/18  16:54                32 sample.txt\n",
      "2022/03/14  14:02               160 somemod.py\n",
      "2022/03/23  15:35    <DIR>          top\n",
      "2022/03/23  17:47    <DIR>          xxx\n",
      "2022/03/24  10:27                 3 xxx.txt\n",
      "              26 個のファイル           1,822,481 バイト\n",
      "               9 個のディレクトリ  18,725,179,392 バイトの空き領域\n"
     ]
    }
   ],
   "source": [
    "ls"
   ]
  },
  {
   "cell_type": "code",
   "execution_count": 4,
   "metadata": {},
   "outputs": [
    {
     "data": {
      "text/plain": [
       "'ccc.txt'"
      ]
     },
     "execution_count": 4,
     "metadata": {},
     "output_type": "execute_result"
    }
   ],
   "source": [
    "shutil.copyfile('xxx.txt', 'aaa.txt')\n",
    "shutil.copy(Path('xxx.txt'), Path('bbb.txt'))\n",
    "shutil.copy2('xxx.txt', 'ccc.txt')"
   ]
  },
  {
   "cell_type": "code",
   "execution_count": 5,
   "metadata": {},
   "outputs": [
    {
     "name": "stdout",
     "output_type": "stream",
     "text": [
      " ドライブ C のボリューム ラベルは Windows です\n",
      " ボリューム シリアル番号は 8E4D-3B07 です\n",
      "\n",
      " C:\\Users\\U268137\\atmarkit_python のディレクトリ\n",
      "\n",
      "2022/03/25  08:26    <DIR>          .\n",
      "2022/03/25  08:26    <DIR>          ..\n",
      "2022/03/23  18:00    <DIR>          .ipynb_checkpoints\n",
      "2022/03/14  14:02    <DIR>          __pycache__\n",
      "2022/03/08  09:15               291 1.py\n",
      "2022/03/11  10:56           259,097 11th-15th.ipynb\n",
      "2022/03/11  15:57           923,031 16th-20th.ipynb\n",
      "2022/03/09  10:55            27,268 1st-5th.ipynb\n",
      "2022/03/14  14:52           232,312 21th-25th.ipynb\n",
      "2022/03/15  14:39            33,834 26th-30th.ipynb\n",
      "2022/03/18  15:14            47,551 31-35th.ipynb\n",
      "2022/03/23  13:20            51,051 36-40th.ipynb\n",
      "2022/03/23  18:00           199,950 41th-45th.ipynb\n",
      "2022/03/25  08:26             3,683 46th-50th.ipynb\n",
      "2022/03/09  10:57            30,569 6th-10th.ipynb\n",
      "2022/03/23  15:33    <DIR>          aaa\n",
      "2022/03/25  08:26                 3 aaa.txt\n",
      "2022/03/23  18:00                33 b.txt\n",
      "2022/03/25  08:26                 3 bbb.txt\n",
      "2022/03/23  17:53                 0 c.txt\n",
      "2022/03/24  10:27                 3 ccc.txt\n",
      "2022/03/22  14:08            14,945 di-pybasic3908.gif\n",
      "2022/03/23  15:26    <DIR>          foo\n",
      "2022/03/23  13:16                96 insecure.pickle\n",
      "2022/03/23  13:46                43 myaddrbook.bak\n",
      "2022/03/23  13:46               569 myaddrbook.dat\n",
      "2022/03/23  13:46                43 myaddrbook.dir\n",
      "2022/03/22  15:42                36 mydata.data\n",
      "2022/03/23  12:50               158 mydata.pickle\n",
      "2022/03/22  15:35                 0 myfile.bin\n",
      "2022/03/22  14:03                 2 myfile.txt\n",
      "2022/03/14  14:28    <DIR>          mypkg\n",
      "2022/03/14  13:49               482 myutil.py\n",
      "2022/03/18  16:54                32 sample.txt\n",
      "2022/03/14  14:02               160 somemod.py\n",
      "2022/03/23  15:35    <DIR>          top\n",
      "2022/03/23  17:47    <DIR>          xxx\n",
      "2022/03/24  10:27                 3 xxx.txt\n",
      "              29 個のファイル           1,825,248 バイト\n",
      "               9 個のディレクトリ  18,724,413,440 バイトの空き領域\n"
     ]
    }
   ],
   "source": [
    "ls"
   ]
  },
  {
   "cell_type": "code",
   "execution_count": 8,
   "metadata": {},
   "outputs": [
    {
     "data": {
      "text/plain": [
       "'foo\\\\xxx.txt'"
      ]
     },
     "execution_count": 8,
     "metadata": {},
     "output_type": "execute_result"
    }
   ],
   "source": [
    "Path('foo').mkdir()\n",
    "shutil.copy('xxx.txt', 'foo')"
   ]
  },
  {
   "cell_type": "code",
   "execution_count": 9,
   "metadata": {},
   "outputs": [
    {
     "name": "stdout",
     "output_type": "stream",
     "text": [
      " ドライブ C のボリューム ラベルは Windows です\n",
      " ボリューム シリアル番号は 8E4D-3B07 です\n",
      "\n",
      " C:\\Users\\U268137\\atmarkit_python のディレクトリ\n",
      "\n",
      "\n",
      " C:\\Users\\U268137\\atmarkit_python\\foo のディレクトリ\n",
      "\n",
      "2022/03/25  08:28    <DIR>          .\n",
      "2022/03/25  08:28    <DIR>          ..\n",
      "2022/03/25  08:28                 3 xxx.txt\n",
      "               1 個のファイル                   3 バイト\n",
      "               2 個のディレクトリ  18,726,440,960 バイトの空き領域\n"
     ]
    },
    {
     "name": "stderr",
     "output_type": "stream",
     "text": [
      "ファイルが見つかりません\n"
     ]
    }
   ],
   "source": [
    "ls -l foo"
   ]
  },
  {
   "cell_type": "code",
   "execution_count": 10,
   "metadata": {},
   "outputs": [
    {
     "ename": "FileExistsError",
     "evalue": "[WinError 183] 既に存在するファイルを作成することはできません。: 'bar'",
     "output_type": "error",
     "traceback": [
      "\u001b[1;31m---------------------------------------------------------------------------\u001b[0m",
      "\u001b[1;31mFileExistsError\u001b[0m                           Traceback (most recent call last)",
      "\u001b[1;32m<ipython-input-10-b78bb4aff9b6>\u001b[0m in \u001b[0;36m<module>\u001b[1;34m\u001b[0m\n\u001b[0;32m      1\u001b[0m \u001b[0mPath\u001b[0m\u001b[1;33m(\u001b[0m\u001b[1;34m'foo/foo2'\u001b[0m\u001b[1;33m)\u001b[0m\u001b[1;33m.\u001b[0m\u001b[0mmkdir\u001b[0m\u001b[1;33m(\u001b[0m\u001b[1;33m)\u001b[0m\u001b[1;33m\u001b[0m\u001b[1;33m\u001b[0m\u001b[0m\n\u001b[0;32m      2\u001b[0m \u001b[0mshutil\u001b[0m\u001b[1;33m.\u001b[0m\u001b[0mcopytree\u001b[0m\u001b[1;33m(\u001b[0m\u001b[1;34m'foo'\u001b[0m\u001b[1;33m,\u001b[0m \u001b[1;34m'bar'\u001b[0m\u001b[1;33m)\u001b[0m\u001b[1;33m\u001b[0m\u001b[1;33m\u001b[0m\u001b[0m\n\u001b[1;32m----> 3\u001b[1;33m \u001b[0mshutil\u001b[0m\u001b[1;33m.\u001b[0m\u001b[0mcopytree\u001b[0m\u001b[1;33m(\u001b[0m\u001b[1;34m'foo'\u001b[0m\u001b[1;33m,\u001b[0m \u001b[1;34m'bar'\u001b[0m\u001b[1;33m)\u001b[0m\u001b[1;33m\u001b[0m\u001b[1;33m\u001b[0m\u001b[0m\n\u001b[0m",
      "\u001b[1;32m~\\AppData\\Local\\Continuum\\anaconda3\\lib\\shutil.py\u001b[0m in \u001b[0;36mcopytree\u001b[1;34m(src, dst, symlinks, ignore, copy_function, ignore_dangling_symlinks)\u001b[0m\n\u001b[0;32m    319\u001b[0m         \u001b[0mignored_names\u001b[0m \u001b[1;33m=\u001b[0m \u001b[0mset\u001b[0m\u001b[1;33m(\u001b[0m\u001b[1;33m)\u001b[0m\u001b[1;33m\u001b[0m\u001b[1;33m\u001b[0m\u001b[0m\n\u001b[0;32m    320\u001b[0m \u001b[1;33m\u001b[0m\u001b[0m\n\u001b[1;32m--> 321\u001b[1;33m     \u001b[0mos\u001b[0m\u001b[1;33m.\u001b[0m\u001b[0mmakedirs\u001b[0m\u001b[1;33m(\u001b[0m\u001b[0mdst\u001b[0m\u001b[1;33m)\u001b[0m\u001b[1;33m\u001b[0m\u001b[1;33m\u001b[0m\u001b[0m\n\u001b[0m\u001b[0;32m    322\u001b[0m     \u001b[0merrors\u001b[0m \u001b[1;33m=\u001b[0m \u001b[1;33m[\u001b[0m\u001b[1;33m]\u001b[0m\u001b[1;33m\u001b[0m\u001b[1;33m\u001b[0m\u001b[0m\n\u001b[0;32m    323\u001b[0m     \u001b[1;32mfor\u001b[0m \u001b[0mname\u001b[0m \u001b[1;32min\u001b[0m \u001b[0mnames\u001b[0m\u001b[1;33m:\u001b[0m\u001b[1;33m\u001b[0m\u001b[1;33m\u001b[0m\u001b[0m\n",
      "\u001b[1;32m~\\AppData\\Local\\Continuum\\anaconda3\\lib\\os.py\u001b[0m in \u001b[0;36mmakedirs\u001b[1;34m(name, mode, exist_ok)\u001b[0m\n\u001b[0;32m    219\u001b[0m             \u001b[1;32mreturn\u001b[0m\u001b[1;33m\u001b[0m\u001b[1;33m\u001b[0m\u001b[0m\n\u001b[0;32m    220\u001b[0m     \u001b[1;32mtry\u001b[0m\u001b[1;33m:\u001b[0m\u001b[1;33m\u001b[0m\u001b[1;33m\u001b[0m\u001b[0m\n\u001b[1;32m--> 221\u001b[1;33m         \u001b[0mmkdir\u001b[0m\u001b[1;33m(\u001b[0m\u001b[0mname\u001b[0m\u001b[1;33m,\u001b[0m \u001b[0mmode\u001b[0m\u001b[1;33m)\u001b[0m\u001b[1;33m\u001b[0m\u001b[1;33m\u001b[0m\u001b[0m\n\u001b[0m\u001b[0;32m    222\u001b[0m     \u001b[1;32mexcept\u001b[0m \u001b[0mOSError\u001b[0m\u001b[1;33m:\u001b[0m\u001b[1;33m\u001b[0m\u001b[1;33m\u001b[0m\u001b[0m\n\u001b[0;32m    223\u001b[0m         \u001b[1;31m# Cannot rely on checking for EEXIST, since the operating system\u001b[0m\u001b[1;33m\u001b[0m\u001b[1;33m\u001b[0m\u001b[1;33m\u001b[0m\u001b[0m\n",
      "\u001b[1;31mFileExistsError\u001b[0m: [WinError 183] 既に存在するファイルを作成することはできません。: 'bar'"
     ]
    }
   ],
   "source": [
    "Path('foo/foo2').mkdir()\n",
    "shutil.copytree('foo', 'bar')\n",
    "shutil.copytree('foo', 'bar')"
   ]
  },
  {
   "cell_type": "code",
   "execution_count": 11,
   "metadata": {},
   "outputs": [
    {
     "name": "stdout",
     "output_type": "stream",
     "text": [
      " ドライブ C のボリューム ラベルは Windows です\n",
      " ボリューム シリアル番号は 8E4D-3B07 です\n",
      "\n",
      " C:\\Users\\U268137\\atmarkit_python\\bar のディレクトリ\n",
      "\n",
      "2022/03/25  09:39    <DIR>          .\n",
      "2022/03/25  09:39    <DIR>          ..\n",
      "2022/03/25  09:39    <DIR>          foo2\n",
      "2022/03/25  08:28                 3 xxx.txt\n",
      "               1 個のファイル                   3 バイト\n",
      "               3 個のディレクトリ  18,481,541,120 バイトの空き領域\n"
     ]
    }
   ],
   "source": [
    "ls bar"
   ]
  },
  {
   "cell_type": "code",
   "execution_count": 12,
   "metadata": {},
   "outputs": [
    {
     "data": {
      "text/plain": [
       "14"
      ]
     },
     "execution_count": 12,
     "metadata": {},
     "output_type": "execute_result"
    }
   ],
   "source": [
    "Path('foo/yyy.py').write_text('print(\"hello\")')"
   ]
  },
  {
   "cell_type": "code",
   "execution_count": 13,
   "metadata": {},
   "outputs": [
    {
     "data": {
      "text/plain": [
       "'baz'"
      ]
     },
     "execution_count": 13,
     "metadata": {},
     "output_type": "execute_result"
    }
   ],
   "source": [
    "shutil.copytree('foo', 'baz', ignore=shutil.ignore_patterns('*.txt'))"
   ]
  },
  {
   "cell_type": "code",
   "execution_count": 14,
   "metadata": {},
   "outputs": [
    {
     "name": "stdout",
     "output_type": "stream",
     "text": [
      " ドライブ C のボリューム ラベルは Windows です\n",
      " ボリューム シリアル番号は 8E4D-3B07 です\n",
      "\n",
      " C:\\Users\\U268137\\atmarkit_python\\baz のディレクトリ\n",
      "\n",
      "2022/03/25  09:53    <DIR>          .\n",
      "2022/03/25  09:53    <DIR>          ..\n",
      "2022/03/25  09:39    <DIR>          foo2\n",
      "2022/03/25  09:53                14 yyy.py\n",
      "               1 個のファイル                  14 バイト\n",
      "               3 個のディレクトリ  19,667,156,992 バイトの空き領域\n"
     ]
    }
   ],
   "source": [
    "ls baz"
   ]
  },
  {
   "cell_type": "code",
   "execution_count": 15,
   "metadata": {},
   "outputs": [],
   "source": [
    "shutil.rmtree('baz')"
   ]
  },
  {
   "cell_type": "code",
   "execution_count": 16,
   "metadata": {},
   "outputs": [
    {
     "name": "stdout",
     "output_type": "stream",
     "text": [
      " ドライブ C のボリューム ラベルは Windows です\n",
      " ボリューム シリアル番号は 8E4D-3B07 です\n",
      "\n",
      " C:\\Users\\U268137\\atmarkit_python のディレクトリ\n",
      "\n",
      "2022/03/25  09:58    <DIR>          .\n",
      "2022/03/25  09:58    <DIR>          ..\n",
      "2022/03/23  18:00    <DIR>          .ipynb_checkpoints\n",
      "2022/03/14  14:02    <DIR>          __pycache__\n",
      "2022/03/08  09:15               291 1.py\n",
      "2022/03/11  10:56           259,097 11th-15th.ipynb\n",
      "2022/03/11  15:57           923,031 16th-20th.ipynb\n",
      "2022/03/09  10:55            27,268 1st-5th.ipynb\n",
      "2022/03/14  14:52           232,312 21th-25th.ipynb\n",
      "2022/03/15  14:39            33,834 26th-30th.ipynb\n",
      "2022/03/18  15:14            47,551 31-35th.ipynb\n",
      "2022/03/23  13:20            51,051 36-40th.ipynb\n",
      "2022/03/23  18:00           199,950 41th-45th.ipynb\n",
      "2022/03/25  09:58            14,546 46th-50th.ipynb\n",
      "2022/03/09  10:57            30,569 6th-10th.ipynb\n",
      "2022/03/23  15:33    <DIR>          aaa\n",
      "2022/03/25  08:26                 3 aaa.txt\n",
      "2022/03/23  18:00                33 b.txt\n",
      "2022/03/25  09:39    <DIR>          bar\n",
      "2022/03/25  08:26                 3 bbb.txt\n",
      "2022/03/23  17:53                 0 c.txt\n",
      "2022/03/24  10:27                 3 ccc.txt\n",
      "2022/03/22  14:08            14,945 di-pybasic3908.gif\n",
      "2022/03/25  09:53    <DIR>          foo\n",
      "2022/03/23  13:16                96 insecure.pickle\n",
      "2022/03/23  13:46                43 myaddrbook.bak\n",
      "2022/03/23  13:46               569 myaddrbook.dat\n",
      "2022/03/23  13:46                43 myaddrbook.dir\n",
      "2022/03/22  15:42                36 mydata.data\n",
      "2022/03/23  12:50               158 mydata.pickle\n",
      "2022/03/22  15:35                 0 myfile.bin\n",
      "2022/03/22  14:03                 2 myfile.txt\n",
      "2022/03/14  14:28    <DIR>          mypkg\n",
      "2022/03/14  13:49               482 myutil.py\n",
      "2022/03/18  16:54                32 sample.txt\n",
      "2022/03/14  14:02               160 somemod.py\n",
      "2022/03/23  15:35    <DIR>          top\n",
      "2022/03/23  17:47    <DIR>          xxx\n",
      "2022/03/24  10:27                 3 xxx.txt\n",
      "              29 個のファイル           1,836,111 バイト\n",
      "              10 個のディレクトリ  19,661,176,832 バイトの空き領域\n"
     ]
    }
   ],
   "source": [
    "ls"
   ]
  },
  {
   "cell_type": "code",
   "execution_count": 17,
   "metadata": {},
   "outputs": [
    {
     "data": {
      "text/plain": [
       "'bar\\\\yyy.txt'"
      ]
     },
     "execution_count": 17,
     "metadata": {},
     "output_type": "execute_result"
    }
   ],
   "source": [
    "shutil.move('xxx.txt', 'yyy.txt')\n",
    "shutil.move('yyy.txt', Path('bar'))"
   ]
  },
  {
   "cell_type": "code",
   "execution_count": 18,
   "metadata": {},
   "outputs": [
    {
     "name": "stdout",
     "output_type": "stream",
     "text": [
      " ドライブ C のボリューム ラベルは Windows です\n",
      " ボリューム シリアル番号は 8E4D-3B07 です\n",
      "\n",
      " C:\\Users\\U268137\\atmarkit_python\\bar のディレクトリ\n",
      "\n",
      "2022/03/25  10:07    <DIR>          .\n",
      "2022/03/25  10:07    <DIR>          ..\n",
      "2022/03/25  09:39    <DIR>          foo2\n",
      "2022/03/25  08:28                 3 xxx.txt\n",
      "2022/03/24  10:27                 3 yyy.txt\n",
      "               2 個のファイル                   6 バイト\n",
      "               3 個のディレクトリ  19,575,255,040 バイトの空き領域\n"
     ]
    }
   ],
   "source": [
    "ls bar"
   ]
  },
  {
   "cell_type": "code",
   "execution_count": 20,
   "metadata": {},
   "outputs": [
    {
     "data": {
      "text/plain": [
       "'foo\\\\baz'"
      ]
     },
     "execution_count": 20,
     "metadata": {},
     "output_type": "execute_result"
    }
   ],
   "source": [
    "shutil.move('bar', 'baz')\n",
    "shutil.move('baz', 'foo')"
   ]
  },
  {
   "cell_type": "code",
   "execution_count": null,
   "metadata": {},
   "outputs": [],
   "source": []
  }
 ],
 "metadata": {
  "kernelspec": {
   "display_name": "Python 3",
   "language": "python",
   "name": "python3"
  },
  "language_info": {
   "codemirror_mode": {
    "name": "ipython",
    "version": 3
   },
   "file_extension": ".py",
   "mimetype": "text/x-python",
   "name": "python",
   "nbconvert_exporter": "python",
   "pygments_lexer": "ipython3",
   "version": "3.7.3"
  }
 },
 "nbformat": 4,
 "nbformat_minor": 2
}
