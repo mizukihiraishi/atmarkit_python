{
 "cells": [
  {
   "cell_type": "markdown",
   "metadata": {},
   "source": [
    "# 第31回"
   ]
  },
  {
   "cell_type": "code",
   "execution_count": 1,
   "metadata": {},
   "outputs": [],
   "source": [
    "class Person(object):\n",
    "    def __init__(self, name, age):\n",
    "        self.name = name\n",
    "        self.age = age\n",
    "    def hello(self):\n",
    "        print('Hello,', str(self.name))\n",
    "    def get_age(self):\n",
    "        return self.age"
   ]
  },
  {
   "cell_type": "code",
   "execution_count": 4,
   "metadata": {},
   "outputs": [
    {
     "name": "stdout",
     "output_type": "stream",
     "text": [
      "Hello, kawasaki\n",
      "250\n",
      "Hello, isshiki\n",
      "19\n"
     ]
    }
   ],
   "source": [
    "kawasaki = Person('kawasaki', 250)\n",
    "isshiki = Person('isshiki', 19)\n",
    "kawasaki.hello()\n",
    "print(kawasaki.get_age())\n",
    "isshiki.hello()\n",
    "print(isshiki.get_age())"
   ]
  },
  {
   "cell_type": "code",
   "execution_count": 5,
   "metadata": {},
   "outputs": [],
   "source": [
    "class Student(Person):\n",
    "    pass"
   ]
  },
  {
   "cell_type": "code",
   "execution_count": 6,
   "metadata": {},
   "outputs": [
    {
     "name": "stdout",
     "output_type": "stream",
     "text": [
      "<class '__main__.Person'>\n",
      "<class '__main__.Student'>\n",
      "Hello, isshiki\n"
     ]
    }
   ],
   "source": [
    "isshiki = Student('isshiki', 18)\n",
    "print(type(kawasaki))\n",
    "print(type(isshiki))\n",
    "isshiki.hello()"
   ]
  },
  {
   "cell_type": "code",
   "execution_count": 7,
   "metadata": {},
   "outputs": [],
   "source": [
    "class Student(Person):\n",
    "    def __init__(self, name, age, school):\n",
    "        super().__init__(name, age)\n",
    "        self.school = school\n",
    "    def get_school(self):\n",
    "        return self.school"
   ]
  },
  {
   "cell_type": "code",
   "execution_count": 9,
   "metadata": {},
   "outputs": [
    {
     "name": "stdout",
     "output_type": "stream",
     "text": [
      "Hello, isshiki\n",
      "Imperial univ\n"
     ]
    }
   ],
   "source": [
    "isshiki = Student('isshiki', 18, 'Imperial univ')\n",
    "isshiki.hello()\n",
    "print(isshiki.get_school())"
   ]
  },
  {
   "cell_type": "code",
   "execution_count": 10,
   "metadata": {},
   "outputs": [],
   "source": [
    "class Student(Person):\n",
    "    def __init__(self, name, age, school):\n",
    "        super().__init__(name, age)\n",
    "        self.school = school\n",
    "    def get_school(self):\n",
    "        return self.school\n",
    "    def hello(self):\n",
    "        super().hello()\n",
    "        print('You are a student of', self.school)"
   ]
  },
  {
   "cell_type": "code",
   "execution_count": 11,
   "metadata": {},
   "outputs": [
    {
     "name": "stdout",
     "output_type": "stream",
     "text": [
      "Hello, isshiki\n",
      "You are a student of Imperial univ\n"
     ]
    }
   ],
   "source": [
    "isshiki = Student('isshiki', 18, 'Imperial univ')\n",
    "isshiki.hello()"
   ]
  },
  {
   "cell_type": "code",
   "execution_count": 17,
   "metadata": {},
   "outputs": [
    {
     "name": "stdout",
     "output_type": "stream",
     "text": [
      "isinstance(100, float): False\n",
      "isinstance(student, Person): True\n",
      "issubclass(Student, Person): True\n",
      "issubclass(Person, Person): True\n",
      "isinstance(100, (float, atr)): False\n",
      "issubclass(Student, (Person, Student)): True\n"
     ]
    }
   ],
   "source": [
    "print('isinstance(100, float):', isinstance(100, float))\n",
    "\n",
    "student = Student('isshiki', 18, 'Imperial univ')\n",
    "print('isinstance(student, Person):', isinstance(student, Person))\n",
    "\n",
    "print('issubclass(Student, Person):', issubclass(Student, Person))\n",
    "\n",
    "print('issubclass(Person, Person):', issubclass(Person, Person))\n",
    "\n",
    "print('isinstance(100, (float, atr)):', isinstance(100, (float, str)))\n",
    "\n",
    "print('issubclass(Student, (Person, Student)):', issubclass(Student, (Person, Student)))"
   ]
  },
  {
   "cell_type": "markdown",
   "metadata": {},
   "source": [
    "# 第32回"
   ]
  },
  {
   "cell_type": "code",
   "execution_count": 18,
   "metadata": {},
   "outputs": [
    {
     "name": "stdout",
     "output_type": "stream",
     "text": [
      "[[1, 2], 1, 2]\n"
     ]
    }
   ],
   "source": [
    "l_test = []\n",
    "l_test.append([1, 2])\n",
    "l_test.extend([1, 2])\n",
    "print(l_test)"
   ]
  },
  {
   "cell_type": "code",
   "execution_count": 19,
   "metadata": {},
   "outputs": [],
   "source": [
    "class MyStack3(list):\n",
    "    def push(self, item):\n",
    "        self.append(item)"
   ]
  },
  {
   "cell_type": "code",
   "execution_count": 22,
   "metadata": {},
   "outputs": [
    {
     "name": "stdout",
     "output_type": "stream",
     "text": [
      "[1, 2, 3, 4, 5]\n",
      "5\n",
      "4\n",
      "1\n",
      "2\n",
      "3\n",
      "[2, 3]\n"
     ]
    }
   ],
   "source": [
    "mystack = MyStack3()\n",
    "mystack.push(1)\n",
    "mystack.push(2)\n",
    "mystack.push(3)\n",
    "mystack.push(4)\n",
    "mystack.push(5)\n",
    "print(mystack)\n",
    "print(mystack.pop())\n",
    "print(mystack.pop())\n",
    "for item in mystack:\n",
    "    print(item)\n",
    "print(mystack[1:])"
   ]
  },
  {
   "cell_type": "code",
   "execution_count": 23,
   "metadata": {},
   "outputs": [],
   "source": [
    "class MyStack:\n",
    "    def __init__(self):\n",
    "        self.stack = []\n",
    "    def push(self, item):\n",
    "        self.stack.append(item)\n",
    "    def pop(self):\n",
    "        return self.stack.pop()"
   ]
  },
  {
   "cell_type": "code",
   "execution_count": 28,
   "metadata": {},
   "outputs": [],
   "source": [
    "class MyStack2:\n",
    "    def __init__(self, *args):\n",
    "        self.stack = []\n",
    "        for item in args:\n",
    "            self.stack.append(item)\n",
    "    def push(self, item):\n",
    "        self.stack.append(item)\n",
    "    def pop(self):\n",
    "        if len(stack) == 0:\n",
    "            return None\n",
    "        return self.stack.pop()\n",
    "    def __repr__(self):\n",
    "        return 'MyStack('+ repr(self.stack) + ')'\n",
    "    def __str__(self):\n",
    "        return str(self.stack)\n",
    "    def __iter__(self):\n",
    "        return iter(self.stack)\n",
    "    def __getitem__(self, key):\n",
    "        return self.stack[key]"
   ]
  },
  {
   "cell_type": "code",
   "execution_count": 30,
   "metadata": {
    "scrolled": false
   },
   "outputs": [
    {
     "name": "stdout",
     "output_type": "stream",
     "text": [
      "MyStack: ['__class__', '__delattr__', '__dict__', '__dir__', '__doc__', '__eq__', '__format__', '__ge__', '__getattribute__', '__gt__', '__hash__', '__init__', '__init_subclass__', '__le__', '__lt__', '__module__', '__ne__', '__new__', '__reduce__', '__reduce_ex__', '__repr__', '__setattr__', '__sizeof__', '__str__', '__subclasshook__', '__weakref__', 'pop', 'push']\n",
      "MyStackクラスは基底クラスのobjectクラスのメソッドとpop, pushが表示されている\n",
      "\n",
      "MyStack2: ['__class__', '__delattr__', '__dict__', '__dir__', '__doc__', '__eq__', '__format__', '__ge__', '__getattribute__', '__getitem__', '__gt__', '__hash__', '__init__', '__init_subclass__', '__iter__', '__le__', '__lt__', '__module__', '__ne__', '__new__', '__reduce__', '__reduce_ex__', '__repr__', '__setattr__', '__sizeof__', '__str__', '__subclasshook__', '__weakref__', 'pop', 'push']\n",
      "\n",
      "MyStack3: ['__add__', '__class__', '__contains__', '__delattr__', '__delitem__', '__dict__', '__dir__', '__doc__', '__eq__', '__format__', '__ge__', '__getattribute__', '__getitem__', '__gt__', '__hash__', '__iadd__', '__imul__', '__init__', '__init_subclass__', '__iter__', '__le__', '__len__', '__lt__', '__module__', '__mul__', '__ne__', '__new__', '__reduce__', '__reduce_ex__', '__repr__', '__reversed__', '__rmul__', '__setattr__', '__setitem__', '__sizeof__', '__str__', '__subclasshook__', '__weakref__', 'append', 'clear', 'copy', 'count', 'extend', 'index', 'insert', 'pop', 'push', 'remove', 'reverse', 'sort']\n"
     ]
    }
   ],
   "source": [
    "print('MyStack:', dir(MyStack))\n",
    "print('MyStackクラスは基底クラスのobjectクラスのメソッドとpop, pushが表示されている')\n",
    "print()\n",
    "print('MyStack2:', dir(MyStack2))\n",
    "print()\n",
    "print('MyStack3:', dir(MyStack3))"
   ]
  },
  {
   "cell_type": "code",
   "execution_count": 31,
   "metadata": {},
   "outputs": [
    {
     "name": "stdout",
     "output_type": "stream",
     "text": [
      "[1, 2, 3]\n"
     ]
    },
    {
     "ename": "TypeError",
     "evalue": "list expected at most 1 arguments, got 3",
     "output_type": "error",
     "traceback": [
      "\u001b[1;31m---------------------------------------------------------------------------\u001b[0m",
      "\u001b[1;31mTypeError\u001b[0m                                 Traceback (most recent call last)",
      "\u001b[1;32m<ipython-input-31-576b3af708da>\u001b[0m in \u001b[0;36m<module>\u001b[1;34m\u001b[0m\n\u001b[0;32m      1\u001b[0m \u001b[0mmylist\u001b[0m \u001b[1;33m=\u001b[0m \u001b[0mlist\u001b[0m\u001b[1;33m(\u001b[0m\u001b[1;33m[\u001b[0m\u001b[1;36m1\u001b[0m\u001b[1;33m,\u001b[0m \u001b[1;36m2\u001b[0m\u001b[1;33m,\u001b[0m \u001b[1;36m3\u001b[0m\u001b[1;33m]\u001b[0m\u001b[1;33m)\u001b[0m\u001b[1;33m\u001b[0m\u001b[1;33m\u001b[0m\u001b[0m\n\u001b[0;32m      2\u001b[0m \u001b[0mprint\u001b[0m\u001b[1;33m(\u001b[0m\u001b[0mmylist\u001b[0m\u001b[1;33m)\u001b[0m\u001b[1;33m\u001b[0m\u001b[1;33m\u001b[0m\u001b[0m\n\u001b[1;32m----> 3\u001b[1;33m \u001b[0mmylist\u001b[0m \u001b[1;33m=\u001b[0m \u001b[0mlist\u001b[0m\u001b[1;33m(\u001b[0m\u001b[1;36m1\u001b[0m\u001b[1;33m,\u001b[0m \u001b[1;36m2\u001b[0m\u001b[1;33m,\u001b[0m \u001b[1;36m3\u001b[0m\u001b[1;33m)\u001b[0m\u001b[1;33m\u001b[0m\u001b[1;33m\u001b[0m\u001b[0m\n\u001b[0m",
      "\u001b[1;31mTypeError\u001b[0m: list expected at most 1 arguments, got 3"
     ]
    }
   ],
   "source": [
    "mylist = list([1, 2, 3])\n",
    "print(mylist)\n",
    "mylist = list(1, 2, 3)"
   ]
  },
  {
   "cell_type": "code",
   "execution_count": 32,
   "metadata": {},
   "outputs": [
    {
     "name": "stdout",
     "output_type": "stream",
     "text": [
      "[1, 2, 3]\n"
     ]
    },
    {
     "ename": "TypeError",
     "evalue": "list expected at most 1 arguments, got 3",
     "output_type": "error",
     "traceback": [
      "\u001b[1;31m---------------------------------------------------------------------------\u001b[0m",
      "\u001b[1;31mTypeError\u001b[0m                                 Traceback (most recent call last)",
      "\u001b[1;32m<ipython-input-32-00f9396ab028>\u001b[0m in \u001b[0;36m<module>\u001b[1;34m\u001b[0m\n\u001b[0;32m      1\u001b[0m \u001b[0mmystack\u001b[0m \u001b[1;33m=\u001b[0m \u001b[0mMyStack3\u001b[0m\u001b[1;33m(\u001b[0m\u001b[1;33m[\u001b[0m\u001b[1;36m1\u001b[0m\u001b[1;33m,\u001b[0m \u001b[1;36m2\u001b[0m\u001b[1;33m,\u001b[0m \u001b[1;36m3\u001b[0m\u001b[1;33m]\u001b[0m\u001b[1;33m)\u001b[0m\u001b[1;33m\u001b[0m\u001b[1;33m\u001b[0m\u001b[0m\n\u001b[0;32m      2\u001b[0m \u001b[0mprint\u001b[0m\u001b[1;33m(\u001b[0m\u001b[0mmystack\u001b[0m\u001b[1;33m)\u001b[0m\u001b[1;33m\u001b[0m\u001b[1;33m\u001b[0m\u001b[0m\n\u001b[1;32m----> 3\u001b[1;33m \u001b[0mmystack\u001b[0m \u001b[1;33m=\u001b[0m \u001b[0mMyStack3\u001b[0m\u001b[1;33m(\u001b[0m\u001b[1;36m1\u001b[0m\u001b[1;33m,\u001b[0m \u001b[1;36m2\u001b[0m\u001b[1;33m,\u001b[0m \u001b[1;36m3\u001b[0m\u001b[1;33m)\u001b[0m\u001b[1;33m\u001b[0m\u001b[1;33m\u001b[0m\u001b[0m\n\u001b[0m",
      "\u001b[1;31mTypeError\u001b[0m: list expected at most 1 arguments, got 3"
     ]
    }
   ],
   "source": [
    "mystack = MyStack3([1, 2, 3])\n",
    "print(mystack)\n",
    "mystack = MyStack3(1, 2, 3)"
   ]
  },
  {
   "cell_type": "code",
   "execution_count": 35,
   "metadata": {},
   "outputs": [],
   "source": [
    "class MyStack3(list):\n",
    "    def __init__(self, *args):\n",
    "#         print(args)\n",
    "        super().__init__(args)\n",
    "    def push(self, item):\n",
    "        self.append(item)"
   ]
  },
  {
   "cell_type": "code",
   "execution_count": 37,
   "metadata": {},
   "outputs": [
    {
     "name": "stdout",
     "output_type": "stream",
     "text": [
      "[]\n",
      "[1]\n",
      "[[1, 2, 3]]\n",
      "[1, 2, 3]\n",
      "[1, 2, [3, 4]]\n"
     ]
    }
   ],
   "source": [
    "mystack = MyStack3()\n",
    "print(mystack)\n",
    "mystack = MyStack3(1)\n",
    "print(mystack)\n",
    "mystack = MyStack3([1, 2, 3])\n",
    "print(mystack)\n",
    "mystack = MyStack3(1, 2, 3)\n",
    "print(mystack)\n",
    "mystack = MyStack3(1, 2, [3, 4])\n",
    "print(mystack)"
   ]
  },
  {
   "cell_type": "code",
   "execution_count": 38,
   "metadata": {},
   "outputs": [
    {
     "name": "stdout",
     "output_type": "stream",
     "text": [
      "<class 'list'>\n"
     ]
    }
   ],
   "source": [
    "mystack2 = mystack.copy()\n",
    "print(type(mystack2))"
   ]
  },
  {
   "cell_type": "code",
   "execution_count": 39,
   "metadata": {},
   "outputs": [],
   "source": [
    "class MyStack3(list):\n",
    "    def __init__(self, *args):\n",
    "#         print(args)\n",
    "        super().__init__(args)\n",
    "    def push(self, item):\n",
    "        self.append(item)\n",
    "    def copy(self):\n",
    "        tmp = list.copy(self)\n",
    "        return MyStack3(*tmp)"
   ]
  },
  {
   "cell_type": "code",
   "execution_count": 42,
   "metadata": {},
   "outputs": [
    {
     "name": "stdout",
     "output_type": "stream",
     "text": [
      "[1, 2, [3, 4]]\n",
      "<class '__main__.MyStack3'>\n",
      "mystack: [1, 2, [3, 4]]\n",
      "mystack2: [1, 2, [3, 4]]\n",
      "mystack == mystack2: True\n",
      "mystack is mystack2: False\n"
     ]
    }
   ],
   "source": [
    "mystack = MyStack3(1, 2, [3, 4])\n",
    "print(mystack)\n",
    "mystack2 = mystack.copy()\n",
    "print(type(mystack2))\n",
    "print('mystack:', mystack)\n",
    "print('mystack2:', mystack2)\n",
    "print('mystack == mystack2:', mystack == mystack2)\n",
    "print('mystack is mystack2:', mystack is mystack2)"
   ]
  },
  {
   "cell_type": "code",
   "execution_count": 1,
   "metadata": {},
   "outputs": [],
   "source": [
    "class Foo:\n",
    "    def hello(self):\n",
    "        print('Hello from Foo')\n",
    "    def some_method(self):\n",
    "        local_var = 'local var in hello method'\n",
    "        print('local namespace:', dir())\n",
    "        print('global namespace:', globals().keys())"
   ]
  },
  {
   "cell_type": "code",
   "execution_count": 2,
   "metadata": {},
   "outputs": [
    {
     "name": "stdout",
     "output_type": "stream",
     "text": [
      "local namespace: ['local_var', 'self']\n",
      "global namespace: dict_keys(['__name__', '__doc__', '__package__', '__loader__', '__spec__', '__builtin__', '__builtins__', '_ih', '_oh', '_dh', 'In', 'Out', 'get_ipython', 'exit', 'quit', '_', '__', '___', '_i', '_ii', '_iii', '_i1', 'Foo', '_i2', 'foo'])\n"
     ]
    }
   ],
   "source": [
    "foo = Foo()\n",
    "foo.some_method()"
   ]
  },
  {
   "cell_type": "code",
   "execution_count": 3,
   "metadata": {},
   "outputs": [],
   "source": [
    "class Foo:\n",
    "    def hello(self):\n",
    "        print('Hello from Foo')\n",
    "    def some_method(self):\n",
    "        print('self namespace:', dir(self))\n",
    "        print('Foo namespace:', dir(Foo))\n",
    "        self.hello()"
   ]
  },
  {
   "cell_type": "code",
   "execution_count": 4,
   "metadata": {},
   "outputs": [
    {
     "name": "stdout",
     "output_type": "stream",
     "text": [
      "self namespace: ['__class__', '__delattr__', '__dict__', '__dir__', '__doc__', '__eq__', '__format__', '__ge__', '__getattribute__', '__gt__', '__hash__', '__init__', '__init_subclass__', '__le__', '__lt__', '__module__', '__ne__', '__new__', '__reduce__', '__reduce_ex__', '__repr__', '__setattr__', '__sizeof__', '__str__', '__subclasshook__', '__weakref__', 'hello', 'some_method', 'some_value']\n",
      "Foo namespace: ['__class__', '__delattr__', '__dict__', '__dir__', '__doc__', '__eq__', '__format__', '__ge__', '__getattribute__', '__gt__', '__hash__', '__init__', '__init_subclass__', '__le__', '__lt__', '__module__', '__ne__', '__new__', '__reduce__', '__reduce_ex__', '__repr__', '__setattr__', '__sizeof__', '__str__', '__subclasshook__', '__weakref__', 'hello', 'some_method']\n",
      "Hello from Foo\n"
     ]
    }
   ],
   "source": [
    "foo = Foo()\n",
    "foo.some_value = 'some value'\n",
    "foo.some_method()"
   ]
  },
  {
   "cell_type": "code",
   "execution_count": 5,
   "metadata": {},
   "outputs": [],
   "source": [
    "class Foo:\n",
    "    def hello(self):\n",
    "        print('Hello from Foo')\n",
    "    def hello_goodbye(self):\n",
    "        self.hello()\n",
    "        print('Goodbye from Foo')\n",
    "    def show_attr(self):\n",
    "        print(f'{self.__class__}: {dir(self)}')\n",
    "\n",
    "class Bar(Foo):\n",
    "    def hello(self):\n",
    "        print('Hello from Bar')\n",
    "    def goodbye(self):\n",
    "        print('Googbye from Bar')"
   ]
  },
  {
   "cell_type": "code",
   "execution_count": 7,
   "metadata": {},
   "outputs": [
    {
     "name": "stdout",
     "output_type": "stream",
     "text": [
      "<class '__main__.Foo'>: ['__class__', '__delattr__', '__dict__', '__dir__', '__doc__', '__eq__', '__format__', '__ge__', '__getattribute__', '__gt__', '__hash__', '__init__', '__init_subclass__', '__le__', '__lt__', '__module__', '__ne__', '__new__', '__reduce__', '__reduce_ex__', '__repr__', '__setattr__', '__sizeof__', '__str__', '__subclasshook__', '__weakref__', 'hello', 'hello_goodbye', 'show_attr']\n",
      "<class '__main__.Bar'>: ['__class__', '__delattr__', '__dict__', '__dir__', '__doc__', '__eq__', '__format__', '__ge__', '__getattribute__', '__gt__', '__hash__', '__init__', '__init_subclass__', '__le__', '__lt__', '__module__', '__ne__', '__new__', '__reduce__', '__reduce_ex__', '__repr__', '__setattr__', '__sizeof__', '__str__', '__subclasshook__', '__weakref__', 'goodbye', 'hello', 'hello_goodbye', 'show_attr']\n"
     ]
    }
   ],
   "source": [
    "foo = Foo()\n",
    "foo.show_attr()\n",
    "bar = Bar()\n",
    "bar.show_attr()"
   ]
  },
  {
   "cell_type": "code",
   "execution_count": 8,
   "metadata": {
    "scrolled": true
   },
   "outputs": [
    {
     "name": "stdout",
     "output_type": "stream",
     "text": [
      "Hello from Foo\n",
      "Hello from Bar\n"
     ]
    }
   ],
   "source": [
    "foo.hello()\n",
    "bar.hello()"
   ]
  },
  {
   "cell_type": "code",
   "execution_count": 9,
   "metadata": {},
   "outputs": [
    {
     "name": "stdout",
     "output_type": "stream",
     "text": [
      "Hello from Foo\n",
      "Goodbye from Foo\n",
      "Hello from Bar\n",
      "Goodbye from Foo\n"
     ]
    }
   ],
   "source": [
    "foo.hello_goodbye()\n",
    "bar.hello_goodbye()"
   ]
  },
  {
   "cell_type": "code",
   "execution_count": 10,
   "metadata": {},
   "outputs": [],
   "source": [
    "class Foo:\n",
    "    def __init__(self, name):\n",
    "        self._name = name\n",
    "    def get_name(self):\n",
    "        return self._name\n",
    "    def set_name(self, new_name):\n",
    "        self._name = new_name\n",
    "    def show_attr(self):\n",
    "        print(dir(self))"
   ]
  },
  {
   "cell_type": "code",
   "execution_count": 11,
   "metadata": {},
   "outputs": [
    {
     "name": "stdout",
     "output_type": "stream",
     "text": [
      "deep insider\n",
      "atmarkit\n"
     ]
    }
   ],
   "source": [
    "foo = Foo('deep insider')\n",
    "print(foo.get_name())\n",
    "foo.set_name('atmarkit')\n",
    "print(foo._name)"
   ]
  },
  {
   "cell_type": "code",
   "execution_count": 12,
   "metadata": {},
   "outputs": [
    {
     "name": "stdout",
     "output_type": "stream",
     "text": [
      "['__class__', '__delattr__', '__dict__', '__dir__', '__doc__', '__eq__', '__format__', '__ge__', '__getattribute__', '__gt__', '__hash__', '__init__', '__init_subclass__', '__le__', '__lt__', '__module__', '__ne__', '__new__', '__reduce__', '__reduce_ex__', '__repr__', '__setattr__', '__sizeof__', '__str__', '__subclasshook__', '__weakref__', '_name', 'get_name', 'set_name', 'show_attr']\n"
     ]
    }
   ],
   "source": [
    "foo.show_attr()"
   ]
  },
  {
   "cell_type": "code",
   "execution_count": 13,
   "metadata": {},
   "outputs": [],
   "source": [
    "class Foo:\n",
    "    def __init__(self, name):\n",
    "        self.__name = name\n",
    "    def get_name(self):\n",
    "        return self.__name\n",
    "    def set_name(self, new_name):\n",
    "        self.__name = new_name\n",
    "    def show_attr(self):\n",
    "        print(dir(self))"
   ]
  },
  {
   "cell_type": "code",
   "execution_count": 14,
   "metadata": {},
   "outputs": [
    {
     "name": "stdout",
     "output_type": "stream",
     "text": [
      "deep insider\n"
     ]
    },
    {
     "ename": "AttributeError",
     "evalue": "'Foo' object has no attribute '__name'",
     "output_type": "error",
     "traceback": [
      "\u001b[1;31m---------------------------------------------------------------------------\u001b[0m",
      "\u001b[1;31mAttributeError\u001b[0m                            Traceback (most recent call last)",
      "\u001b[1;32m<ipython-input-14-2a4e82b1754f>\u001b[0m in \u001b[0;36m<module>\u001b[1;34m\u001b[0m\n\u001b[0;32m      2\u001b[0m \u001b[0mprint\u001b[0m\u001b[1;33m(\u001b[0m\u001b[0mfoo\u001b[0m\u001b[1;33m.\u001b[0m\u001b[0mget_name\u001b[0m\u001b[1;33m(\u001b[0m\u001b[1;33m)\u001b[0m\u001b[1;33m)\u001b[0m\u001b[1;33m\u001b[0m\u001b[1;33m\u001b[0m\u001b[0m\n\u001b[0;32m      3\u001b[0m \u001b[0mfoo\u001b[0m\u001b[1;33m.\u001b[0m\u001b[0mset_name\u001b[0m\u001b[1;33m(\u001b[0m\u001b[1;34m'atmarkit'\u001b[0m\u001b[1;33m)\u001b[0m\u001b[1;33m\u001b[0m\u001b[1;33m\u001b[0m\u001b[0m\n\u001b[1;32m----> 4\u001b[1;33m \u001b[0mprint\u001b[0m\u001b[1;33m(\u001b[0m\u001b[0mfoo\u001b[0m\u001b[1;33m.\u001b[0m\u001b[0m__name\u001b[0m\u001b[1;33m)\u001b[0m\u001b[1;33m\u001b[0m\u001b[1;33m\u001b[0m\u001b[0m\n\u001b[0m",
      "\u001b[1;31mAttributeError\u001b[0m: 'Foo' object has no attribute '__name'"
     ]
    }
   ],
   "source": [
    "foo = Foo('deep insider')\n",
    "print(foo.get_name())\n",
    "foo.set_name('atmarkit')\n",
    "print(foo.__name)"
   ]
  },
  {
   "cell_type": "code",
   "execution_count": 15,
   "metadata": {},
   "outputs": [
    {
     "name": "stdout",
     "output_type": "stream",
     "text": [
      "['_Foo__name', '__class__', '__delattr__', '__dict__', '__dir__', '__doc__', '__eq__', '__format__', '__ge__', '__getattribute__', '__gt__', '__hash__', '__init__', '__init_subclass__', '__le__', '__lt__', '__module__', '__ne__', '__new__', '__reduce__', '__reduce_ex__', '__repr__', '__setattr__', '__sizeof__', '__str__', '__subclasshook__', '__weakref__', 'get_name', 'set_name', 'show_attr']\n"
     ]
    }
   ],
   "source": [
    "foo.show_attr()"
   ]
  },
  {
   "cell_type": "code",
   "execution_count": 17,
   "metadata": {},
   "outputs": [
    {
     "name": "stdout",
     "output_type": "stream",
     "text": [
      "atmarkit\n"
     ]
    }
   ],
   "source": [
    "print(foo._Foo__name)"
   ]
  },
  {
   "cell_type": "code",
   "execution_count": 18,
   "metadata": {},
   "outputs": [],
   "source": [
    "class Foo:\n",
    "    def __init__(self):\n",
    "        self.__mynum = 0\n",
    "    def get_num(self):\n",
    "        return self.__mynum\n",
    "    def set_num(self, new_value):\n",
    "        if 0 < new_value < 101:\n",
    "            self.__mynum = new_value\n",
    "        else:\n",
    "            raise ValueError('value out of range(0-100)')\n",
    "    mynum = property(get_num, set_num)"
   ]
  },
  {
   "cell_type": "code",
   "execution_count": 19,
   "metadata": {},
   "outputs": [
    {
     "name": "stdout",
     "output_type": "stream",
     "text": [
      "50\n"
     ]
    },
    {
     "ename": "ValueError",
     "evalue": "value out of range(0-100)",
     "output_type": "error",
     "traceback": [
      "\u001b[1;31m---------------------------------------------------------------------------\u001b[0m",
      "\u001b[1;31mValueError\u001b[0m                                Traceback (most recent call last)",
      "\u001b[1;32m<ipython-input-19-37122b6ad816>\u001b[0m in \u001b[0;36m<module>\u001b[1;34m\u001b[0m\n\u001b[0;32m      2\u001b[0m \u001b[0mfoo\u001b[0m\u001b[1;33m.\u001b[0m\u001b[0mmynum\u001b[0m \u001b[1;33m=\u001b[0m \u001b[1;36m50\u001b[0m\u001b[1;33m\u001b[0m\u001b[1;33m\u001b[0m\u001b[0m\n\u001b[0;32m      3\u001b[0m \u001b[0mprint\u001b[0m\u001b[1;33m(\u001b[0m\u001b[0mfoo\u001b[0m\u001b[1;33m.\u001b[0m\u001b[0mmynum\u001b[0m\u001b[1;33m)\u001b[0m\u001b[1;33m\u001b[0m\u001b[1;33m\u001b[0m\u001b[0m\n\u001b[1;32m----> 4\u001b[1;33m \u001b[0mfoo\u001b[0m\u001b[1;33m.\u001b[0m\u001b[0mmynum\u001b[0m \u001b[1;33m=\u001b[0m \u001b[1;36m101\u001b[0m\u001b[1;33m\u001b[0m\u001b[1;33m\u001b[0m\u001b[0m\n\u001b[0m",
      "\u001b[1;32m<ipython-input-18-0a707a6c7ad3>\u001b[0m in \u001b[0;36mset_num\u001b[1;34m(self, new_value)\u001b[0m\n\u001b[0;32m      8\u001b[0m             \u001b[0mself\u001b[0m\u001b[1;33m.\u001b[0m\u001b[0m__mynum\u001b[0m \u001b[1;33m=\u001b[0m \u001b[0mnew_value\u001b[0m\u001b[1;33m\u001b[0m\u001b[1;33m\u001b[0m\u001b[0m\n\u001b[0;32m      9\u001b[0m         \u001b[1;32melse\u001b[0m\u001b[1;33m:\u001b[0m\u001b[1;33m\u001b[0m\u001b[1;33m\u001b[0m\u001b[0m\n\u001b[1;32m---> 10\u001b[1;33m             \u001b[1;32mraise\u001b[0m \u001b[0mValueError\u001b[0m\u001b[1;33m(\u001b[0m\u001b[1;34m'value out of range(0-100)'\u001b[0m\u001b[1;33m)\u001b[0m\u001b[1;33m\u001b[0m\u001b[1;33m\u001b[0m\u001b[0m\n\u001b[0m\u001b[0;32m     11\u001b[0m     \u001b[0mmynum\u001b[0m \u001b[1;33m=\u001b[0m \u001b[0mproperty\u001b[0m\u001b[1;33m(\u001b[0m\u001b[0mget_num\u001b[0m\u001b[1;33m,\u001b[0m \u001b[0mset_num\u001b[0m\u001b[1;33m)\u001b[0m\u001b[1;33m\u001b[0m\u001b[1;33m\u001b[0m\u001b[0m\n",
      "\u001b[1;31mValueError\u001b[0m: value out of range(0-100)"
     ]
    }
   ],
   "source": [
    "foo = Foo()\n",
    "foo.mynum = 50\n",
    "print(foo.mynum)\n",
    "foo.mynum = 101"
   ]
  },
  {
   "cell_type": "code",
   "execution_count": 20,
   "metadata": {},
   "outputs": [],
   "source": [
    "class A:\n",
    "    def hello(self):\n",
    "        print('Hello from A')\n",
    "\n",
    "class B(A):\n",
    "    pass\n",
    "\n",
    "class C(A):\n",
    "    def hello(self):\n",
    "        print('Hello from C')\n",
    "\n",
    "class D(B, C):\n",
    "    pass"
   ]
  },
  {
   "cell_type": "code",
   "execution_count": 21,
   "metadata": {},
   "outputs": [
    {
     "name": "stdout",
     "output_type": "stream",
     "text": [
      "Hello from C\n"
     ]
    }
   ],
   "source": [
    "d = D()\n",
    "d.hello()"
   ]
  },
  {
   "cell_type": "code",
   "execution_count": 26,
   "metadata": {},
   "outputs": [],
   "source": [
    "class A:\n",
    "    def hello(self):\n",
    "        print('Hello from A')\n",
    "\n",
    "class B(A):\n",
    "    pass\n",
    "\n",
    "class C:\n",
    "    def hello(self):\n",
    "        print('Hello from C')\n",
    "\n",
    "class D(B, C):\n",
    "    pass"
   ]
  },
  {
   "cell_type": "code",
   "execution_count": 27,
   "metadata": {},
   "outputs": [
    {
     "name": "stdout",
     "output_type": "stream",
     "text": [
      "Hello from A\n"
     ]
    }
   ],
   "source": [
    "d = D()\n",
    "d.hello()"
   ]
  },
  {
   "cell_type": "code",
   "execution_count": 28,
   "metadata": {},
   "outputs": [],
   "source": [
    "class A:\n",
    "    def hello(self):\n",
    "        print('Hello from A')\n",
    "\n",
    "class B(A):\n",
    "    pass\n",
    "\n",
    "class C:\n",
    "    def hello(self):\n",
    "        print('Hello from C')\n",
    "\n",
    "class D(C, B):\n",
    "    pass"
   ]
  },
  {
   "cell_type": "code",
   "execution_count": 29,
   "metadata": {},
   "outputs": [
    {
     "name": "stdout",
     "output_type": "stream",
     "text": [
      "Hello from C\n"
     ]
    }
   ],
   "source": [
    "d = D()\n",
    "d.hello()"
   ]
  },
  {
   "cell_type": "code",
   "execution_count": 30,
   "metadata": {},
   "outputs": [
    {
     "name": "stdout",
     "output_type": "stream",
     "text": [
      "(<class '__main__.D'>, <class '__main__.C'>, <class '__main__.B'>, <class '__main__.A'>, <class 'object'>)\n"
     ]
    }
   ],
   "source": [
    "print(D.__mro__)"
   ]
  },
  {
   "cell_type": "code",
   "execution_count": 31,
   "metadata": {},
   "outputs": [],
   "source": [
    "class B:\n",
    "    def __init__(self):\n",
    "        self.b_value = 'B'\n",
    "        print('class B init')\n",
    "        \n",
    "class C:\n",
    "    def __init__(self):\n",
    "        self.c_value = 'C'\n",
    "        print('class C init')\n",
    "\n",
    "class D(C, B):\n",
    "    pass"
   ]
  },
  {
   "cell_type": "code",
   "execution_count": 32,
   "metadata": {},
   "outputs": [
    {
     "name": "stdout",
     "output_type": "stream",
     "text": [
      "class C init\n",
      "(<class '__main__.D'>, <class '__main__.C'>, <class '__main__.B'>, <class 'object'>)\n"
     ]
    }
   ],
   "source": [
    "d = D()\n",
    "print(D.__mro__)"
   ]
  },
  {
   "cell_type": "code",
   "execution_count": 33,
   "metadata": {},
   "outputs": [
    {
     "ename": "AttributeError",
     "evalue": "'D' object has no attribute 'b_value'",
     "output_type": "error",
     "traceback": [
      "\u001b[1;31m---------------------------------------------------------------------------\u001b[0m",
      "\u001b[1;31mAttributeError\u001b[0m                            Traceback (most recent call last)",
      "\u001b[1;32m<ipython-input-33-ddec3916ba9d>\u001b[0m in \u001b[0;36m<module>\u001b[1;34m\u001b[0m\n\u001b[1;32m----> 1\u001b[1;33m \u001b[0mprint\u001b[0m\u001b[1;33m(\u001b[0m\u001b[0md\u001b[0m\u001b[1;33m.\u001b[0m\u001b[0mb_value\u001b[0m\u001b[1;33m)\u001b[0m\u001b[1;33m\u001b[0m\u001b[1;33m\u001b[0m\u001b[0m\n\u001b[0m",
      "\u001b[1;31mAttributeError\u001b[0m: 'D' object has no attribute 'b_value'"
     ]
    }
   ],
   "source": [
    "print(d.b_value)"
   ]
  },
  {
   "cell_type": "code",
   "execution_count": 34,
   "metadata": {},
   "outputs": [],
   "source": [
    "class B:\n",
    "    def __init__(self):\n",
    "        self.b_value = 'B'\n",
    "        print('class B init')\n",
    "\n",
    "class C:\n",
    "    def __init__(self):\n",
    "        self.c_value = 'C'\n",
    "        print('class C init')\n",
    "        \n",
    "class D(C, B):\n",
    "    def __init__(self):\n",
    "        print('class D init')\n",
    "        super().__init__()"
   ]
  },
  {
   "cell_type": "code",
   "execution_count": 36,
   "metadata": {},
   "outputs": [
    {
     "name": "stdout",
     "output_type": "stream",
     "text": [
      "class D init\n",
      "class C init\n",
      "(<class '__main__.D'>, <class '__main__.C'>, <class '__main__.B'>, <class 'object'>)\n"
     ]
    }
   ],
   "source": [
    "d = D()\n",
    "print(D.__mro__)"
   ]
  },
  {
   "cell_type": "markdown",
   "metadata": {},
   "source": [
    "class Bとclass Cのsuper()ではMROの順に呼び出す"
   ]
  },
  {
   "cell_type": "code",
   "execution_count": 39,
   "metadata": {},
   "outputs": [],
   "source": [
    "class B:\n",
    "    def __init__(self):\n",
    "        self.b_value = 'B'\n",
    "        print('class B init')\n",
    "        super().__init__()\n",
    "\n",
    "class C:\n",
    "    def __init__(self):\n",
    "        self.c_value = 'C'\n",
    "        print('class C init')\n",
    "        super().__init__()\n",
    "        \n",
    "class D(C, B):\n",
    "    def __init__(self):\n",
    "        print('class D init')\n",
    "        super().__init__()"
   ]
  },
  {
   "cell_type": "code",
   "execution_count": 40,
   "metadata": {},
   "outputs": [
    {
     "name": "stdout",
     "output_type": "stream",
     "text": [
      "class D init\n",
      "class C init\n",
      "class B init\n"
     ]
    }
   ],
   "source": [
    "d = D()"
   ]
  },
  {
   "cell_type": "code",
   "execution_count": 41,
   "metadata": {},
   "outputs": [],
   "source": [
    "class A:\n",
    "    def hello(self):\n",
    "        print('Hello from A')\n",
    "\n",
    "class B(A):\n",
    "    def hello(self):\n",
    "        print('Hello from B')\n",
    "        super().hello()\n",
    "        \n",
    "class C:\n",
    "    def hello(self):\n",
    "        print('Hello from C')\n",
    "\n",
    "class D(B, C):\n",
    "    def hello(self):\n",
    "        print('Hello from D')\n",
    "        super().hello()"
   ]
  },
  {
   "cell_type": "code",
   "execution_count": 43,
   "metadata": {},
   "outputs": [
    {
     "name": "stdout",
     "output_type": "stream",
     "text": [
      "(<class '__main__.D'>, <class '__main__.B'>, <class '__main__.A'>, <class '__main__.C'>, <class 'object'>)\n",
      "Hello from D\n",
      "Hello from B\n",
      "Hello from A\n"
     ]
    }
   ],
   "source": [
    "d = D()\n",
    "print(D.__mro__)\n",
    "d.hello()"
   ]
  },
  {
   "cell_type": "code",
   "execution_count": 44,
   "metadata": {},
   "outputs": [],
   "source": [
    "class D(B, C):\n",
    "    def hello(self):\n",
    "        print('Hello from D')\n",
    "        C.hello(self)"
   ]
  },
  {
   "cell_type": "code",
   "execution_count": 45,
   "metadata": {},
   "outputs": [
    {
     "name": "stdout",
     "output_type": "stream",
     "text": [
      "(<class '__main__.D'>, <class '__main__.B'>, <class '__main__.A'>, <class '__main__.C'>, <class 'object'>)\n",
      "Hello from D\n",
      "Hello from C\n"
     ]
    }
   ],
   "source": [
    "d = D()\n",
    "print(D.__mro__)\n",
    "d.hello()"
   ]
  },
  {
   "cell_type": "code",
   "execution_count": 46,
   "metadata": {},
   "outputs": [
    {
     "name": "stdout",
     "output_type": "stream",
     "text": [
      "(<class '__main__.D'>, <class '__main__.B'>, <class '__main__.A'>, <class '__main__.C'>, <class 'object'>)\n",
      "Hello from D\n",
      "Hello from C\n"
     ]
    }
   ],
   "source": [
    "class D(B, C):\n",
    "    def hello(self):\n",
    "        print('Hello from D')\n",
    "        super(A, self).hello()\n",
    "        \n",
    "d = D()\n",
    "print(D.__mro__)\n",
    "d.hello()"
   ]
  },
  {
   "cell_type": "code",
   "execution_count": 48,
   "metadata": {},
   "outputs": [],
   "source": [
    "class Stack:\n",
    "    def __init__(self):\n",
    "        self.x = []\n",
    "    def push(self, item):\n",
    "        self.x.append(item)\n",
    "    def pop(self):\n",
    "        return self.x.pop()\n",
    "    \n",
    "class Queue:\n",
    "    def __init__(self):\n",
    "        self.x = []\n",
    "    def enqueue(self, item):\n",
    "        self.x.insert(0, item)\n",
    "    def dequeue(self):\n",
    "        return self.x.pop()"
   ]
  },
  {
   "cell_type": "code",
   "execution_count": 49,
   "metadata": {},
   "outputs": [
    {
     "name": "stdout",
     "output_type": "stream",
     "text": [
      "2\n",
      "1\n",
      "1\n",
      "2\n"
     ]
    }
   ],
   "source": [
    "mystack = Stack()\n",
    "mystack.push(1)\n",
    "mystack.push(2)\n",
    "print(mystack.pop())\n",
    "print(mystack.pop())\n",
    "\n",
    "myqueue = Queue()\n",
    "myqueue.enqueue(1)\n",
    "myqueue.enqueue(2)\n",
    "print(myqueue.dequeue())\n",
    "print(myqueue.dequeue())"
   ]
  },
  {
   "cell_type": "code",
   "execution_count": 50,
   "metadata": {},
   "outputs": [],
   "source": [
    "class StackQueue(Stack, Queue):\n",
    "    pass"
   ]
  },
  {
   "cell_type": "code",
   "execution_count": 51,
   "metadata": {},
   "outputs": [
    {
     "name": "stdout",
     "output_type": "stream",
     "text": [
      "2\n",
      "1\n"
     ]
    }
   ],
   "source": [
    "mysq = StackQueue()\n",
    "mysq.push(1)\n",
    "mysq.push(2)\n",
    "mysq.enqueue(3)\n",
    "mysq.enqueue(4)\n",
    "print(mysq.dequeue())\n",
    "print(mysq.pop())"
   ]
  },
  {
   "cell_type": "code",
   "execution_count": 52,
   "metadata": {},
   "outputs": [
    {
     "data": {
      "text/plain": [
       "(__main__.StackQueue, __main__.Stack, __main__.Queue, object)"
      ]
     },
     "execution_count": 52,
     "metadata": {},
     "output_type": "execute_result"
    }
   ],
   "source": [
    "StackQueue.__mro__"
   ]
  },
  {
   "cell_type": "code",
   "execution_count": 53,
   "metadata": {},
   "outputs": [],
   "source": [
    "class Util:\n",
    "    def show_members(self):\n",
    "        print(self.__dict__)\n",
    "    def show_mro(self):\n",
    "        print(self.__class__.__mro__)"
   ]
  },
  {
   "cell_type": "code",
   "execution_count": 54,
   "metadata": {},
   "outputs": [],
   "source": [
    "class Foo:\n",
    "    def __init__(self):\n",
    "        self.foo = 'FOO'\n",
    "        \n",
    "class Bar(Foo, Util):\n",
    "    def __init__(self):\n",
    "        super().__init__()\n",
    "        self.bar = 'BAR'"
   ]
  },
  {
   "cell_type": "code",
   "execution_count": 55,
   "metadata": {},
   "outputs": [
    {
     "name": "stdout",
     "output_type": "stream",
     "text": [
      "{'foo': 'FOO', 'bar': 'BAR', 'x': 100}\n"
     ]
    }
   ],
   "source": [
    "bar = Bar()\n",
    "bar.x = 100\n",
    "bar.show_members()"
   ]
  },
  {
   "cell_type": "code",
   "execution_count": 57,
   "metadata": {},
   "outputs": [],
   "source": [
    "class Base:\n",
    "    pass\n",
    "\n",
    "class Derived(Base, Util):\n",
    "    def __init__(self):\n",
    "        self.some_value__ = 100"
   ]
  },
  {
   "cell_type": "code",
   "execution_count": 58,
   "metadata": {},
   "outputs": [
    {
     "name": "stdout",
     "output_type": "stream",
     "text": [
      "{'some_value__': 100}\n",
      "(<class '__main__.Derived'>, <class '__main__.Base'>, <class '__main__.Util'>, <class 'object'>)\n"
     ]
    }
   ],
   "source": [
    "derived = Derived()\n",
    "derived.show_members()\n",
    "derived.show_mro()"
   ]
  },
  {
   "cell_type": "code",
   "execution_count": 59,
   "metadata": {},
   "outputs": [],
   "source": [
    "class Util:\n",
    "    def mixin_method(self):\n",
    "        self.another_method()\n",
    "    def another_method(self):\n",
    "        raise NotImplementedError('method not implemented')"
   ]
  },
  {
   "cell_type": "code",
   "execution_count": 60,
   "metadata": {},
   "outputs": [],
   "source": [
    "class Foo:\n",
    "    pass\n",
    "\n",
    "class Bar(Foo, Util):\n",
    "    def __init__(self):\n",
    "        self.x = 'BAR'\n",
    "    def another_method(self):\n",
    "        print('Hello from', self.x)\n",
    "\n",
    "class Baz(Foo, Util):\n",
    "    def __init__(self):\n",
    "        self.y = 'BAZ'\n",
    "    def another_method(self):\n",
    "        print('Hello from', self.y)\n",
    "        \n",
    "class Qux(Foo, Util):\n",
    "    pass"
   ]
  },
  {
   "cell_type": "code",
   "execution_count": 61,
   "metadata": {},
   "outputs": [
    {
     "name": "stdout",
     "output_type": "stream",
     "text": [
      "Hello from BAR\n",
      "Hello from BAZ\n"
     ]
    },
    {
     "ename": "NotImplementedError",
     "evalue": "method not implemented",
     "output_type": "error",
     "traceback": [
      "\u001b[1;31m---------------------------------------------------------------------------\u001b[0m",
      "\u001b[1;31mNotImplementedError\u001b[0m                       Traceback (most recent call last)",
      "\u001b[1;32m<ipython-input-61-b649b12f869f>\u001b[0m in \u001b[0;36m<module>\u001b[1;34m\u001b[0m\n\u001b[0;32m      4\u001b[0m \u001b[0mbar\u001b[0m\u001b[1;33m.\u001b[0m\u001b[0mmixin_method\u001b[0m\u001b[1;33m(\u001b[0m\u001b[1;33m)\u001b[0m\u001b[1;33m\u001b[0m\u001b[1;33m\u001b[0m\u001b[0m\n\u001b[0;32m      5\u001b[0m \u001b[0mbaz\u001b[0m\u001b[1;33m.\u001b[0m\u001b[0mmixin_method\u001b[0m\u001b[1;33m(\u001b[0m\u001b[1;33m)\u001b[0m\u001b[1;33m\u001b[0m\u001b[1;33m\u001b[0m\u001b[0m\n\u001b[1;32m----> 6\u001b[1;33m \u001b[0mqux\u001b[0m\u001b[1;33m.\u001b[0m\u001b[0mmixin_method\u001b[0m\u001b[1;33m(\u001b[0m\u001b[1;33m)\u001b[0m\u001b[1;33m\u001b[0m\u001b[1;33m\u001b[0m\u001b[0m\n\u001b[0m",
      "\u001b[1;32m<ipython-input-59-d795c9f8a3d3>\u001b[0m in \u001b[0;36mmixin_method\u001b[1;34m(self)\u001b[0m\n\u001b[0;32m      1\u001b[0m \u001b[1;32mclass\u001b[0m \u001b[0mUtil\u001b[0m\u001b[1;33m:\u001b[0m\u001b[1;33m\u001b[0m\u001b[1;33m\u001b[0m\u001b[0m\n\u001b[0;32m      2\u001b[0m     \u001b[1;32mdef\u001b[0m \u001b[0mmixin_method\u001b[0m\u001b[1;33m(\u001b[0m\u001b[0mself\u001b[0m\u001b[1;33m)\u001b[0m\u001b[1;33m:\u001b[0m\u001b[1;33m\u001b[0m\u001b[1;33m\u001b[0m\u001b[0m\n\u001b[1;32m----> 3\u001b[1;33m         \u001b[0mself\u001b[0m\u001b[1;33m.\u001b[0m\u001b[0manother_method\u001b[0m\u001b[1;33m(\u001b[0m\u001b[1;33m)\u001b[0m\u001b[1;33m\u001b[0m\u001b[1;33m\u001b[0m\u001b[0m\n\u001b[0m\u001b[0;32m      4\u001b[0m     \u001b[1;32mdef\u001b[0m \u001b[0manother_method\u001b[0m\u001b[1;33m(\u001b[0m\u001b[0mself\u001b[0m\u001b[1;33m)\u001b[0m\u001b[1;33m:\u001b[0m\u001b[1;33m\u001b[0m\u001b[1;33m\u001b[0m\u001b[0m\n\u001b[0;32m      5\u001b[0m         \u001b[1;32mraise\u001b[0m \u001b[0mNotImplementedError\u001b[0m\u001b[1;33m(\u001b[0m\u001b[1;34m'method not implemented'\u001b[0m\u001b[1;33m)\u001b[0m\u001b[1;33m\u001b[0m\u001b[1;33m\u001b[0m\u001b[0m\n",
      "\u001b[1;32m<ipython-input-59-d795c9f8a3d3>\u001b[0m in \u001b[0;36manother_method\u001b[1;34m(self)\u001b[0m\n\u001b[0;32m      3\u001b[0m         \u001b[0mself\u001b[0m\u001b[1;33m.\u001b[0m\u001b[0manother_method\u001b[0m\u001b[1;33m(\u001b[0m\u001b[1;33m)\u001b[0m\u001b[1;33m\u001b[0m\u001b[1;33m\u001b[0m\u001b[0m\n\u001b[0;32m      4\u001b[0m     \u001b[1;32mdef\u001b[0m \u001b[0manother_method\u001b[0m\u001b[1;33m(\u001b[0m\u001b[0mself\u001b[0m\u001b[1;33m)\u001b[0m\u001b[1;33m:\u001b[0m\u001b[1;33m\u001b[0m\u001b[1;33m\u001b[0m\u001b[0m\n\u001b[1;32m----> 5\u001b[1;33m         \u001b[1;32mraise\u001b[0m \u001b[0mNotImplementedError\u001b[0m\u001b[1;33m(\u001b[0m\u001b[1;34m'method not implemented'\u001b[0m\u001b[1;33m)\u001b[0m\u001b[1;33m\u001b[0m\u001b[1;33m\u001b[0m\u001b[0m\n\u001b[0m",
      "\u001b[1;31mNotImplementedError\u001b[0m: method not implemented"
     ]
    }
   ],
   "source": [
    "bar = Bar()\n",
    "baz = Baz()\n",
    "qux = Qux()\n",
    "bar.mixin_method()\n",
    "baz.mixin_method()\n",
    "qux.mixin_method()"
   ]
  },
  {
   "cell_type": "code",
   "execution_count": 62,
   "metadata": {},
   "outputs": [
    {
     "ename": "NotImplementedError",
     "evalue": "method not implemented",
     "output_type": "error",
     "traceback": [
      "\u001b[1;31m---------------------------------------------------------------------------\u001b[0m",
      "\u001b[1;31mNotImplementedError\u001b[0m                       Traceback (most recent call last)",
      "\u001b[1;32m<ipython-input-62-2ad4752587d6>\u001b[0m in \u001b[0;36m<module>\u001b[1;34m\u001b[0m\n\u001b[0;32m      1\u001b[0m \u001b[0mutil\u001b[0m \u001b[1;33m=\u001b[0m \u001b[0mUtil\u001b[0m\u001b[1;33m(\u001b[0m\u001b[1;33m)\u001b[0m\u001b[1;33m\u001b[0m\u001b[1;33m\u001b[0m\u001b[0m\n\u001b[1;32m----> 2\u001b[1;33m \u001b[0mutil\u001b[0m\u001b[1;33m.\u001b[0m\u001b[0mmixin_method\u001b[0m\u001b[1;33m(\u001b[0m\u001b[1;33m)\u001b[0m\u001b[1;33m\u001b[0m\u001b[1;33m\u001b[0m\u001b[0m\n\u001b[0m",
      "\u001b[1;32m<ipython-input-59-d795c9f8a3d3>\u001b[0m in \u001b[0;36mmixin_method\u001b[1;34m(self)\u001b[0m\n\u001b[0;32m      1\u001b[0m \u001b[1;32mclass\u001b[0m \u001b[0mUtil\u001b[0m\u001b[1;33m:\u001b[0m\u001b[1;33m\u001b[0m\u001b[1;33m\u001b[0m\u001b[0m\n\u001b[0;32m      2\u001b[0m     \u001b[1;32mdef\u001b[0m \u001b[0mmixin_method\u001b[0m\u001b[1;33m(\u001b[0m\u001b[0mself\u001b[0m\u001b[1;33m)\u001b[0m\u001b[1;33m:\u001b[0m\u001b[1;33m\u001b[0m\u001b[1;33m\u001b[0m\u001b[0m\n\u001b[1;32m----> 3\u001b[1;33m         \u001b[0mself\u001b[0m\u001b[1;33m.\u001b[0m\u001b[0manother_method\u001b[0m\u001b[1;33m(\u001b[0m\u001b[1;33m)\u001b[0m\u001b[1;33m\u001b[0m\u001b[1;33m\u001b[0m\u001b[0m\n\u001b[0m\u001b[0;32m      4\u001b[0m     \u001b[1;32mdef\u001b[0m \u001b[0manother_method\u001b[0m\u001b[1;33m(\u001b[0m\u001b[0mself\u001b[0m\u001b[1;33m)\u001b[0m\u001b[1;33m:\u001b[0m\u001b[1;33m\u001b[0m\u001b[1;33m\u001b[0m\u001b[0m\n\u001b[0;32m      5\u001b[0m         \u001b[1;32mraise\u001b[0m \u001b[0mNotImplementedError\u001b[0m\u001b[1;33m(\u001b[0m\u001b[1;34m'method not implemented'\u001b[0m\u001b[1;33m)\u001b[0m\u001b[1;33m\u001b[0m\u001b[1;33m\u001b[0m\u001b[0m\n",
      "\u001b[1;32m<ipython-input-59-d795c9f8a3d3>\u001b[0m in \u001b[0;36manother_method\u001b[1;34m(self)\u001b[0m\n\u001b[0;32m      3\u001b[0m         \u001b[0mself\u001b[0m\u001b[1;33m.\u001b[0m\u001b[0manother_method\u001b[0m\u001b[1;33m(\u001b[0m\u001b[1;33m)\u001b[0m\u001b[1;33m\u001b[0m\u001b[1;33m\u001b[0m\u001b[0m\n\u001b[0;32m      4\u001b[0m     \u001b[1;32mdef\u001b[0m \u001b[0manother_method\u001b[0m\u001b[1;33m(\u001b[0m\u001b[0mself\u001b[0m\u001b[1;33m)\u001b[0m\u001b[1;33m:\u001b[0m\u001b[1;33m\u001b[0m\u001b[1;33m\u001b[0m\u001b[0m\n\u001b[1;32m----> 5\u001b[1;33m         \u001b[1;32mraise\u001b[0m \u001b[0mNotImplementedError\u001b[0m\u001b[1;33m(\u001b[0m\u001b[1;34m'method not implemented'\u001b[0m\u001b[1;33m)\u001b[0m\u001b[1;33m\u001b[0m\u001b[1;33m\u001b[0m\u001b[0m\n\u001b[0m",
      "\u001b[1;31mNotImplementedError\u001b[0m: method not implemented"
     ]
    }
   ],
   "source": [
    "util = Util()\n",
    "util.mixin_method()"
   ]
  },
  {
   "cell_type": "code",
   "execution_count": 63,
   "metadata": {},
   "outputs": [],
   "source": [
    "class Util:\n",
    "    def show_members(self):\n",
    "        print(self.__dict__)\n",
    "    def show_mro(self):\n",
    "        print(self.__class__.__mro__)"
   ]
  },
  {
   "cell_type": "code",
   "execution_count": 64,
   "metadata": {},
   "outputs": [
    {
     "name": "stdout",
     "output_type": "stream",
     "text": [
      "{}\n",
      "(<class '__main__.Util'>, <class 'object'>)\n"
     ]
    }
   ],
   "source": [
    "util = Util()\n",
    "util.show_members()\n",
    "util.show_mro()"
   ]
  }
 ],
 "metadata": {
  "kernelspec": {
   "display_name": "Python 3",
   "language": "python",
   "name": "python3"
  },
  "language_info": {
   "codemirror_mode": {
    "name": "ipython",
    "version": 3
   },
   "file_extension": ".py",
   "mimetype": "text/x-python",
   "name": "python",
   "nbconvert_exporter": "python",
   "pygments_lexer": "ipython3",
   "version": "3.7.3"
  }
 },
 "nbformat": 4,
 "nbformat_minor": 2
}
