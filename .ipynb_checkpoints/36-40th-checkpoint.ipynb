{
 "cells": [
  {
   "cell_type": "markdown",
   "metadata": {},
   "source": [
    "# 第36回"
   ]
  },
  {
   "cell_type": "code",
   "execution_count": 1,
   "metadata": {},
   "outputs": [
    {
     "name": "stdout",
     "output_type": "stream",
     "text": [
      "100までの数値を入力してください:a\n"
     ]
    },
    {
     "ename": "ValueError",
     "evalue": "invalid literal for int() with base 10: 'a'",
     "output_type": "error",
     "traceback": [
      "\u001b[1;31m---------------------------------------------------------------------------\u001b[0m",
      "\u001b[1;31mValueError\u001b[0m                                Traceback (most recent call last)",
      "\u001b[1;32m<ipython-input-1-dc10f91d1591>\u001b[0m in \u001b[0;36m<module>\u001b[1;34m\u001b[0m\n\u001b[0;32m      3\u001b[0m \u001b[1;33m\u001b[0m\u001b[0m\n\u001b[0;32m      4\u001b[0m \u001b[1;32mwhile\u001b[0m \u001b[1;32mTrue\u001b[0m\u001b[1;33m:\u001b[0m\u001b[1;33m\u001b[0m\u001b[1;33m\u001b[0m\u001b[0m\n\u001b[1;32m----> 5\u001b[1;33m     \u001b[0mnumber\u001b[0m \u001b[1;33m=\u001b[0m \u001b[0mint\u001b[0m\u001b[1;33m(\u001b[0m\u001b[0minput\u001b[0m\u001b[1;33m(\u001b[0m\u001b[1;34m'100までの数値を入力してください:'\u001b[0m\u001b[1;33m)\u001b[0m\u001b[1;33m)\u001b[0m\u001b[1;33m\u001b[0m\u001b[1;33m\u001b[0m\u001b[0m\n\u001b[0m\u001b[0;32m      6\u001b[0m     \u001b[1;32mif\u001b[0m \u001b[0manswer\u001b[0m \u001b[1;33m>\u001b[0m \u001b[0mnumber\u001b[0m\u001b[1;33m:\u001b[0m\u001b[1;33m\u001b[0m\u001b[1;33m\u001b[0m\u001b[0m\n\u001b[0;32m      7\u001b[0m         \u001b[0mprint\u001b[0m\u001b[1;33m(\u001b[0m\u001b[1;34m'小さすぎます'\u001b[0m\u001b[1;33m)\u001b[0m\u001b[1;33m\u001b[0m\u001b[1;33m\u001b[0m\u001b[0m\n",
      "\u001b[1;31mValueError\u001b[0m: invalid literal for int() with base 10: 'a'"
     ]
    }
   ],
   "source": [
    "import random\n",
    "answer = random.randint(1, 100)\n",
    "\n",
    "while True:\n",
    "    number = int(input('100までの数値を入力してください:'))\n",
    "    if answer > number:\n",
    "        print('小さすぎます')\n",
    "    elif answer < number:\n",
    "        print('大きすぎます')\n",
    "    else:\n",
    "        break\n",
    "\n",
    "print('正解です')"
   ]
  },
  {
   "cell_type": "code",
   "execution_count": 5,
   "metadata": {},
   "outputs": [
    {
     "name": "stdout",
     "output_type": "stream",
     "text": [
      "100までの数値を入力してくださいb\n",
      "数値を入力してください\n",
      "100までの数値を入力してください1.2\n",
      "数値を入力してください\n",
      "100までの数値を入力してください1\n",
      "正解です\n"
     ]
    }
   ],
   "source": [
    "import random\n",
    "answer = random.randint(1, 100)\n",
    "answer = 1\n",
    "\n",
    "while True:\n",
    "    try:\n",
    "        number = int(input('100までの数値を入力してください'))\n",
    "    except ValueError:\n",
    "        print('数値を入力してください')\n",
    "        continue\n",
    "    if answer > number:\n",
    "        print('小さすぎます')\n",
    "    elif answer < number:\n",
    "        print('大きすぎます')\n",
    "    else:\n",
    "        break\n",
    "\n",
    "print('正解です') "
   ]
  },
  {
   "cell_type": "code",
   "execution_count": 8,
   "metadata": {},
   "outputs": [
    {
     "name": "stdout",
     "output_type": "stream",
     "text": [
      "\n",
      "1: ValueError\n",
      "2: IndexError\n",
      "3: Non Error\n",
      "4: Finish\n",
      "Please input:1\n",
      "Value Error\n",
      "(\"invalid literal for int() with base 10: 'foo'\",)\n",
      "\n",
      "-----try except-----\n",
      "\n",
      "1: ValueError\n",
      "2: IndexError\n",
      "3: Non Error\n",
      "4: Finish\n",
      "Please input:2\n",
      "Index Error\n",
      "\n",
      "-----try except-----\n",
      "\n",
      "1: ValueError\n",
      "2: IndexError\n",
      "3: Non Error\n",
      "4: Finish\n",
      "Please input:3\n",
      "\n",
      "Non Error\n",
      "-----try except-----\n",
      "\n",
      "1: ValueError\n",
      "2: IndexError\n",
      "3: Non Error\n",
      "4: Finish\n",
      "Please input:a\n",
      "Value Error\n",
      "(\"invalid literal for int() with base 10: 'a'\",)\n",
      "\n",
      "-----try except-----\n",
      "\n",
      "1: ValueError\n",
      "2: IndexError\n",
      "3: Non Error\n",
      "4: Finish\n",
      "Please input:4\n",
      "\n",
      "Finish\n",
      "Finished loop\n"
     ]
    }
   ],
   "source": [
    "while True:\n",
    "    try:\n",
    "        print()\n",
    "        print('1: ValueError')\n",
    "        print('2: IndexError')\n",
    "        print('3: Non Error')\n",
    "        print('4: Finish')\n",
    "        selection = int(input('Please input:'))\n",
    "        if selection == 1:\n",
    "            tmp = int('foo')\n",
    "        elif selection == 2:\n",
    "            tmp = 'str'[5]\n",
    "        elif selection == 3:\n",
    "            print()\n",
    "            print('Non Error')\n",
    "        elif selection == 4:\n",
    "            print()\n",
    "            print('Finish')\n",
    "            break\n",
    "        else:\n",
    "            print(undefined_var)\n",
    "    except ValueError as e:\n",
    "        print('Value Error')\n",
    "        print(e.args)\n",
    "        print()\n",
    "    except IndexError:\n",
    "        print('Index Error')\n",
    "        print()\n",
    "    except Exception as e:\n",
    "        print('Exception')\n",
    "        print(e.args)\n",
    "        print()\n",
    "    print('-----try except-----')\n",
    "    \n",
    "print('Finished loop')"
   ]
  },
  {
   "cell_type": "code",
   "execution_count": 9,
   "metadata": {},
   "outputs": [
    {
     "name": "stdout",
     "output_type": "stream",
     "text": [
      "\n",
      "1: ValueError\n",
      "2: IndexError\n",
      "3: Non Error\n",
      "4: Finish\n",
      "Please input:2\n",
      "Exception\n",
      "('string index out of range',)\n",
      "\n",
      "-----try except-----\n",
      "\n",
      "1: ValueError\n",
      "2: IndexError\n",
      "3: Non Error\n",
      "4: Finish\n",
      "Please input:1\n",
      "Exception\n",
      "(\"invalid literal for int() with base 10: 'foo'\",)\n",
      "\n",
      "-----try except-----\n",
      "\n",
      "1: ValueError\n",
      "2: IndexError\n",
      "3: Non Error\n",
      "4: Finish\n",
      "Please input:ll\n",
      "Exception\n",
      "(\"invalid literal for int() with base 10: 'll'\",)\n",
      "\n",
      "-----try except-----\n",
      "\n",
      "1: ValueError\n",
      "2: IndexError\n",
      "3: Non Error\n",
      "4: Finish\n",
      "Please input:4\n",
      "\n",
      "Finish\n",
      "Finished loop\n"
     ]
    }
   ],
   "source": [
    "while True:\n",
    "    try:\n",
    "        print()\n",
    "        print('1: ValueError')\n",
    "        print('2: IndexError')\n",
    "        print('3: Non Error')\n",
    "        print('4: Finish')\n",
    "        selection = int(input('Please input:'))\n",
    "        if selection == 1:\n",
    "            tmp = int('foo')\n",
    "        elif selection == 2:\n",
    "            tmp = 'str'[5]\n",
    "        elif selection == 3:\n",
    "            print()\n",
    "            print('Non Error')\n",
    "        elif selection == 4:\n",
    "            print()\n",
    "            print('Finish')\n",
    "            break\n",
    "        else:\n",
    "            print(undefined_var)\n",
    "    except Exception as e:\n",
    "        print('Exception')\n",
    "        print(e.args)\n",
    "        print()\n",
    "    except ValueError as e:\n",
    "        print('Value Error')\n",
    "        print(e.args)\n",
    "        print()\n",
    "    except IndexError:\n",
    "        print('Index Error')\n",
    "        print()\n",
    "    print('-----try except-----')\n",
    "    \n",
    "print('Finished loop')"
   ]
  },
  {
   "cell_type": "code",
   "execution_count": 11,
   "metadata": {},
   "outputs": [
    {
     "name": "stdout",
     "output_type": "stream",
     "text": [
      "\n",
      "1: ValueError\n",
      "2: IndexError\n",
      "3: Non Error\n",
      "4: Finish\n",
      "Please input:d\n",
      "Exceptionよりも上位の例外クラス\n",
      "-----try except-----\n",
      "\n",
      "1: ValueError\n",
      "2: IndexError\n",
      "3: Non Error\n",
      "4: Finish\n",
      "Please input:2\n",
      "('string index out of range',)\n",
      "\n",
      "-----try except-----\n",
      "\n",
      "1: ValueError\n",
      "2: IndexError\n",
      "3: Non Error\n",
      "4: Finish\n",
      "Please input:1\n",
      "(\"invalid literal for int() with base 10: 'foo'\",)\n",
      "\n",
      "-----try except-----\n",
      "\n",
      "1: ValueError\n",
      "2: IndexError\n",
      "3: Non Error\n",
      "4: Finish\n",
      "Please input:3\n",
      "\n",
      "Non Error\n",
      "-----try except-----\n",
      "\n",
      "1: ValueError\n",
      "2: IndexError\n",
      "3: Non Error\n",
      "4: Finish\n",
      "Please input:4\n",
      "\n",
      "Finish\n",
      "Finished loop\n"
     ]
    }
   ],
   "source": [
    "while True:\n",
    "    try:\n",
    "        print()\n",
    "        print('1: ValueError')\n",
    "        print('2: IndexError')\n",
    "        print('3: Non Error')\n",
    "        print('4: Finish')\n",
    "        selection = int(input('Please input:'))\n",
    "        if selection == 1:\n",
    "            tmp = int('foo')\n",
    "        elif selection == 2:\n",
    "            tmp = 'str'[5]\n",
    "        elif selection == 3:\n",
    "            print()\n",
    "            print('Non Error')\n",
    "        elif selection == 4:\n",
    "            print()\n",
    "            print('Finish')\n",
    "            break\n",
    "        else:\n",
    "            print(undefined_var)\n",
    "    except (ValueError, IndexError) as e:\n",
    "        print(e.args)\n",
    "        print()\n",
    "    except Exception as e:\n",
    "        print('Exception')\n",
    "        print(e.args)\n",
    "        print()\n",
    "    except:\n",
    "        print('Exceptionよりも上位の例外クラス')\n",
    "    print('-----try except-----')\n",
    "    \n",
    "print('Finished loop')"
   ]
  },
  {
   "cell_type": "code",
   "execution_count": 2,
   "metadata": {},
   "outputs": [
    {
     "name": "stdout",
     "output_type": "stream",
     "text": [
      "\n",
      "1: Exception\n",
      "2: Non Exception\n",
      "3: Finish\n",
      "Please select:2\n",
      "No exception occured\n",
      "else clauses executed\n",
      "finally clauses executed\n",
      "\n",
      "1: Exception\n",
      "2: Non Exception\n",
      "3: Finish\n",
      "Please select:1\n",
      "IndexError Exception occured\n",
      "finally clauses executed\n",
      "\n",
      "1: Exception\n",
      "2: Non Exception\n",
      "3: Finish\n",
      "Please select:3\n",
      "finally clauses executed\n"
     ]
    }
   ],
   "source": [
    "while True:\n",
    "    try:\n",
    "        print()\n",
    "        print('1: Exception')\n",
    "        print('2: Non Exception')\n",
    "        print('3: Finish')\n",
    "        selection = int(input('Please select:'))\n",
    "        if selection == 1:\n",
    "            tmp = 'str'[5]\n",
    "        elif selection == 2:\n",
    "            print('No exception occured')\n",
    "        elif selection == 3:\n",
    "            break\n",
    "    except IndexError:\n",
    "        print('IndexError Exception occured')\n",
    "    else:\n",
    "        print('else clauses executed')\n",
    "    finally:\n",
    "        print('finally clauses executed')"
   ]
  },
  {
   "cell_type": "code",
   "execution_count": 3,
   "metadata": {},
   "outputs": [
    {
     "name": "stdout",
     "output_type": "stream",
     "text": [
      "executing finally clause\n",
      "Value Error caught\n",
      "executing finally clause\n"
     ]
    },
    {
     "ename": "ValueError",
     "evalue": "",
     "output_type": "error",
     "traceback": [
      "\u001b[1;31m---------------------------------------------------------------------------\u001b[0m",
      "\u001b[1;31mValueError\u001b[0m                                Traceback (most recent call last)",
      "\u001b[1;32m<ipython-input-3-9b3028060940>\u001b[0m in \u001b[0;36m<module>\u001b[1;34m\u001b[0m\n\u001b[0;32m     17\u001b[0m \u001b[1;33m\u001b[0m\u001b[0m\n\u001b[0;32m     18\u001b[0m \u001b[0mcall_raise_exception\u001b[0m\u001b[1;33m(\u001b[0m\u001b[1;33m)\u001b[0m\u001b[1;33m\u001b[0m\u001b[1;33m\u001b[0m\u001b[0m\n\u001b[1;32m---> 19\u001b[1;33m \u001b[0mcall_raise_exception2\u001b[0m\u001b[1;33m(\u001b[0m\u001b[1;33m)\u001b[0m\u001b[1;33m\u001b[0m\u001b[1;33m\u001b[0m\u001b[0m\n\u001b[0m",
      "\u001b[1;32m<ipython-input-3-9b3028060940>\u001b[0m in \u001b[0;36mcall_raise_exception2\u001b[1;34m()\u001b[0m\n\u001b[0;32m     14\u001b[0m \u001b[1;33m\u001b[0m\u001b[0m\n\u001b[0;32m     15\u001b[0m \u001b[1;32mdef\u001b[0m \u001b[0mcall_raise_exception2\u001b[0m\u001b[1;33m(\u001b[0m\u001b[1;33m)\u001b[0m\u001b[1;33m:\u001b[0m\u001b[1;33m\u001b[0m\u001b[1;33m\u001b[0m\u001b[0m\n\u001b[1;32m---> 16\u001b[1;33m     \u001b[0mraise_exception\u001b[0m\u001b[1;33m(\u001b[0m\u001b[1;33m)\u001b[0m\u001b[1;33m\u001b[0m\u001b[1;33m\u001b[0m\u001b[0m\n\u001b[0m\u001b[0;32m     17\u001b[0m \u001b[1;33m\u001b[0m\u001b[0m\n\u001b[0;32m     18\u001b[0m \u001b[0mcall_raise_exception\u001b[0m\u001b[1;33m(\u001b[0m\u001b[1;33m)\u001b[0m\u001b[1;33m\u001b[0m\u001b[1;33m\u001b[0m\u001b[0m\n",
      "\u001b[1;32m<ipython-input-3-9b3028060940>\u001b[0m in \u001b[0;36mraise_exception\u001b[1;34m()\u001b[0m\n\u001b[0;32m      1\u001b[0m \u001b[1;32mdef\u001b[0m \u001b[0mraise_exception\u001b[0m\u001b[1;33m(\u001b[0m\u001b[1;33m)\u001b[0m\u001b[1;33m:\u001b[0m\u001b[1;33m\u001b[0m\u001b[1;33m\u001b[0m\u001b[0m\n\u001b[0;32m      2\u001b[0m     \u001b[1;32mtry\u001b[0m\u001b[1;33m:\u001b[0m\u001b[1;33m\u001b[0m\u001b[1;33m\u001b[0m\u001b[0m\n\u001b[1;32m----> 3\u001b[1;33m         \u001b[1;32mraise\u001b[0m \u001b[0mValueError\u001b[0m\u001b[1;33m(\u001b[0m\u001b[1;33m)\u001b[0m\u001b[1;33m\u001b[0m\u001b[1;33m\u001b[0m\u001b[0m\n\u001b[0m\u001b[0;32m      4\u001b[0m     \u001b[1;32mexcept\u001b[0m \u001b[0mIndexError\u001b[0m\u001b[1;33m:\u001b[0m\u001b[1;33m\u001b[0m\u001b[1;33m\u001b[0m\u001b[0m\n\u001b[0;32m      5\u001b[0m         \u001b[0mprint\u001b[0m\u001b[1;33m(\u001b[0m\u001b[1;34m'Index Error caught'\u001b[0m\u001b[1;33m)\u001b[0m\u001b[1;33m\u001b[0m\u001b[1;33m\u001b[0m\u001b[0m\n",
      "\u001b[1;31mValueError\u001b[0m: "
     ]
    }
   ],
   "source": [
    "def raise_exception():\n",
    "    try:\n",
    "        raise ValueError()\n",
    "    except IndexError:\n",
    "        print('Index Error caught')\n",
    "    finally:\n",
    "        print('executing finally clause')\n",
    "\n",
    "def call_raise_exception():\n",
    "    try:\n",
    "        raise_exception()\n",
    "    except ValueError:\n",
    "        print('Value Error caught')\n",
    "        \n",
    "def call_raise_exception2():\n",
    "    raise_exception()\n",
    "    \n",
    "call_raise_exception()\n",
    "call_raise_exception2()"
   ]
  },
  {
   "cell_type": "markdown",
   "metadata": {},
   "source": [
    "# 第37回"
   ]
  },
  {
   "cell_type": "code",
   "execution_count": 4,
   "metadata": {},
   "outputs": [
    {
     "ename": "IndexError",
     "evalue": "pop from empty list",
     "output_type": "error",
     "traceback": [
      "\u001b[1;31m---------------------------------------------------------------------------\u001b[0m",
      "\u001b[1;31mIndexError\u001b[0m                                Traceback (most recent call last)",
      "\u001b[1;32m<ipython-input-4-47d711ddf6f1>\u001b[0m in \u001b[0;36m<module>\u001b[1;34m\u001b[0m\n\u001b[1;32m----> 1\u001b[1;33m \u001b[1;33m[\u001b[0m\u001b[1;33m]\u001b[0m\u001b[1;33m.\u001b[0m\u001b[0mpop\u001b[0m\u001b[1;33m(\u001b[0m\u001b[1;33m)\u001b[0m\u001b[1;33m\u001b[0m\u001b[1;33m\u001b[0m\u001b[0m\n\u001b[0m",
      "\u001b[1;31mIndexError\u001b[0m: pop from empty list"
     ]
    }
   ],
   "source": [
    "[].pop()"
   ]
  },
  {
   "cell_type": "code",
   "execution_count": 5,
   "metadata": {},
   "outputs": [],
   "source": [
    "class MyStack:\n",
    "    def __init__(self):\n",
    "        self.stack = []\n",
    "    def push(self, item):\n",
    "        self.stack.append(item)\n",
    "    def pop(self):\n",
    "        if len(self.stack) == 0:\n",
    "            raise IndexError('stack is empty')\n",
    "        return self.stack.pop()"
   ]
  },
  {
   "cell_type": "code",
   "execution_count": 6,
   "metadata": {},
   "outputs": [
    {
     "name": "stdout",
     "output_type": "stream",
     "text": [
      "0\n"
     ]
    },
    {
     "ename": "IndexError",
     "evalue": "stack is empty",
     "output_type": "error",
     "traceback": [
      "\u001b[1;31m---------------------------------------------------------------------------\u001b[0m",
      "\u001b[1;31mIndexError\u001b[0m                                Traceback (most recent call last)",
      "\u001b[1;32m<ipython-input-6-4b69c650e7c2>\u001b[0m in \u001b[0;36m<module>\u001b[1;34m\u001b[0m\n\u001b[0;32m      2\u001b[0m \u001b[0mmystack\u001b[0m\u001b[1;33m.\u001b[0m\u001b[0mpush\u001b[0m\u001b[1;33m(\u001b[0m\u001b[1;36m0\u001b[0m\u001b[1;33m)\u001b[0m\u001b[1;33m\u001b[0m\u001b[1;33m\u001b[0m\u001b[0m\n\u001b[0;32m      3\u001b[0m \u001b[0mprint\u001b[0m\u001b[1;33m(\u001b[0m\u001b[0mmystack\u001b[0m\u001b[1;33m.\u001b[0m\u001b[0mpop\u001b[0m\u001b[1;33m(\u001b[0m\u001b[1;33m)\u001b[0m\u001b[1;33m)\u001b[0m\u001b[1;33m\u001b[0m\u001b[1;33m\u001b[0m\u001b[0m\n\u001b[1;32m----> 4\u001b[1;33m \u001b[0mprint\u001b[0m\u001b[1;33m(\u001b[0m\u001b[0mmystack\u001b[0m\u001b[1;33m.\u001b[0m\u001b[0mpop\u001b[0m\u001b[1;33m(\u001b[0m\u001b[1;33m)\u001b[0m\u001b[1;33m)\u001b[0m\u001b[1;33m\u001b[0m\u001b[1;33m\u001b[0m\u001b[0m\n\u001b[0m",
      "\u001b[1;32m<ipython-input-5-8b8269464e86>\u001b[0m in \u001b[0;36mpop\u001b[1;34m(self)\u001b[0m\n\u001b[0;32m      6\u001b[0m     \u001b[1;32mdef\u001b[0m \u001b[0mpop\u001b[0m\u001b[1;33m(\u001b[0m\u001b[0mself\u001b[0m\u001b[1;33m)\u001b[0m\u001b[1;33m:\u001b[0m\u001b[1;33m\u001b[0m\u001b[1;33m\u001b[0m\u001b[0m\n\u001b[0;32m      7\u001b[0m         \u001b[1;32mif\u001b[0m \u001b[0mlen\u001b[0m\u001b[1;33m(\u001b[0m\u001b[0mself\u001b[0m\u001b[1;33m.\u001b[0m\u001b[0mstack\u001b[0m\u001b[1;33m)\u001b[0m \u001b[1;33m==\u001b[0m \u001b[1;36m0\u001b[0m\u001b[1;33m:\u001b[0m\u001b[1;33m\u001b[0m\u001b[1;33m\u001b[0m\u001b[0m\n\u001b[1;32m----> 8\u001b[1;33m             \u001b[1;32mraise\u001b[0m \u001b[0mIndexError\u001b[0m\u001b[1;33m(\u001b[0m\u001b[1;34m'stack is empty'\u001b[0m\u001b[1;33m)\u001b[0m\u001b[1;33m\u001b[0m\u001b[1;33m\u001b[0m\u001b[0m\n\u001b[0m\u001b[0;32m      9\u001b[0m         \u001b[1;32mreturn\u001b[0m \u001b[0mself\u001b[0m\u001b[1;33m.\u001b[0m\u001b[0mstack\u001b[0m\u001b[1;33m.\u001b[0m\u001b[0mpop\u001b[0m\u001b[1;33m(\u001b[0m\u001b[1;33m)\u001b[0m\u001b[1;33m\u001b[0m\u001b[1;33m\u001b[0m\u001b[0m\n",
      "\u001b[1;31mIndexError\u001b[0m: stack is empty"
     ]
    }
   ],
   "source": [
    "mystack = MyStack()\n",
    "mystack.push(0)\n",
    "print(mystack.pop())\n",
    "print(mystack.pop())"
   ]
  },
  {
   "cell_type": "code",
   "execution_count": 9,
   "metadata": {},
   "outputs": [
    {
     "name": "stdout",
     "output_type": "stream",
     "text": [
      "1\n",
      "('stack is empty',)\n"
     ]
    }
   ],
   "source": [
    "mystack = MyStack()\n",
    "mystack.push(1)\n",
    "\n",
    "while True:\n",
    "    try:\n",
    "        item = mystack.pop()\n",
    "    except Exception as e:\n",
    "        print(e.args)\n",
    "        break\n",
    "    else:\n",
    "        print(item)"
   ]
  },
  {
   "cell_type": "code",
   "execution_count": 10,
   "metadata": {},
   "outputs": [],
   "source": [
    "class EmptyStackError(Exception):\n",
    "    pass\n",
    "\n",
    "class MyStack:\n",
    "    def __init__(self):\n",
    "        self.stack = []\n",
    "    def push(self, item):\n",
    "        self.stack.append(item)\n",
    "    def pop(self):\n",
    "        if len(self.stack) == 0:\n",
    "            raise EmptyStackError('stack is empty')\n",
    "        return self.stack.pop()"
   ]
  },
  {
   "cell_type": "code",
   "execution_count": 11,
   "metadata": {},
   "outputs": [
    {
     "name": "stdout",
     "output_type": "stream",
     "text": [
      "1\n"
     ]
    },
    {
     "ename": "EmptyStackError",
     "evalue": "stack is empty",
     "output_type": "error",
     "traceback": [
      "\u001b[1;31m---------------------------------------------------------------------------\u001b[0m",
      "\u001b[1;31mEmptyStackError\u001b[0m                           Traceback (most recent call last)",
      "\u001b[1;32m<ipython-input-11-d2957f4f0834>\u001b[0m in \u001b[0;36m<module>\u001b[1;34m\u001b[0m\n\u001b[0;32m      2\u001b[0m \u001b[0mmystack\u001b[0m\u001b[1;33m.\u001b[0m\u001b[0mpush\u001b[0m\u001b[1;33m(\u001b[0m\u001b[1;36m1\u001b[0m\u001b[1;33m)\u001b[0m\u001b[1;33m\u001b[0m\u001b[1;33m\u001b[0m\u001b[0m\n\u001b[0;32m      3\u001b[0m \u001b[0mprint\u001b[0m\u001b[1;33m(\u001b[0m\u001b[0mmystack\u001b[0m\u001b[1;33m.\u001b[0m\u001b[0mpop\u001b[0m\u001b[1;33m(\u001b[0m\u001b[1;33m)\u001b[0m\u001b[1;33m)\u001b[0m\u001b[1;33m\u001b[0m\u001b[1;33m\u001b[0m\u001b[0m\n\u001b[1;32m----> 4\u001b[1;33m \u001b[0mprint\u001b[0m\u001b[1;33m(\u001b[0m\u001b[0mmystack\u001b[0m\u001b[1;33m.\u001b[0m\u001b[0mpop\u001b[0m\u001b[1;33m(\u001b[0m\u001b[1;33m)\u001b[0m\u001b[1;33m)\u001b[0m\u001b[1;33m\u001b[0m\u001b[1;33m\u001b[0m\u001b[0m\n\u001b[0m",
      "\u001b[1;32m<ipython-input-10-8d96c99c06cb>\u001b[0m in \u001b[0;36mpop\u001b[1;34m(self)\u001b[0m\n\u001b[0;32m      9\u001b[0m     \u001b[1;32mdef\u001b[0m \u001b[0mpop\u001b[0m\u001b[1;33m(\u001b[0m\u001b[0mself\u001b[0m\u001b[1;33m)\u001b[0m\u001b[1;33m:\u001b[0m\u001b[1;33m\u001b[0m\u001b[1;33m\u001b[0m\u001b[0m\n\u001b[0;32m     10\u001b[0m         \u001b[1;32mif\u001b[0m \u001b[0mlen\u001b[0m\u001b[1;33m(\u001b[0m\u001b[0mself\u001b[0m\u001b[1;33m.\u001b[0m\u001b[0mstack\u001b[0m\u001b[1;33m)\u001b[0m \u001b[1;33m==\u001b[0m \u001b[1;36m0\u001b[0m\u001b[1;33m:\u001b[0m\u001b[1;33m\u001b[0m\u001b[1;33m\u001b[0m\u001b[0m\n\u001b[1;32m---> 11\u001b[1;33m             \u001b[1;32mraise\u001b[0m \u001b[0mEmptyStackError\u001b[0m\u001b[1;33m(\u001b[0m\u001b[1;34m'stack is empty'\u001b[0m\u001b[1;33m)\u001b[0m\u001b[1;33m\u001b[0m\u001b[1;33m\u001b[0m\u001b[0m\n\u001b[0m\u001b[0;32m     12\u001b[0m         \u001b[1;32mreturn\u001b[0m \u001b[0mself\u001b[0m\u001b[1;33m.\u001b[0m\u001b[0mstack\u001b[0m\u001b[1;33m.\u001b[0m\u001b[0mpop\u001b[0m\u001b[1;33m(\u001b[0m\u001b[1;33m)\u001b[0m\u001b[1;33m\u001b[0m\u001b[1;33m\u001b[0m\u001b[0m\n",
      "\u001b[1;31mEmptyStackError\u001b[0m: stack is empty"
     ]
    }
   ],
   "source": [
    "mystack = MyStack()\n",
    "mystack.push(1)\n",
    "print(mystack.pop())\n",
    "print(mystack.pop())"
   ]
  },
  {
   "cell_type": "code",
   "execution_count": 12,
   "metadata": {},
   "outputs": [],
   "source": [
    "class EmptyStackError(Exception):\n",
    "    def __init__(self, *args):\n",
    "        if len(args) == 0:\n",
    "            super().__init__('stack is empty')\n",
    "        else:\n",
    "            super().__init__(args)"
   ]
  },
  {
   "cell_type": "code",
   "execution_count": 19,
   "metadata": {},
   "outputs": [],
   "source": [
    "class MyStack:\n",
    "    def __init__(self):\n",
    "        self.stack = []\n",
    "    def push(self, item):\n",
    "        self.stack.append(item)\n",
    "    def pop(self):\n",
    "        if len(self.stack) == 0:\n",
    "            raise EmptyStackError\n",
    "        return self.stack.pop()"
   ]
  },
  {
   "cell_type": "code",
   "execution_count": 20,
   "metadata": {},
   "outputs": [
    {
     "name": "stdout",
     "output_type": "stream",
     "text": [
      "1\n"
     ]
    },
    {
     "ename": "EmptyStackError",
     "evalue": "stack is empty",
     "output_type": "error",
     "traceback": [
      "\u001b[1;31m---------------------------------------------------------------------------\u001b[0m",
      "\u001b[1;31mEmptyStackError\u001b[0m                           Traceback (most recent call last)",
      "\u001b[1;32m<ipython-input-20-d2957f4f0834>\u001b[0m in \u001b[0;36m<module>\u001b[1;34m\u001b[0m\n\u001b[0;32m      2\u001b[0m \u001b[0mmystack\u001b[0m\u001b[1;33m.\u001b[0m\u001b[0mpush\u001b[0m\u001b[1;33m(\u001b[0m\u001b[1;36m1\u001b[0m\u001b[1;33m)\u001b[0m\u001b[1;33m\u001b[0m\u001b[1;33m\u001b[0m\u001b[0m\n\u001b[0;32m      3\u001b[0m \u001b[0mprint\u001b[0m\u001b[1;33m(\u001b[0m\u001b[0mmystack\u001b[0m\u001b[1;33m.\u001b[0m\u001b[0mpop\u001b[0m\u001b[1;33m(\u001b[0m\u001b[1;33m)\u001b[0m\u001b[1;33m)\u001b[0m\u001b[1;33m\u001b[0m\u001b[1;33m\u001b[0m\u001b[0m\n\u001b[1;32m----> 4\u001b[1;33m \u001b[0mprint\u001b[0m\u001b[1;33m(\u001b[0m\u001b[0mmystack\u001b[0m\u001b[1;33m.\u001b[0m\u001b[0mpop\u001b[0m\u001b[1;33m(\u001b[0m\u001b[1;33m)\u001b[0m\u001b[1;33m)\u001b[0m\u001b[1;33m\u001b[0m\u001b[1;33m\u001b[0m\u001b[0m\n\u001b[0m",
      "\u001b[1;32m<ipython-input-19-07dd8f4cce21>\u001b[0m in \u001b[0;36mpop\u001b[1;34m(self)\u001b[0m\n\u001b[0;32m      6\u001b[0m     \u001b[1;32mdef\u001b[0m \u001b[0mpop\u001b[0m\u001b[1;33m(\u001b[0m\u001b[0mself\u001b[0m\u001b[1;33m)\u001b[0m\u001b[1;33m:\u001b[0m\u001b[1;33m\u001b[0m\u001b[1;33m\u001b[0m\u001b[0m\n\u001b[0;32m      7\u001b[0m         \u001b[1;32mif\u001b[0m \u001b[0mlen\u001b[0m\u001b[1;33m(\u001b[0m\u001b[0mself\u001b[0m\u001b[1;33m.\u001b[0m\u001b[0mstack\u001b[0m\u001b[1;33m)\u001b[0m \u001b[1;33m==\u001b[0m \u001b[1;36m0\u001b[0m\u001b[1;33m:\u001b[0m\u001b[1;33m\u001b[0m\u001b[1;33m\u001b[0m\u001b[0m\n\u001b[1;32m----> 8\u001b[1;33m             \u001b[1;32mraise\u001b[0m \u001b[0mEmptyStackError\u001b[0m\u001b[1;33m\u001b[0m\u001b[1;33m\u001b[0m\u001b[0m\n\u001b[0m\u001b[0;32m      9\u001b[0m         \u001b[1;32mreturn\u001b[0m \u001b[0mself\u001b[0m\u001b[1;33m.\u001b[0m\u001b[0mstack\u001b[0m\u001b[1;33m.\u001b[0m\u001b[0mpop\u001b[0m\u001b[1;33m(\u001b[0m\u001b[1;33m)\u001b[0m\u001b[1;33m\u001b[0m\u001b[1;33m\u001b[0m\u001b[0m\n",
      "\u001b[1;31mEmptyStackError\u001b[0m: stack is empty"
     ]
    }
   ],
   "source": [
    "mystack = MyStack()\n",
    "mystack.push(1)\n",
    "print(mystack.pop())\n",
    "print(mystack.pop())"
   ]
  },
  {
   "cell_type": "code",
   "execution_count": 16,
   "metadata": {},
   "outputs": [
    {
     "name": "stdout",
     "output_type": "stream",
     "text": [
      "1\n"
     ]
    },
    {
     "ename": "EmptyStackError",
     "evalue": "('TEST',)",
     "output_type": "error",
     "traceback": [
      "\u001b[1;31m---------------------------------------------------------------------------\u001b[0m",
      "\u001b[1;31mEmptyStackError\u001b[0m                           Traceback (most recent call last)",
      "\u001b[1;32m<ipython-input-16-d2957f4f0834>\u001b[0m in \u001b[0;36m<module>\u001b[1;34m\u001b[0m\n\u001b[0;32m      2\u001b[0m \u001b[0mmystack\u001b[0m\u001b[1;33m.\u001b[0m\u001b[0mpush\u001b[0m\u001b[1;33m(\u001b[0m\u001b[1;36m1\u001b[0m\u001b[1;33m)\u001b[0m\u001b[1;33m\u001b[0m\u001b[1;33m\u001b[0m\u001b[0m\n\u001b[0;32m      3\u001b[0m \u001b[0mprint\u001b[0m\u001b[1;33m(\u001b[0m\u001b[0mmystack\u001b[0m\u001b[1;33m.\u001b[0m\u001b[0mpop\u001b[0m\u001b[1;33m(\u001b[0m\u001b[1;33m)\u001b[0m\u001b[1;33m)\u001b[0m\u001b[1;33m\u001b[0m\u001b[1;33m\u001b[0m\u001b[0m\n\u001b[1;32m----> 4\u001b[1;33m \u001b[0mprint\u001b[0m\u001b[1;33m(\u001b[0m\u001b[0mmystack\u001b[0m\u001b[1;33m.\u001b[0m\u001b[0mpop\u001b[0m\u001b[1;33m(\u001b[0m\u001b[1;33m)\u001b[0m\u001b[1;33m)\u001b[0m\u001b[1;33m\u001b[0m\u001b[1;33m\u001b[0m\u001b[0m\n\u001b[0m",
      "\u001b[1;32m<ipython-input-15-b5280f93befe>\u001b[0m in \u001b[0;36mpop\u001b[1;34m(self)\u001b[0m\n\u001b[0;32m      6\u001b[0m     \u001b[1;32mdef\u001b[0m \u001b[0mpop\u001b[0m\u001b[1;33m(\u001b[0m\u001b[0mself\u001b[0m\u001b[1;33m)\u001b[0m\u001b[1;33m:\u001b[0m\u001b[1;33m\u001b[0m\u001b[1;33m\u001b[0m\u001b[0m\n\u001b[0;32m      7\u001b[0m         \u001b[1;32mif\u001b[0m \u001b[0mlen\u001b[0m\u001b[1;33m(\u001b[0m\u001b[0mself\u001b[0m\u001b[1;33m.\u001b[0m\u001b[0mstack\u001b[0m\u001b[1;33m)\u001b[0m \u001b[1;33m==\u001b[0m \u001b[1;36m0\u001b[0m\u001b[1;33m:\u001b[0m\u001b[1;33m\u001b[0m\u001b[1;33m\u001b[0m\u001b[0m\n\u001b[1;32m----> 8\u001b[1;33m             \u001b[1;32mraise\u001b[0m \u001b[0mEmptyStackError\u001b[0m\u001b[1;33m(\u001b[0m\u001b[1;34m'TEST'\u001b[0m\u001b[1;33m)\u001b[0m\u001b[1;33m\u001b[0m\u001b[1;33m\u001b[0m\u001b[0m\n\u001b[0m\u001b[0;32m      9\u001b[0m         \u001b[1;32mreturn\u001b[0m \u001b[0mself\u001b[0m\u001b[1;33m.\u001b[0m\u001b[0mstack\u001b[0m\u001b[1;33m.\u001b[0m\u001b[0mpop\u001b[0m\u001b[1;33m(\u001b[0m\u001b[1;33m)\u001b[0m\u001b[1;33m\u001b[0m\u001b[1;33m\u001b[0m\u001b[0m\n",
      "\u001b[1;31mEmptyStackError\u001b[0m: ('TEST',)"
     ]
    }
   ],
   "source": [
    "mystack = MyStack()\n",
    "mystack.push(1)\n",
    "print(mystack.pop())\n",
    "print(mystack.pop())"
   ]
  },
  {
   "cell_type": "markdown",
   "metadata": {},
   "source": [
    "# 第38回"
   ]
  },
  {
   "cell_type": "code",
   "execution_count": 21,
   "metadata": {},
   "outputs": [],
   "source": [
    "myfile = open('sample.txt')"
   ]
  },
  {
   "cell_type": "code",
   "execution_count": 22,
   "metadata": {},
   "outputs": [
    {
     "data": {
      "text/plain": [
       "'Hello Python\\n\\nHello Deep Insider'"
      ]
     },
     "execution_count": 22,
     "metadata": {},
     "output_type": "execute_result"
    }
   ],
   "source": [
    "lines = myfile.read()\n",
    "lines"
   ]
  },
  {
   "cell_type": "code",
   "execution_count": 23,
   "metadata": {},
   "outputs": [
    {
     "name": "stdout",
     "output_type": "stream",
     "text": [
      "0: Hello Python\n",
      "1: \n",
      "2: Hello Deep Insider\n"
     ]
    }
   ],
   "source": [
    "for count, line in enumerate(lines.split('\\n')):\n",
    "    print(f'{count}: {line}')"
   ]
  },
  {
   "cell_type": "code",
   "execution_count": 24,
   "metadata": {},
   "outputs": [
    {
     "data": {
      "text/plain": [
       "''"
      ]
     },
     "execution_count": 24,
     "metadata": {},
     "output_type": "execute_result"
    }
   ],
   "source": [
    "lines = myfile.read()\n",
    "lines"
   ]
  },
  {
   "cell_type": "code",
   "execution_count": 25,
   "metadata": {},
   "outputs": [],
   "source": [
    "myfile.close()"
   ]
  },
  {
   "cell_type": "code",
   "execution_count": 26,
   "metadata": {},
   "outputs": [
    {
     "data": {
      "text/plain": [
       "'Hello Python\\n'"
      ]
     },
     "execution_count": 26,
     "metadata": {},
     "output_type": "execute_result"
    }
   ],
   "source": [
    "myfile = open('sample.txt')\n",
    "line = myfile.readline()\n",
    "line"
   ]
  },
  {
   "cell_type": "code",
   "execution_count": 27,
   "metadata": {},
   "outputs": [
    {
     "data": {
      "text/plain": [
       "'\\n'"
      ]
     },
     "execution_count": 27,
     "metadata": {},
     "output_type": "execute_result"
    }
   ],
   "source": [
    "line = myfile.readline()\n",
    "line"
   ]
  },
  {
   "cell_type": "code",
   "execution_count": 28,
   "metadata": {},
   "outputs": [],
   "source": [
    "myfile.close()"
   ]
  },
  {
   "cell_type": "code",
   "execution_count": 30,
   "metadata": {},
   "outputs": [
    {
     "name": "stdout",
     "output_type": "stream",
     "text": [
      "0: Hello Python\n",
      "1: \n",
      "2: Hello Deep Insider"
     ]
    }
   ],
   "source": [
    "myfile = open('sample.txt')\n",
    "\n",
    "count = 0\n",
    "line = myfile.readline()\n",
    "while line != '':\n",
    "    print(f'{count}: {line}', end='')\n",
    "    count += 1\n",
    "    line = myfile.readline()\n",
    "\n",
    "myfile.close()"
   ]
  },
  {
   "cell_type": "code",
   "execution_count": 31,
   "metadata": {},
   "outputs": [
    {
     "name": "stdout",
     "output_type": "stream",
     "text": [
      "0: Hello Python\n",
      "1: \n",
      "2: Hello Deep Insider"
     ]
    }
   ],
   "source": [
    "myfile = open('sample.txt')\n",
    "\n",
    "for count, line in enumerate(myfile.readlines()):\n",
    "    print(f'{count}: {line}', end='')\n",
    "\n",
    "myfile.close()"
   ]
  },
  {
   "cell_type": "code",
   "execution_count": 33,
   "metadata": {},
   "outputs": [
    {
     "name": "stdout",
     "output_type": "stream",
     "text": [
      "0: Hello Python\n",
      "1: \n",
      "2: Hello Deep Insider"
     ]
    }
   ],
   "source": [
    "myfile = open('sample.txt')\n",
    "\n",
    "for count, line in enumerate(myfile):\n",
    "    print(f'{count}: {line}', end='')\n",
    "\n",
    "myfile.close()"
   ]
  },
  {
   "cell_type": "code",
   "execution_count": 34,
   "metadata": {},
   "outputs": [],
   "source": [
    "myfile = open('myfile.txt', 'w')"
   ]
  },
  {
   "cell_type": "code",
   "execution_count": 35,
   "metadata": {},
   "outputs": [
    {
     "ename": "TypeError",
     "evalue": "write() argument must be str, not int",
     "output_type": "error",
     "traceback": [
      "\u001b[1;31m---------------------------------------------------------------------------\u001b[0m",
      "\u001b[1;31mTypeError\u001b[0m                                 Traceback (most recent call last)",
      "\u001b[1;32m<ipython-input-35-a67beb0323f1>\u001b[0m in \u001b[0;36m<module>\u001b[1;34m\u001b[0m\n\u001b[0;32m      1\u001b[0m \u001b[0mmyfile\u001b[0m\u001b[1;33m.\u001b[0m\u001b[0mwrite\u001b[0m\u001b[1;33m(\u001b[0m\u001b[1;34m'Hello Python\\n'\u001b[0m\u001b[1;33m)\u001b[0m\u001b[1;33m\u001b[0m\u001b[1;33m\u001b[0m\u001b[0m\n\u001b[1;32m----> 2\u001b[1;33m \u001b[0mmyfile\u001b[0m\u001b[1;33m.\u001b[0m\u001b[0mwrite\u001b[0m\u001b[1;33m(\u001b[0m\u001b[1;36m1\u001b[0m\u001b[1;33m)\u001b[0m\u001b[1;33m\u001b[0m\u001b[1;33m\u001b[0m\u001b[0m\n\u001b[0m",
      "\u001b[1;31mTypeError\u001b[0m: write() argument must be str, not int"
     ]
    }
   ],
   "source": [
    "myfile.write('Hello Python\\n')\n",
    "myfile.write(1)"
   ]
  },
  {
   "cell_type": "code",
   "execution_count": 36,
   "metadata": {},
   "outputs": [
    {
     "data": {
      "text/plain": [
       "14"
      ]
     },
     "execution_count": 36,
     "metadata": {},
     "output_type": "execute_result"
    }
   ],
   "source": [
    "myfile.write('{0} * {1} * {2} = {3}\\n'.format(1, 2, 3, 1*2*3))\n",
    "number = 100\n",
    "myfile.write(f'number is {number}\\n')"
   ]
  },
  {
   "cell_type": "code",
   "execution_count": 37,
   "metadata": {},
   "outputs": [],
   "source": [
    "mylist = ['Hello Python', '', 'Hello world']\n",
    "myfile.writelines([item + '\\n' for item in mylist])"
   ]
  },
  {
   "cell_type": "code",
   "execution_count": 38,
   "metadata": {},
   "outputs": [],
   "source": [
    "myfile.close()"
   ]
  },
  {
   "cell_type": "markdown",
   "metadata": {},
   "source": [
    "# 第39回"
   ]
  },
  {
   "cell_type": "code",
   "execution_count": 1,
   "metadata": {},
   "outputs": [
    {
     "name": "stdout",
     "output_type": "stream",
     "text": [
      "b'a' b'abc' b'a'\n"
     ]
    }
   ],
   "source": [
    "value1 = b'a'\n",
    "value2 = b'abc'\n",
    "value3 = b'\\x61'\n",
    "print(value1, value2, value3)"
   ]
  },
  {
   "cell_type": "code",
   "execution_count": 2,
   "metadata": {},
   "outputs": [
    {
     "name": "stdout",
     "output_type": "stream",
     "text": [
      "b'\\x00\\x00\\x00\\x00\\x00\\x00\\x00\\x00\\x00\\x00' b'abc' b'abc'\n"
     ]
    }
   ],
   "source": [
    "value5 = bytes(10)\n",
    "value6 = bytes([97, 98, 99])\n",
    "value7 = bytes('abc', 'utf-8')\n",
    "print(value5, value6, value7)"
   ]
  },
  {
   "cell_type": "code",
   "execution_count": 3,
   "metadata": {},
   "outputs": [
    {
     "name": "stdout",
     "output_type": "stream",
     "text": [
      "b'\\xe3\\x81\\x82'\n"
     ]
    }
   ],
   "source": [
    "encoded_value = 'あ'.encode()\n",
    "print(encoded_value)"
   ]
  },
  {
   "cell_type": "code",
   "execution_count": null,
   "metadata": {},
   "outputs": [],
   "source": [
    "decoded_value = encoded_value.decode()\n",
    "print(decoded_value)"
   ]
  },
  {
   "cell_type": "code",
   "execution_count": 5,
   "metadata": {},
   "outputs": [
    {
     "name": "stdout",
     "output_type": "stream",
     "text": [
      "b'\\x82\\xa0'\n"
     ]
    }
   ],
   "source": [
    "myfile = open('myfile.txt', 'w')\n",
    "myfile.write('あ')\n",
    "myfile.close()\n",
    "\n",
    "myfile = open('myfile.txt', 'rb')\n",
    "content = myfile.read()\n",
    "print(content)\n",
    "myfile.close()"
   ]
  },
  {
   "cell_type": "code",
   "execution_count": 9,
   "metadata": {},
   "outputs": [],
   "source": [
    "def get_dimension(filename):\n",
    "    f = open(filename, 'rb')\n",
    "    spec = f.read(6).decode()\n",
    "    width = int.from_bytes(f.read(2), 'little')\n",
    "    height = int.from_bytes(f.read(2), 'little')\n",
    "    f.close()\n",
    "    print(f'this file is {spec}, size: {width} * {height}')"
   ]
  },
  {
   "cell_type": "code",
   "execution_count": 10,
   "metadata": {},
   "outputs": [
    {
     "name": "stdout",
     "output_type": "stream",
     "text": [
      "this file is GIF89a, size: 590 * 161\n"
     ]
    }
   ],
   "source": [
    "get_dimension('di-pybasic3908.gif')"
   ]
  },
  {
   "cell_type": "code",
   "execution_count": 11,
   "metadata": {},
   "outputs": [
    {
     "ename": "TypeError",
     "evalue": "a bytes-like object is required, not 'int'",
     "output_type": "error",
     "traceback": [
      "\u001b[1;31m---------------------------------------------------------------------------\u001b[0m",
      "\u001b[1;31mTypeError\u001b[0m                                 Traceback (most recent call last)",
      "\u001b[1;32m<ipython-input-11-6fd6eba0ac34>\u001b[0m in \u001b[0;36m<module>\u001b[1;34m\u001b[0m\n\u001b[0;32m      1\u001b[0m \u001b[0mmyfile\u001b[0m \u001b[1;33m=\u001b[0m \u001b[0mopen\u001b[0m\u001b[1;33m(\u001b[0m\u001b[1;34m'myfile.bin'\u001b[0m\u001b[1;33m,\u001b[0m \u001b[1;34m'wb'\u001b[0m\u001b[1;33m)\u001b[0m\u001b[1;33m\u001b[0m\u001b[1;33m\u001b[0m\u001b[0m\n\u001b[1;32m----> 2\u001b[1;33m \u001b[0mmyfile\u001b[0m\u001b[1;33m.\u001b[0m\u001b[0mwrite\u001b[0m\u001b[1;33m(\u001b[0m\u001b[1;36m1\u001b[0m\u001b[1;33m)\u001b[0m\u001b[1;33m\u001b[0m\u001b[1;33m\u001b[0m\u001b[0m\n\u001b[0m",
      "\u001b[1;31mTypeError\u001b[0m: a bytes-like object is required, not 'int'"
     ]
    }
   ],
   "source": [
    "myfile = open('myfile.bin', 'wb')\n",
    "myfile.write(1)"
   ]
  },
  {
   "cell_type": "code",
   "execution_count": 12,
   "metadata": {},
   "outputs": [],
   "source": [
    "myfile.close()"
   ]
  },
  {
   "cell_type": "code",
   "execution_count": 13,
   "metadata": {},
   "outputs": [
    {
     "name": "stdout",
     "output_type": "stream",
     "text": [
      "b'd'\n",
      "100 == b'd'\n"
     ]
    }
   ],
   "source": [
    "from struct import pack, unpack, calcsize\n",
    "\n",
    "data = pack('b', 100)\n",
    "print(data)\n",
    "print(f\"100 == b'{chr(100)}'\")"
   ]
  },
  {
   "cell_type": "code",
   "execution_count": 14,
   "metadata": {},
   "outputs": [
    {
     "name": "stdout",
     "output_type": "stream",
     "text": [
      "(100,)\n"
     ]
    }
   ],
   "source": [
    "result = unpack('b', data)\n",
    "print(result)"
   ]
  },
  {
   "cell_type": "code",
   "execution_count": 15,
   "metadata": {},
   "outputs": [
    {
     "name": "stdout",
     "output_type": "stream",
     "text": [
      "b'\\xcd\\xcc\\x8c?'\n"
     ]
    }
   ],
   "source": [
    "data = pack('f', 1.1)\n",
    "print(data)"
   ]
  },
  {
   "cell_type": "code",
   "execution_count": 16,
   "metadata": {},
   "outputs": [],
   "source": [
    "mydata = [(1, 'FOO', 1023), (2, 'BAR', 80), (3, 'BAZ', 4000)]"
   ]
  },
  {
   "cell_type": "code",
   "execution_count": 18,
   "metadata": {},
   "outputs": [
    {
     "name": "stdout",
     "output_type": "stream",
     "text": [
      "b'\\x01\\x00\\x00\\x00FOO\\x00\\xff\\x03\\x00\\x00'\n"
     ]
    }
   ],
   "source": [
    "result = pack('l3sl', mydata[0][0], mydata[0][1].encode(), mydata[0][2])\n",
    "print(result)"
   ]
  },
  {
   "cell_type": "code",
   "execution_count": 19,
   "metadata": {},
   "outputs": [],
   "source": [
    "myfile = open('mydata.data', 'wb')\n",
    "\n",
    "for item in mydata:\n",
    "    result = pack('l3sl', item[0], item[1].encode(), item[2])\n",
    "    myfile.write(result)\n",
    "    \n",
    "myfile.close()"
   ]
  },
  {
   "cell_type": "code",
   "execution_count": 20,
   "metadata": {},
   "outputs": [
    {
     "name": "stdout",
     "output_type": "stream",
     "text": [
      "(1, b'FOO', 1023)\n",
      "(2, b'BAR', 80)\n",
      "(3, b'BAZ', 4000)\n"
     ]
    }
   ],
   "source": [
    "size = calcsize('l3sl')\n",
    "myfile = open('mydata.data', 'rb')\n",
    "\n",
    "content = myfile.read(size)\n",
    "while content:\n",
    "    restored_data = unpack('l3sl', content)\n",
    "    print(restored_data)\n",
    "    content = myfile.read(size)\n",
    "\n",
    "myfile.close()"
   ]
  },
  {
   "cell_type": "code",
   "execution_count": 21,
   "metadata": {},
   "outputs": [],
   "source": [
    "def get_dimension_with_struct(filename):\n",
    "    myfile = open(filename, 'rb')\n",
    "    content = myfile.read(10)\n",
    "    myfile.close()\n",
    "    (spec, width, height) = unpack('6shh', content)\n",
    "    print(f'this file is {spec.decode()}, size: {width} * {height}')"
   ]
  },
  {
   "cell_type": "code",
   "execution_count": 23,
   "metadata": {},
   "outputs": [
    {
     "name": "stdout",
     "output_type": "stream",
     "text": [
      "this file is GIF89a, size: 590 * 161\n"
     ]
    }
   ],
   "source": [
    "get_dimension_with_struct('di-pybasic3908.gif')"
   ]
  },
  {
   "cell_type": "markdown",
   "metadata": {},
   "source": [
    "# 第40回"
   ]
  },
  {
   "cell_type": "code",
   "execution_count": 24,
   "metadata": {},
   "outputs": [],
   "source": [
    "import pickle\n",
    "\n",
    "mydata = [{'name': 'shinji kawasaki', 'age': 120, 'height': 230, 'weight': 300},\n",
    "          {'name': 'isshiki masahiko', 'age': 60, 'height': 180, 'weight': 60}]\n",
    "some_data = 100\n",
    "another_data = 'deep insider'\n",
    "\n",
    "myfile = open('mydata.pickle', 'wb')\n",
    "pickle.dump(mydata, myfile)\n",
    "pickle.dump(some_data, myfile)\n",
    "pickle.dump(another_data, myfile)\n",
    "myfile.close()"
   ]
  },
  {
   "cell_type": "code",
   "execution_count": 25,
   "metadata": {},
   "outputs": [
    {
     "name": "stdout",
     "output_type": "stream",
     "text": [
      "mydata: b'\\x80\\x03]q\\x00(}q\\x01(X\\x04\\x00\\x00\\x00nameq\\x02X\\x0f\\x00\\x00\\x00shinji kawasakiq\\x03X\\x03\\x00\\x00\\x00ageq\\x04KxX\\x06\\x00\\x00\\x00heightq\\x05K\\xe6X\\x06\\x00\\x00\\x00weightq\\x06M,\\x01u}q\\x07(h\\x02X\\x10\\x00\\x00\\x00isshiki masahikoq\\x08h\\x04K<h\\x05K\\xb4h\\x06K<ue.'\n",
      "some_data: b'\\x80\\x03Kd.'\n",
      "another_data: b'\\x80\\x03X\\x0c\\x00\\x00\\x00deep insiderq\\x00.'\n"
     ]
    }
   ],
   "source": [
    "pickled_mydata = pickle.dumps(mydata)\n",
    "pickled_some_data = pickle.dumps(some_data)\n",
    "pickled_another_data = pickle.dumps(another_data)\n",
    "print('mydata:', pickled_mydata)\n",
    "print('some_data:', pickled_some_data)\n",
    "print('another_data:', pickled_another_data)"
   ]
  },
  {
   "cell_type": "code",
   "execution_count": 26,
   "metadata": {},
   "outputs": [
    {
     "name": "stdout",
     "output_type": "stream",
     "text": [
      "[{'name': 'shinji kawasaki', 'age': 120, 'height': 230, 'weight': 300}, {'name': 'isshiki masahiko', 'age': 60, 'height': 180, 'weight': 60}]\n",
      "100\n",
      "deep insider\n"
     ]
    }
   ],
   "source": [
    "myfile = open('mydata.pickle', 'rb')\n",
    "rmydata = pickle.load(myfile)\n",
    "rsome_data = pickle.load(myfile)\n",
    "ranother_data = pickle.load(myfile)\n",
    "print(rmydata)\n",
    "print(rsome_data)\n",
    "print(ranother_data)"
   ]
  },
  {
   "cell_type": "code",
   "execution_count": 27,
   "metadata": {
    "scrolled": true
   },
   "outputs": [
    {
     "name": "stdout",
     "output_type": "stream",
     "text": [
      "[{'name': 'shinji kawasaki', 'age': 120, 'height': 230, 'weight': 300}, {'name': 'isshiki masahiko', 'age': 60, 'height': 180, 'weight': 60}]\n",
      "100\n",
      "deep insider\n"
     ]
    }
   ],
   "source": [
    "rmydata = pickle.loads(pickled_mydata)\n",
    "rsome_data = pickle.loads(pickled_some_data)\n",
    "ranother_data = pickle.loads(pickled_another_data)\n",
    "print(rmydata)\n",
    "print(rsome_data)\n",
    "print(ranother_data)"
   ]
  },
  {
   "cell_type": "code",
   "execution_count": 28,
   "metadata": {},
   "outputs": [
    {
     "ename": "TypeError",
     "evalue": "cannot serialize '_io.BufferedReader' object",
     "output_type": "error",
     "traceback": [
      "\u001b[1;31m---------------------------------------------------------------------------\u001b[0m",
      "\u001b[1;31mTypeError\u001b[0m                                 Traceback (most recent call last)",
      "\u001b[1;32m<ipython-input-28-83a0d02b1a73>\u001b[0m in \u001b[0;36m<module>\u001b[1;34m\u001b[0m\n\u001b[0;32m      1\u001b[0m \u001b[0mmyfile\u001b[0m \u001b[1;33m=\u001b[0m \u001b[0mopen\u001b[0m\u001b[1;33m(\u001b[0m\u001b[1;34m'mydata.pickle'\u001b[0m\u001b[1;33m,\u001b[0m \u001b[1;34m'rb'\u001b[0m\u001b[1;33m)\u001b[0m\u001b[1;33m\u001b[0m\u001b[1;33m\u001b[0m\u001b[0m\n\u001b[1;32m----> 2\u001b[1;33m \u001b[0mpickle\u001b[0m\u001b[1;33m.\u001b[0m\u001b[0mdumps\u001b[0m\u001b[1;33m(\u001b[0m\u001b[0mmyfile\u001b[0m\u001b[1;33m)\u001b[0m\u001b[1;33m\u001b[0m\u001b[1;33m\u001b[0m\u001b[0m\n\u001b[0m",
      "\u001b[1;31mTypeError\u001b[0m: cannot serialize '_io.BufferedReader' object"
     ]
    }
   ],
   "source": [
    "myfile = open('mydata.pickle', 'rb')\n",
    "pickle.dumps(myfile)"
   ]
  },
  {
   "cell_type": "code",
   "execution_count": 29,
   "metadata": {},
   "outputs": [
    {
     "name": "stdout",
     "output_type": "stream",
     "text": [
      "b'\\x80\\x03c__main__\\nhello\\nq\\x00.'\n",
      "hello world\n"
     ]
    },
    {
     "ename": "AttributeError",
     "evalue": "Can't get attribute 'hello' on <module '__main__'>",
     "output_type": "error",
     "traceback": [
      "\u001b[1;31m---------------------------------------------------------------------------\u001b[0m",
      "\u001b[1;31mAttributeError\u001b[0m                            Traceback (most recent call last)",
      "\u001b[1;32m<ipython-input-29-18da7e6171da>\u001b[0m in \u001b[0;36m<module>\u001b[1;34m\u001b[0m\n\u001b[0;32m     10\u001b[0m \u001b[1;32mdel\u001b[0m \u001b[0mhello\u001b[0m\u001b[1;33m\u001b[0m\u001b[1;33m\u001b[0m\u001b[0m\n\u001b[0;32m     11\u001b[0m \u001b[1;33m\u001b[0m\u001b[0m\n\u001b[1;32m---> 12\u001b[1;33m \u001b[0mrestored_hello\u001b[0m \u001b[1;33m=\u001b[0m \u001b[0mpickle\u001b[0m\u001b[1;33m.\u001b[0m\u001b[0mloads\u001b[0m\u001b[1;33m(\u001b[0m\u001b[0mpickled_hello\u001b[0m\u001b[1;33m)\u001b[0m\u001b[1;33m\u001b[0m\u001b[1;33m\u001b[0m\u001b[0m\n\u001b[0m",
      "\u001b[1;31mAttributeError\u001b[0m: Can't get attribute 'hello' on <module '__main__'>"
     ]
    }
   ],
   "source": [
    "def hello():\n",
    "    print('hello world')\n",
    "\n",
    "pickled_hello = pickle.dumps(hello)\n",
    "print(pickled_hello)\n",
    "\n",
    "restored_hello = pickle.loads(pickled_hello)\n",
    "restored_hello()\n",
    "\n",
    "del hello\n",
    "\n",
    "restored_hello = pickle.loads(pickled_hello)"
   ]
  },
  {
   "cell_type": "code",
   "execution_count": 30,
   "metadata": {},
   "outputs": [
    {
     "name": "stdout",
     "output_type": "stream",
     "text": [
      "goodbye world\n"
     ]
    }
   ],
   "source": [
    "def hello(whom):\n",
    "    print('goodbye', whom)\n",
    "\n",
    "restored_hello = pickle.loads(pickled_hello)\n",
    "restored_hello('world')"
   ]
  },
  {
   "cell_type": "code",
   "execution_count": 31,
   "metadata": {},
   "outputs": [
    {
     "ename": "ModuleNotFoundError",
     "evalue": "No module named '__builtin__\\r'",
     "output_type": "error",
     "traceback": [
      "\u001b[1;31m---------------------------------------------------------------------------\u001b[0m",
      "\u001b[1;31mModuleNotFoundError\u001b[0m                       Traceback (most recent call last)",
      "\u001b[1;32m<ipython-input-31-30bbe9e47418>\u001b[0m in \u001b[0;36m<module>\u001b[1;34m\u001b[0m\n\u001b[0;32m      1\u001b[0m \u001b[0mmyfile\u001b[0m \u001b[1;33m=\u001b[0m \u001b[0mopen\u001b[0m\u001b[1;33m(\u001b[0m\u001b[1;34m'insecure.pickle'\u001b[0m\u001b[1;33m,\u001b[0m \u001b[1;34m'rb'\u001b[0m\u001b[1;33m)\u001b[0m\u001b[1;33m\u001b[0m\u001b[1;33m\u001b[0m\u001b[0m\n\u001b[1;32m----> 2\u001b[1;33m \u001b[0mrestored_data\u001b[0m \u001b[1;33m=\u001b[0m \u001b[0mpickle\u001b[0m\u001b[1;33m.\u001b[0m\u001b[0mload\u001b[0m\u001b[1;33m(\u001b[0m\u001b[0mmyfile\u001b[0m\u001b[1;33m)\u001b[0m\u001b[1;33m\u001b[0m\u001b[1;33m\u001b[0m\u001b[0m\n\u001b[0m\u001b[0;32m      3\u001b[0m \u001b[0mmyfile\u001b[0m\u001b[1;33m.\u001b[0m\u001b[0mclose\u001b[0m\u001b[1;33m(\u001b[0m\u001b[1;33m)\u001b[0m\u001b[1;33m\u001b[0m\u001b[1;33m\u001b[0m\u001b[0m\n",
      "\u001b[1;31mModuleNotFoundError\u001b[0m: No module named '__builtin__\\r'"
     ]
    }
   ],
   "source": [
    "myfile = open('insecure.pickle', 'rb')\n",
    "restored_data = pickle.load(myfile)\n",
    "myfile.close()"
   ]
  }
 ],
 "metadata": {
  "kernelspec": {
   "display_name": "Python 3",
   "language": "python",
   "name": "python3"
  },
  "language_info": {
   "codemirror_mode": {
    "name": "ipython",
    "version": 3
   },
   "file_extension": ".py",
   "mimetype": "text/x-python",
   "name": "python",
   "nbconvert_exporter": "python",
   "pygments_lexer": "ipython3",
   "version": "3.7.3"
  }
 },
 "nbformat": 4,
 "nbformat_minor": 2
}
