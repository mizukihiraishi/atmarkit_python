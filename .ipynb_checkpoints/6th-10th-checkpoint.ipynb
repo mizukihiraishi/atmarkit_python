{
 "cells": [
  {
   "cell_type": "markdown",
   "metadata": {},
   "source": [
    "# 第6回"
   ]
  },
  {
   "cell_type": "code",
   "execution_count": 6,
   "metadata": {},
   "outputs": [
    {
     "name": "stdout",
     "output_type": "stream",
     "text": [
      "12\n",
      "15\n"
     ]
    }
   ],
   "source": [
    "str_len = len('Hello World!')\n",
    "print(str_len)\n",
    "msg = 'Good-bye World!'\n",
    "str_len = len(msg)\n",
    "print(str_len)"
   ]
  },
  {
   "cell_type": "code",
   "execution_count": 2,
   "metadata": {},
   "outputs": [
    {
     "name": "stdout",
     "output_type": "stream",
     "text": [
      "G\n"
     ]
    }
   ],
   "source": [
    "print(msg[0])"
   ]
  },
  {
   "cell_type": "markdown",
   "metadata": {},
   "source": [
    "print(msg[15])\n",
    "\n",
    "---------------------------------------------------------------------------\n",
    "IndexError                                Traceback (most recent call last)\n",
    "\n",
    "< ipython-input-3-cd8db73732f3> in < module>\n",
    "    \n",
    "----> 1 print(msg[15])\n",
    "\n",
    "<b>IndexError: string index out of range"
   ]
  },
  {
   "cell_type": "code",
   "execution_count": 7,
   "metadata": {},
   "outputs": [
    {
     "name": "stdout",
     "output_type": "stream",
     "text": [
      "!\n"
     ]
    }
   ],
   "source": [
    "print(msg[14])"
   ]
  },
  {
   "cell_type": "code",
   "execution_count": 8,
   "metadata": {},
   "outputs": [
    {
     "name": "stdout",
     "output_type": "stream",
     "text": [
      "!\n"
     ]
    }
   ],
   "source": [
    "print(msg[len(msg)-1])"
   ]
  },
  {
   "cell_type": "code",
   "execution_count": 9,
   "metadata": {},
   "outputs": [
    {
     "name": "stdout",
     "output_type": "stream",
     "text": [
      "!\n"
     ]
    }
   ],
   "source": [
    "print(msg[-1])"
   ]
  },
  {
   "cell_type": "markdown",
   "metadata": {},
   "source": [
    "msg[0] = 'h'\n",
    "\n",
    "---------------------------------------------------------------------------\n",
    "TypeError                                 Traceback (most recent call last)\n",
    "\n",
    "< ipython-input-10-d65d0b76dc81> in < module>\n",
    "\n",
    "----> 1 msg[0] = 'h'\n",
    "\n",
    "<b>TypeError: 'str' object does not support item assignment"
   ]
  },
  {
   "cell_type": "code",
   "execution_count": 11,
   "metadata": {},
   "outputs": [
    {
     "name": "stdout",
     "output_type": "stream",
     "text": [
      "ood\n"
     ]
    }
   ],
   "source": [
    "print(msg[1:4])"
   ]
  },
  {
   "cell_type": "code",
   "execution_count": 12,
   "metadata": {},
   "outputs": [
    {
     "name": "stdout",
     "output_type": "stream",
     "text": [
      "Goo\n"
     ]
    }
   ],
   "source": [
    "print(msg[:3])"
   ]
  },
  {
   "cell_type": "code",
   "execution_count": 15,
   "metadata": {},
   "outputs": [
    {
     "name": "stdout",
     "output_type": "stream",
     "text": [
      "od-bye World!\n"
     ]
    }
   ],
   "source": [
    "print(msg[2:])"
   ]
  },
  {
   "cell_type": "code",
   "execution_count": 16,
   "metadata": {},
   "outputs": [
    {
     "name": "stdout",
     "output_type": "stream",
     "text": [
      "Good-bye World!\n"
     ]
    }
   ],
   "source": [
    "print(msg[:])"
   ]
  },
  {
   "cell_type": "code",
   "execution_count": 17,
   "metadata": {},
   "outputs": [
    {
     "name": "stdout",
     "output_type": "stream",
     "text": [
      "Go-y ol!\n"
     ]
    }
   ],
   "source": [
    "print(msg[::2])"
   ]
  },
  {
   "cell_type": "code",
   "execution_count": 18,
   "metadata": {},
   "outputs": [
    {
     "name": "stdout",
     "output_type": "stream",
     "text": [
      "Hello World!\n",
      "Good-bye World\n"
     ]
    }
   ],
   "source": [
    "msg = 'Hello ' \"World\"'''!\n",
    "Good-bye'''\"\"\" World\"\"\"\n",
    "print(msg)"
   ]
  },
  {
   "cell_type": "markdown",
   "metadata": {},
   "source": [
    "world = 'World'\n",
    "msg = 'Hello ' world\n",
    "print(msg)\n",
    "\n",
    "  File \"<ipython-input-19-c3234a37b8bc>\", line 2\n",
    "    \n",
    "    msg = 'Hello ' world\n",
    "    \n",
    "                       ^\n",
    "                       \n",
    "<b>SyntaxError: invalid syntax"
   ]
  },
  {
   "cell_type": "code",
   "execution_count": 20,
   "metadata": {},
   "outputs": [
    {
     "name": "stdout",
     "output_type": "stream",
     "text": [
      "Hello World\n"
     ]
    }
   ],
   "source": [
    "world = 'World'\n",
    "msg = 'Hello ' + world\n",
    "print(msg)"
   ]
  },
  {
   "cell_type": "code",
   "execution_count": 21,
   "metadata": {},
   "outputs": [
    {
     "name": "stdout",
     "output_type": "stream",
     "text": [
      "1\n"
     ]
    }
   ],
   "source": [
    "some_value = '1'\n",
    "result = int(some_value) * 1\n",
    "print(result)"
   ]
  },
  {
   "cell_type": "code",
   "execution_count": 22,
   "metadata": {},
   "outputs": [
    {
     "name": "stdout",
     "output_type": "stream",
     "text": [
      "aaaaa\n"
     ]
    }
   ],
   "source": [
    "print('a' * 5)"
   ]
  },
  {
   "cell_type": "code",
   "execution_count": 23,
   "metadata": {},
   "outputs": [
    {
     "data": {
      "text/plain": [
       "True"
      ]
     },
     "execution_count": 23,
     "metadata": {},
     "output_type": "execute_result"
    }
   ],
   "source": [
    "'Setagaya' in 'Sakura-Jousui, Setagaya-Ku, Tokyo, Japan'"
   ]
  },
  {
   "cell_type": "code",
   "execution_count": 25,
   "metadata": {},
   "outputs": [
    {
     "data": {
      "text/plain": [
       "False"
      ]
     },
     "execution_count": 25,
     "metadata": {},
     "output_type": "execute_result"
    }
   ],
   "source": [
    "'Setagaya' in 'Yoyogi, Shibuya-Ku, Tokyo, Japan'"
   ]
  },
  {
   "cell_type": "code",
   "execution_count": 29,
   "metadata": {},
   "outputs": [
    {
     "data": {
      "text/plain": [
       "False"
      ]
     },
     "execution_count": 29,
     "metadata": {},
     "output_type": "execute_result"
    }
   ],
   "source": [
    "list = ['Sakura-Jousui', 'Setagaya-Ku', 'Tokyo', 'Japan']\n",
    "'Setagaya' in list"
   ]
  },
  {
   "cell_type": "code",
   "execution_count": 30,
   "metadata": {},
   "outputs": [
    {
     "data": {
      "text/plain": [
       "False"
      ]
     },
     "execution_count": 30,
     "metadata": {},
     "output_type": "execute_result"
    }
   ],
   "source": [
    "'Setagaya' not in 'Sakura-Jousui, Setagaya-Ku, Tokyo, Japan'"
   ]
  },
  {
   "cell_type": "code",
   "execution_count": 31,
   "metadata": {},
   "outputs": [
    {
     "data": {
      "text/plain": [
       "True"
      ]
     },
     "execution_count": 31,
     "metadata": {},
     "output_type": "execute_result"
    }
   ],
   "source": [
    "list = ['Sakura-Jousui', 'Setagaya-Ku', 'Tokyo', 'Japan']\n",
    "'Setagaya' not in list"
   ]
  },
  {
   "cell_type": "code",
   "execution_count": 34,
   "metadata": {},
   "outputs": [
    {
     "name": "stdout",
     "output_type": "stream",
     "text": [
      "Setagaya is in Sakura-Jousui, Setagaya-Ku, Tokyo, Japan.\n"
     ]
    }
   ],
   "source": [
    "address = 'Sakura-Jousui, Setagaya-Ku, Tokyo, Japan'\n",
    "ward = 'Setagaya'\n",
    "\n",
    "if(ward in address):\n",
    "    print(ward + ' is in ' + address + '.')\n",
    "else:\n",
    "    print(ward + \" isn't in \" + address + '.')"
   ]
  },
  {
   "cell_type": "code",
   "execution_count": 47,
   "metadata": {},
   "outputs": [
    {
     "name": "stdout",
     "output_type": "stream",
     "text": [
      "13\n",
      "21\n",
      "-1\n",
      "0\n",
      "7\n"
     ]
    }
   ],
   "source": [
    "# rfind, rindexは右側から\n",
    "sample_str = 'find, rfind, index, rindex'\n",
    "print(sample_str.find('index'))\n",
    "print(sample_str.rfind('index'))\n",
    "print(sample_str.find('foo'))\n",
    "print(sample_str.index('find'))\n",
    "print(sample_str.rindex('find'))\n",
    "#print(sample_str.index('foo'))"
   ]
  },
  {
   "cell_type": "markdown",
   "metadata": {},
   "source": [
    "print(sample_str.index('foo'))\n",
    "\n",
    "---------------------------------------------------------------------------\n",
    "ValueError                                Traceback (most recent call last)\n",
    "\n",
    "< ipython-input-36-09c28c3645a7> in < module>\n",
    "\n",
    "----> 1 print(sample_str.index('foo'))\n",
    "\n",
    "<b>ValueError: substring not found"
   ]
  },
  {
   "cell_type": "code",
   "execution_count": 40,
   "metadata": {},
   "outputs": [
    {
     "data": {
      "text/plain": [
       "-1"
      ]
     },
     "execution_count": 40,
     "metadata": {},
     "output_type": "execute_result"
    }
   ],
   "source": [
    "sample_str.find('find', 10, 15)"
   ]
  },
  {
   "cell_type": "code",
   "execution_count": 41,
   "metadata": {},
   "outputs": [
    {
     "data": {
      "text/plain": [
       "['abc', 'def', 'ghi']"
      ]
     },
     "execution_count": 41,
     "metadata": {},
     "output_type": "execute_result"
    }
   ],
   "source": [
    "'abc def ghi'.split(' ')"
   ]
  },
  {
   "cell_type": "code",
   "execution_count": 42,
   "metadata": {},
   "outputs": [
    {
     "data": {
      "text/plain": [
       "['abc', 'def', 'ghi']"
      ]
     },
     "execution_count": 42,
     "metadata": {},
     "output_type": "execute_result"
    }
   ],
   "source": [
    "'abc def ghi'.split()"
   ]
  },
  {
   "cell_type": "code",
   "execution_count": 45,
   "metadata": {},
   "outputs": [
    {
     "data": {
      "text/plain": [
       "['abc', 'def ghi']"
      ]
     },
     "execution_count": 45,
     "metadata": {},
     "output_type": "execute_result"
    }
   ],
   "source": [
    "'abc def ghi'.split(' ', 1)"
   ]
  },
  {
   "cell_type": "code",
   "execution_count": 46,
   "metadata": {
    "scrolled": true
   },
   "outputs": [
    {
     "data": {
      "text/plain": [
       "['abc def', 'ghi']"
      ]
     },
     "execution_count": 46,
     "metadata": {},
     "output_type": "execute_result"
    }
   ],
   "source": [
    "# rsplitは右側から\n",
    "'abc def ghi'.rsplit(' ', 1)"
   ]
  },
  {
   "cell_type": "code",
   "execution_count": 48,
   "metadata": {},
   "outputs": [
    {
     "name": "stdout",
     "output_type": "stream",
     "text": [
      "['abc', 'def', 'ghi']\n",
      "abc,def,ghi\n"
     ]
    }
   ],
   "source": [
    "alpha_list = 'abc def ghi'.split()\n",
    "print(alpha_list)\n",
    "alpha_str = ','.join(alpha_list)\n",
    "print(alpha_str)"
   ]
  },
  {
   "cell_type": "code",
   "execution_count": 49,
   "metadata": {},
   "outputs": [
    {
     "name": "stdout",
     "output_type": "stream",
     "text": [
      "abcdefghi\n"
     ]
    }
   ],
   "source": [
    "alpha_str = ''.join(alpha_list)\n",
    "print(alpha_str)"
   ]
  },
  {
   "cell_type": "code",
   "execution_count": 51,
   "metadata": {},
   "outputs": [
    {
     "name": "stdout",
     "output_type": "stream",
     "text": [
      "['abc', ' def', ' ghi']\n"
     ]
    }
   ],
   "source": [
    "data = 'abc, def, ghi'\n",
    "data_list = data.split(',')\n",
    "print(data_list)"
   ]
  },
  {
   "cell_type": "code",
   "execution_count": 55,
   "metadata": {},
   "outputs": [
    {
     "name": "stdout",
     "output_type": "stream",
     "text": [
      "begin:sample:end\n",
      "begin:sample  :end\n",
      "begin:   sample:end\n",
      "begin:   sample  :end\n"
     ]
    }
   ],
   "source": [
    "sample_str = '   sample  '\n",
    "print('begin:' + sample_str.strip() + ':end')\n",
    "print('begin:' + sample_str.lstrip() + ':end')\n",
    "print('begin:' + sample_str.rstrip() + ':end')\n",
    "print('begin:' + sample_str + ':end')"
   ]
  },
  {
   "cell_type": "code",
   "execution_count": 58,
   "metadata": {},
   "outputs": [
    {
     "name": "stdout",
     "output_type": "stream",
     "text": [
      "++**sample**++\n",
      "ampl\n"
     ]
    }
   ],
   "source": [
    "sample_str = '**++**sample**++**'\n",
    "print(sample_str.strip('*'))\n",
    "print(sample_str.strip('+*se'))"
   ]
  },
  {
   "cell_type": "code",
   "execution_count": 60,
   "metadata": {},
   "outputs": [
    {
     "name": "stdout",
     "output_type": "stream",
     "text": [
      "input number: fff\n",
      "not a number\n"
     ]
    }
   ],
   "source": [
    "num = 'not a number'\n",
    "user_input = input('input number: ')\n",
    "if user_input.isdigit():\n",
    "    num = int(user_input)\n",
    "print(num)"
   ]
  },
  {
   "cell_type": "code",
   "execution_count": 61,
   "metadata": {},
   "outputs": [
    {
     "name": "stdout",
     "output_type": "stream",
     "text": [
      "xyz def GHI JKL\n",
      "ABC DEF ghi jkl\n",
      "Abc Def Ghi Jkl\n",
      "abc def ghi jkl\n",
      "ABC DEF GHI JKL\n"
     ]
    }
   ],
   "source": [
    "sample_str = 'abc def GHI JKL'\n",
    "print(sample_str.replace('abc', 'xyz'))\n",
    "print(sample_str.swapcase())\n",
    "print(sample_str.title())\n",
    "print(sample_str.lower())\n",
    "print(sample_str.upper())"
   ]
  },
  {
   "cell_type": "code",
   "execution_count": 63,
   "metadata": {},
   "outputs": [
    {
     "name": "stdout",
     "output_type": "stream",
     "text": [
      "True\n",
      "True\n",
      "True\n"
     ]
    }
   ],
   "source": [
    "sample_str = 'this is a sample string'\n",
    "print(sample_str.startswith('this'))\n",
    "print(sample_str.startswith('th'))\n",
    "print(sample_str.endswith('string'))"
   ]
  },
  {
   "cell_type": "code",
   "execution_count": 64,
   "metadata": {},
   "outputs": [
    {
     "name": "stdout",
     "output_type": "stream",
     "text": [
      "False\n",
      "True\n"
     ]
    }
   ],
   "source": [
    "print(sample_str.startswith(('that', 'those')))\n",
    "print(sample_str.endswith(('sample', 'ing')))"
   ]
  },
  {
   "cell_type": "code",
   "execution_count": 66,
   "metadata": {},
   "outputs": [
    {
     "name": "stdout",
     "output_type": "stream",
     "text": [
      "Python++++++\n",
      "***Python***\n",
      "      Python\n",
      "Python\n"
     ]
    }
   ],
   "source": [
    "sample_str = 'Python'\n",
    "print(sample_str.ljust(12, '+'))\n",
    "print(sample_str.center(12, '*'))\n",
    "print(sample_str.rjust(12))\n",
    "print(sample_str.rjust(1))"
   ]
  },
  {
   "cell_type": "markdown",
   "metadata": {},
   "source": [
    "# 第7回"
   ]
  },
  {
   "cell_type": "code",
   "execution_count": 67,
   "metadata": {},
   "outputs": [
    {
     "name": "stdout",
     "output_type": "stream",
     "text": [
      "x + y = 101\n"
     ]
    }
   ],
   "source": [
    "x = 1\n",
    "y = 100\n",
    "result = 'x + y = {}'.format(x+y)\n",
    "print(result)"
   ]
  },
  {
   "cell_type": "code",
   "execution_count": 69,
   "metadata": {},
   "outputs": [
    {
     "name": "stdout",
     "output_type": "stream",
     "text": [
      "1 + 100 = 101\n"
     ]
    }
   ],
   "source": [
    "result = '{} + {} = {}'.format(x, y, x + y)\n",
    "print(result)"
   ]
  },
  {
   "cell_type": "code",
   "execution_count": 73,
   "metadata": {},
   "outputs": [
    {
     "name": "stdout",
     "output_type": "stream",
     "text": [
      "1 + 100 = 101\n"
     ]
    }
   ],
   "source": [
    "result = '{1} + {2} = {0}'.format(x + y, x, y)\n",
    "print(result)"
   ]
  },
  {
   "cell_type": "code",
   "execution_count": 74,
   "metadata": {},
   "outputs": [
    {
     "name": "stdout",
     "output_type": "stream",
     "text": [
      "1 + 100 = 101\n"
     ]
    }
   ],
   "source": [
    "result = '{x} + {y} = {add_result}'.format(add_result=x+y, x=x, y=y)\n",
    "print(result)"
   ]
  },
  {
   "cell_type": "code",
   "execution_count": 76,
   "metadata": {},
   "outputs": [
    {
     "name": "stdout",
     "output_type": "stream",
     "text": [
      "My name is Hiraishi\n"
     ]
    }
   ],
   "source": [
    "svo = {'subject': 'My name', 'verb': 'is', 'object': 'Hiraishi'}\n",
    "result = '{0[subject]} {0[verb]} {0[object]}'.format(svo)\n",
    "print(result)"
   ]
  },
  {
   "cell_type": "code",
   "execution_count": 77,
   "metadata": {},
   "outputs": [
    {
     "name": "stdout",
     "output_type": "stream",
     "text": [
      "My name is Hiraishi\n"
     ]
    }
   ],
   "source": [
    "result = '{dic[subject]} {dic[verb]} {dic[object]}'.format(dic=svo)\n",
    "print(result)"
   ]
  },
  {
   "cell_type": "markdown",
   "metadata": {},
   "source": [
    "https://docs.python.org/ja/3.7/library/string.html#format-specification-mini-language"
   ]
  },
  {
   "cell_type": "code",
   "execution_count": 78,
   "metadata": {},
   "outputs": [
    {
     "name": "stdout",
     "output_type": "stream",
     "text": [
      "1 + -2.1 = -1.1\n"
     ]
    }
   ],
   "source": [
    "x = 1\n",
    "y = -2.1\n",
    "result = '{x} + {y} = {result}'.format(result=x+y, x=x, y=y)\n",
    "print(result)"
   ]
  },
  {
   "cell_type": "code",
   "execution_count": 79,
   "metadata": {},
   "outputs": [
    {
     "name": "stdout",
     "output_type": "stream",
     "text": [
      "       1 +     -2.1 =     -1.1\n"
     ]
    }
   ],
   "source": [
    "# width(表示幅)の指定(最小8文字分幅をとる)\n",
    "result = '{x:8} + {y:8} = {result:8}'.format(result=x+y, x=x, y=y)\n",
    "print(result)"
   ]
  },
  {
   "cell_type": "code",
   "execution_count": 80,
   "metadata": {},
   "outputs": [
    {
     "name": "stdout",
     "output_type": "stream",
     "text": [
      "1        + -00002.1 = -    1.1\n"
     ]
    }
   ],
   "source": [
    "# 文字寄せ・文字埋め\n",
    "result = '{x:<8} + {y:0=8} = {result:=8}'.format(result=x+y, x=x, y=y)\n",
    "print(result)"
   ]
  },
  {
   "cell_type": "code",
   "execution_count": 81,
   "metadata": {},
   "outputs": [
    {
     "name": "stdout",
     "output_type": "stream",
     "text": [
      "1        + -00002.1 = -    1.1\n"
     ]
    }
   ],
   "source": [
    "result = '{x:<8} + {y:08} = {result:=8}'.format(result=x+y, x=x, y=y)\n",
    "print(result)"
   ]
  },
  {
   "cell_type": "code",
   "execution_count": 84,
   "metadata": {},
   "outputs": [
    {
     "name": "stdout",
     "output_type": "stream",
     "text": [
      " 1       + -00002.1 = -    1.1\n",
      "+1       + -00002.1 = -    1.1\n",
      "1        + -00002.1 = -    1.1\n"
     ]
    }
   ],
   "source": [
    "# 符号の表示方法の指定\n",
    "result = '{x:< 8} + {y:0=8} = {result:=8}'.format(result=x+y, x=x, y=y)\n",
    "print(result)\n",
    "result = '{x:<+8} + {y:0=8} = {result:=8}'.format(result=x+y, x=x, y=y)\n",
    "print(result)\n",
    "result = '{x:<8} + {y:0=8} = {result:=8}'.format(result=x+y, x=x, y=y)\n",
    "print(result)"
   ]
  },
  {
   "cell_type": "code",
   "execution_count": 85,
   "metadata": {},
   "outputs": [
    {
     "name": "stdout",
     "output_type": "stream",
     "text": [
      "  10,000 + -00004.5 =  9_995.5\n"
     ]
    }
   ],
   "source": [
    "# 桁区切りの指定\n",
    "x = 10000\n",
    "y = -4.5\n",
    "result = '{x:8,} + {y:08} = {result:8_}'.format(result=x+y, x=x, y=y)\n",
    "print(result)"
   ]
  },
  {
   "cell_type": "code",
   "execution_count": 86,
   "metadata": {},
   "outputs": [
    {
     "name": "stdout",
     "output_type": "stream",
     "text": [
      "1234.5679,  1.2e+03\n"
     ]
    }
   ],
   "source": [
    "# 有効桁数の指定\n",
    "y = 1234.56789\n",
    "result = '{y:8.8}, {y:8.2}'.format(y=y)\n",
    "print(result)"
   ]
  },
  {
   "cell_type": "code",
   "execution_count": 90,
   "metadata": {},
   "outputs": [
    {
     "name": "stdout",
     "output_type": "stream",
     "text": [
      "1234.568,  1234.567890, 1.23e+03,      1234.57\n",
      "1234.568, 1234.567890, 1.23e+03,    1234.57\n"
     ]
    }
   ],
   "source": [
    "result = '{y:8.3f}, {y:12.6f}, {y:8.3g}, {y:12.6g}'.format(y=y)\n",
    "print(result)\n",
    "result = '{y:8.3f}, {y:10.6f}, {y:8.3g}, {y:10.6g}'.format(y=y)\n",
    "print(result)"
   ]
  },
  {
   "cell_type": "code",
   "execution_count": 91,
   "metadata": {},
   "outputs": [
    {
     "name": "stdout",
     "output_type": "stream",
     "text": [
      "100000000010000000, 0b100000000010000000, 0b10_0000_0000_1000_0000\n",
      "400200, 0o400200, 0o40_0200\n",
      "20080, 0x20080, 0x2_0080\n"
     ]
    }
   ],
   "source": [
    "# 表示型の指定\n",
    "x = 65536 * 2 +128\n",
    "print('{x:b}, {x:#b}, {x:#_b}'.format(x=x))\n",
    "print('{x:o}, {x:#o}, {x:#_o}'.format(x=x))\n",
    "print('{x:x}, {x:#x}, {x:#_x}'.format(x=x))"
   ]
  },
  {
   "cell_type": "code",
   "execution_count": 92,
   "metadata": {},
   "outputs": [
    {
     "name": "stdout",
     "output_type": "stream",
     "text": [
      "A\n",
      "-1.234568e+02, -1.2346e+02\n",
      "10.100000%, 10.10%\n"
     ]
    }
   ],
   "source": [
    "code_point = 65\n",
    "f_number = -123.456789\n",
    "percentage = 0.101\n",
    "print('{cp:c}'.format(cp=code_point))\n",
    "print('{num:e}, {num:.4e}'.format(num=f_number))\n",
    "print('{p:%}, {p:.2%}'.format(p=percentage))"
   ]
  },
  {
   "cell_type": "code",
   "execution_count": 93,
   "metadata": {},
   "outputs": [
    {
     "name": "stdout",
     "output_type": "stream",
     "text": [
      "A\n",
      "1.2e+03\n",
      "+00012.345\n"
     ]
    }
   ],
   "source": [
    "print(format(65, 'c'))\n",
    "print(format(1234.567, '.2g'))\n",
    "print(format(12.345, '0=+10'))"
   ]
  },
  {
   "cell_type": "code",
   "execution_count": 94,
   "metadata": {},
   "outputs": [
    {
     "name": "stdout",
     "output_type": "stream",
     "text": [
      "+0000001 + 100      = $$101$$$\n"
     ]
    }
   ],
   "source": [
    "x = 1\n",
    "y = 100\n",
    "result = f'{x:0=+8} + {y:<8} = {x + y:$^8}'\n",
    "print(result)"
   ]
  },
  {
   "cell_type": "code",
   "execution_count": 95,
   "metadata": {},
   "outputs": [
    {
     "name": "stdout",
     "output_type": "stream",
     "text": [
      "1 + 2 = 3\n",
      "0xffff\n"
     ]
    }
   ],
   "source": [
    "print('%d + %d = %d' %(1, 2, 1+2))\n",
    "print('%#x' %65535)"
   ]
  },
  {
   "cell_type": "code",
   "execution_count": 96,
   "metadata": {
    "scrolled": true
   },
   "outputs": [
    {
     "data": {
      "text/plain": [
       "'+1.10e+00 + -2.20 = -0001.10'"
      ]
     },
     "execution_count": 96,
     "metadata": {},
     "output_type": "execute_result"
    }
   ],
   "source": [
    "'%(x)+.2e + %(y)+.2f = %(z)08.2f' %{'x':1.1, 'y':-2.2, 'z':1.1+-2.2}"
   ]
  },
  {
   "cell_type": "markdown",
   "metadata": {},
   "source": [
    "# 第8回"
   ]
  },
  {
   "cell_type": "code",
   "execution_count": 99,
   "metadata": {},
   "outputs": [
    {
     "name": "stdout",
     "output_type": "stream",
     "text": [
      "6.28\n",
      "3.14\n",
      "12.56\n"
     ]
    }
   ],
   "source": [
    "# ここから行末までは全てコメント\n",
    "# r = 0\n",
    "# 上の行はコメントなので変数rは定義されない\n",
    "PI = 3.14  # 定数（このようにコードに続けてコメントを書いてもよい）\n",
    "r = 1  # 変数rはここで定義される\n",
    "print(2 * PI * r)\n",
    "print(PI * r ** 2)\n",
    "r = 2  # rの値を変更\n",
    "print(2 * PI * r)"
   ]
  },
  {
   "cell_type": "code",
   "execution_count": 100,
   "metadata": {},
   "outputs": [
    {
     "name": "stdout",
     "output_type": "stream",
     "text": [
      "# これはコメントではない\n"
     ]
    }
   ],
   "source": [
    "# これはコメント\n",
    "text = '# これはコメントではない'\n",
    "print(text)  # これはコメント"
   ]
  },
  {
   "cell_type": "markdown",
   "metadata": {},
   "source": [
    "# 第9回"
   ]
  },
  {
   "cell_type": "code",
   "execution_count": 101,
   "metadata": {},
   "outputs": [
    {
     "name": "stdout",
     "output_type": "stream",
     "text": [
      "Please input number: 10\n",
      "even\n"
     ]
    }
   ],
   "source": [
    "number = input('Please input number: ')\n",
    "number = int(number)\n",
    "\n",
    "if number % 2 == 0:\n",
    "    print('even')"
   ]
  },
  {
   "cell_type": "code",
   "execution_count": 102,
   "metadata": {},
   "outputs": [
    {
     "name": "stdout",
     "output_type": "stream",
     "text": [
      "Please input number: 1\n",
      "odd\n"
     ]
    }
   ],
   "source": [
    "number = input('Please input number: ')\n",
    "number = int(number)\n",
    "\n",
    "if number % 2 == 0:\n",
    "    print('even')\n",
    "else:\n",
    "    print('odd')"
   ]
  },
  {
   "cell_type": "code",
   "execution_count": 110,
   "metadata": {},
   "outputs": [
    {
     "name": "stdout",
     "output_type": "stream",
     "text": [
      "Please input number: 15\n",
      "FizzBuzz\n"
     ]
    }
   ],
   "source": [
    "number = input('Please input number: ')\n",
    "number = int(number)\n",
    "\n",
    "if number % 15 == 0:\n",
    "# if number % 3 == 0 and number % 5 == 0:\n",
    "# if not number%3 and not number%5:\n",
    "    print('FizzBuzz')\n",
    "elif number % 5 == 0:\n",
    "# elif not number % 5:\n",
    "    print('Buzz')\n",
    "elif number % 3 == 0:\n",
    "# elif not number % 3:\n",
    "    print('Fizz')\n",
    "else:\n",
    "    print(number)"
   ]
  },
  {
   "cell_type": "code",
   "execution_count": 108,
   "metadata": {},
   "outputs": [
    {
     "name": "stdout",
     "output_type": "stream",
     "text": [
      "False\n",
      "True\n"
     ]
    }
   ],
   "source": [
    "print(7 % 2 == 0)\n",
    "print(6 % 2 == 0)"
   ]
  },
  {
   "cell_type": "markdown",
   "metadata": {},
   "source": [
    "# 第10回"
   ]
  },
  {
   "cell_type": "code",
   "execution_count": 111,
   "metadata": {},
   "outputs": [
    {
     "name": "stdout",
     "output_type": "stream",
     "text": [
      "H\n",
      "e\n",
      "l\n",
      "l\n",
      "o\n",
      " \n",
      "P\n",
      "y\n",
      "t\n",
      "h\n",
      "o\n",
      "n\n"
     ]
    }
   ],
   "source": [
    "message = 'Hello Python'\n",
    "\n",
    "print(message[0])\n",
    "print(message[1])\n",
    "print(message[2])\n",
    "print(message[3])\n",
    "print(message[4])\n",
    "print(message[5])\n",
    "print(message[6])\n",
    "print(message[7])\n",
    "print(message[8])\n",
    "print(message[9])\n",
    "print(message[10])\n",
    "print(message[11])"
   ]
  },
  {
   "cell_type": "code",
   "execution_count": 112,
   "metadata": {},
   "outputs": [
    {
     "name": "stdout",
     "output_type": "stream",
     "text": [
      "H\n",
      "e\n",
      "l\n",
      "l\n",
      "o\n",
      " \n",
      "P\n",
      "y\n",
      "t\n",
      "h\n",
      "o\n",
      "n\n"
     ]
    }
   ],
   "source": [
    "message = 'Hello Python'\n",
    "for ch in message:\n",
    "    print(ch)"
   ]
  },
  {
   "cell_type": "code",
   "execution_count": 113,
   "metadata": {},
   "outputs": [],
   "source": [
    "message = ''\n",
    "for ch in message:\n",
    "    print(ch)"
   ]
  },
  {
   "cell_type": "code",
   "execution_count": 114,
   "metadata": {},
   "outputs": [
    {
     "name": "stdout",
     "output_type": "stream",
     "text": [
      "0\n",
      "1\n",
      "2\n",
      "3\n",
      "4\n",
      "5\n",
      "6\n",
      "7\n",
      "8\n",
      "9\n"
     ]
    }
   ],
   "source": [
    "for number in range(10):\n",
    "    print(number)"
   ]
  },
  {
   "cell_type": "code",
   "execution_count": 115,
   "metadata": {},
   "outputs": [
    {
     "name": "stdout",
     "output_type": "stream",
     "text": [
      "H\n",
      "e\n",
      "l\n",
      "l\n",
      "o\n",
      " \n",
      "P\n",
      "y\n",
      "t\n",
      "h\n",
      "o\n",
      "n\n"
     ]
    }
   ],
   "source": [
    "message = 'Hello Python'\n",
    "str_count = len(message)\n",
    "\n",
    "for index in range(str_count):\n",
    "    print(message[index])"
   ]
  },
  {
   "cell_type": "code",
   "execution_count": 116,
   "metadata": {},
   "outputs": [
    {
     "name": "stdout",
     "output_type": "stream",
     "text": [
      "0\n",
      "1\n",
      "2\n",
      "3\n",
      "4\n",
      "terminated\n"
     ]
    }
   ],
   "source": [
    "for num in range(5):\n",
    "    print(num)\n",
    "else:\n",
    "    print('terminated')"
   ]
  },
  {
   "cell_type": "code",
   "execution_count": 117,
   "metadata": {},
   "outputs": [
    {
     "name": "stdout",
     "output_type": "stream",
     "text": [
      "Mike\n",
      "Yamamoto\n",
      "Jose\n"
     ]
    }
   ],
   "source": [
    "names = ['Mike', 'Yamamoto', 'Jose']\n",
    "\n",
    "for name in names:\n",
    "    print(name)"
   ]
  },
  {
   "cell_type": "code",
   "execution_count": 121,
   "metadata": {},
   "outputs": [
    {
     "name": "stdout",
     "output_type": "stream",
     "text": [
      "Found Jose!\n"
     ]
    }
   ],
   "source": [
    "target = 'Jose'\n",
    "\n",
    "for name in names:\n",
    "    if target in name:\n",
    "        print(f'Found {name}!')\n",
    "        break\n",
    "else:\n",
    "    print('Not found...')"
   ]
  },
  {
   "cell_type": "code",
   "execution_count": 126,
   "metadata": {},
   "outputs": [
    {
     "name": "stdout",
     "output_type": "stream",
     "text": [
      "No, he can't shoot.\n",
      "Found Jose Alvarado!\n",
      "No, he can't shoot.\n",
      "Found Jose!\n"
     ]
    }
   ],
   "source": [
    "names = ['Mike', 'Jose Alvarado', 'Yamamoto', 'Jose']\n",
    "found = False\n",
    "\n",
    "for name in names:\n",
    "    if target in name:\n",
    "        print(f'Found {name}!')\n",
    "        found = True\n",
    "        continue\n",
    "    print(\"No, he can't shoot.\")\n",
    "else:\n",
    "    if not found:\n",
    "        print('Not found...')"
   ]
  }
 ],
 "metadata": {
  "kernelspec": {
   "display_name": "Python 3",
   "language": "python",
   "name": "python3"
  },
  "language_info": {
   "codemirror_mode": {
    "name": "ipython",
    "version": 3
   },
   "file_extension": ".py",
   "mimetype": "text/x-python",
   "name": "python",
   "nbconvert_exporter": "python",
   "pygments_lexer": "ipython3",
   "version": "3.7.3"
  }
 },
 "nbformat": 4,
 "nbformat_minor": 2
}
