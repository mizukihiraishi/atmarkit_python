{
 "cells": [
  {
   "cell_type": "markdown",
   "metadata": {},
   "source": [
    "# 第26回"
   ]
  },
  {
   "cell_type": "code",
   "execution_count": 3,
   "metadata": {},
   "outputs": [
    {
     "name": "stdout",
     "output_type": "stream",
     "text": [
      "2872857135232\n",
      "2872857135232\n",
      "2872857326848\n",
      "---------\n",
      "2872856333832\n",
      "2872856333832\n",
      "2872857103816\n"
     ]
    }
   ],
   "source": [
    "mystr = 'Hello'\n",
    "yourstr = 'Hello'\n",
    "otherstr = ''.join(['H', 'e', 'l', 'l', 'o'])\n",
    "print(id(mystr))\n",
    "print(id(yourstr))\n",
    "print(id(otherstr))\n",
    "print('---------')\n",
    "mylist = [1, 2, 3]\n",
    "yourlist = mylist\n",
    "otherlist = list([1, 2, 3])\n",
    "print(id(mylist))\n",
    "print(id(yourlist))\n",
    "print(id(otherlist))"
   ]
  },
  {
   "cell_type": "code",
   "execution_count": 8,
   "metadata": {},
   "outputs": [
    {
     "name": "stdout",
     "output_type": "stream",
     "text": [
      "mystr is yourstr? True\n",
      "mystr is otherstr? False\n",
      "mystr == yourstr? True\n",
      "mystr == otherstr? True\n",
      "\n",
      "mylist is yourlist? True\n",
      "mylist is otherlist? False\n",
      "mylist == yourlist? True\n",
      "mylist == otherlist? True\n"
     ]
    }
   ],
   "source": [
    "print('mystr is yourstr?', mystr is yourstr)\n",
    "print('mystr is otherstr?', mystr is otherstr)\n",
    "print('mystr == yourstr?', mystr == yourstr)\n",
    "print('mystr == otherstr?', mystr == otherstr)\n",
    "print()\n",
    "print('mylist is yourlist?', mylist is yourlist)\n",
    "print('mylist is otherlist?', mylist is otherlist)\n",
    "print('mylist == yourlist?', mylist == yourlist)\n",
    "print('mylist == otherlist?', mylist == otherlist)"
   ]
  },
  {
   "cell_type": "code",
   "execution_count": 9,
   "metadata": {},
   "outputs": [
    {
     "name": "stdout",
     "output_type": "stream",
     "text": [
      "my number is 42\n",
      "[1, 2, 3]\n"
     ]
    }
   ],
   "source": [
    "mystr = 'my number is'\n",
    "mynum = 42\n",
    "print(mystr, mynum)\n",
    "\n",
    "print(mylist)"
   ]
  },
  {
   "cell_type": "code",
   "execution_count": 10,
   "metadata": {},
   "outputs": [
    {
     "name": "stdout",
     "output_type": "stream",
     "text": [
      "str(1): 1\n",
      "repr(1): 1\n",
      "str([1, 2, 3]): [1, 2, 3]\n",
      "repr([1, 2, 3]): [1, 2, 3]\n",
      "str(\"Hello\"): Hello\n",
      "repr(\"Hello\"): 'Hello'\n"
     ]
    }
   ],
   "source": [
    "print('str(1):', str(1))\n",
    "print('repr(1):', repr(1))\n",
    "print('str([1, 2, 3]):', str([1, 2, 3]))\n",
    "print('repr([1, 2, 3]):', repr([1, 2, 3]))\n",
    "print('str(\"Hello\"):', str(\"Hello\"))\n",
    "print('repr(\"Hello\"):', repr(\"Hello\"))"
   ]
  },
  {
   "cell_type": "code",
   "execution_count": 11,
   "metadata": {},
   "outputs": [
    {
     "data": {
      "text/plain": [
       "'Hello'"
      ]
     },
     "execution_count": 11,
     "metadata": {},
     "output_type": "execute_result"
    }
   ],
   "source": [
    "str('Hello')"
   ]
  },
  {
   "cell_type": "code",
   "execution_count": 13,
   "metadata": {},
   "outputs": [
    {
     "data": {
      "text/plain": [
       "\"'Hello'\""
      ]
     },
     "execution_count": 13,
     "metadata": {},
     "output_type": "execute_result"
    }
   ],
   "source": [
    "repr('Hello')"
   ]
  },
  {
   "cell_type": "code",
   "execution_count": 14,
   "metadata": {},
   "outputs": [
    {
     "name": "stdout",
     "output_type": "stream",
     "text": [
      "7\n"
     ]
    },
    {
     "data": {
      "text/plain": [
       "'Hello'"
      ]
     },
     "execution_count": 14,
     "metadata": {},
     "output_type": "execute_result"
    }
   ],
   "source": [
    "hello = repr('Hello')\n",
    "print(len(hello))\n",
    "eval(hello)"
   ]
  },
  {
   "cell_type": "markdown",
   "metadata": {},
   "source": [
    "eval関数にはシングルクオートで囲まれていない「Hello」が渡されることになる。これをPythonが評価しようとして、「Hello」という「名前」はないよ、というエラーになった"
   ]
  },
  {
   "cell_type": "code",
   "execution_count": 15,
   "metadata": {},
   "outputs": [
    {
     "name": "stdout",
     "output_type": "stream",
     "text": [
      "5\n"
     ]
    },
    {
     "ename": "NameError",
     "evalue": "name 'Hello' is not defined",
     "output_type": "error",
     "traceback": [
      "\u001b[1;31m---------------------------------------------------------------------------\u001b[0m",
      "\u001b[1;31mNameError\u001b[0m                                 Traceback (most recent call last)",
      "\u001b[1;32m<ipython-input-15-dedbafc18ca7>\u001b[0m in \u001b[0;36m<module>\u001b[1;34m\u001b[0m\n\u001b[0;32m      1\u001b[0m \u001b[0mhello\u001b[0m \u001b[1;33m=\u001b[0m \u001b[0mstr\u001b[0m\u001b[1;33m(\u001b[0m\u001b[1;34m'Hello'\u001b[0m\u001b[1;33m)\u001b[0m\u001b[1;33m\u001b[0m\u001b[1;33m\u001b[0m\u001b[0m\n\u001b[0;32m      2\u001b[0m \u001b[0mprint\u001b[0m\u001b[1;33m(\u001b[0m\u001b[0mlen\u001b[0m\u001b[1;33m(\u001b[0m\u001b[0mhello\u001b[0m\u001b[1;33m)\u001b[0m\u001b[1;33m)\u001b[0m\u001b[1;33m\u001b[0m\u001b[1;33m\u001b[0m\u001b[0m\n\u001b[1;32m----> 3\u001b[1;33m \u001b[0meval\u001b[0m\u001b[1;33m(\u001b[0m\u001b[0mhello\u001b[0m\u001b[1;33m)\u001b[0m\u001b[1;33m\u001b[0m\u001b[1;33m\u001b[0m\u001b[0m\n\u001b[0m",
      "\u001b[1;32m<string>\u001b[0m in \u001b[0;36m<module>\u001b[1;34m\u001b[0m\n",
      "\u001b[1;31mNameError\u001b[0m: name 'Hello' is not defined"
     ]
    }
   ],
   "source": [
    "hello = str('Hello')\n",
    "print(len(hello))\n",
    "eval(hello)"
   ]
  },
  {
   "cell_type": "code",
   "execution_count": 16,
   "metadata": {},
   "outputs": [
    {
     "data": {
      "text/plain": [
       "'<function somefunc at 0x0000029CE3AD01E0>'"
      ]
     },
     "execution_count": 16,
     "metadata": {},
     "output_type": "execute_result"
    }
   ],
   "source": [
    "def somefunc():\n",
    "    print('some func')\n",
    "\n",
    "repr(somefunc)"
   ]
  },
  {
   "cell_type": "markdown",
   "metadata": {},
   "source": [
    "# 第27回"
   ]
  },
  {
   "cell_type": "code",
   "execution_count": 19,
   "metadata": {},
   "outputs": [
    {
     "name": "stdout",
     "output_type": "stream",
     "text": [
      "3 4 5 [6, 7]\n",
      "3 4 5 []\n"
     ]
    }
   ],
   "source": [
    "x = 1\n",
    "y = 'py' * 2\n",
    "a, b = 2, 3\n",
    "c, d, e, *f = [3, 4, 5, 6, 7]\n",
    "print(c, d, e, f)\n",
    "c, d, e, *f = [3, 4, 5]\n",
    "print(c, d, e, f)"
   ]
  },
  {
   "cell_type": "code",
   "execution_count": 20,
   "metadata": {
    "scrolled": true
   },
   "outputs": [
    {
     "name": "stdout",
     "output_type": "stream",
     "text": [
      "10.0\n",
      "2872857227720\n",
      "[1, 2, 1, 2]\n",
      "2872857227720\n",
      "[1, 2, 1, 2, 1, 2]\n",
      "2872857102344\n"
     ]
    }
   ],
   "source": [
    "a = 100\n",
    "a /= 10\n",
    "print(a)\n",
    "mylist = [1, 2]\n",
    "print(id(mylist))\n",
    "mylist += [1, 2]\n",
    "print(mylist)\n",
    "print(id(mylist))\n",
    "mylist = mylist + [1, 2]\n",
    "print(mylist)\n",
    "print(id(mylist))"
   ]
  },
  {
   "cell_type": "markdown",
   "metadata": {},
   "source": [
    "-1\\*\\*2はべき乗の優先度が-よりも高いため、1\\*\\*2から計算される"
   ]
  },
  {
   "cell_type": "code",
   "execution_count": 21,
   "metadata": {},
   "outputs": [
    {
     "name": "stdout",
     "output_type": "stream",
     "text": [
      "-1\n",
      "0.5\n"
     ]
    }
   ],
   "source": [
    "print(-1**2)\n",
    "print(2**-1)"
   ]
  },
  {
   "cell_type": "code",
   "execution_count": 22,
   "metadata": {},
   "outputs": [
    {
     "name": "stdout",
     "output_type": "stream",
     "text": [
      "True\n",
      "True\n",
      "False\n",
      "True\n",
      "False\n",
      "False\n"
     ]
    }
   ],
   "source": [
    "mystr1 = 'abc'\n",
    "mystr2 = 'abcd'\n",
    "# 'abc'までは同じだが、mystr2には'd'もあるので、mystr2の方が大きい\n",
    "print(mystr1 < mystr2)  # True\n",
    "\n",
    "mylist1 = [1, 2, 3]\n",
    "mylist2 = [1, 2, 4]\n",
    "# インデックス2で、mylist2の要素の値の方が大きい\n",
    "print(mylist1 < mylist2)  # True\n",
    "\n",
    "mytuple1 = ('foo', 'baar', 'baz')\n",
    "mytuple2 = ('foo', 'bar', 'baz')\n",
    "# インデックス1で、'baar'と'bar'では'baar' < 'bar'となる（辞書式順序）\n",
    "print(mytuple1 > mytuple2)  # False\n",
    "\n",
    "mydict1 = {'foo': 0, 'bar': 1}\n",
    "mydict2 = {'bar': 1, 'foo': 0}\n",
    "# 全てのキーと値が等しいので、別オブジェクトだが等価\n",
    "print(mydict1 == mydict2)  # True\n",
    "\n",
    "myset1 = {1, 2, 3}\n",
    "myset2 = {4, 5, 6}\n",
    "# 集合の包含関係を満たさないので、大小比較はどちらもFalseとなる\n",
    "print(myset1 > myset2)\n",
    "print(myset2 > myset1)"
   ]
  },
  {
   "cell_type": "code",
   "execution_count": 23,
   "metadata": {},
   "outputs": [
    {
     "name": "stdout",
     "output_type": "stream",
     "text": [
      "False\n",
      "empty list\n"
     ]
    }
   ],
   "source": [
    "print(not 1)\n",
    "if not []:\n",
    "    print('empty list')\n",
    "else:\n",
    "    print('not empty')"
   ]
  },
  {
   "cell_type": "code",
   "execution_count": 24,
   "metadata": {},
   "outputs": [
    {
     "name": "stdout",
     "output_type": "stream",
     "text": [
      "6\n",
      "175\n",
      "169\n",
      "156\n",
      "71\n"
     ]
    }
   ],
   "source": [
    "x = 39   # 2進数で00100111\n",
    "y = 142  # 2進数で10001110\n",
    "print(x & y)  # 6\n",
    "print(x | y)  # 175\n",
    "print(x ^ y)  # 169\n",
    "print(x << 2)  # 156\n",
    "print(y >> 1)  # 72"
   ]
  },
  {
   "cell_type": "code",
   "execution_count": 31,
   "metadata": {},
   "outputs": [
    {
     "name": "stdout",
     "output_type": "stream",
     "text": [
      "10 is even number\n"
     ]
    }
   ],
   "source": [
    "from random import randint\n",
    "number = randint(1, 10)\n",
    "message = 'even' if number%2 == 0 else 'odd'\n",
    "print(f'{number} is {message} number')"
   ]
  },
  {
   "cell_type": "code",
   "execution_count": 51,
   "metadata": {},
   "outputs": [
    {
     "name": "stdout",
     "output_type": "stream",
     "text": [
      "25: buzz\n"
     ]
    }
   ],
   "source": [
    "from random import randint\n",
    "number = randint(1, 30)\n",
    "message = 'fizzbuzz' if number%3 == 0 and number%5 == 0\\\n",
    "    else 'fizz' if number%3 == 0\\\n",
    "    else 'buzz' if number%5 == 0\\\n",
    "    else str(number)\n",
    "print(f'{number}: {message}')"
   ]
  },
  {
   "cell_type": "markdown",
   "metadata": {},
   "source": [
    "# 第28回"
   ]
  },
  {
   "cell_type": "code",
   "execution_count": 52,
   "metadata": {},
   "outputs": [
    {
     "name": "stdout",
     "output_type": "stream",
     "text": [
      "<class 'str'>\n"
     ]
    }
   ],
   "source": [
    "print(type('a'))"
   ]
  },
  {
   "cell_type": "markdown",
   "metadata": {},
   "source": [
    "クラスの名前についてはPythonのコーディングスタイルガイドの「Class Names」で「CapWords規約に従った名前にする」ことが基本的には推奨されている。「CapWords」規約とは、その規約名を見ると分かる通り、「単語の先頭は大文字で始めて、名前が複数の単語でつづられるときには、それらをアンダースコアなどを使わずにつなげる」命名法のこと"
   ]
  },
  {
   "cell_type": "code",
   "execution_count": 53,
   "metadata": {},
   "outputs": [],
   "source": [
    "class Point:\n",
    "    pass"
   ]
  },
  {
   "cell_type": "code",
   "execution_count": 54,
   "metadata": {},
   "outputs": [
    {
     "name": "stdout",
     "output_type": "stream",
     "text": [
      "<class '__main__.Point'>\n"
     ]
    }
   ],
   "source": [
    "point1 = Point()\n",
    "print(type(point1))"
   ]
  },
  {
   "cell_type": "code",
   "execution_count": 55,
   "metadata": {},
   "outputs": [
    {
     "name": "stdout",
     "output_type": "stream",
     "text": [
      "['__class__', '__delattr__', '__dict__', '__dir__', '__doc__', '__eq__', '__format__', '__ge__', '__getattribute__', '__gt__', '__hash__', '__init__', '__init_subclass__', '__le__', '__lt__', '__module__', '__ne__', '__new__', '__reduce__', '__reduce_ex__', '__repr__', '__setattr__', '__sizeof__', '__str__', '__subclasshook__', '__weakref__']\n"
     ]
    }
   ],
   "source": [
    "print(dir(point1))"
   ]
  },
  {
   "cell_type": "code",
   "execution_count": 56,
   "metadata": {},
   "outputs": [],
   "source": [
    "point1.x = 1.0\n",
    "point1.y = 1.0"
   ]
  },
  {
   "cell_type": "code",
   "execution_count": 57,
   "metadata": {},
   "outputs": [
    {
     "name": "stdout",
     "output_type": "stream",
     "text": [
      "['__class__', '__delattr__', '__dict__', '__dir__', '__doc__', '__eq__', '__format__', '__ge__', '__getattribute__', '__gt__', '__hash__', '__init__', '__init_subclass__', '__le__', '__lt__', '__module__', '__ne__', '__new__', '__reduce__', '__reduce_ex__', '__repr__', '__setattr__', '__sizeof__', '__str__', '__subclasshook__', '__weakref__', 'x', 'y']\n"
     ]
    }
   ],
   "source": [
    "print(dir(point1))"
   ]
  },
  {
   "cell_type": "code",
   "execution_count": 58,
   "metadata": {},
   "outputs": [],
   "source": [
    "point2 = Point()"
   ]
  },
  {
   "cell_type": "code",
   "execution_count": 59,
   "metadata": {},
   "outputs": [],
   "source": [
    "class Point:\n",
    "    def __init__(self, x=0.0, y=0.0):\n",
    "        self.x = x\n",
    "        self.y = y"
   ]
  },
  {
   "cell_type": "code",
   "execution_count": 62,
   "metadata": {},
   "outputs": [
    {
     "name": "stdout",
     "output_type": "stream",
     "text": [
      "point1: (1.0, (1.0)\n",
      "point2: (0.0, (0.0)\n"
     ]
    }
   ],
   "source": [
    "point1 = Point(1.0, 1.0)\n",
    "point2 = Point()\n",
    "print(f'point1: ({point1.x}, ({point1.y})')\n",
    "print(f'point2: ({point2.x}, ({point2.y})')"
   ]
  },
  {
   "cell_type": "code",
   "execution_count": 63,
   "metadata": {},
   "outputs": [
    {
     "name": "stdout",
     "output_type": "stream",
     "text": [
      "1.4142135623730951\n"
     ]
    }
   ],
   "source": [
    "from math import sqrt\n",
    "print(sqrt((point1.x - point2.x)**2 + (point1.y - point2.y)**2))"
   ]
  },
  {
   "cell_type": "code",
   "execution_count": 65,
   "metadata": {},
   "outputs": [],
   "source": [
    "from math import sqrt\n",
    "\n",
    "class Point:\n",
    "    def __init__(self, x=0.0, y=0.0):\n",
    "        self.x = x\n",
    "        self.y = y\n",
    "    def difference(self, point=None):\n",
    "        if not point:\n",
    "            point = Point() # 原点を表すPointクラスのインスタンスを生成\n",
    "        return sqrt((self.x - point.x)**2 + (self.y - point.y)**2)"
   ]
  },
  {
   "cell_type": "code",
   "execution_count": 66,
   "metadata": {},
   "outputs": [
    {
     "name": "stdout",
     "output_type": "stream",
     "text": [
      "1.4142135623730951\n",
      "1.4142135623730951\n",
      "5.0\n"
     ]
    }
   ],
   "source": [
    "point1 = Point(1.0, 1.0)\n",
    "point2 = Point()\n",
    "point3 = Point(5, 4)\n",
    "print(point1.difference(point2))\n",
    "print(point1.difference())\n",
    "print(point3.difference(point1))"
   ]
  },
  {
   "cell_type": "markdown",
   "metadata": {},
   "source": [
    "# 第29回"
   ]
  },
  {
   "cell_type": "code",
   "execution_count": 1,
   "metadata": {},
   "outputs": [],
   "source": [
    "class Point:\n",
    "    pass"
   ]
  },
  {
   "cell_type": "code",
   "execution_count": 2,
   "metadata": {},
   "outputs": [],
   "source": [
    "point1 = Point()\n",
    "point1.x = 1.0\n",
    "point1.y = 1.0"
   ]
  },
  {
   "cell_type": "code",
   "execution_count": 3,
   "metadata": {},
   "outputs": [
    {
     "name": "stdout",
     "output_type": "stream",
     "text": [
      "Hello world\n"
     ]
    },
    {
     "ename": "AttributeError",
     "evalue": "'Point' object has no attribute 'hello'",
     "output_type": "error",
     "traceback": [
      "\u001b[1;31m---------------------------------------------------------------------------\u001b[0m",
      "\u001b[1;31mAttributeError\u001b[0m                            Traceback (most recent call last)",
      "\u001b[1;32m<ipython-input-3-c88aa565291a>\u001b[0m in \u001b[0;36m<module>\u001b[1;34m\u001b[0m\n\u001b[0;32m      3\u001b[0m \u001b[1;33m\u001b[0m\u001b[0m\n\u001b[0;32m      4\u001b[0m \u001b[0mpoint2\u001b[0m \u001b[1;33m=\u001b[0m \u001b[0mPoint\u001b[0m\u001b[1;33m(\u001b[0m\u001b[1;33m)\u001b[0m\u001b[1;33m\u001b[0m\u001b[1;33m\u001b[0m\u001b[0m\n\u001b[1;32m----> 5\u001b[1;33m \u001b[0mpoint2\u001b[0m\u001b[1;33m.\u001b[0m\u001b[0mhello\u001b[0m\u001b[1;33m(\u001b[0m\u001b[1;34m'world'\u001b[0m\u001b[1;33m)\u001b[0m\u001b[1;33m\u001b[0m\u001b[1;33m\u001b[0m\u001b[0m\n\u001b[0m",
      "\u001b[1;31mAttributeError\u001b[0m: 'Point' object has no attribute 'hello'"
     ]
    }
   ],
   "source": [
    "point1.hello = lambda x: print('Hello', str(x))\n",
    "point1.hello('world')\n",
    "\n",
    "point2 = Point()\n",
    "point2.hello('world')"
   ]
  },
  {
   "cell_type": "code",
   "execution_count": 4,
   "metadata": {},
   "outputs": [],
   "source": [
    "class MyClass:\n",
    "    count = 0"
   ]
  },
  {
   "cell_type": "code",
   "execution_count": 5,
   "metadata": {},
   "outputs": [
    {
     "name": "stdout",
     "output_type": "stream",
     "text": [
      "0\n"
     ]
    }
   ],
   "source": [
    "print(MyClass.count)"
   ]
  },
  {
   "cell_type": "code",
   "execution_count": 6,
   "metadata": {},
   "outputs": [
    {
     "name": "stdout",
     "output_type": "stream",
     "text": [
      "0\n"
     ]
    }
   ],
   "source": [
    "instance = MyClass()\n",
    "print(instance.count)"
   ]
  },
  {
   "cell_type": "code",
   "execution_count": 7,
   "metadata": {},
   "outputs": [
    {
     "name": "stdout",
     "output_type": "stream",
     "text": [
      "100\n",
      "0\n"
     ]
    }
   ],
   "source": [
    "instance.count = 100\n",
    "print(instance.count)\n",
    "print(MyClass.count)"
   ]
  },
  {
   "cell_type": "code",
   "execution_count": 8,
   "metadata": {},
   "outputs": [],
   "source": [
    "class MyClass:\n",
    "    count = 0\n",
    "    \n",
    "    def __init__(self):\n",
    "        self.count += 1\n",
    "        print(f'youmade {MyClass.count} instance(s)')"
   ]
  },
  {
   "cell_type": "code",
   "execution_count": 10,
   "metadata": {},
   "outputs": [
    {
     "name": "stdout",
     "output_type": "stream",
     "text": [
      "youmade 0 instance(s)\n",
      "youmade 0 instance(s)\n"
     ]
    }
   ],
   "source": [
    "instance1 = MyClass()\n",
    "instance2 = MyClass()"
   ]
  },
  {
   "cell_type": "code",
   "execution_count": 11,
   "metadata": {},
   "outputs": [],
   "source": [
    "class MyClass:\n",
    "    count = 0\n",
    "    \n",
    "    def __init__(self):\n",
    "        MyClass.count += 1\n",
    "        print(f'you made {MyClass.count} instance(s)')"
   ]
  },
  {
   "cell_type": "code",
   "execution_count": 12,
   "metadata": {},
   "outputs": [
    {
     "name": "stdout",
     "output_type": "stream",
     "text": [
      "you made 1 instance(s)\n",
      "you made 2 instance(s)\n"
     ]
    }
   ],
   "source": [
    "instance1 = MyClass()\n",
    "instance2 = MyClass()"
   ]
  },
  {
   "cell_type": "code",
   "execution_count": 13,
   "metadata": {},
   "outputs": [],
   "source": [
    "class MyClass:\n",
    "    count = 0\n",
    "    \n",
    "    def __init__(self):\n",
    "        MyClass.count += 1\n",
    "        print(f'you made {MyClass.count} instance(s)')\n",
    "    \n",
    "    @classmethod\n",
    "    def get_count(cls):\n",
    "        print(cls.count)"
   ]
  },
  {
   "cell_type": "code",
   "execution_count": 14,
   "metadata": {},
   "outputs": [
    {
     "name": "stdout",
     "output_type": "stream",
     "text": [
      "0\n"
     ]
    }
   ],
   "source": [
    "MyClass.get_count()"
   ]
  },
  {
   "cell_type": "code",
   "execution_count": 15,
   "metadata": {},
   "outputs": [
    {
     "name": "stdout",
     "output_type": "stream",
     "text": [
      "you made 1 instance(s)\n",
      "you made 2 instance(s)\n",
      "2\n"
     ]
    }
   ],
   "source": [
    "instance1 = MyClass()\n",
    "instance2 = MyClass()\n",
    "instance2.get_count()"
   ]
  },
  {
   "cell_type": "code",
   "execution_count": 16,
   "metadata": {},
   "outputs": [],
   "source": [
    "class MyClass:\n",
    "    count = 0\n",
    "    def __init__(self):\n",
    "        MyClass.count += 1\n",
    "        print(f'you made {MyClass.count} instance(s)')\n",
    "    \n",
    "    @classmethod\n",
    "    def get_count(cls):\n",
    "        cls.another_get_count()\n",
    "    \n",
    "    another_get_count = classmethod(lambda cls: print('count:', cls.count))"
   ]
  },
  {
   "cell_type": "code",
   "execution_count": 20,
   "metadata": {},
   "outputs": [
    {
     "name": "stdout",
     "output_type": "stream",
     "text": [
      "count: 0\n",
      "you made 1 instance(s)\n",
      "count: 1\n",
      "count: 1\n"
     ]
    }
   ],
   "source": [
    "MyClass.another_get_count()\n",
    "instance1 = MyClass()\n",
    "instance1.another_get_count()\n",
    "instance1.get_count()"
   ]
  },
  {
   "cell_type": "code",
   "execution_count": 21,
   "metadata": {},
   "outputs": [],
   "source": [
    "class MyClass:\n",
    "    count = 0\n",
    "    def __init__(self):\n",
    "        MyClass.count += 1\n",
    "        print(f'you made {MyClass.count} instance(s)')\n",
    "    \n",
    "    @classmethod\n",
    "    def get_count(cls):\n",
    "        cls.another_get_count()\n",
    "    \n",
    "    another_get_count = classmethod(lambda cls: print('count:', cls.count))\n",
    "    \n",
    "    @staticmethod\n",
    "    def static_get_count():\n",
    "        print('count:', MyClass.count)"
   ]
  },
  {
   "cell_type": "code",
   "execution_count": 22,
   "metadata": {},
   "outputs": [
    {
     "name": "stdout",
     "output_type": "stream",
     "text": [
      "count: 0\n",
      "you made 1 instance(s)\n",
      "count: 1\n"
     ]
    }
   ],
   "source": [
    "MyClass.static_get_count()\n",
    "instance = MyClass()\n",
    "instance.static_get_count()"
   ]
  },
  {
   "cell_type": "markdown",
   "metadata": {},
   "source": [
    "# 第30回"
   ]
  },
  {
   "cell_type": "code",
   "execution_count": 27,
   "metadata": {},
   "outputs": [],
   "source": [
    "class MyStack:\n",
    "    def __init__(self):\n",
    "        self.stack = []\n",
    "    def push(self, item):\n",
    "        self.stack.append(item)\n",
    "    def pop(self):\n",
    "        return self.stack.pop()\n",
    "#     def pop(self):\n",
    "#         result = self.stack[-1]\n",
    "#         del self.stack[-1]\n",
    "#         return result"
   ]
  },
  {
   "cell_type": "code",
   "execution_count": 31,
   "metadata": {},
   "outputs": [
    {
     "name": "stdout",
     "output_type": "stream",
     "text": [
      "['aaa', 'bbb']\n",
      "bbb\n",
      "['aaa']\n"
     ]
    }
   ],
   "source": [
    "stack1 = MyStack()\n",
    "stack1.push('aaa')\n",
    "stack1.push('bbb')\n",
    "print(stack1.stack)\n",
    "print(stack1.pop())\n",
    "print(stack1.stack)"
   ]
  },
  {
   "cell_type": "code",
   "execution_count": 32,
   "metadata": {},
   "outputs": [
    {
     "data": {
      "text/plain": [
       "'aaa'"
      ]
     },
     "execution_count": 32,
     "metadata": {},
     "output_type": "execute_result"
    }
   ],
   "source": [
    "stack1.pop()"
   ]
  },
  {
   "cell_type": "code",
   "execution_count": null,
   "metadata": {},
   "outputs": [],
   "source": []
  }
 ],
 "metadata": {
  "kernelspec": {
   "display_name": "Python 3",
   "language": "python",
   "name": "python3"
  },
  "language_info": {
   "codemirror_mode": {
    "name": "ipython",
    "version": 3
   },
   "file_extension": ".py",
   "mimetype": "text/x-python",
   "name": "python",
   "nbconvert_exporter": "python",
   "pygments_lexer": "ipython3",
   "version": "3.7.3"
  }
 },
 "nbformat": 4,
 "nbformat_minor": 2
}
