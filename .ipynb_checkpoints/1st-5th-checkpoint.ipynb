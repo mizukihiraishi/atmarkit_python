{
 "cells": [
  {
   "cell_type": "markdown",
   "metadata": {},
   "source": [
    "https://atmarkit.itmedia.co.jp/ait/subtop/features/di/pybasic_index.html\n",
    "https://atmarkit.itmedia.co.jp/ait/subtop/di/index.html"
   ]
  },
  {
   "cell_type": "markdown",
   "metadata": {},
   "source": [
    "# 第1回"
   ]
  },
  {
   "cell_type": "code",
   "execution_count": 1,
   "metadata": {},
   "outputs": [
    {
     "name": "stdout",
     "output_type": "stream",
     "text": [
      " 1,  2,  3,  4,  5,  6,  7,  8,  9\n",
      " 2,  4,  6,  8, 10, 12, 14, 16, 18\n",
      " 3,  6,  9, 12, 15, 18, 21, 24, 27\n",
      " 4,  8, 12, 16, 20, 24, 28, 32, 36\n",
      " 5, 10, 15, 20, 25, 30, 35, 40, 45\n",
      " 6, 12, 18, 24, 30, 36, 42, 48, 54\n",
      " 7, 14, 21, 28, 35, 42, 49, 56, 63\n",
      " 8, 16, 24, 32, 40, 48, 56, 64, 72\n",
      " 9, 18, 27, 36, 45, 54, 63, 72, 81\n"
     ]
    }
   ],
   "source": [
    "result = []\n",
    "for num1 in range(1, 10):\n",
    "    tmp = []\n",
    "    for num2 in range(1, 10):\n",
    "        tmp.append(f'{num1 * num2:2}')\n",
    "    result.append(tmp)\n",
    "\n",
    "for row in result:\n",
    "    print(', '.join(row))"
   ]
  },
  {
   "cell_type": "code",
   "execution_count": 2,
   "metadata": {},
   "outputs": [
    {
     "name": "stdout",
     "output_type": "stream",
     "text": [
      " 1,  2,  3,  4,  5,  6,  7,  8,  9\n",
      " 2,  4,  6,  8, 10, 12, 14, 16, 18\n",
      " 3,  6,  9, 12, 15, 18, 21, 24, 27\n",
      " 4,  8, 12, 16, 20, 24, 28, 32, 36\n",
      " 5, 10, 15, 20, 25, 30, 35, 40, 45\n",
      " 6, 12, 18, 24, 30, 36, 42, 48, 54\n",
      " 7, 14, 21, 28, 35, 42, 49, 56, 63\n",
      " 8, 16, 24, 32, 40, 48, 56, 64, 72\n",
      " 9, 18, 27, 36, 45, 54, 63, 72, 81\n"
     ]
    }
   ],
   "source": [
    "result = [[f'{num1 * num2:2}'for num2 in range(1, 10)] \n",
    "         for num1 in range(1, 10)]\n",
    "\n",
    "for row in result:\n",
    "    print(', '.join(row))"
   ]
  },
  {
   "cell_type": "code",
   "execution_count": 3,
   "metadata": {},
   "outputs": [
    {
     "name": "stdout",
     "output_type": "stream",
     "text": [
      "(1.0037317148789446, 1.1006562375889226)\n"
     ]
    }
   ],
   "source": [
    "def fit(x, y):\n",
    "    x_mean = sum(x) / len(x)\n",
    "    y_mean = sum(y) / len(y)\n",
    "\n",
    "    x_centered = [item - x_mean for item in x]\n",
    "    y_centered = [item - y_mean for item in y]\n",
    "\n",
    "    xy = [item_x * item_y \n",
    "          for item_x, item_y in zip(x_centered, y_centered)]\n",
    "    xx = [item * item for item in x_centered]\n",
    "    sum_xy = sum(xy)\n",
    "    sum_xx = sum(xx)\n",
    "\n",
    "    a = sum_xy / sum_xx\n",
    "    b = y_mean - a * x_mean\n",
    "\n",
    "    return (a, b)\n",
    "\n",
    "# サンプルデータ\n",
    "x = [-0.03, 0.78, 2.07, 2.77, 4.10, 5.38, 5.99, 6.84, 8.12, 8.89, 9.43]\n",
    "y = [0.88, 2.45, 2.43, 4.07, 5.49, 6.46, 7.02, 8.27, 8.70, 10.23, 10.65]\n",
    "\n",
    "# 一次関数の推測を行う\n",
    "print(fit(x, y)) "
   ]
  },
  {
   "cell_type": "code",
   "execution_count": 4,
   "metadata": {},
   "outputs": [
    {
     "name": "stdout",
     "output_type": "stream",
     "text": [
      "[1.00373171 1.10065624]\n"
     ]
    }
   ],
   "source": [
    "import numpy as np\n",
    "\n",
    "x = [-0.03, 0.78, 2.07, 2.77, 4.10, 5.38, 5.99, 6.84, 8.12, 8.89, 9.43]\n",
    "y = [0.88, 2.45, 2.43, 4.07, 5.49, 6.46, 7.02, 8.27, 8.70, 10.23, 10.65]\n",
    "\n",
    "print(np.polyfit(x, y, 1))"
   ]
  },
  {
   "cell_type": "markdown",
   "metadata": {},
   "source": [
    "# 第2回"
   ]
  },
  {
   "cell_type": "code",
   "execution_count": 5,
   "metadata": {},
   "outputs": [
    {
     "name": "stdout",
     "output_type": "stream",
     "text": [
      "Hello World\n"
     ]
    }
   ],
   "source": [
    "print('Hello World')"
   ]
  },
  {
   "cell_type": "code",
   "execution_count": 6,
   "metadata": {},
   "outputs": [
    {
     "name": "stdout",
     "output_type": "stream",
     "text": [
      "input your name : World\n",
      "Hello World!\n"
     ]
    }
   ],
   "source": [
    "name = input('input your name : ')\n",
    "message = 'Hello ' + name + '!'\n",
    "print(message)"
   ]
  },
  {
   "cell_type": "code",
   "execution_count": 7,
   "metadata": {},
   "outputs": [
    {
     "name": "stdout",
     "output_type": "stream",
     "text": [
      "input your name : World\n",
      "Hello World!\n"
     ]
    }
   ],
   "source": [
    "def helloworld():\n",
    "    name = input('input your name : ')\n",
    "    message = 'Hello ' + name + '!'\n",
    "    print(message)\n",
    "\n",
    "helloworld()"
   ]
  },
  {
   "cell_type": "markdown",
   "metadata": {},
   "source": [
    "# 第3回"
   ]
  },
  {
   "cell_type": "code",
   "execution_count": 8,
   "metadata": {},
   "outputs": [
    {
     "data": {
      "text/plain": [
       "2"
      ]
     },
     "execution_count": 8,
     "metadata": {},
     "output_type": "execute_result"
    }
   ],
   "source": [
    "1 + 1"
   ]
  },
  {
   "cell_type": "code",
   "execution_count": 9,
   "metadata": {},
   "outputs": [
    {
     "name": "stdout",
     "output_type": "stream",
     "text": [
      "1.0 - 1.0 = 0.0\n",
      "1 - 1 = 0\n"
     ]
    }
   ],
   "source": [
    "print('1.0 - 1.0 =',1.0 - 1.0)\n",
    "print('1 - 1 =',1 - 1)"
   ]
  },
  {
   "cell_type": "code",
   "execution_count": 10,
   "metadata": {},
   "outputs": [
    {
     "data": {
      "text/plain": [
       "int"
      ]
     },
     "execution_count": 10,
     "metadata": {},
     "output_type": "execute_result"
    }
   ],
   "source": [
    "type(1)"
   ]
  },
  {
   "cell_type": "code",
   "execution_count": 11,
   "metadata": {},
   "outputs": [
    {
     "data": {
      "text/plain": [
       "253"
      ]
     },
     "execution_count": 11,
     "metadata": {},
     "output_type": "execute_result"
    }
   ],
   "source": [
    "#2進数\n",
    "0b11111101"
   ]
  },
  {
   "cell_type": "code",
   "execution_count": 12,
   "metadata": {},
   "outputs": [
    {
     "data": {
      "text/plain": [
       "253"
      ]
     },
     "execution_count": 12,
     "metadata": {},
     "output_type": "execute_result"
    }
   ],
   "source": [
    "#8進数\n",
    "0o375"
   ]
  },
  {
   "cell_type": "code",
   "execution_count": 13,
   "metadata": {},
   "outputs": [
    {
     "data": {
      "text/plain": [
       "253"
      ]
     },
     "execution_count": 13,
     "metadata": {},
     "output_type": "execute_result"
    }
   ],
   "source": [
    "#16進数\n",
    "0xFD"
   ]
  },
  {
   "cell_type": "code",
   "execution_count": 14,
   "metadata": {},
   "outputs": [
    {
     "name": "stdout",
     "output_type": "stream",
     "text": [
      "1234567\n",
      "253\n"
     ]
    }
   ],
   "source": [
    "#桁区切りの「,」の代わりに_を入れることができる\n",
    "print(1_234_567)\n",
    "print(0b1111_1101)"
   ]
  },
  {
   "cell_type": "code",
   "execution_count": 15,
   "metadata": {},
   "outputs": [
    {
     "data": {
      "text/plain": [
       "1.0"
      ]
     },
     "execution_count": 15,
     "metadata": {},
     "output_type": "execute_result"
    }
   ],
   "source": [
    "1."
   ]
  },
  {
   "cell_type": "code",
   "execution_count": 16,
   "metadata": {},
   "outputs": [
    {
     "data": {
      "text/plain": [
       "float"
      ]
     },
     "execution_count": 16,
     "metadata": {},
     "output_type": "execute_result"
    }
   ],
   "source": [
    "type(1.)"
   ]
  },
  {
   "cell_type": "code",
   "execution_count": 17,
   "metadata": {},
   "outputs": [
    {
     "data": {
      "text/plain": [
       "773.0"
      ]
     },
     "execution_count": 17,
     "metadata": {},
     "output_type": "execute_result"
    }
   ],
   "source": [
    "7.73e2"
   ]
  },
  {
   "cell_type": "code",
   "execution_count": 18,
   "metadata": {},
   "outputs": [
    {
     "data": {
      "text/plain": [
       "-9876.5432"
      ]
     },
     "execution_count": 18,
     "metadata": {},
     "output_type": "execute_result"
    }
   ],
   "source": [
    "-9.8765432e3"
   ]
  },
  {
   "cell_type": "code",
   "execution_count": 19,
   "metadata": {},
   "outputs": [
    {
     "data": {
      "text/plain": [
       "0.0001234"
      ]
     },
     "execution_count": 19,
     "metadata": {},
     "output_type": "execute_result"
    }
   ],
   "source": [
    "1.234e-4"
   ]
  },
  {
   "cell_type": "code",
   "execution_count": 20,
   "metadata": {},
   "outputs": [
    {
     "data": {
      "text/plain": [
       "1.7000000000000002"
      ]
     },
     "execution_count": 20,
     "metadata": {},
     "output_type": "execute_result"
    }
   ],
   "source": [
    "0.1 + 1.6"
   ]
  },
  {
   "cell_type": "code",
   "execution_count": 21,
   "metadata": {},
   "outputs": [
    {
     "data": {
      "text/plain": [
       "14"
      ]
     },
     "execution_count": 21,
     "metadata": {},
     "output_type": "execute_result"
    }
   ],
   "source": [
    "2 * 7"
   ]
  },
  {
   "cell_type": "code",
   "execution_count": 22,
   "metadata": {},
   "outputs": [
    {
     "data": {
      "text/plain": [
       "0.2"
      ]
     },
     "execution_count": 22,
     "metadata": {},
     "output_type": "execute_result"
    }
   ],
   "source": [
    "1 / 5"
   ]
  },
  {
   "cell_type": "code",
   "execution_count": 23,
   "metadata": {},
   "outputs": [
    {
     "data": {
      "text/plain": [
       "2.0"
      ]
     },
     "execution_count": 23,
     "metadata": {},
     "output_type": "execute_result"
    }
   ],
   "source": [
    "4 / 2"
   ]
  },
  {
   "cell_type": "code",
   "execution_count": 24,
   "metadata": {},
   "outputs": [
    {
     "data": {
      "text/plain": [
       "2"
      ]
     },
     "execution_count": 24,
     "metadata": {},
     "output_type": "execute_result"
    }
   ],
   "source": [
    "13 // 5"
   ]
  },
  {
   "cell_type": "code",
   "execution_count": 25,
   "metadata": {},
   "outputs": [
    {
     "data": {
      "text/plain": [
       "3"
      ]
     },
     "execution_count": 25,
     "metadata": {},
     "output_type": "execute_result"
    }
   ],
   "source": [
    "13 % 5"
   ]
  },
  {
   "cell_type": "code",
   "execution_count": 26,
   "metadata": {},
   "outputs": [
    {
     "data": {
      "text/plain": [
       "4.0"
      ]
     },
     "execution_count": 26,
     "metadata": {},
     "output_type": "execute_result"
    }
   ],
   "source": [
    "17.5 // 3.7"
   ]
  },
  {
   "cell_type": "code",
   "execution_count": 27,
   "metadata": {},
   "outputs": [
    {
     "data": {
      "text/plain": [
       "2.6999999999999993"
      ]
     },
     "execution_count": 27,
     "metadata": {},
     "output_type": "execute_result"
    }
   ],
   "source": [
    "17.5 % 3.7"
   ]
  },
  {
   "cell_type": "code",
   "execution_count": 28,
   "metadata": {},
   "outputs": [
    {
     "data": {
      "text/plain": [
       "1024"
      ]
     },
     "execution_count": 28,
     "metadata": {},
     "output_type": "execute_result"
    }
   ],
   "source": [
    "2 ** 10"
   ]
  },
  {
   "cell_type": "code",
   "execution_count": 29,
   "metadata": {},
   "outputs": [
    {
     "data": {
      "text/plain": [
       "2.0"
      ]
     },
     "execution_count": 29,
     "metadata": {},
     "output_type": "execute_result"
    }
   ],
   "source": [
    "5 / 2.5"
   ]
  },
  {
   "cell_type": "code",
   "execution_count": 30,
   "metadata": {},
   "outputs": [
    {
     "data": {
      "text/plain": [
       "2.2"
      ]
     },
     "execution_count": 30,
     "metadata": {},
     "output_type": "execute_result"
    }
   ],
   "source": [
    "1 + 1.2"
   ]
  },
  {
   "cell_type": "code",
   "execution_count": 31,
   "metadata": {},
   "outputs": [
    {
     "data": {
      "text/plain": [
       "2"
      ]
     },
     "execution_count": 31,
     "metadata": {},
     "output_type": "execute_result"
    }
   ],
   "source": [
    "int(2.8)"
   ]
  },
  {
   "cell_type": "code",
   "execution_count": 32,
   "metadata": {},
   "outputs": [
    {
     "data": {
      "text/plain": [
       "2.0"
      ]
     },
     "execution_count": 32,
     "metadata": {},
     "output_type": "execute_result"
    }
   ],
   "source": [
    "float(2)"
   ]
  },
  {
   "cell_type": "code",
   "execution_count": 33,
   "metadata": {},
   "outputs": [
    {
     "data": {
      "text/plain": [
       "2"
      ]
     },
     "execution_count": 33,
     "metadata": {},
     "output_type": "execute_result"
    }
   ],
   "source": [
    "int('2')"
   ]
  },
  {
   "cell_type": "code",
   "execution_count": 34,
   "metadata": {},
   "outputs": [
    {
     "data": {
      "text/plain": [
       "2.8"
      ]
     },
     "execution_count": 34,
     "metadata": {},
     "output_type": "execute_result"
    }
   ],
   "source": [
    "float(2.8)"
   ]
  },
  {
   "cell_type": "markdown",
   "metadata": {},
   "source": [
    "int('2.8')\n",
    "\n",
    "---------------------------------------------------------------------------\n",
    "ValueError                                Traceback (most recent call last)\n",
    "\n",
    "< ipython-input-50-4ffe66023137> in < module>\n",
    "\n",
    "----> 1 int('2.8')\n",
    "\n",
    "<b>ValueError: invalid literal for int() with base 10: '2.8'"
   ]
  },
  {
   "cell_type": "code",
   "execution_count": 35,
   "metadata": {},
   "outputs": [
    {
     "data": {
      "text/plain": [
       "5"
      ]
     },
     "execution_count": 35,
     "metadata": {},
     "output_type": "execute_result"
    }
   ],
   "source": [
    "2 * 3 -1"
   ]
  },
  {
   "cell_type": "code",
   "execution_count": 36,
   "metadata": {},
   "outputs": [
    {
     "data": {
      "text/plain": [
       "4"
      ]
     },
     "execution_count": 36,
     "metadata": {},
     "output_type": "execute_result"
    }
   ],
   "source": [
    "2 * (3 - 1)"
   ]
  },
  {
   "cell_type": "code",
   "execution_count": 37,
   "metadata": {},
   "outputs": [
    {
     "data": {
      "text/plain": [
       "5"
      ]
     },
     "execution_count": 37,
     "metadata": {},
     "output_type": "execute_result"
    }
   ],
   "source": [
    "-1 + 3 * 2"
   ]
  },
  {
   "cell_type": "code",
   "execution_count": 38,
   "metadata": {},
   "outputs": [
    {
     "data": {
      "text/plain": [
       "4"
      ]
     },
     "execution_count": 38,
     "metadata": {},
     "output_type": "execute_result"
    }
   ],
   "source": [
    "(-1 + 3) * 2"
   ]
  },
  {
   "cell_type": "code",
   "execution_count": 39,
   "metadata": {},
   "outputs": [
    {
     "data": {
      "text/plain": [
       "1"
      ]
     },
     "execution_count": 39,
     "metadata": {},
     "output_type": "execute_result"
    }
   ],
   "source": [
    "-(-1)"
   ]
  },
  {
   "cell_type": "code",
   "execution_count": 40,
   "metadata": {},
   "outputs": [
    {
     "data": {
      "text/plain": [
       "4"
      ]
     },
     "execution_count": 40,
     "metadata": {},
     "output_type": "execute_result"
    }
   ],
   "source": [
    "2 ** -(-2)"
   ]
  },
  {
   "cell_type": "code",
   "execution_count": 41,
   "metadata": {},
   "outputs": [
    {
     "data": {
      "text/plain": [
       "4"
      ]
     },
     "execution_count": 41,
     "metadata": {},
     "output_type": "execute_result"
    }
   ],
   "source": [
    "2 ** -(int(-2.5))"
   ]
  },
  {
   "cell_type": "markdown",
   "metadata": {},
   "source": [
    "# 第4回"
   ]
  },
  {
   "cell_type": "code",
   "execution_count": 42,
   "metadata": {},
   "outputs": [
    {
     "name": "stdout",
     "output_type": "stream",
     "text": [
      "6.28\n",
      "3.14\n"
     ]
    }
   ],
   "source": [
    "# 半径1の円の円周と面積を求める\n",
    "print(2 * 3.14 * 1)\n",
    "print(3.14 * 1**2)"
   ]
  },
  {
   "cell_type": "code",
   "execution_count": 43,
   "metadata": {},
   "outputs": [
    {
     "name": "stdout",
     "output_type": "stream",
     "text": [
      "6.28\n",
      "3.14\n"
     ]
    },
    {
     "data": {
      "text/plain": [
       "3.141592653589793"
      ]
     },
     "execution_count": 43,
     "metadata": {},
     "output_type": "execute_result"
    }
   ],
   "source": [
    "PI = 3.14\n",
    "r = 1\n",
    "print(2 * PI * r)\n",
    "print(PI * r**2)\n",
    "\n",
    "import math\n",
    "math.pi"
   ]
  },
  {
   "cell_type": "markdown",
   "metadata": {},
   "source": [
    "print(undefinedvariable)\n",
    "\n",
    "---------------------------------------------------------------------------\n",
    "NameError                                 Traceback (most recent call last)\n",
    "\n",
    "< ipython-input-68-94375fbf2148> in < module>\n",
    "\n",
    "----> 1 print(undefinedvariable)\n",
    "\n",
    "<b>NameError: name 'undefinedvariable' is not defined"
   ]
  },
  {
   "cell_type": "code",
   "execution_count": 44,
   "metadata": {},
   "outputs": [
    {
     "name": "stdout",
     "output_type": "stream",
     "text": [
      "12.56\n",
      "12.56\n"
     ]
    }
   ],
   "source": [
    "r = 2\n",
    "print(2 * PI * r)\n",
    "print(PI * r**2)"
   ]
  },
  {
   "cell_type": "code",
   "execution_count": 45,
   "metadata": {},
   "outputs": [
    {
     "name": "stdout",
     "output_type": "stream",
     "text": [
      "28.26\n"
     ]
    }
   ],
   "source": [
    "r += 1\n",
    "print(PI * r**2)"
   ]
  },
  {
   "cell_type": "markdown",
   "metadata": {},
   "source": [
    "# 第5回"
   ]
  },
  {
   "cell_type": "code",
   "execution_count": 46,
   "metadata": {},
   "outputs": [
    {
     "name": "stdout",
     "output_type": "stream",
     "text": [
      "It's easy to learn Python\n"
     ]
    }
   ],
   "source": [
    "print(\"It's easy to learn Python\")"
   ]
  },
  {
   "cell_type": "code",
   "execution_count": 47,
   "metadata": {},
   "outputs": [
    {
     "name": "stdout",
     "output_type": "stream",
     "text": [
      "\"Deep Insider\" is a great site for learning \"AI\"\n"
     ]
    }
   ],
   "source": [
    "print('\"Deep Insider\" is a great site for learning \"AI\"')"
   ]
  },
  {
   "cell_type": "markdown",
   "metadata": {},
   "source": [
    "print('It's')\n",
    "\n",
    "  File \"< ipython-input-76-766ac98919fb>\", line 1\n",
    "\n",
    "    print('It's')\n",
    "    \n",
    "              ^\n",
    "\n",
    "<b>SyntaxError: invalid syntax"
   ]
  },
  {
   "cell_type": "code",
   "execution_count": 48,
   "metadata": {},
   "outputs": [
    {
     "name": "stdout",
     "output_type": "stream",
     "text": [
      "It's\n"
     ]
    }
   ],
   "source": [
    "print('It\\'s')"
   ]
  },
  {
   "cell_type": "code",
   "execution_count": 49,
   "metadata": {},
   "outputs": [
    {
     "name": "stdout",
     "output_type": "stream",
     "text": [
      "\"Deep Insider\" is ...\n"
     ]
    }
   ],
   "source": [
    "print(\"\\\"Deep Insider\\\" is ...\")"
   ]
  },
  {
   "cell_type": "markdown",
   "metadata": {},
   "source": [
    "print('1行目\n",
    "2行目')\n",
    "\n",
    "  File \"<ipython-input-81-570601472a52>\", line 1\n",
    "    \n",
    "    print('1行目\n",
    "    \n",
    "              ^\n",
    "<b>SyntaxError: EOL while scanning string literal"
   ]
  },
  {
   "cell_type": "code",
   "execution_count": 50,
   "metadata": {},
   "outputs": [
    {
     "name": "stdout",
     "output_type": "stream",
     "text": [
      "1行目\n",
      "2行目\n"
     ]
    }
   ],
   "source": [
    "print('1行目\\n2行目')"
   ]
  },
  {
   "cell_type": "code",
   "execution_count": 51,
   "metadata": {},
   "outputs": [
    {
     "name": "stdout",
     "output_type": "stream",
     "text": [
      "0o141\n",
      "0x61\n"
     ]
    }
   ],
   "source": [
    "code_point = ord('a')\n",
    "oct_code = oct(code_point)\n",
    "hex_code = hex(code_point)\n",
    "print(oct_code)\n",
    "print(hex_code)"
   ]
  },
  {
   "cell_type": "code",
   "execution_count": 52,
   "metadata": {},
   "outputs": [
    {
     "name": "stdout",
     "output_type": "stream",
     "text": [
      "a\n",
      "a\n"
     ]
    }
   ],
   "source": [
    "print('\\141')\n",
    "print('\\x61')"
   ]
  },
  {
   "cell_type": "code",
   "execution_count": 53,
   "metadata": {},
   "outputs": [
    {
     "name": "stdout",
     "output_type": "stream",
     "text": [
      "a\n"
     ]
    }
   ],
   "source": [
    "code_point = ord('a')\n",
    "a_char = chr(code_point)\n",
    "print(a_char)"
   ]
  },
  {
   "cell_type": "code",
   "execution_count": 54,
   "metadata": {},
   "outputs": [
    {
     "name": "stdout",
     "output_type": "stream",
     "text": [
      "\n",
      "これはトリプルクオート文字列です。改行も自由に記述できます。\n",
      "シングルクオートの三重引用符の間なら、\n",
      "ダブルクオートの三重引用符\"\"\"も入れられます（逆も可）。\n",
      "エスケープシーケンス\n",
      "\tも含められます。\n",
      "\n"
     ]
    },
    {
     "data": {
      "text/plain": [
       "'\\nこれはトリプルクオート文字列です。改行も自由に記述できます。\\nシングルクオートの三重引用符の間なら、\\nダブルクオートの三重引用符\"\"\"も入れられます（逆も可）。\\nエスケープシーケンス\\n\\tも含められます。\\n'"
      ]
     },
     "execution_count": 54,
     "metadata": {},
     "output_type": "execute_result"
    }
   ],
   "source": [
    "s = '''\n",
    "これはトリプルクオート文字列です。改行も自由に記述できます。\n",
    "シングルクオートの三重引用符の間なら、\n",
    "ダブルクオートの三重引用符\"\"\"も入れられます（逆も可）。\n",
    "エスケープシーケンス\\n\\tも含められます。\n",
    "'''\n",
    "\n",
    "print(s)\n",
    "s"
   ]
  },
  {
   "cell_type": "code",
   "execution_count": 55,
   "metadata": {},
   "outputs": [
    {
     "name": "stdout",
     "output_type": "stream",
     "text": [
      "Help on function add in module __main__:\n",
      "\n",
      "add(a, b)\n",
      "    add(a, b)\n",
      "    \n",
      "    aとbを加算した結果を返す。\n",
      "    \n",
      "    Parameters\n",
      "    ----------\n",
      "    a : int\n",
      "        加算対象その1\n",
      "    b : int\n",
      "        加算対象その2\n",
      "    \n",
      "    Returns\n",
      "    ----------\n",
      "    int\n",
      "        aとbの加算結果\n",
      "\n"
     ]
    }
   ],
   "source": [
    "def add(a, b):\n",
    "    '''\n",
    "    add(a, b)\n",
    "   \n",
    "    aとbを加算した結果を返す。\n",
    "   \n",
    "    Parameters\n",
    "    ----------\n",
    "    a : int\n",
    "        加算対象その1\n",
    "    b : int\n",
    "        加算対象その2\n",
    "   \n",
    "    Returns\n",
    "    ----------\n",
    "    int\n",
    "        aとbの加算結果\n",
    "    '''\n",
    "    return a + b\n",
    "\n",
    "help(add)"
   ]
  },
  {
   "cell_type": "code",
   "execution_count": 56,
   "metadata": {},
   "outputs": [
    {
     "name": "stdout",
     "output_type": "stream",
     "text": [
      "C:\\Users\\U268137\\atmarkit_python\\1st-5th.ipynb\n"
     ]
    },
    {
     "data": {
      "text/plain": [
       "'C:\\\\Users\\\\U268137\\\\atmarkit_python\\\\1st-5th.ipynb'"
      ]
     },
     "execution_count": 56,
     "metadata": {},
     "output_type": "execute_result"
    }
   ],
   "source": [
    "raw_str = r'C:\\Users\\U268137\\atmarkit_python\\1st-5th.ipynb'\n",
    "print(raw_str)\n",
    "raw_str"
   ]
  },
  {
   "cell_type": "code",
   "execution_count": 57,
   "metadata": {},
   "outputs": [
    {
     "name": "stdout",
     "output_type": "stream",
     "text": [
      "1 + 100 = 101\n"
     ]
    }
   ],
   "source": [
    "x = 1\n",
    "y = 100\n",
    "result = f'{x} + {y} = {x + y}'\n",
    "print(result)"
   ]
  },
  {
   "cell_type": "code",
   "execution_count": 58,
   "metadata": {},
   "outputs": [
    {
     "name": "stdout",
     "output_type": "stream",
     "text": [
      "input some number: 100\n",
      "100100\n"
     ]
    }
   ],
   "source": [
    "user_input = input('input some number: ')\n",
    "result = user_input * 2\n",
    "print(result)"
   ]
  },
  {
   "cell_type": "code",
   "execution_count": 59,
   "metadata": {},
   "outputs": [
    {
     "name": "stdout",
     "output_type": "stream",
     "text": [
      "input some number: 100\n",
      "200\n"
     ]
    }
   ],
   "source": [
    "user_input = input('input some number: ')\n",
    "int_input = int(user_input)\n",
    "result = int_input * 2\n",
    "print(result)"
   ]
  },
  {
   "cell_type": "markdown",
   "metadata": {},
   "source": [
    "user_input = input('input some number: ')\n",
    "\n",
    "int_value = int(user_input)\n",
    "\n",
    "result = int_value + ' * 2 = ' + int_value * 2\n",
    "\n",
    "print(result)\n",
    "\n",
    "input some number: 100\n",
    "\n",
    "---------------------------------------------------------------------------\n",
    "TypeError                                 Traceback (most recent call last)\n",
    "< ipython-input-92-7cb6201024b1> in < module>\n",
    "\n",
    "      1 user_input = input('input some number: ')\n",
    "      2 int_value = int(user_input)\n",
    "\n",
    "----> 3 result = int_value + ' * 2 = ' + int_value * 2\n",
    "\n",
    "      4 print(result)\n",
    "\n",
    "<b>TypeError: unsupported operand type(s) for +: 'int' and 'str'"
   ]
  },
  {
   "cell_type": "code",
   "execution_count": 60,
   "metadata": {},
   "outputs": [
    {
     "name": "stdout",
     "output_type": "stream",
     "text": [
      "input some number: 100\n",
      "100 * 2 = 200\n"
     ]
    }
   ],
   "source": [
    "user_input = input('input some number: ')\n",
    "int_value = int(user_input)\n",
    "result = str(int_value) + ' * 2 = ' + str(int_value * 2)\n",
    "print(result)"
   ]
  },
  {
   "cell_type": "code",
   "execution_count": 62,
   "metadata": {},
   "outputs": [
    {
     "name": "stdout",
     "output_type": "stream",
     "text": [
      "input some number: 100\n",
      "100 * 2 = 200\n"
     ]
    }
   ],
   "source": [
    "user_input = input('input some number: ')\n",
    "int_value = int(user_input)\n",
    "result = f'{int_value} * 2 = {int_value * 2}'\n",
    "print(result)"
   ]
  }
 ],
 "metadata": {
  "kernelspec": {
   "display_name": "Python 3",
   "language": "python",
   "name": "python3"
  },
  "language_info": {
   "codemirror_mode": {
    "name": "ipython",
    "version": 3
   },
   "file_extension": ".py",
   "mimetype": "text/x-python",
   "name": "python",
   "nbconvert_exporter": "python",
   "pygments_lexer": "ipython3",
   "version": "3.7.3"
  }
 },
 "nbformat": 4,
 "nbformat_minor": 2
}
