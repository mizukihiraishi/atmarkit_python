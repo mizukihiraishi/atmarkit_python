{
 "cells": [
  {
   "cell_type": "markdown",
   "metadata": {},
   "source": [
    "# 第11回"
   ]
  },
  {
   "cell_type": "code",
   "execution_count": 1,
   "metadata": {},
   "outputs": [
    {
     "name": "stdout",
     "output_type": "stream",
     "text": [
      "10\n",
      "9\n",
      "8\n",
      "7\n",
      "6\n",
      "5\n",
      "4\n",
      "3\n",
      "2\n",
      "1\n",
      "Bomb!\n"
     ]
    }
   ],
   "source": [
    "counter = 10\n",
    "\n",
    "while counter > 0:\n",
    "    print(counter)\n",
    "    counter -= 1\n",
    "print('Bomb!')"
   ]
  },
  {
   "cell_type": "code",
   "execution_count": 2,
   "metadata": {},
   "outputs": [
    {
     "name": "stdout",
     "output_type": "stream",
     "text": [
      "10\n",
      "9\n",
      "8\n",
      "7\n",
      "6\n",
      "5\n",
      "4\n",
      "3\n",
      "2\n",
      "1\n",
      "Bomb!\n"
     ]
    }
   ],
   "source": [
    "counter = 10\n",
    "\n",
    "while counter > 0:\n",
    "    print(counter)\n",
    "    counter -= 1\n",
    "else:\n",
    "    print('Bomb!')"
   ]
  },
  {
   "cell_type": "code",
   "execution_count": 3,
   "metadata": {},
   "outputs": [
    {
     "name": "stdout",
     "output_type": "stream",
     "text": [
      "10\n",
      "9\n",
      "8\n",
      "7\n",
      "6\n",
      "5\n",
      "4\n",
      "3\n",
      "2\n",
      "1\n",
      "Bomb!\n"
     ]
    }
   ],
   "source": [
    "for number in range(10, 0, -1):\n",
    "    print(number)\n",
    "else:\n",
    "    print('Bomb!')"
   ]
  },
  {
   "cell_type": "markdown",
   "metadata": {},
   "source": [
    "数当てゲーム\n",
    "\n",
    "乱数を使うための準備をする<br>\n",
    "乱数を使って、「当たりの数値」を前もって決めておく\n",
    "\n",
    "ユーザーから最初の入力を受け付ける\n",
    "\n",
    "ユーザーが「当たりの数値」を入力するまで以下を行う:<br>\n",
    "    入力された値が「当たりの数値」より大きいか小さいかを<br>\n",
    "    表示して、もう一度ユーザーから入力を受け付ける\n",
    "\n",
    "「繰り返し処理が終了」＝「当たりの数値が入力された」となるので祝福する"
   ]
  },
  {
   "cell_type": "code",
   "execution_count": 1,
   "metadata": {},
   "outputs": [
    {
     "name": "stdout",
     "output_type": "stream",
     "text": [
      "Please input answer: 11\n",
      "Too low!\n",
      "Please input next answer:50\n",
      "Too low!\n",
      "Please input next answer:85\n",
      "Too high\n",
      "Please input next answer:65\n",
      "Too low!\n",
      "Please input next answer:75\n",
      "Too low!\n",
      "Please input next answer:80\n",
      "Too high\n",
      "Please input next answer:79\n",
      "Congratulations!\n"
     ]
    }
   ],
   "source": [
    "import random\n",
    "answer = random.randint(1, 100)\n",
    "\n",
    "user = int(input('Please input answer: '))\n",
    "\n",
    "while user != answer:\n",
    "    if user < answer:\n",
    "        print('Too low!')\n",
    "    else:\n",
    "        print('Too high')\n",
    "    \n",
    "    user = int(input('Please input next answer:'))\n",
    "\n",
    "else:\n",
    "    print('Congratulations!')"
   ]
  },
  {
   "cell_type": "code",
   "execution_count": 6,
   "metadata": {},
   "outputs": [
    {
     "name": "stdout",
     "output_type": "stream",
     "text": [
      "Please input number: 50\n",
      "The answer is larger number.\n",
      "Please input number: 70\n",
      "The answer is smaller number.\n",
      "Please input number: 60\n",
      "The answer is larger number.\n",
      "Please input number: 65\n",
      "The answer is larger number.\n",
      "Please input number: 67\n",
      "The answer is larger number.\n",
      "Please input number: 68\n",
      "The answer is larger number.\n",
      "Please input number: 69\n",
      "Congratulations!\n"
     ]
    }
   ],
   "source": [
    "answer = random.randint(1, 100)\n",
    "\n",
    "while 1:\n",
    "    user = int(input('Please input number: '))\n",
    "    if user == answer:\n",
    "        break\n",
    "    elif user < answer:\n",
    "        print('The answer is larger number.')\n",
    "    else:\n",
    "        print('The answer is smaller number.')\n",
    "print('Congratulations!')"
   ]
  },
  {
   "cell_type": "markdown",
   "metadata": {},
   "source": [
    "# 第12回"
   ]
  },
  {
   "cell_type": "markdown",
   "metadata": {},
   "source": [
    "2進数・・・binary<br>\n",
    "8進数・・・octal<br>\n",
    "10進数・・・decimal<br>\n",
    "16進数・・・hexadecimal"
   ]
  },
  {
   "cell_type": "code",
   "execution_count": 8,
   "metadata": {},
   "outputs": [
    {
     "name": "stdout",
     "output_type": "stream",
     "text": [
      "Hello World\n",
      "Hello 123\n"
     ]
    }
   ],
   "source": [
    "def hello(whom):\n",
    "    print('Hello', str(whom))\n",
    "\n",
    "hello('World')\n",
    "hello(123)"
   ]
  },
  {
   "cell_type": "code",
   "execution_count": 10,
   "metadata": {},
   "outputs": [
    {
     "name": "stdout",
     "output_type": "stream",
     "text": [
      "42\n"
     ]
    }
   ],
   "source": [
    "def get_ans4ultimateQ():\n",
    "    return 42\n",
    "    print(\"can't reach this line\")\n",
    "\n",
    "answer = get_ans4ultimateQ()\n",
    "print(answer)"
   ]
  },
  {
   "cell_type": "code",
   "execution_count": 11,
   "metadata": {},
   "outputs": [
    {
     "name": "stdout",
     "output_type": "stream",
     "text": [
      "42\n"
     ]
    }
   ],
   "source": [
    "print(get_ans4ultimateQ())"
   ]
  },
  {
   "cell_type": "code",
   "execution_count": 14,
   "metadata": {},
   "outputs": [
    {
     "name": "stdout",
     "output_type": "stream",
     "text": [
      "289 289\n",
      "123 Fizz\n",
      "125 Buzz\n",
      "150 FizzBuzz\n",
      "Please input number: 114\n",
      "114 Fizz\n"
     ]
    }
   ],
   "source": [
    "def fizzbuzz(number):\n",
    "    result = str(number)\n",
    "    if number%3 == 0 and number%5 == 0:\n",
    "        return 'FizzBuzz'\n",
    "    elif number%3 == 0:\n",
    "        return 'Fizz'\n",
    "    elif number%5 == 0:\n",
    "        return 'Buzz'\n",
    "    return result\n",
    "    \n",
    "print('289', fizzbuzz(289))\n",
    "print('123', fizzbuzz(123))\n",
    "print('125', fizzbuzz(125))\n",
    "print('150', fizzbuzz(150))\n",
    "\n",
    "user = input('Please input number: ')\n",
    "print(user, fizzbuzz(int(user)))"
   ]
  },
  {
   "cell_type": "markdown",
   "metadata": {},
   "source": [
    "# 第13回"
   ]
  },
  {
   "cell_type": "code",
   "execution_count": 16,
   "metadata": {},
   "outputs": [
    {
     "name": "stdout",
     "output_type": "stream",
     "text": [
      "param1:1, param2:2, param3:3\n"
     ]
    }
   ],
   "source": [
    "def myfunc(param1, param2, param3):\n",
    "    return f'param1:{param1}, param2:{param2}, param3:{param3}'\n",
    "\n",
    "print(myfunc(1, 2, 3))"
   ]
  },
  {
   "cell_type": "code",
   "execution_count": 18,
   "metadata": {},
   "outputs": [
    {
     "name": "stdout",
     "output_type": "stream",
     "text": [
      "keyword arg --> param1:3, param2:string, param3:1\n"
     ]
    }
   ],
   "source": [
    "print('keyword arg -->', myfunc(param3=1, param2='string', param1=3))"
   ]
  },
  {
   "cell_type": "code",
   "execution_count": 19,
   "metadata": {},
   "outputs": [
    {
     "name": "stdout",
     "output_type": "stream",
     "text": [
      "param1:1, param2:2, param3:param3\n"
     ]
    }
   ],
   "source": [
    "print(myfunc(1, param3='param3', param2=2))"
   ]
  },
  {
   "cell_type": "markdown",
   "metadata": {},
   "source": [
    "print(myfunc(param3='param3', 1, 2))\n",
    "\n",
    "  File \"< ipython-input-20-788b24cde878>\", line 1\n",
    "    \n",
    "    print(myfunc(param3='param3', 1, 2))\n",
    "    \n",
    "                                 ^\n",
    "<b>SyntaxError: positional argument follows keyword argument"
   ]
  },
  {
   "cell_type": "code",
   "execution_count": 22,
   "metadata": {},
   "outputs": [
    {
     "name": "stdout",
     "output_type": "stream",
     "text": [
      "param1:a, param2:b, param3:c\n",
      "param1:1, param2:2, param3:3\n",
      "param1:1, param2:2, param3:3\n"
     ]
    }
   ],
   "source": [
    "print(myfunc(*'abc'))\n",
    "print(myfunc(1, *'23'))\n",
    "print(myfunc(*'12', 3))"
   ]
  },
  {
   "cell_type": "markdown",
   "metadata": {},
   "source": [
    "print(myfunc(\\*'1234'))\n",
    "\n",
    "---------------------------------------------------------------------------\n",
    "TypeError                                 Traceback (most recent call last)<br>\n",
    "< ipython-input-23-b31e6dc91329> in < module><br>\n",
    "----> 1 print(myfunc(\\*'1234'))\n",
    "\n",
    "<b>TypeError: myfunc() takes 3 positional arguments but 4 were given\n"
   ]
  },
  {
   "cell_type": "code",
   "execution_count": 25,
   "metadata": {},
   "outputs": [],
   "source": [
    "arg_dict = {'param3': 'param3', 'param2': 2, 'param1': 1.0}"
   ]
  },
  {
   "cell_type": "code",
   "execution_count": 26,
   "metadata": {},
   "outputs": [
    {
     "name": "stdout",
     "output_type": "stream",
     "text": [
      "param1:1.0, param2:2, param3:param3\n"
     ]
    }
   ],
   "source": [
    "print(myfunc(**arg_dict))"
   ]
  },
  {
   "cell_type": "markdown",
   "metadata": {},
   "source": [
    "https://note.nkmk.me/python-argument-expand/"
   ]
  },
  {
   "cell_type": "code",
   "execution_count": 28,
   "metadata": {},
   "outputs": [],
   "source": [
    "def myfunc(param1='param1', param2='param2', param3='param3'):\n",
    "    return f'param1:{param1}, param2:{param2}, param3:{param3}'"
   ]
  },
  {
   "cell_type": "code",
   "execution_count": 29,
   "metadata": {},
   "outputs": [
    {
     "name": "stdout",
     "output_type": "stream",
     "text": [
      "param1:param1, param2:param2, param3:param3\n",
      "param1:1, param2:param2, param3:param3\n",
      "param1:param1, param2:2, param3:param3\n"
     ]
    }
   ],
   "source": [
    "print(myfunc())\n",
    "print(myfunc(1))\n",
    "print(myfunc(param2=2))"
   ]
  },
  {
   "cell_type": "markdown",
   "metadata": {},
   "source": [
    "def myfunc(param1='param1', param2, param3='param3'):<br>\n",
    "&nbsp;&nbsp;&nbsp;&nbsp;&nbsp;&nbsp;return f'param1:{param1}, param2:{param2}, param3:{param3}'\n",
    "\n",
    "  File \"< ipython-input-30-8bf510be29ce>\", line 1\n",
    "  \n",
    "    def myfunc(param1='param1', param2, param3='param3'):\n",
    "    \n",
    "              ^\n",
    "              \n",
    "<b>SyntaxError: non-default argument follows default argument"
   ]
  },
  {
   "cell_type": "code",
   "execution_count": 31,
   "metadata": {},
   "outputs": [
    {
     "name": "stdout",
     "output_type": "stream",
     "text": [
      "some value\n",
      "some value\n",
      "somevalue\n"
     ]
    }
   ],
   "source": [
    "import sys\n",
    "\n",
    "print('some', 'value')\n",
    "print('some', 'value', sep=' ', end='\\n', file=sys.stdout, flush=False)\n",
    "print('some', 'value', sep='')"
   ]
  },
  {
   "cell_type": "code",
   "execution_count": 32,
   "metadata": {},
   "outputs": [],
   "source": [
    "def myfunc(param1, param2, *args):\n",
    "    return f'param1:{param1}, param2:{param2}, other:{args}'"
   ]
  },
  {
   "cell_type": "code",
   "execution_count": 33,
   "metadata": {},
   "outputs": [
    {
     "name": "stdout",
     "output_type": "stream",
     "text": [
      "param1:1, param2:2, other:()\n",
      "param1:1, param2:2, other:(3,)\n",
      "param1:1, param2:2, other:(3, 4)\n"
     ]
    }
   ],
   "source": [
    "print(myfunc(1, 2))\n",
    "print(myfunc(1, 2, 3))\n",
    "print(myfunc(1, 2, 3, 4))"
   ]
  },
  {
   "cell_type": "code",
   "execution_count": 35,
   "metadata": {},
   "outputs": [],
   "source": [
    "def myfunc(param1, param2, *args):\n",
    "    tmp = f'param1:{param1}, param2:{param2}'\n",
    "    index = 3\n",
    "    for item in args:\n",
    "        tmp += f', param{index}:{item}'\n",
    "        index += 1\n",
    "    return tmp"
   ]
  },
  {
   "cell_type": "code",
   "execution_count": 36,
   "metadata": {},
   "outputs": [
    {
     "name": "stdout",
     "output_type": "stream",
     "text": [
      "param1:1, param2:2\n",
      "param1:1, param2:2, param3:3\n",
      "param1:1, param2:2, param3:3, param4:4\n"
     ]
    }
   ],
   "source": [
    "print(myfunc(1, 2))\n",
    "print(myfunc(1, 2, 3))\n",
    "print(myfunc(1, 2, 3, 4))"
   ]
  },
  {
   "cell_type": "code",
   "execution_count": 43,
   "metadata": {},
   "outputs": [
    {
     "name": "stdout",
     "output_type": "stream",
     "text": [
      "param1:1, param2:2\n"
     ]
    }
   ],
   "source": [
    "# *のみのパラメータを指定することで移行のパラメータは\n",
    "# キーワード引数を用いることを強制する\n",
    "def myfunc (param1 = 'param1', *, param2='default'):\n",
    "    return f'param1:{param1}, param2:{param2}'\n",
    "\n",
    "print(myfunc(1, param2=2))"
   ]
  },
  {
   "cell_type": "code",
   "execution_count": 44,
   "metadata": {},
   "outputs": [],
   "source": [
    "def myfunc(param1, **kwargs):\n",
    "    return f'param1:{param1}, others:{kwargs}'"
   ]
  },
  {
   "cell_type": "code",
   "execution_count": 45,
   "metadata": {},
   "outputs": [
    {
     "name": "stdout",
     "output_type": "stream",
     "text": [
      "param1:1, others:{'param2': 'param2', 'foo': 'foo'}\n"
     ]
    }
   ],
   "source": [
    "print(myfunc(param2='param2', param1=1, foo='foo'))"
   ]
  },
  {
   "cell_type": "code",
   "execution_count": 51,
   "metadata": {},
   "outputs": [],
   "source": [
    "def myfunc(param1, *args, **kwargs):\n",
    "    tmp = f'param1:{param1}'\n",
    "    index = 2\n",
    "    for item in args:\n",
    "        tmp += f', param{index}:{item}'\n",
    "        index += 1\n",
    "    # itemsでキーと値の組のタプルを取り出せる\n",
    "    for item in kwargs.items():\n",
    "        tmp += f', {item[0]}:{item[1]}'\n",
    "    return tmp"
   ]
  },
  {
   "cell_type": "code",
   "execution_count": 54,
   "metadata": {},
   "outputs": [
    {
     "name": "stdout",
     "output_type": "stream",
     "text": [
      "param1:1, param2:2, param3:bar, paramx:paramx, foo:foo\n"
     ]
    }
   ],
   "source": [
    "print(myfunc(1, 2, 'bar', paramx='paramx', foo='foo'))"
   ]
  },
  {
   "cell_type": "markdown",
   "metadata": {},
   "source": [
    "# 第14回"
   ]
  },
  {
   "cell_type": "markdown",
   "metadata": {},
   "source": [
    "def myfunc():<br>\n",
    "&nbsp;&nbsp;&nbsp;&nbsp;&nbsp;&nbsp;a = 'Python'<br>\n",
    "&nbsp;&nbsp;&nbsp;&nbsp;&nbsp;&nbsp;print('a:', a)\n",
    "\n",
    "myfunc()<br>\n",
    "print(a)\n",
    "\n",
    "a: Python\n",
    "\n",
    "---------------------------------------------------------------------------\n",
    "NameError                                 Traceback (most recent call last)\n",
    "\n",
    "< ipython-input-55-7e5146dd8eb6> in < module>\n",
    "\n",
    "&nbsp;&nbsp;&nbsp;&nbsp;&nbsp;&nbsp;&nbsp;&nbsp;4<br> \n",
    "&nbsp;&nbsp;&nbsp;&nbsp;&nbsp;&nbsp;&nbsp;&nbsp;5 myfunc()<br>\n",
    "----> 6 print(a)\n",
    "\n",
    "<b>NameError: name 'a' is not defined"
   ]
  },
  {
   "cell_type": "code",
   "execution_count": 56,
   "metadata": {},
   "outputs": [
    {
     "name": "stdout",
     "output_type": "stream",
     "text": [
      "a: Python\n",
      "a: Ruby\n"
     ]
    }
   ],
   "source": [
    "def myfunc():\n",
    "    a = 'Python'\n",
    "    print('a:', a)\n",
    "\n",
    "a = 'Ruby'\n",
    "myfunc()\n",
    "print('a:', a)"
   ]
  },
  {
   "cell_type": "markdown",
   "metadata": {},
   "source": [
    "def myfunc():<br>\n",
    "&nbsp;&nbsp;&nbsp;&nbsp;&nbsp;&nbsp;print('b;', b)\n",
    "\n",
    "myfunc()\n",
    "\n",
    "---------------------------------------------------------------------------\n",
    "NameError                                 Traceback (most recent call last)<br>\n",
    "< ipython-input-57-56ea26f0c326> in < module><br>\n",
    "&nbsp;&nbsp;&nbsp;&nbsp;&nbsp;&nbsp;&nbsp;&nbsp;2     print('b;', b)<br>\n",
    "&nbsp;&nbsp;&nbsp;&nbsp;&nbsp;&nbsp;&nbsp;&nbsp;3 <br>\n",
    "----> 4 myfunc()\n",
    "\n",
    "< ipython-input-57-56ea26f0c326> in myfunc()<br>\n",
    "&nbsp;&nbsp;&nbsp;&nbsp;&nbsp;&nbsp;&nbsp;&nbsp;1 def myfunc():<br>\n",
    "----> 2     print('b;', b)<br>\n",
    "&nbsp;&nbsp;&nbsp;&nbsp;&nbsp;&nbsp;&nbsp;&nbsp;3 <br>\n",
    "&nbsp;&nbsp;&nbsp;&nbsp;&nbsp;&nbsp;&nbsp;&nbsp;4 myfunc()<br>\n",
    "\n",
    "<b>NameError: name 'b' is not defined"
   ]
  },
  {
   "cell_type": "code",
   "execution_count": 58,
   "metadata": {},
   "outputs": [],
   "source": [
    "def myfunc():\n",
    "    print('b:', b)"
   ]
  },
  {
   "cell_type": "code",
   "execution_count": 59,
   "metadata": {},
   "outputs": [
    {
     "name": "stdout",
     "output_type": "stream",
     "text": [
      "b: Python\n"
     ]
    }
   ],
   "source": [
    "b = 'Python'\n",
    "myfunc()"
   ]
  },
  {
   "cell_type": "code",
   "execution_count": 60,
   "metadata": {},
   "outputs": [
    {
     "name": "stdout",
     "output_type": "stream",
     "text": [
      "a: Python\n",
      "Python\n"
     ]
    }
   ],
   "source": [
    "def myfunc():\n",
    "    global a\n",
    "    a = 'Python'\n",
    "    print('a:', a)\n",
    "\n",
    "a = 'Ruby'\n",
    "myfunc()\n",
    "print(a)"
   ]
  },
  {
   "cell_type": "code",
   "execution_count": 61,
   "metadata": {},
   "outputs": [
    {
     "data": {
      "text/plain": [
       "'__main__'"
      ]
     },
     "execution_count": 61,
     "metadata": {},
     "output_type": "execute_result"
    }
   ],
   "source": [
    "__name__"
   ]
  },
  {
   "cell_type": "code",
   "execution_count": 62,
   "metadata": {
    "scrolled": true
   },
   "outputs": [
    {
     "name": "stdout",
     "output_type": "stream",
     "text": [
      "{'a': 'Python'}\n",
      "{'__name__': '__main__', '__doc__': 'Automatically created module for IPython interactive environment', '__package__': None, '__loader__': None, '__spec__': None, '__builtin__': <module 'builtins' (built-in)>, '__builtins__': <module 'builtins' (built-in)>, '_ih': ['', \"import random\\nanswer = random.randint(1, 100)\\n\\nuser = int(input('Please input answer: '))\\n\\nwhile user != answer:\\n    if user < answer:\\n        print('Too low!')\\n    else:\\n        print('Too high')\\n    \\n    user = int(input('Please input next answer:'))\\n\\nelse:\\n    print('Congratulations!')\", \"while 0:\\n    user = int(input('Please input number: '))\\n    if user == answer:\\n        break\\n    elif user < answer:\\n        print('The answer is larger number.')\\n    else:\\n        print('The answer is smaller number.')\\nelse:\\n    print('Congratulations!')\", \"answer = random.randint(1, 100)\\n\\nwhile 0:\\n    user = int(input('Please input number: '))\\n    if user == answer:\\n        break\\n    elif user < answer:\\n        print('The answer is larger number.')\\n    else:\\n        print('The answer is smaller number.')\\nelse:\\n    print('Congratulations!')\", \"answer = random.randint(1, 100)\\n\\nwhile 0:\\n    user = int(input('Please input number: '))\\n    if user == answer:\\n        break\\n    elif user < answer:\\n        print('The answer is larger number.')\\n    else:\\n        print('The answer is smaller number.')\\nelse:\\n    print('Congratulations!')\", \"answer = random.randint(1, 100)\\n\\nwhile 1:\\n    user = int(input('Please input number: '))\\n    if user == answer:\\n        break\\n    elif user < answer:\\n        print('The answer is larger number.')\\n    else:\\n        print('The answer is smaller number.')\\nelse:\\n    print('Congratulations!')\", \"answer = random.randint(1, 100)\\n\\nwhile 1:\\n    user = int(input('Please input number: '))\\n    if user == answer:\\n        break\\n    elif user < answer:\\n        print('The answer is larger number.')\\n    else:\\n        print('The answer is smaller number.')\\nprint('Congratulations!')\", \"def hello(whom):\\n    print('Hello', str(whom))\\n\\nhello('World')\", \"def hello(whom):\\n    print('Hello', str(whom))\\n\\nhello('World')\\nhello(123)\", 'def get_ans4ultimateQ():\\n    return 42\\n\\nanswer = get_ans4ultimateQ()\\nprint(answer)', 'def get_ans4ultimateQ():\\n    return 42\\n    print(\"can\\'t reach this line\")\\n\\nanswer = get_ans4ultimateQ()\\nprint(answer)', 'print(get_ans4ultimateQ())', \"def fizzbuzz(number):\\n    if number%3 == 0 and number%5 == 0:\\n        return 'FizzBuzz'\\n    elif number%3 == 0:\\n        return 'Fizz'\\n    elif number%5 == 0:\\n        return 'Buzz'\\n    else:\\n        return str(number)\\n    \\nprint(fizzbuzz(289))\\nprint(fizzbuzz(123))\\nprint(fizzbuzz(125))\\nprint(fizzbuzz(150))\", \"def fizzbuzz(number):\\n    result = str(number)\\n    if number%3 == 0 and number%5 == 0:\\n        return 'FizzBuzz'\\n    elif number%3 == 0:\\n        return 'Fizz'\\n    elif number%5 == 0:\\n        return 'Buzz'\\n    return result\\n    \\nprint(fizzbuzz(289))\\nprint(fizzbuzz(123))\\nprint(fizzbuzz(125))\\nprint(fizzbuzz(150))\", \"def fizzbuzz(number):\\n    result = str(number)\\n    if number%3 == 0 and number%5 == 0:\\n        return 'FizzBuzz'\\n    elif number%3 == 0:\\n        return 'Fizz'\\n    elif number%5 == 0:\\n        return 'Buzz'\\n    return result\\n    \\nprint('289', fizzbuzz(289))\\nprint('123', fizzbuzz(123))\\nprint('125', fizzbuzz(125))\\nprint('150', fizzbuzz(150))\\n\\nuser = input('Please input number: ')\\nprint(user, fizzbuzz(int(user)))\", \"def myfunc(param1, param2, param3):\\n    return f'param1: {param1}, param2: {param2}, param3: {param3}'\\n\\nprint(myfunc(1, 2, 3))\", \"def myfunc(param1, param2, param3):\\n    return f'param1:{param1}, param2:{param2}, param3:{param3}'\\n\\nprint(myfunc(1, 2, 3))\", \"print('keyword arg', myfunc(param3=1, param2='string', param1=3))\", \"print('keyword arg -->', myfunc(param3=1, param2='string', param1=3))\", \"print(myfunc(1, param3='param3', param2=2))\", \"print(myfunc(param3='param3', 1, 2))\", \"print(myfunc(*'abc'))\", \"print(myfunc(*'abc'))\\nprint(myfunc(1, *'23'))\\nprint(myfunc(*'12', 3))\", \"print(myfunc(*'1234'))\", \"some_dict = {'key1': 1, 'key2': '2'}\\n\\narg_dict = {'param3': 'param3', 'param2': 2, 'param1': 1.0}\", \"arg_dict = {'param3': 'param3', 'param2': 2, 'param1': 1.0}\", 'print(myfunc(**arg_dict))', \"def myfunc(param1='param1', param2='param2', param3='param3'):\\n    return f'param1:{param1}, param2:{param2}, param3:{param3}\", \"def myfunc(param1='param1', param2='param2', param3='param3'):\\n    return f'param1:{param1}, param2:{param2}, param3:{param3}'\", 'print(myfunc())\\nprint(myfunc(1))\\nprint(myfunc(param2=2))', \"def myfunc(param1='param1', param2, param3='param3'):\\n    return f'param1:{param1}, param2:{param2}, param3:{param3}'\", \"import sys\\n\\nprint('some', 'value')\\nprint('some', 'value', sep=' ', end='\\\\n', file=sys.stdout, flush=False)\\nprint('some', 'value', sep='')\", \"def myfunc(param1, param2, *args):\\n    return f'param1:{param1}, param2:{param2}, other:{args}'\", 'print(myfunc(1, 2))\\nprint(myfunc(1, 2, 3))\\nprint(myfunc(1, 2, 3, 4))', \"def myfunc(param1, param2, *args):\\n    tmp = f'param1:{param1}, param2:{param2}'\\n    index = 3\\n    for item in args:\\n        tmp + = f', param{index}:{item}'\\n        index += 1\\n    return tmp\", \"def myfunc(param1, param2, *args):\\n    tmp = f'param1:{param1}, param2:{param2}'\\n    index = 3\\n    for item in args:\\n        tmp += f', param{index}:{item}'\\n        index += 1\\n    return tmp\", 'print(myfunc(1, 2))\\nprint(myfunc(1, 2, 3))\\nprint(myfunc(1, 2, 3, 4))', \"def myfunc (*, param1='default'):\\n    return f'param1:{param1}'\\n\\nprint(myfunc(1))\", \"def myfunc (*, param1='default'):\\n    return f'param1:{param1}'\\n\\nprint(myfunc(1, param1=1))\", \"def myfunc (*, param1='default'):\\n    return f'param1:{param1}'\\n\\nprint(myfunc(param1=1))\", \"# *のみのパラメータを指定することで\\ndef myfunc (param1 = 'param1', *, param2='default'):\\n    return f'param1:{param1}, param2:{param2}'\\n\\nprint(myfunc(param1=1))\", \"# *のみのパラメータを指定することで\\ndef myfunc (param1 = 'param1', *, param2='default'):\\n    return f'param1:{param1}, param2:{param2}'\\n\\nprint(myfunc(1))\", \"# *のみのパラメータを指定することで\\ndef myfunc (param1 = 'param1', *, param2='default'):\\n    return f'param1:{param1}, param2:{param2}'\\n\\nprint(myfunc(1, 2))\", \"# *のみのパラメータを指定することで\\ndef myfunc (param1 = 'param1', *, param2='default'):\\n    return f'param1:{param1}, param2:{param2}'\\n\\nprint(myfunc(1, param2=2))\", \"def myfunc(param1, **kwargs):\\n    return f'param1:{param1}, others:{kwargs}'\", \"print(myfunc(param2='param2', param1=1, foo='foo'))\", \"def myfunc(param1, **kwargs):\\n    tmp = f'param1:{param1}'\\n    for item in kwargs.items():\\n        tmp += f', {item[0]}:{item[1]}'\\n    return tmp\", \"print(myfunc(param2='param2', param1=1, foo='foo'))\", \"print(myfunc(param1=1, 2, 'bar', param2='param2', foo='foo'))\", \"print(myfunc(1, 2, 'bar', param2='param2', foo='foo'))\", \"def myfunc(param1, *args; **kwargs):\\n    tmp = f'param1:{param1}'\\n    index = 2\\n    for item in args:\\n        tmp += f', param{index}:{item}'\\n        index += 1\\n    # itemsでキーと値の組のタプルを取り出せる\\n    for item in kwargs.items():\\n        tmp += f', {item[0]}:{item[1]}'\\n    return tmp\", \"def myfunc(param1, *args, **kwargs):\\n    tmp = f'param1:{param1}'\\n    index = 2\\n    for item in args:\\n        tmp += f', param{index}:{item}'\\n        index += 1\\n    # itemsでキーと値の組のタプルを取り出せる\\n    for item in kwargs.items():\\n        tmp += f', {item[0]}:{item[1]}'\\n    return tmp\", \"print(myfunc(1, 2, 'bar', param2='param2', foo='foo'))\", \"print(myfunc(1, 2, 'bar', paramx='param2', foo='foo'))\", \"print(myfunc(1, 2, 'bar', paramx='paramx', foo='foo'))\", \"def myfunc():\\n    a = 'Python'\\n    print('a:', a)\\n\\nmyfunc()\\nprint(a)\", \"def myfunc():\\n    a = 'Python'\\n    print('a:', a)\\n\\na = 'Ruby'\\nmyfunc()\\nprint('a:', a)\", \"def myfunc():\\n    print('b;', b)\\n\\nmyfunc()\", \"def myfunc():\\n    print('b:', b)\", \"b = 'Python'\\nmyfunc()\", \"def myfunc():\\n    global a\\n    a = 'Python'\\n    print('a:', a)\\n\\na = 'Ruby'\\nmyfunc()\\nprint(a)\", '__name__', \"def myfunc():\\n    a = 'Python'\\n    print(locals())\\n\\nmyfunc()\\nprint(locals())\"], '_oh': {61: '__main__'}, '_dh': ['C:\\\\Users\\\\U268137\\\\atmarkit_python'], 'In': ['', \"import random\\nanswer = random.randint(1, 100)\\n\\nuser = int(input('Please input answer: '))\\n\\nwhile user != answer:\\n    if user < answer:\\n        print('Too low!')\\n    else:\\n        print('Too high')\\n    \\n    user = int(input('Please input next answer:'))\\n\\nelse:\\n    print('Congratulations!')\", \"while 0:\\n    user = int(input('Please input number: '))\\n    if user == answer:\\n        break\\n    elif user < answer:\\n        print('The answer is larger number.')\\n    else:\\n        print('The answer is smaller number.')\\nelse:\\n    print('Congratulations!')\", \"answer = random.randint(1, 100)\\n\\nwhile 0:\\n    user = int(input('Please input number: '))\\n    if user == answer:\\n        break\\n    elif user < answer:\\n        print('The answer is larger number.')\\n    else:\\n        print('The answer is smaller number.')\\nelse:\\n    print('Congratulations!')\", \"answer = random.randint(1, 100)\\n\\nwhile 0:\\n    user = int(input('Please input number: '))\\n    if user == answer:\\n        break\\n    elif user < answer:\\n        print('The answer is larger number.')\\n    else:\\n        print('The answer is smaller number.')\\nelse:\\n    print('Congratulations!')\", \"answer = random.randint(1, 100)\\n\\nwhile 1:\\n    user = int(input('Please input number: '))\\n    if user == answer:\\n        break\\n    elif user < answer:\\n        print('The answer is larger number.')\\n    else:\\n        print('The answer is smaller number.')\\nelse:\\n    print('Congratulations!')\", \"answer = random.randint(1, 100)\\n\\nwhile 1:\\n    user = int(input('Please input number: '))\\n    if user == answer:\\n        break\\n    elif user < answer:\\n        print('The answer is larger number.')\\n    else:\\n        print('The answer is smaller number.')\\nprint('Congratulations!')\", \"def hello(whom):\\n    print('Hello', str(whom))\\n\\nhello('World')\", \"def hello(whom):\\n    print('Hello', str(whom))\\n\\nhello('World')\\nhello(123)\", 'def get_ans4ultimateQ():\\n    return 42\\n\\nanswer = get_ans4ultimateQ()\\nprint(answer)', 'def get_ans4ultimateQ():\\n    return 42\\n    print(\"can\\'t reach this line\")\\n\\nanswer = get_ans4ultimateQ()\\nprint(answer)', 'print(get_ans4ultimateQ())', \"def fizzbuzz(number):\\n    if number%3 == 0 and number%5 == 0:\\n        return 'FizzBuzz'\\n    elif number%3 == 0:\\n        return 'Fizz'\\n    elif number%5 == 0:\\n        return 'Buzz'\\n    else:\\n        return str(number)\\n    \\nprint(fizzbuzz(289))\\nprint(fizzbuzz(123))\\nprint(fizzbuzz(125))\\nprint(fizzbuzz(150))\", \"def fizzbuzz(number):\\n    result = str(number)\\n    if number%3 == 0 and number%5 == 0:\\n        return 'FizzBuzz'\\n    elif number%3 == 0:\\n        return 'Fizz'\\n    elif number%5 == 0:\\n        return 'Buzz'\\n    return result\\n    \\nprint(fizzbuzz(289))\\nprint(fizzbuzz(123))\\nprint(fizzbuzz(125))\\nprint(fizzbuzz(150))\", \"def fizzbuzz(number):\\n    result = str(number)\\n    if number%3 == 0 and number%5 == 0:\\n        return 'FizzBuzz'\\n    elif number%3 == 0:\\n        return 'Fizz'\\n    elif number%5 == 0:\\n        return 'Buzz'\\n    return result\\n    \\nprint('289', fizzbuzz(289))\\nprint('123', fizzbuzz(123))\\nprint('125', fizzbuzz(125))\\nprint('150', fizzbuzz(150))\\n\\nuser = input('Please input number: ')\\nprint(user, fizzbuzz(int(user)))\", \"def myfunc(param1, param2, param3):\\n    return f'param1: {param1}, param2: {param2}, param3: {param3}'\\n\\nprint(myfunc(1, 2, 3))\", \"def myfunc(param1, param2, param3):\\n    return f'param1:{param1}, param2:{param2}, param3:{param3}'\\n\\nprint(myfunc(1, 2, 3))\", \"print('keyword arg', myfunc(param3=1, param2='string', param1=3))\", \"print('keyword arg -->', myfunc(param3=1, param2='string', param1=3))\", \"print(myfunc(1, param3='param3', param2=2))\", \"print(myfunc(param3='param3', 1, 2))\", \"print(myfunc(*'abc'))\", \"print(myfunc(*'abc'))\\nprint(myfunc(1, *'23'))\\nprint(myfunc(*'12', 3))\", \"print(myfunc(*'1234'))\", \"some_dict = {'key1': 1, 'key2': '2'}\\n\\narg_dict = {'param3': 'param3', 'param2': 2, 'param1': 1.0}\", \"arg_dict = {'param3': 'param3', 'param2': 2, 'param1': 1.0}\", 'print(myfunc(**arg_dict))', \"def myfunc(param1='param1', param2='param2', param3='param3'):\\n    return f'param1:{param1}, param2:{param2}, param3:{param3}\", \"def myfunc(param1='param1', param2='param2', param3='param3'):\\n    return f'param1:{param1}, param2:{param2}, param3:{param3}'\", 'print(myfunc())\\nprint(myfunc(1))\\nprint(myfunc(param2=2))', \"def myfunc(param1='param1', param2, param3='param3'):\\n    return f'param1:{param1}, param2:{param2}, param3:{param3}'\", \"import sys\\n\\nprint('some', 'value')\\nprint('some', 'value', sep=' ', end='\\\\n', file=sys.stdout, flush=False)\\nprint('some', 'value', sep='')\", \"def myfunc(param1, param2, *args):\\n    return f'param1:{param1}, param2:{param2}, other:{args}'\", 'print(myfunc(1, 2))\\nprint(myfunc(1, 2, 3))\\nprint(myfunc(1, 2, 3, 4))', \"def myfunc(param1, param2, *args):\\n    tmp = f'param1:{param1}, param2:{param2}'\\n    index = 3\\n    for item in args:\\n        tmp + = f', param{index}:{item}'\\n        index += 1\\n    return tmp\", \"def myfunc(param1, param2, *args):\\n    tmp = f'param1:{param1}, param2:{param2}'\\n    index = 3\\n    for item in args:\\n        tmp += f', param{index}:{item}'\\n        index += 1\\n    return tmp\", 'print(myfunc(1, 2))\\nprint(myfunc(1, 2, 3))\\nprint(myfunc(1, 2, 3, 4))', \"def myfunc (*, param1='default'):\\n    return f'param1:{param1}'\\n\\nprint(myfunc(1))\", \"def myfunc (*, param1='default'):\\n    return f'param1:{param1}'\\n\\nprint(myfunc(1, param1=1))\", \"def myfunc (*, param1='default'):\\n    return f'param1:{param1}'\\n\\nprint(myfunc(param1=1))\", \"# *のみのパラメータを指定することで\\ndef myfunc (param1 = 'param1', *, param2='default'):\\n    return f'param1:{param1}, param2:{param2}'\\n\\nprint(myfunc(param1=1))\", \"# *のみのパラメータを指定することで\\ndef myfunc (param1 = 'param1', *, param2='default'):\\n    return f'param1:{param1}, param2:{param2}'\\n\\nprint(myfunc(1))\", \"# *のみのパラメータを指定することで\\ndef myfunc (param1 = 'param1', *, param2='default'):\\n    return f'param1:{param1}, param2:{param2}'\\n\\nprint(myfunc(1, 2))\", \"# *のみのパラメータを指定することで\\ndef myfunc (param1 = 'param1', *, param2='default'):\\n    return f'param1:{param1}, param2:{param2}'\\n\\nprint(myfunc(1, param2=2))\", \"def myfunc(param1, **kwargs):\\n    return f'param1:{param1}, others:{kwargs}'\", \"print(myfunc(param2='param2', param1=1, foo='foo'))\", \"def myfunc(param1, **kwargs):\\n    tmp = f'param1:{param1}'\\n    for item in kwargs.items():\\n        tmp += f', {item[0]}:{item[1]}'\\n    return tmp\", \"print(myfunc(param2='param2', param1=1, foo='foo'))\", \"print(myfunc(param1=1, 2, 'bar', param2='param2', foo='foo'))\", \"print(myfunc(1, 2, 'bar', param2='param2', foo='foo'))\", \"def myfunc(param1, *args; **kwargs):\\n    tmp = f'param1:{param1}'\\n    index = 2\\n    for item in args:\\n        tmp += f', param{index}:{item}'\\n        index += 1\\n    # itemsでキーと値の組のタプルを取り出せる\\n    for item in kwargs.items():\\n        tmp += f', {item[0]}:{item[1]}'\\n    return tmp\", \"def myfunc(param1, *args, **kwargs):\\n    tmp = f'param1:{param1}'\\n    index = 2\\n    for item in args:\\n        tmp += f', param{index}:{item}'\\n        index += 1\\n    # itemsでキーと値の組のタプルを取り出せる\\n    for item in kwargs.items():\\n        tmp += f', {item[0]}:{item[1]}'\\n    return tmp\", \"print(myfunc(1, 2, 'bar', param2='param2', foo='foo'))\", \"print(myfunc(1, 2, 'bar', paramx='param2', foo='foo'))\", \"print(myfunc(1, 2, 'bar', paramx='paramx', foo='foo'))\", \"def myfunc():\\n    a = 'Python'\\n    print('a:', a)\\n\\nmyfunc()\\nprint(a)\", \"def myfunc():\\n    a = 'Python'\\n    print('a:', a)\\n\\na = 'Ruby'\\nmyfunc()\\nprint('a:', a)\", \"def myfunc():\\n    print('b;', b)\\n\\nmyfunc()\", \"def myfunc():\\n    print('b:', b)\", \"b = 'Python'\\nmyfunc()\", \"def myfunc():\\n    global a\\n    a = 'Python'\\n    print('a:', a)\\n\\na = 'Ruby'\\nmyfunc()\\nprint(a)\", '__name__', \"def myfunc():\\n    a = 'Python'\\n    print(locals())\\n\\nmyfunc()\\nprint(locals())\"], 'Out': {61: '__main__'}, 'get_ipython': <bound method InteractiveShell.get_ipython of <ipykernel.zmqshell.ZMQInteractiveShell object at 0x000001F29CC5A3C8>>, 'exit': <IPython.core.autocall.ZMQExitAutocall object at 0x000001F29CCC9BE0>, 'quit': <IPython.core.autocall.ZMQExitAutocall object at 0x000001F29CCC9BE0>, '_': '__main__', '__': '', '___': '', '_i': '__name__', '_ii': \"def myfunc():\\n    global a\\n    a = 'Python'\\n    print('a:', a)\\n\\na = 'Ruby'\\nmyfunc()\\nprint(a)\", '_iii': \"b = 'Python'\\nmyfunc()\", '_i1': \"import random\\nanswer = random.randint(1, 100)\\n\\nuser = int(input('Please input answer: '))\\n\\nwhile user != answer:\\n    if user < answer:\\n        print('Too low!')\\n    else:\\n        print('Too high')\\n    \\n    user = int(input('Please input next answer:'))\\n\\nelse:\\n    print('Congratulations!')\", 'random': <module 'random' from 'C:\\\\Users\\\\U268137\\\\AppData\\\\Local\\\\Continuum\\\\anaconda3\\\\lib\\\\random.py'>, 'answer': 42, 'user': '114', '_i2': \"while 0:\\n    user = int(input('Please input number: '))\\n    if user == answer:\\n        break\\n    elif user < answer:\\n        print('The answer is larger number.')\\n    else:\\n        print('The answer is smaller number.')\\nelse:\\n    print('Congratulations!')\", '_i3': \"answer = random.randint(1, 100)\\n\\nwhile 0:\\n    user = int(input('Please input number: '))\\n    if user == answer:\\n        break\\n    elif user < answer:\\n        print('The answer is larger number.')\\n    else:\\n        print('The answer is smaller number.')\\nelse:\\n    print('Congratulations!')\", '_i4': \"answer = random.randint(1, 100)\\n\\nwhile 0:\\n    user = int(input('Please input number: '))\\n    if user == answer:\\n        break\\n    elif user < answer:\\n        print('The answer is larger number.')\\n    else:\\n        print('The answer is smaller number.')\\nelse:\\n    print('Congratulations!')\", '_i5': \"answer = random.randint(1, 100)\\n\\nwhile 1:\\n    user = int(input('Please input number: '))\\n    if user == answer:\\n        break\\n    elif user < answer:\\n        print('The answer is larger number.')\\n    else:\\n        print('The answer is smaller number.')\\nelse:\\n    print('Congratulations!')\", '_i6': \"answer = random.randint(1, 100)\\n\\nwhile 1:\\n    user = int(input('Please input number: '))\\n    if user == answer:\\n        break\\n    elif user < answer:\\n        print('The answer is larger number.')\\n    else:\\n        print('The answer is smaller number.')\\nprint('Congratulations!')\", '_i7': \"def hello(whom):\\n    print('Hello', str(whom))\\n\\nhello('World')\", 'hello': <function hello at 0x000001F29CDEF2F0>, '_i8': \"def hello(whom):\\n    print('Hello', str(whom))\\n\\nhello('World')\\nhello(123)\", '_i9': 'def get_ans4ultimateQ():\\n    return 42\\n\\nanswer = get_ans4ultimateQ()\\nprint(answer)', 'get_ans4ultimateQ': <function get_ans4ultimateQ at 0x000001F29CDEF268>, '_i10': 'def get_ans4ultimateQ():\\n    return 42\\n    print(\"can\\'t reach this line\")\\n\\nanswer = get_ans4ultimateQ()\\nprint(answer)', '_i11': 'print(get_ans4ultimateQ())', '_i12': \"def fizzbuzz(number):\\n    if number%3 == 0 and number%5 == 0:\\n        return 'FizzBuzz'\\n    elif number%3 == 0:\\n        return 'Fizz'\\n    elif number%5 == 0:\\n        return 'Buzz'\\n    else:\\n        return str(number)\\n    \\nprint(fizzbuzz(289))\\nprint(fizzbuzz(123))\\nprint(fizzbuzz(125))\\nprint(fizzbuzz(150))\", 'fizzbuzz': <function fizzbuzz at 0x000001F29CDEF048>, '_i13': \"def fizzbuzz(number):\\n    result = str(number)\\n    if number%3 == 0 and number%5 == 0:\\n        return 'FizzBuzz'\\n    elif number%3 == 0:\\n        return 'Fizz'\\n    elif number%5 == 0:\\n        return 'Buzz'\\n    return result\\n    \\nprint(fizzbuzz(289))\\nprint(fizzbuzz(123))\\nprint(fizzbuzz(125))\\nprint(fizzbuzz(150))\", '_i14': \"def fizzbuzz(number):\\n    result = str(number)\\n    if number%3 == 0 and number%5 == 0:\\n        return 'FizzBuzz'\\n    elif number%3 == 0:\\n        return 'Fizz'\\n    elif number%5 == 0:\\n        return 'Buzz'\\n    return result\\n    \\nprint('289', fizzbuzz(289))\\nprint('123', fizzbuzz(123))\\nprint('125', fizzbuzz(125))\\nprint('150', fizzbuzz(150))\\n\\nuser = input('Please input number: ')\\nprint(user, fizzbuzz(int(user)))\", '_i15': \"def myfunc(param1, param2, param3):\\n    return f'param1: {param1}, param2: {param2}, param3: {param3}'\\n\\nprint(myfunc(1, 2, 3))\", 'myfunc': <function myfunc at 0x000001F29CEA6048>, '_i16': \"def myfunc(param1, param2, param3):\\n    return f'param1:{param1}, param2:{param2}, param3:{param3}'\\n\\nprint(myfunc(1, 2, 3))\", '_i17': \"print('keyword arg', myfunc(param3=1, param2='string', param1=3))\", '_i18': \"print('keyword arg -->', myfunc(param3=1, param2='string', param1=3))\", '_i19': \"print(myfunc(1, param3='param3', param2=2))\", '_i20': \"print(myfunc(param3='param3', 1, 2))\", '_i21': \"print(myfunc(*'abc'))\", '_i22': \"print(myfunc(*'abc'))\\nprint(myfunc(1, *'23'))\\nprint(myfunc(*'12', 3))\", '_i23': \"print(myfunc(*'1234'))\", '_i24': \"some_dict = {'key1': 1, 'key2': '2'}\\n\\narg_dict = {'param3': 'param3', 'param2': 2, 'param1': 1.0}\", 'some_dict': {'key1': 1, 'key2': '2'}, 'arg_dict': {'param3': 'param3', 'param2': 2, 'param1': 1.0}, '_i25': \"arg_dict = {'param3': 'param3', 'param2': 2, 'param1': 1.0}\", '_i26': 'print(myfunc(**arg_dict))', '_i27': \"def myfunc(param1='param1', param2='param2', param3='param3'):\\n    return f'param1:{param1}, param2:{param2}, param3:{param3}\", '_i28': \"def myfunc(param1='param1', param2='param2', param3='param3'):\\n    return f'param1:{param1}, param2:{param2}, param3:{param3}'\", '_i29': 'print(myfunc())\\nprint(myfunc(1))\\nprint(myfunc(param2=2))', '_i30': \"def myfunc(param1='param1', param2, param3='param3'):\\n    return f'param1:{param1}, param2:{param2}, param3:{param3}'\", '_i31': \"import sys\\n\\nprint('some', 'value')\\nprint('some', 'value', sep=' ', end='\\\\n', file=sys.stdout, flush=False)\\nprint('some', 'value', sep='')\", 'sys': <module 'sys' (built-in)>, '_i32': \"def myfunc(param1, param2, *args):\\n    return f'param1:{param1}, param2:{param2}, other:{args}'\", '_i33': 'print(myfunc(1, 2))\\nprint(myfunc(1, 2, 3))\\nprint(myfunc(1, 2, 3, 4))', '_i34': \"def myfunc(param1, param2, *args):\\n    tmp = f'param1:{param1}, param2:{param2}'\\n    index = 3\\n    for item in args:\\n        tmp + = f', param{index}:{item}'\\n        index += 1\\n    return tmp\", '_i35': \"def myfunc(param1, param2, *args):\\n    tmp = f'param1:{param1}, param2:{param2}'\\n    index = 3\\n    for item in args:\\n        tmp += f', param{index}:{item}'\\n        index += 1\\n    return tmp\", '_i36': 'print(myfunc(1, 2))\\nprint(myfunc(1, 2, 3))\\nprint(myfunc(1, 2, 3, 4))', '_i37': \"def myfunc (*, param1='default'):\\n    return f'param1:{param1}'\\n\\nprint(myfunc(1))\", '_i38': \"def myfunc (*, param1='default'):\\n    return f'param1:{param1}'\\n\\nprint(myfunc(1, param1=1))\", '_i39': \"def myfunc (*, param1='default'):\\n    return f'param1:{param1}'\\n\\nprint(myfunc(param1=1))\", '_i40': \"# *のみのパラメータを指定することで\\ndef myfunc (param1 = 'param1', *, param2='default'):\\n    return f'param1:{param1}, param2:{param2}'\\n\\nprint(myfunc(param1=1))\", '_i41': \"# *のみのパラメータを指定することで\\ndef myfunc (param1 = 'param1', *, param2='default'):\\n    return f'param1:{param1}, param2:{param2}'\\n\\nprint(myfunc(1))\", '_i42': \"# *のみのパラメータを指定することで\\ndef myfunc (param1 = 'param1', *, param2='default'):\\n    return f'param1:{param1}, param2:{param2}'\\n\\nprint(myfunc(1, 2))\", '_i43': \"# *のみのパラメータを指定することで\\ndef myfunc (param1 = 'param1', *, param2='default'):\\n    return f'param1:{param1}, param2:{param2}'\\n\\nprint(myfunc(1, param2=2))\", '_i44': \"def myfunc(param1, **kwargs):\\n    return f'param1:{param1}, others:{kwargs}'\", '_i45': \"print(myfunc(param2='param2', param1=1, foo='foo'))\", '_i46': \"def myfunc(param1, **kwargs):\\n    tmp = f'param1:{param1}'\\n    for item in kwargs.items():\\n        tmp += f', {item[0]}:{item[1]}'\\n    return tmp\", '_i47': \"print(myfunc(param2='param2', param1=1, foo='foo'))\", '_i48': \"print(myfunc(param1=1, 2, 'bar', param2='param2', foo='foo'))\", '_i49': \"print(myfunc(1, 2, 'bar', param2='param2', foo='foo'))\", '_i50': \"def myfunc(param1, *args; **kwargs):\\n    tmp = f'param1:{param1}'\\n    index = 2\\n    for item in args:\\n        tmp += f', param{index}:{item}'\\n        index += 1\\n    # itemsでキーと値の組のタプルを取り出せる\\n    for item in kwargs.items():\\n        tmp += f', {item[0]}:{item[1]}'\\n    return tmp\", '_i51': \"def myfunc(param1, *args, **kwargs):\\n    tmp = f'param1:{param1}'\\n    index = 2\\n    for item in args:\\n        tmp += f', param{index}:{item}'\\n        index += 1\\n    # itemsでキーと値の組のタプルを取り出せる\\n    for item in kwargs.items():\\n        tmp += f', {item[0]}:{item[1]}'\\n    return tmp\", '_i52': \"print(myfunc(1, 2, 'bar', param2='param2', foo='foo'))\", '_i53': \"print(myfunc(1, 2, 'bar', paramx='param2', foo='foo'))\", '_i54': \"print(myfunc(1, 2, 'bar', paramx='paramx', foo='foo'))\", '_i55': \"def myfunc():\\n    a = 'Python'\\n    print('a:', a)\\n\\nmyfunc()\\nprint(a)\", '_i56': \"def myfunc():\\n    a = 'Python'\\n    print('a:', a)\\n\\na = 'Ruby'\\nmyfunc()\\nprint('a:', a)\", 'a': 'Python', '_i57': \"def myfunc():\\n    print('b;', b)\\n\\nmyfunc()\", '_i58': \"def myfunc():\\n    print('b:', b)\", '_i59': \"b = 'Python'\\nmyfunc()\", 'b': 'Python', '_i60': \"def myfunc():\\n    global a\\n    a = 'Python'\\n    print('a:', a)\\n\\na = 'Ruby'\\nmyfunc()\\nprint(a)\", '_i61': '__name__', '_61': '__main__', '_i62': \"def myfunc():\\n    a = 'Python'\\n    print(locals())\\n\\nmyfunc()\\nprint(locals())\"}\n"
     ]
    }
   ],
   "source": [
    "def myfunc():\n",
    "    a = 'Python'\n",
    "    print(locals())\n",
    "\n",
    "myfunc()\n",
    "print(locals())"
   ]
  },
  {
   "cell_type": "code",
   "execution_count": 63,
   "metadata": {},
   "outputs": [
    {
     "name": "stdout",
     "output_type": "stream",
     "text": [
      "['a']\n",
      "['In', 'Out', '_', '_61', '__', '___', '__builtin__', '__builtins__', '__doc__', '__loader__', '__name__', '__package__', '__spec__', '_dh', '_i', '_i1', '_i10', '_i11', '_i12', '_i13', '_i14', '_i15', '_i16', '_i17', '_i18', '_i19', '_i2', '_i20', '_i21', '_i22', '_i23', '_i24', '_i25', '_i26', '_i27', '_i28', '_i29', '_i3', '_i30', '_i31', '_i32', '_i33', '_i34', '_i35', '_i36', '_i37', '_i38', '_i39', '_i4', '_i40', '_i41', '_i42', '_i43', '_i44', '_i45', '_i46', '_i47', '_i48', '_i49', '_i5', '_i50', '_i51', '_i52', '_i53', '_i54', '_i55', '_i56', '_i57', '_i58', '_i59', '_i6', '_i60', '_i61', '_i62', '_i63', '_i7', '_i8', '_i9', '_ih', '_ii', '_iii', '_oh', 'a', 'answer', 'arg_dict', 'b', 'exit', 'fizzbuzz', 'get_ans4ultimateQ', 'get_ipython', 'hello', 'myfunc', 'quit', 'random', 'some_dict', 'sys', 'user']\n"
     ]
    }
   ],
   "source": [
    "def myfunc():\n",
    "    a = 'Python'\n",
    "    print(dir())\n",
    "\n",
    "myfunc()\n",
    "print(dir())"
   ]
  },
  {
   "cell_type": "code",
   "execution_count": 64,
   "metadata": {
    "scrolled": true
   },
   "outputs": [
    {
     "data": {
      "text/plain": [
       "{'__name__': '__main__',\n",
       " '__doc__': 'Automatically created module for IPython interactive environment',\n",
       " '__package__': None,\n",
       " '__loader__': None,\n",
       " '__spec__': None,\n",
       " '__builtin__': <module 'builtins' (built-in)>,\n",
       " '__builtins__': <module 'builtins' (built-in)>,\n",
       " '_ih': ['',\n",
       "  \"import random\\nanswer = random.randint(1, 100)\\n\\nuser = int(input('Please input answer: '))\\n\\nwhile user != answer:\\n    if user < answer:\\n        print('Too low!')\\n    else:\\n        print('Too high')\\n    \\n    user = int(input('Please input next answer:'))\\n\\nelse:\\n    print('Congratulations!')\",\n",
       "  \"while 0:\\n    user = int(input('Please input number: '))\\n    if user == answer:\\n        break\\n    elif user < answer:\\n        print('The answer is larger number.')\\n    else:\\n        print('The answer is smaller number.')\\nelse:\\n    print('Congratulations!')\",\n",
       "  \"answer = random.randint(1, 100)\\n\\nwhile 0:\\n    user = int(input('Please input number: '))\\n    if user == answer:\\n        break\\n    elif user < answer:\\n        print('The answer is larger number.')\\n    else:\\n        print('The answer is smaller number.')\\nelse:\\n    print('Congratulations!')\",\n",
       "  \"answer = random.randint(1, 100)\\n\\nwhile 0:\\n    user = int(input('Please input number: '))\\n    if user == answer:\\n        break\\n    elif user < answer:\\n        print('The answer is larger number.')\\n    else:\\n        print('The answer is smaller number.')\\nelse:\\n    print('Congratulations!')\",\n",
       "  \"answer = random.randint(1, 100)\\n\\nwhile 1:\\n    user = int(input('Please input number: '))\\n    if user == answer:\\n        break\\n    elif user < answer:\\n        print('The answer is larger number.')\\n    else:\\n        print('The answer is smaller number.')\\nelse:\\n    print('Congratulations!')\",\n",
       "  \"answer = random.randint(1, 100)\\n\\nwhile 1:\\n    user = int(input('Please input number: '))\\n    if user == answer:\\n        break\\n    elif user < answer:\\n        print('The answer is larger number.')\\n    else:\\n        print('The answer is smaller number.')\\nprint('Congratulations!')\",\n",
       "  \"def hello(whom):\\n    print('Hello', str(whom))\\n\\nhello('World')\",\n",
       "  \"def hello(whom):\\n    print('Hello', str(whom))\\n\\nhello('World')\\nhello(123)\",\n",
       "  'def get_ans4ultimateQ():\\n    return 42\\n\\nanswer = get_ans4ultimateQ()\\nprint(answer)',\n",
       "  'def get_ans4ultimateQ():\\n    return 42\\n    print(\"can\\'t reach this line\")\\n\\nanswer = get_ans4ultimateQ()\\nprint(answer)',\n",
       "  'print(get_ans4ultimateQ())',\n",
       "  \"def fizzbuzz(number):\\n    if number%3 == 0 and number%5 == 0:\\n        return 'FizzBuzz'\\n    elif number%3 == 0:\\n        return 'Fizz'\\n    elif number%5 == 0:\\n        return 'Buzz'\\n    else:\\n        return str(number)\\n    \\nprint(fizzbuzz(289))\\nprint(fizzbuzz(123))\\nprint(fizzbuzz(125))\\nprint(fizzbuzz(150))\",\n",
       "  \"def fizzbuzz(number):\\n    result = str(number)\\n    if number%3 == 0 and number%5 == 0:\\n        return 'FizzBuzz'\\n    elif number%3 == 0:\\n        return 'Fizz'\\n    elif number%5 == 0:\\n        return 'Buzz'\\n    return result\\n    \\nprint(fizzbuzz(289))\\nprint(fizzbuzz(123))\\nprint(fizzbuzz(125))\\nprint(fizzbuzz(150))\",\n",
       "  \"def fizzbuzz(number):\\n    result = str(number)\\n    if number%3 == 0 and number%5 == 0:\\n        return 'FizzBuzz'\\n    elif number%3 == 0:\\n        return 'Fizz'\\n    elif number%5 == 0:\\n        return 'Buzz'\\n    return result\\n    \\nprint('289', fizzbuzz(289))\\nprint('123', fizzbuzz(123))\\nprint('125', fizzbuzz(125))\\nprint('150', fizzbuzz(150))\\n\\nuser = input('Please input number: ')\\nprint(user, fizzbuzz(int(user)))\",\n",
       "  \"def myfunc(param1, param2, param3):\\n    return f'param1: {param1}, param2: {param2}, param3: {param3}'\\n\\nprint(myfunc(1, 2, 3))\",\n",
       "  \"def myfunc(param1, param2, param3):\\n    return f'param1:{param1}, param2:{param2}, param3:{param3}'\\n\\nprint(myfunc(1, 2, 3))\",\n",
       "  \"print('keyword arg', myfunc(param3=1, param2='string', param1=3))\",\n",
       "  \"print('keyword arg -->', myfunc(param3=1, param2='string', param1=3))\",\n",
       "  \"print(myfunc(1, param3='param3', param2=2))\",\n",
       "  \"print(myfunc(param3='param3', 1, 2))\",\n",
       "  \"print(myfunc(*'abc'))\",\n",
       "  \"print(myfunc(*'abc'))\\nprint(myfunc(1, *'23'))\\nprint(myfunc(*'12', 3))\",\n",
       "  \"print(myfunc(*'1234'))\",\n",
       "  \"some_dict = {'key1': 1, 'key2': '2'}\\n\\narg_dict = {'param3': 'param3', 'param2': 2, 'param1': 1.0}\",\n",
       "  \"arg_dict = {'param3': 'param3', 'param2': 2, 'param1': 1.0}\",\n",
       "  'print(myfunc(**arg_dict))',\n",
       "  \"def myfunc(param1='param1', param2='param2', param3='param3'):\\n    return f'param1:{param1}, param2:{param2}, param3:{param3}\",\n",
       "  \"def myfunc(param1='param1', param2='param2', param3='param3'):\\n    return f'param1:{param1}, param2:{param2}, param3:{param3}'\",\n",
       "  'print(myfunc())\\nprint(myfunc(1))\\nprint(myfunc(param2=2))',\n",
       "  \"def myfunc(param1='param1', param2, param3='param3'):\\n    return f'param1:{param1}, param2:{param2}, param3:{param3}'\",\n",
       "  \"import sys\\n\\nprint('some', 'value')\\nprint('some', 'value', sep=' ', end='\\\\n', file=sys.stdout, flush=False)\\nprint('some', 'value', sep='')\",\n",
       "  \"def myfunc(param1, param2, *args):\\n    return f'param1:{param1}, param2:{param2}, other:{args}'\",\n",
       "  'print(myfunc(1, 2))\\nprint(myfunc(1, 2, 3))\\nprint(myfunc(1, 2, 3, 4))',\n",
       "  \"def myfunc(param1, param2, *args):\\n    tmp = f'param1:{param1}, param2:{param2}'\\n    index = 3\\n    for item in args:\\n        tmp + = f', param{index}:{item}'\\n        index += 1\\n    return tmp\",\n",
       "  \"def myfunc(param1, param2, *args):\\n    tmp = f'param1:{param1}, param2:{param2}'\\n    index = 3\\n    for item in args:\\n        tmp += f', param{index}:{item}'\\n        index += 1\\n    return tmp\",\n",
       "  'print(myfunc(1, 2))\\nprint(myfunc(1, 2, 3))\\nprint(myfunc(1, 2, 3, 4))',\n",
       "  \"def myfunc (*, param1='default'):\\n    return f'param1:{param1}'\\n\\nprint(myfunc(1))\",\n",
       "  \"def myfunc (*, param1='default'):\\n    return f'param1:{param1}'\\n\\nprint(myfunc(1, param1=1))\",\n",
       "  \"def myfunc (*, param1='default'):\\n    return f'param1:{param1}'\\n\\nprint(myfunc(param1=1))\",\n",
       "  \"# *のみのパラメータを指定することで\\ndef myfunc (param1 = 'param1', *, param2='default'):\\n    return f'param1:{param1}, param2:{param2}'\\n\\nprint(myfunc(param1=1))\",\n",
       "  \"# *のみのパラメータを指定することで\\ndef myfunc (param1 = 'param1', *, param2='default'):\\n    return f'param1:{param1}, param2:{param2}'\\n\\nprint(myfunc(1))\",\n",
       "  \"# *のみのパラメータを指定することで\\ndef myfunc (param1 = 'param1', *, param2='default'):\\n    return f'param1:{param1}, param2:{param2}'\\n\\nprint(myfunc(1, 2))\",\n",
       "  \"# *のみのパラメータを指定することで\\ndef myfunc (param1 = 'param1', *, param2='default'):\\n    return f'param1:{param1}, param2:{param2}'\\n\\nprint(myfunc(1, param2=2))\",\n",
       "  \"def myfunc(param1, **kwargs):\\n    return f'param1:{param1}, others:{kwargs}'\",\n",
       "  \"print(myfunc(param2='param2', param1=1, foo='foo'))\",\n",
       "  \"def myfunc(param1, **kwargs):\\n    tmp = f'param1:{param1}'\\n    for item in kwargs.items():\\n        tmp += f', {item[0]}:{item[1]}'\\n    return tmp\",\n",
       "  \"print(myfunc(param2='param2', param1=1, foo='foo'))\",\n",
       "  \"print(myfunc(param1=1, 2, 'bar', param2='param2', foo='foo'))\",\n",
       "  \"print(myfunc(1, 2, 'bar', param2='param2', foo='foo'))\",\n",
       "  \"def myfunc(param1, *args; **kwargs):\\n    tmp = f'param1:{param1}'\\n    index = 2\\n    for item in args:\\n        tmp += f', param{index}:{item}'\\n        index += 1\\n    # itemsでキーと値の組のタプルを取り出せる\\n    for item in kwargs.items():\\n        tmp += f', {item[0]}:{item[1]}'\\n    return tmp\",\n",
       "  \"def myfunc(param1, *args, **kwargs):\\n    tmp = f'param1:{param1}'\\n    index = 2\\n    for item in args:\\n        tmp += f', param{index}:{item}'\\n        index += 1\\n    # itemsでキーと値の組のタプルを取り出せる\\n    for item in kwargs.items():\\n        tmp += f', {item[0]}:{item[1]}'\\n    return tmp\",\n",
       "  \"print(myfunc(1, 2, 'bar', param2='param2', foo='foo'))\",\n",
       "  \"print(myfunc(1, 2, 'bar', paramx='param2', foo='foo'))\",\n",
       "  \"print(myfunc(1, 2, 'bar', paramx='paramx', foo='foo'))\",\n",
       "  \"def myfunc():\\n    a = 'Python'\\n    print('a:', a)\\n\\nmyfunc()\\nprint(a)\",\n",
       "  \"def myfunc():\\n    a = 'Python'\\n    print('a:', a)\\n\\na = 'Ruby'\\nmyfunc()\\nprint('a:', a)\",\n",
       "  \"def myfunc():\\n    print('b;', b)\\n\\nmyfunc()\",\n",
       "  \"def myfunc():\\n    print('b:', b)\",\n",
       "  \"b = 'Python'\\nmyfunc()\",\n",
       "  \"def myfunc():\\n    global a\\n    a = 'Python'\\n    print('a:', a)\\n\\na = 'Ruby'\\nmyfunc()\\nprint(a)\",\n",
       "  '__name__',\n",
       "  \"def myfunc():\\n    a = 'Python'\\n    print(locals())\\n\\nmyfunc()\\nprint(locals())\",\n",
       "  \"def myfunc():\\n    a = 'Python'\\n    print(dir())\\n\\nmyfunc()\\nprint(dir())\",\n",
       "  'globals()'],\n",
       " '_oh': {61: '__main__'},\n",
       " '_dh': ['C:\\\\Users\\\\U268137\\\\atmarkit_python'],\n",
       " 'In': ['',\n",
       "  \"import random\\nanswer = random.randint(1, 100)\\n\\nuser = int(input('Please input answer: '))\\n\\nwhile user != answer:\\n    if user < answer:\\n        print('Too low!')\\n    else:\\n        print('Too high')\\n    \\n    user = int(input('Please input next answer:'))\\n\\nelse:\\n    print('Congratulations!')\",\n",
       "  \"while 0:\\n    user = int(input('Please input number: '))\\n    if user == answer:\\n        break\\n    elif user < answer:\\n        print('The answer is larger number.')\\n    else:\\n        print('The answer is smaller number.')\\nelse:\\n    print('Congratulations!')\",\n",
       "  \"answer = random.randint(1, 100)\\n\\nwhile 0:\\n    user = int(input('Please input number: '))\\n    if user == answer:\\n        break\\n    elif user < answer:\\n        print('The answer is larger number.')\\n    else:\\n        print('The answer is smaller number.')\\nelse:\\n    print('Congratulations!')\",\n",
       "  \"answer = random.randint(1, 100)\\n\\nwhile 0:\\n    user = int(input('Please input number: '))\\n    if user == answer:\\n        break\\n    elif user < answer:\\n        print('The answer is larger number.')\\n    else:\\n        print('The answer is smaller number.')\\nelse:\\n    print('Congratulations!')\",\n",
       "  \"answer = random.randint(1, 100)\\n\\nwhile 1:\\n    user = int(input('Please input number: '))\\n    if user == answer:\\n        break\\n    elif user < answer:\\n        print('The answer is larger number.')\\n    else:\\n        print('The answer is smaller number.')\\nelse:\\n    print('Congratulations!')\",\n",
       "  \"answer = random.randint(1, 100)\\n\\nwhile 1:\\n    user = int(input('Please input number: '))\\n    if user == answer:\\n        break\\n    elif user < answer:\\n        print('The answer is larger number.')\\n    else:\\n        print('The answer is smaller number.')\\nprint('Congratulations!')\",\n",
       "  \"def hello(whom):\\n    print('Hello', str(whom))\\n\\nhello('World')\",\n",
       "  \"def hello(whom):\\n    print('Hello', str(whom))\\n\\nhello('World')\\nhello(123)\",\n",
       "  'def get_ans4ultimateQ():\\n    return 42\\n\\nanswer = get_ans4ultimateQ()\\nprint(answer)',\n",
       "  'def get_ans4ultimateQ():\\n    return 42\\n    print(\"can\\'t reach this line\")\\n\\nanswer = get_ans4ultimateQ()\\nprint(answer)',\n",
       "  'print(get_ans4ultimateQ())',\n",
       "  \"def fizzbuzz(number):\\n    if number%3 == 0 and number%5 == 0:\\n        return 'FizzBuzz'\\n    elif number%3 == 0:\\n        return 'Fizz'\\n    elif number%5 == 0:\\n        return 'Buzz'\\n    else:\\n        return str(number)\\n    \\nprint(fizzbuzz(289))\\nprint(fizzbuzz(123))\\nprint(fizzbuzz(125))\\nprint(fizzbuzz(150))\",\n",
       "  \"def fizzbuzz(number):\\n    result = str(number)\\n    if number%3 == 0 and number%5 == 0:\\n        return 'FizzBuzz'\\n    elif number%3 == 0:\\n        return 'Fizz'\\n    elif number%5 == 0:\\n        return 'Buzz'\\n    return result\\n    \\nprint(fizzbuzz(289))\\nprint(fizzbuzz(123))\\nprint(fizzbuzz(125))\\nprint(fizzbuzz(150))\",\n",
       "  \"def fizzbuzz(number):\\n    result = str(number)\\n    if number%3 == 0 and number%5 == 0:\\n        return 'FizzBuzz'\\n    elif number%3 == 0:\\n        return 'Fizz'\\n    elif number%5 == 0:\\n        return 'Buzz'\\n    return result\\n    \\nprint('289', fizzbuzz(289))\\nprint('123', fizzbuzz(123))\\nprint('125', fizzbuzz(125))\\nprint('150', fizzbuzz(150))\\n\\nuser = input('Please input number: ')\\nprint(user, fizzbuzz(int(user)))\",\n",
       "  \"def myfunc(param1, param2, param3):\\n    return f'param1: {param1}, param2: {param2}, param3: {param3}'\\n\\nprint(myfunc(1, 2, 3))\",\n",
       "  \"def myfunc(param1, param2, param3):\\n    return f'param1:{param1}, param2:{param2}, param3:{param3}'\\n\\nprint(myfunc(1, 2, 3))\",\n",
       "  \"print('keyword arg', myfunc(param3=1, param2='string', param1=3))\",\n",
       "  \"print('keyword arg -->', myfunc(param3=1, param2='string', param1=3))\",\n",
       "  \"print(myfunc(1, param3='param3', param2=2))\",\n",
       "  \"print(myfunc(param3='param3', 1, 2))\",\n",
       "  \"print(myfunc(*'abc'))\",\n",
       "  \"print(myfunc(*'abc'))\\nprint(myfunc(1, *'23'))\\nprint(myfunc(*'12', 3))\",\n",
       "  \"print(myfunc(*'1234'))\",\n",
       "  \"some_dict = {'key1': 1, 'key2': '2'}\\n\\narg_dict = {'param3': 'param3', 'param2': 2, 'param1': 1.0}\",\n",
       "  \"arg_dict = {'param3': 'param3', 'param2': 2, 'param1': 1.0}\",\n",
       "  'print(myfunc(**arg_dict))',\n",
       "  \"def myfunc(param1='param1', param2='param2', param3='param3'):\\n    return f'param1:{param1}, param2:{param2}, param3:{param3}\",\n",
       "  \"def myfunc(param1='param1', param2='param2', param3='param3'):\\n    return f'param1:{param1}, param2:{param2}, param3:{param3}'\",\n",
       "  'print(myfunc())\\nprint(myfunc(1))\\nprint(myfunc(param2=2))',\n",
       "  \"def myfunc(param1='param1', param2, param3='param3'):\\n    return f'param1:{param1}, param2:{param2}, param3:{param3}'\",\n",
       "  \"import sys\\n\\nprint('some', 'value')\\nprint('some', 'value', sep=' ', end='\\\\n', file=sys.stdout, flush=False)\\nprint('some', 'value', sep='')\",\n",
       "  \"def myfunc(param1, param2, *args):\\n    return f'param1:{param1}, param2:{param2}, other:{args}'\",\n",
       "  'print(myfunc(1, 2))\\nprint(myfunc(1, 2, 3))\\nprint(myfunc(1, 2, 3, 4))',\n",
       "  \"def myfunc(param1, param2, *args):\\n    tmp = f'param1:{param1}, param2:{param2}'\\n    index = 3\\n    for item in args:\\n        tmp + = f', param{index}:{item}'\\n        index += 1\\n    return tmp\",\n",
       "  \"def myfunc(param1, param2, *args):\\n    tmp = f'param1:{param1}, param2:{param2}'\\n    index = 3\\n    for item in args:\\n        tmp += f', param{index}:{item}'\\n        index += 1\\n    return tmp\",\n",
       "  'print(myfunc(1, 2))\\nprint(myfunc(1, 2, 3))\\nprint(myfunc(1, 2, 3, 4))',\n",
       "  \"def myfunc (*, param1='default'):\\n    return f'param1:{param1}'\\n\\nprint(myfunc(1))\",\n",
       "  \"def myfunc (*, param1='default'):\\n    return f'param1:{param1}'\\n\\nprint(myfunc(1, param1=1))\",\n",
       "  \"def myfunc (*, param1='default'):\\n    return f'param1:{param1}'\\n\\nprint(myfunc(param1=1))\",\n",
       "  \"# *のみのパラメータを指定することで\\ndef myfunc (param1 = 'param1', *, param2='default'):\\n    return f'param1:{param1}, param2:{param2}'\\n\\nprint(myfunc(param1=1))\",\n",
       "  \"# *のみのパラメータを指定することで\\ndef myfunc (param1 = 'param1', *, param2='default'):\\n    return f'param1:{param1}, param2:{param2}'\\n\\nprint(myfunc(1))\",\n",
       "  \"# *のみのパラメータを指定することで\\ndef myfunc (param1 = 'param1', *, param2='default'):\\n    return f'param1:{param1}, param2:{param2}'\\n\\nprint(myfunc(1, 2))\",\n",
       "  \"# *のみのパラメータを指定することで\\ndef myfunc (param1 = 'param1', *, param2='default'):\\n    return f'param1:{param1}, param2:{param2}'\\n\\nprint(myfunc(1, param2=2))\",\n",
       "  \"def myfunc(param1, **kwargs):\\n    return f'param1:{param1}, others:{kwargs}'\",\n",
       "  \"print(myfunc(param2='param2', param1=1, foo='foo'))\",\n",
       "  \"def myfunc(param1, **kwargs):\\n    tmp = f'param1:{param1}'\\n    for item in kwargs.items():\\n        tmp += f', {item[0]}:{item[1]}'\\n    return tmp\",\n",
       "  \"print(myfunc(param2='param2', param1=1, foo='foo'))\",\n",
       "  \"print(myfunc(param1=1, 2, 'bar', param2='param2', foo='foo'))\",\n",
       "  \"print(myfunc(1, 2, 'bar', param2='param2', foo='foo'))\",\n",
       "  \"def myfunc(param1, *args; **kwargs):\\n    tmp = f'param1:{param1}'\\n    index = 2\\n    for item in args:\\n        tmp += f', param{index}:{item}'\\n        index += 1\\n    # itemsでキーと値の組のタプルを取り出せる\\n    for item in kwargs.items():\\n        tmp += f', {item[0]}:{item[1]}'\\n    return tmp\",\n",
       "  \"def myfunc(param1, *args, **kwargs):\\n    tmp = f'param1:{param1}'\\n    index = 2\\n    for item in args:\\n        tmp += f', param{index}:{item}'\\n        index += 1\\n    # itemsでキーと値の組のタプルを取り出せる\\n    for item in kwargs.items():\\n        tmp += f', {item[0]}:{item[1]}'\\n    return tmp\",\n",
       "  \"print(myfunc(1, 2, 'bar', param2='param2', foo='foo'))\",\n",
       "  \"print(myfunc(1, 2, 'bar', paramx='param2', foo='foo'))\",\n",
       "  \"print(myfunc(1, 2, 'bar', paramx='paramx', foo='foo'))\",\n",
       "  \"def myfunc():\\n    a = 'Python'\\n    print('a:', a)\\n\\nmyfunc()\\nprint(a)\",\n",
       "  \"def myfunc():\\n    a = 'Python'\\n    print('a:', a)\\n\\na = 'Ruby'\\nmyfunc()\\nprint('a:', a)\",\n",
       "  \"def myfunc():\\n    print('b;', b)\\n\\nmyfunc()\",\n",
       "  \"def myfunc():\\n    print('b:', b)\",\n",
       "  \"b = 'Python'\\nmyfunc()\",\n",
       "  \"def myfunc():\\n    global a\\n    a = 'Python'\\n    print('a:', a)\\n\\na = 'Ruby'\\nmyfunc()\\nprint(a)\",\n",
       "  '__name__',\n",
       "  \"def myfunc():\\n    a = 'Python'\\n    print(locals())\\n\\nmyfunc()\\nprint(locals())\",\n",
       "  \"def myfunc():\\n    a = 'Python'\\n    print(dir())\\n\\nmyfunc()\\nprint(dir())\",\n",
       "  'globals()'],\n",
       " 'Out': {61: '__main__'},\n",
       " 'get_ipython': <bound method InteractiveShell.get_ipython of <ipykernel.zmqshell.ZMQInteractiveShell object at 0x000001F29CC5A3C8>>,\n",
       " 'exit': <IPython.core.autocall.ZMQExitAutocall at 0x1f29ccc9be0>,\n",
       " 'quit': <IPython.core.autocall.ZMQExitAutocall at 0x1f29ccc9be0>,\n",
       " '_': '__main__',\n",
       " '__': '',\n",
       " '___': '',\n",
       " '_i': \"def myfunc():\\n    a = 'Python'\\n    print(dir())\\n\\nmyfunc()\\nprint(dir())\",\n",
       " '_ii': \"def myfunc():\\n    a = 'Python'\\n    print(locals())\\n\\nmyfunc()\\nprint(locals())\",\n",
       " '_iii': '__name__',\n",
       " '_i1': \"import random\\nanswer = random.randint(1, 100)\\n\\nuser = int(input('Please input answer: '))\\n\\nwhile user != answer:\\n    if user < answer:\\n        print('Too low!')\\n    else:\\n        print('Too high')\\n    \\n    user = int(input('Please input next answer:'))\\n\\nelse:\\n    print('Congratulations!')\",\n",
       " 'random': <module 'random' from 'C:\\\\Users\\\\U268137\\\\AppData\\\\Local\\\\Continuum\\\\anaconda3\\\\lib\\\\random.py'>,\n",
       " 'answer': 42,\n",
       " 'user': '114',\n",
       " '_i2': \"while 0:\\n    user = int(input('Please input number: '))\\n    if user == answer:\\n        break\\n    elif user < answer:\\n        print('The answer is larger number.')\\n    else:\\n        print('The answer is smaller number.')\\nelse:\\n    print('Congratulations!')\",\n",
       " '_i3': \"answer = random.randint(1, 100)\\n\\nwhile 0:\\n    user = int(input('Please input number: '))\\n    if user == answer:\\n        break\\n    elif user < answer:\\n        print('The answer is larger number.')\\n    else:\\n        print('The answer is smaller number.')\\nelse:\\n    print('Congratulations!')\",\n",
       " '_i4': \"answer = random.randint(1, 100)\\n\\nwhile 0:\\n    user = int(input('Please input number: '))\\n    if user == answer:\\n        break\\n    elif user < answer:\\n        print('The answer is larger number.')\\n    else:\\n        print('The answer is smaller number.')\\nelse:\\n    print('Congratulations!')\",\n",
       " '_i5': \"answer = random.randint(1, 100)\\n\\nwhile 1:\\n    user = int(input('Please input number: '))\\n    if user == answer:\\n        break\\n    elif user < answer:\\n        print('The answer is larger number.')\\n    else:\\n        print('The answer is smaller number.')\\nelse:\\n    print('Congratulations!')\",\n",
       " '_i6': \"answer = random.randint(1, 100)\\n\\nwhile 1:\\n    user = int(input('Please input number: '))\\n    if user == answer:\\n        break\\n    elif user < answer:\\n        print('The answer is larger number.')\\n    else:\\n        print('The answer is smaller number.')\\nprint('Congratulations!')\",\n",
       " '_i7': \"def hello(whom):\\n    print('Hello', str(whom))\\n\\nhello('World')\",\n",
       " 'hello': <function __main__.hello(whom)>,\n",
       " '_i8': \"def hello(whom):\\n    print('Hello', str(whom))\\n\\nhello('World')\\nhello(123)\",\n",
       " '_i9': 'def get_ans4ultimateQ():\\n    return 42\\n\\nanswer = get_ans4ultimateQ()\\nprint(answer)',\n",
       " 'get_ans4ultimateQ': <function __main__.get_ans4ultimateQ()>,\n",
       " '_i10': 'def get_ans4ultimateQ():\\n    return 42\\n    print(\"can\\'t reach this line\")\\n\\nanswer = get_ans4ultimateQ()\\nprint(answer)',\n",
       " '_i11': 'print(get_ans4ultimateQ())',\n",
       " '_i12': \"def fizzbuzz(number):\\n    if number%3 == 0 and number%5 == 0:\\n        return 'FizzBuzz'\\n    elif number%3 == 0:\\n        return 'Fizz'\\n    elif number%5 == 0:\\n        return 'Buzz'\\n    else:\\n        return str(number)\\n    \\nprint(fizzbuzz(289))\\nprint(fizzbuzz(123))\\nprint(fizzbuzz(125))\\nprint(fizzbuzz(150))\",\n",
       " 'fizzbuzz': <function __main__.fizzbuzz(number)>,\n",
       " '_i13': \"def fizzbuzz(number):\\n    result = str(number)\\n    if number%3 == 0 and number%5 == 0:\\n        return 'FizzBuzz'\\n    elif number%3 == 0:\\n        return 'Fizz'\\n    elif number%5 == 0:\\n        return 'Buzz'\\n    return result\\n    \\nprint(fizzbuzz(289))\\nprint(fizzbuzz(123))\\nprint(fizzbuzz(125))\\nprint(fizzbuzz(150))\",\n",
       " '_i14': \"def fizzbuzz(number):\\n    result = str(number)\\n    if number%3 == 0 and number%5 == 0:\\n        return 'FizzBuzz'\\n    elif number%3 == 0:\\n        return 'Fizz'\\n    elif number%5 == 0:\\n        return 'Buzz'\\n    return result\\n    \\nprint('289', fizzbuzz(289))\\nprint('123', fizzbuzz(123))\\nprint('125', fizzbuzz(125))\\nprint('150', fizzbuzz(150))\\n\\nuser = input('Please input number: ')\\nprint(user, fizzbuzz(int(user)))\",\n",
       " '_i15': \"def myfunc(param1, param2, param3):\\n    return f'param1: {param1}, param2: {param2}, param3: {param3}'\\n\\nprint(myfunc(1, 2, 3))\",\n",
       " 'myfunc': <function __main__.myfunc()>,\n",
       " '_i16': \"def myfunc(param1, param2, param3):\\n    return f'param1:{param1}, param2:{param2}, param3:{param3}'\\n\\nprint(myfunc(1, 2, 3))\",\n",
       " '_i17': \"print('keyword arg', myfunc(param3=1, param2='string', param1=3))\",\n",
       " '_i18': \"print('keyword arg -->', myfunc(param3=1, param2='string', param1=3))\",\n",
       " '_i19': \"print(myfunc(1, param3='param3', param2=2))\",\n",
       " '_i20': \"print(myfunc(param3='param3', 1, 2))\",\n",
       " '_i21': \"print(myfunc(*'abc'))\",\n",
       " '_i22': \"print(myfunc(*'abc'))\\nprint(myfunc(1, *'23'))\\nprint(myfunc(*'12', 3))\",\n",
       " '_i23': \"print(myfunc(*'1234'))\",\n",
       " '_i24': \"some_dict = {'key1': 1, 'key2': '2'}\\n\\narg_dict = {'param3': 'param3', 'param2': 2, 'param1': 1.0}\",\n",
       " 'some_dict': {'key1': 1, 'key2': '2'},\n",
       " 'arg_dict': {'param3': 'param3', 'param2': 2, 'param1': 1.0},\n",
       " '_i25': \"arg_dict = {'param3': 'param3', 'param2': 2, 'param1': 1.0}\",\n",
       " '_i26': 'print(myfunc(**arg_dict))',\n",
       " '_i27': \"def myfunc(param1='param1', param2='param2', param3='param3'):\\n    return f'param1:{param1}, param2:{param2}, param3:{param3}\",\n",
       " '_i28': \"def myfunc(param1='param1', param2='param2', param3='param3'):\\n    return f'param1:{param1}, param2:{param2}, param3:{param3}'\",\n",
       " '_i29': 'print(myfunc())\\nprint(myfunc(1))\\nprint(myfunc(param2=2))',\n",
       " '_i30': \"def myfunc(param1='param1', param2, param3='param3'):\\n    return f'param1:{param1}, param2:{param2}, param3:{param3}'\",\n",
       " '_i31': \"import sys\\n\\nprint('some', 'value')\\nprint('some', 'value', sep=' ', end='\\\\n', file=sys.stdout, flush=False)\\nprint('some', 'value', sep='')\",\n",
       " 'sys': <module 'sys' (built-in)>,\n",
       " '_i32': \"def myfunc(param1, param2, *args):\\n    return f'param1:{param1}, param2:{param2}, other:{args}'\",\n",
       " '_i33': 'print(myfunc(1, 2))\\nprint(myfunc(1, 2, 3))\\nprint(myfunc(1, 2, 3, 4))',\n",
       " '_i34': \"def myfunc(param1, param2, *args):\\n    tmp = f'param1:{param1}, param2:{param2}'\\n    index = 3\\n    for item in args:\\n        tmp + = f', param{index}:{item}'\\n        index += 1\\n    return tmp\",\n",
       " '_i35': \"def myfunc(param1, param2, *args):\\n    tmp = f'param1:{param1}, param2:{param2}'\\n    index = 3\\n    for item in args:\\n        tmp += f', param{index}:{item}'\\n        index += 1\\n    return tmp\",\n",
       " '_i36': 'print(myfunc(1, 2))\\nprint(myfunc(1, 2, 3))\\nprint(myfunc(1, 2, 3, 4))',\n",
       " '_i37': \"def myfunc (*, param1='default'):\\n    return f'param1:{param1}'\\n\\nprint(myfunc(1))\",\n",
       " '_i38': \"def myfunc (*, param1='default'):\\n    return f'param1:{param1}'\\n\\nprint(myfunc(1, param1=1))\",\n",
       " '_i39': \"def myfunc (*, param1='default'):\\n    return f'param1:{param1}'\\n\\nprint(myfunc(param1=1))\",\n",
       " '_i40': \"# *のみのパラメータを指定することで\\ndef myfunc (param1 = 'param1', *, param2='default'):\\n    return f'param1:{param1}, param2:{param2}'\\n\\nprint(myfunc(param1=1))\",\n",
       " '_i41': \"# *のみのパラメータを指定することで\\ndef myfunc (param1 = 'param1', *, param2='default'):\\n    return f'param1:{param1}, param2:{param2}'\\n\\nprint(myfunc(1))\",\n",
       " '_i42': \"# *のみのパラメータを指定することで\\ndef myfunc (param1 = 'param1', *, param2='default'):\\n    return f'param1:{param1}, param2:{param2}'\\n\\nprint(myfunc(1, 2))\",\n",
       " '_i43': \"# *のみのパラメータを指定することで\\ndef myfunc (param1 = 'param1', *, param2='default'):\\n    return f'param1:{param1}, param2:{param2}'\\n\\nprint(myfunc(1, param2=2))\",\n",
       " '_i44': \"def myfunc(param1, **kwargs):\\n    return f'param1:{param1}, others:{kwargs}'\",\n",
       " '_i45': \"print(myfunc(param2='param2', param1=1, foo='foo'))\",\n",
       " '_i46': \"def myfunc(param1, **kwargs):\\n    tmp = f'param1:{param1}'\\n    for item in kwargs.items():\\n        tmp += f', {item[0]}:{item[1]}'\\n    return tmp\",\n",
       " '_i47': \"print(myfunc(param2='param2', param1=1, foo='foo'))\",\n",
       " '_i48': \"print(myfunc(param1=1, 2, 'bar', param2='param2', foo='foo'))\",\n",
       " '_i49': \"print(myfunc(1, 2, 'bar', param2='param2', foo='foo'))\",\n",
       " '_i50': \"def myfunc(param1, *args; **kwargs):\\n    tmp = f'param1:{param1}'\\n    index = 2\\n    for item in args:\\n        tmp += f', param{index}:{item}'\\n        index += 1\\n    # itemsでキーと値の組のタプルを取り出せる\\n    for item in kwargs.items():\\n        tmp += f', {item[0]}:{item[1]}'\\n    return tmp\",\n",
       " '_i51': \"def myfunc(param1, *args, **kwargs):\\n    tmp = f'param1:{param1}'\\n    index = 2\\n    for item in args:\\n        tmp += f', param{index}:{item}'\\n        index += 1\\n    # itemsでキーと値の組のタプルを取り出せる\\n    for item in kwargs.items():\\n        tmp += f', {item[0]}:{item[1]}'\\n    return tmp\",\n",
       " '_i52': \"print(myfunc(1, 2, 'bar', param2='param2', foo='foo'))\",\n",
       " '_i53': \"print(myfunc(1, 2, 'bar', paramx='param2', foo='foo'))\",\n",
       " '_i54': \"print(myfunc(1, 2, 'bar', paramx='paramx', foo='foo'))\",\n",
       " '_i55': \"def myfunc():\\n    a = 'Python'\\n    print('a:', a)\\n\\nmyfunc()\\nprint(a)\",\n",
       " '_i56': \"def myfunc():\\n    a = 'Python'\\n    print('a:', a)\\n\\na = 'Ruby'\\nmyfunc()\\nprint('a:', a)\",\n",
       " 'a': 'Python',\n",
       " '_i57': \"def myfunc():\\n    print('b;', b)\\n\\nmyfunc()\",\n",
       " '_i58': \"def myfunc():\\n    print('b:', b)\",\n",
       " '_i59': \"b = 'Python'\\nmyfunc()\",\n",
       " 'b': 'Python',\n",
       " '_i60': \"def myfunc():\\n    global a\\n    a = 'Python'\\n    print('a:', a)\\n\\na = 'Ruby'\\nmyfunc()\\nprint(a)\",\n",
       " '_i61': '__name__',\n",
       " '_61': '__main__',\n",
       " '_i62': \"def myfunc():\\n    a = 'Python'\\n    print(locals())\\n\\nmyfunc()\\nprint(locals())\",\n",
       " '_i63': \"def myfunc():\\n    a = 'Python'\\n    print(dir())\\n\\nmyfunc()\\nprint(dir())\",\n",
       " '_i64': 'globals()'}"
      ]
     },
     "execution_count": 64,
     "metadata": {},
     "output_type": "execute_result"
    }
   ],
   "source": [
    "globals()"
   ]
  },
  {
   "cell_type": "code",
   "execution_count": 65,
   "metadata": {},
   "outputs": [
    {
     "data": {
      "text/plain": [
       "True"
      ]
     },
     "execution_count": 65,
     "metadata": {},
     "output_type": "execute_result"
    }
   ],
   "source": [
    "locals() == globals()"
   ]
  },
  {
   "cell_type": "code",
   "execution_count": 66,
   "metadata": {},
   "outputs": [
    {
     "name": "stdout",
     "output_type": "stream",
     "text": [
      "locals {'a': 'Python'}\n",
      "globals {'__name__': '__main__', '__doc__': 'Automatically created module for IPython interactive environment', '__package__': None, '__loader__': None, '__spec__': None, '__builtin__': <module 'builtins' (built-in)>, '__builtins__': <module 'builtins' (built-in)>, '_ih': ['', \"import random\\nanswer = random.randint(1, 100)\\n\\nuser = int(input('Please input answer: '))\\n\\nwhile user != answer:\\n    if user < answer:\\n        print('Too low!')\\n    else:\\n        print('Too high')\\n    \\n    user = int(input('Please input next answer:'))\\n\\nelse:\\n    print('Congratulations!')\", \"while 0:\\n    user = int(input('Please input number: '))\\n    if user == answer:\\n        break\\n    elif user < answer:\\n        print('The answer is larger number.')\\n    else:\\n        print('The answer is smaller number.')\\nelse:\\n    print('Congratulations!')\", \"answer = random.randint(1, 100)\\n\\nwhile 0:\\n    user = int(input('Please input number: '))\\n    if user == answer:\\n        break\\n    elif user < answer:\\n        print('The answer is larger number.')\\n    else:\\n        print('The answer is smaller number.')\\nelse:\\n    print('Congratulations!')\", \"answer = random.randint(1, 100)\\n\\nwhile 0:\\n    user = int(input('Please input number: '))\\n    if user == answer:\\n        break\\n    elif user < answer:\\n        print('The answer is larger number.')\\n    else:\\n        print('The answer is smaller number.')\\nelse:\\n    print('Congratulations!')\", \"answer = random.randint(1, 100)\\n\\nwhile 1:\\n    user = int(input('Please input number: '))\\n    if user == answer:\\n        break\\n    elif user < answer:\\n        print('The answer is larger number.')\\n    else:\\n        print('The answer is smaller number.')\\nelse:\\n    print('Congratulations!')\", \"answer = random.randint(1, 100)\\n\\nwhile 1:\\n    user = int(input('Please input number: '))\\n    if user == answer:\\n        break\\n    elif user < answer:\\n        print('The answer is larger number.')\\n    else:\\n        print('The answer is smaller number.')\\nprint('Congratulations!')\", \"def hello(whom):\\n    print('Hello', str(whom))\\n\\nhello('World')\", \"def hello(whom):\\n    print('Hello', str(whom))\\n\\nhello('World')\\nhello(123)\", 'def get_ans4ultimateQ():\\n    return 42\\n\\nanswer = get_ans4ultimateQ()\\nprint(answer)', 'def get_ans4ultimateQ():\\n    return 42\\n    print(\"can\\'t reach this line\")\\n\\nanswer = get_ans4ultimateQ()\\nprint(answer)', 'print(get_ans4ultimateQ())', \"def fizzbuzz(number):\\n    if number%3 == 0 and number%5 == 0:\\n        return 'FizzBuzz'\\n    elif number%3 == 0:\\n        return 'Fizz'\\n    elif number%5 == 0:\\n        return 'Buzz'\\n    else:\\n        return str(number)\\n    \\nprint(fizzbuzz(289))\\nprint(fizzbuzz(123))\\nprint(fizzbuzz(125))\\nprint(fizzbuzz(150))\", \"def fizzbuzz(number):\\n    result = str(number)\\n    if number%3 == 0 and number%5 == 0:\\n        return 'FizzBuzz'\\n    elif number%3 == 0:\\n        return 'Fizz'\\n    elif number%5 == 0:\\n        return 'Buzz'\\n    return result\\n    \\nprint(fizzbuzz(289))\\nprint(fizzbuzz(123))\\nprint(fizzbuzz(125))\\nprint(fizzbuzz(150))\", \"def fizzbuzz(number):\\n    result = str(number)\\n    if number%3 == 0 and number%5 == 0:\\n        return 'FizzBuzz'\\n    elif number%3 == 0:\\n        return 'Fizz'\\n    elif number%5 == 0:\\n        return 'Buzz'\\n    return result\\n    \\nprint('289', fizzbuzz(289))\\nprint('123', fizzbuzz(123))\\nprint('125', fizzbuzz(125))\\nprint('150', fizzbuzz(150))\\n\\nuser = input('Please input number: ')\\nprint(user, fizzbuzz(int(user)))\", \"def myfunc(param1, param2, param3):\\n    return f'param1: {param1}, param2: {param2}, param3: {param3}'\\n\\nprint(myfunc(1, 2, 3))\", \"def myfunc(param1, param2, param3):\\n    return f'param1:{param1}, param2:{param2}, param3:{param3}'\\n\\nprint(myfunc(1, 2, 3))\", \"print('keyword arg', myfunc(param3=1, param2='string', param1=3))\", \"print('keyword arg -->', myfunc(param3=1, param2='string', param1=3))\", \"print(myfunc(1, param3='param3', param2=2))\", \"print(myfunc(param3='param3', 1, 2))\", \"print(myfunc(*'abc'))\", \"print(myfunc(*'abc'))\\nprint(myfunc(1, *'23'))\\nprint(myfunc(*'12', 3))\", \"print(myfunc(*'1234'))\", \"some_dict = {'key1': 1, 'key2': '2'}\\n\\narg_dict = {'param3': 'param3', 'param2': 2, 'param1': 1.0}\", \"arg_dict = {'param3': 'param3', 'param2': 2, 'param1': 1.0}\", 'print(myfunc(**arg_dict))', \"def myfunc(param1='param1', param2='param2', param3='param3'):\\n    return f'param1:{param1}, param2:{param2}, param3:{param3}\", \"def myfunc(param1='param1', param2='param2', param3='param3'):\\n    return f'param1:{param1}, param2:{param2}, param3:{param3}'\", 'print(myfunc())\\nprint(myfunc(1))\\nprint(myfunc(param2=2))', \"def myfunc(param1='param1', param2, param3='param3'):\\n    return f'param1:{param1}, param2:{param2}, param3:{param3}'\", \"import sys\\n\\nprint('some', 'value')\\nprint('some', 'value', sep=' ', end='\\\\n', file=sys.stdout, flush=False)\\nprint('some', 'value', sep='')\", \"def myfunc(param1, param2, *args):\\n    return f'param1:{param1}, param2:{param2}, other:{args}'\", 'print(myfunc(1, 2))\\nprint(myfunc(1, 2, 3))\\nprint(myfunc(1, 2, 3, 4))', \"def myfunc(param1, param2, *args):\\n    tmp = f'param1:{param1}, param2:{param2}'\\n    index = 3\\n    for item in args:\\n        tmp + = f', param{index}:{item}'\\n        index += 1\\n    return tmp\", \"def myfunc(param1, param2, *args):\\n    tmp = f'param1:{param1}, param2:{param2}'\\n    index = 3\\n    for item in args:\\n        tmp += f', param{index}:{item}'\\n        index += 1\\n    return tmp\", 'print(myfunc(1, 2))\\nprint(myfunc(1, 2, 3))\\nprint(myfunc(1, 2, 3, 4))', \"def myfunc (*, param1='default'):\\n    return f'param1:{param1}'\\n\\nprint(myfunc(1))\", \"def myfunc (*, param1='default'):\\n    return f'param1:{param1}'\\n\\nprint(myfunc(1, param1=1))\", \"def myfunc (*, param1='default'):\\n    return f'param1:{param1}'\\n\\nprint(myfunc(param1=1))\", \"# *のみのパラメータを指定することで\\ndef myfunc (param1 = 'param1', *, param2='default'):\\n    return f'param1:{param1}, param2:{param2}'\\n\\nprint(myfunc(param1=1))\", \"# *のみのパラメータを指定することで\\ndef myfunc (param1 = 'param1', *, param2='default'):\\n    return f'param1:{param1}, param2:{param2}'\\n\\nprint(myfunc(1))\", \"# *のみのパラメータを指定することで\\ndef myfunc (param1 = 'param1', *, param2='default'):\\n    return f'param1:{param1}, param2:{param2}'\\n\\nprint(myfunc(1, 2))\", \"# *のみのパラメータを指定することで\\ndef myfunc (param1 = 'param1', *, param2='default'):\\n    return f'param1:{param1}, param2:{param2}'\\n\\nprint(myfunc(1, param2=2))\", \"def myfunc(param1, **kwargs):\\n    return f'param1:{param1}, others:{kwargs}'\", \"print(myfunc(param2='param2', param1=1, foo='foo'))\", \"def myfunc(param1, **kwargs):\\n    tmp = f'param1:{param1}'\\n    for item in kwargs.items():\\n        tmp += f', {item[0]}:{item[1]}'\\n    return tmp\", \"print(myfunc(param2='param2', param1=1, foo='foo'))\", \"print(myfunc(param1=1, 2, 'bar', param2='param2', foo='foo'))\", \"print(myfunc(1, 2, 'bar', param2='param2', foo='foo'))\", \"def myfunc(param1, *args; **kwargs):\\n    tmp = f'param1:{param1}'\\n    index = 2\\n    for item in args:\\n        tmp += f', param{index}:{item}'\\n        index += 1\\n    # itemsでキーと値の組のタプルを取り出せる\\n    for item in kwargs.items():\\n        tmp += f', {item[0]}:{item[1]}'\\n    return tmp\", \"def myfunc(param1, *args, **kwargs):\\n    tmp = f'param1:{param1}'\\n    index = 2\\n    for item in args:\\n        tmp += f', param{index}:{item}'\\n        index += 1\\n    # itemsでキーと値の組のタプルを取り出せる\\n    for item in kwargs.items():\\n        tmp += f', {item[0]}:{item[1]}'\\n    return tmp\", \"print(myfunc(1, 2, 'bar', param2='param2', foo='foo'))\", \"print(myfunc(1, 2, 'bar', paramx='param2', foo='foo'))\", \"print(myfunc(1, 2, 'bar', paramx='paramx', foo='foo'))\", \"def myfunc():\\n    a = 'Python'\\n    print('a:', a)\\n\\nmyfunc()\\nprint(a)\", \"def myfunc():\\n    a = 'Python'\\n    print('a:', a)\\n\\na = 'Ruby'\\nmyfunc()\\nprint('a:', a)\", \"def myfunc():\\n    print('b;', b)\\n\\nmyfunc()\", \"def myfunc():\\n    print('b:', b)\", \"b = 'Python'\\nmyfunc()\", \"def myfunc():\\n    global a\\n    a = 'Python'\\n    print('a:', a)\\n\\na = 'Ruby'\\nmyfunc()\\nprint(a)\", '__name__', \"def myfunc():\\n    a = 'Python'\\n    print(locals())\\n\\nmyfunc()\\nprint(locals())\", \"def myfunc():\\n    a = 'Python'\\n    print(dir())\\n\\nmyfunc()\\nprint(dir())\", 'globals()', 'locals() == globals()', \"def myfunc():\\n    a = 'Python'\\n    print('locals', locals())\\n    print('globals', globals())\\n\\nmyfunc()\"], '_oh': {61: '__main__', 64: {...}, 65: True}, '_dh': ['C:\\\\Users\\\\U268137\\\\atmarkit_python'], 'In': ['', \"import random\\nanswer = random.randint(1, 100)\\n\\nuser = int(input('Please input answer: '))\\n\\nwhile user != answer:\\n    if user < answer:\\n        print('Too low!')\\n    else:\\n        print('Too high')\\n    \\n    user = int(input('Please input next answer:'))\\n\\nelse:\\n    print('Congratulations!')\", \"while 0:\\n    user = int(input('Please input number: '))\\n    if user == answer:\\n        break\\n    elif user < answer:\\n        print('The answer is larger number.')\\n    else:\\n        print('The answer is smaller number.')\\nelse:\\n    print('Congratulations!')\", \"answer = random.randint(1, 100)\\n\\nwhile 0:\\n    user = int(input('Please input number: '))\\n    if user == answer:\\n        break\\n    elif user < answer:\\n        print('The answer is larger number.')\\n    else:\\n        print('The answer is smaller number.')\\nelse:\\n    print('Congratulations!')\", \"answer = random.randint(1, 100)\\n\\nwhile 0:\\n    user = int(input('Please input number: '))\\n    if user == answer:\\n        break\\n    elif user < answer:\\n        print('The answer is larger number.')\\n    else:\\n        print('The answer is smaller number.')\\nelse:\\n    print('Congratulations!')\", \"answer = random.randint(1, 100)\\n\\nwhile 1:\\n    user = int(input('Please input number: '))\\n    if user == answer:\\n        break\\n    elif user < answer:\\n        print('The answer is larger number.')\\n    else:\\n        print('The answer is smaller number.')\\nelse:\\n    print('Congratulations!')\", \"answer = random.randint(1, 100)\\n\\nwhile 1:\\n    user = int(input('Please input number: '))\\n    if user == answer:\\n        break\\n    elif user < answer:\\n        print('The answer is larger number.')\\n    else:\\n        print('The answer is smaller number.')\\nprint('Congratulations!')\", \"def hello(whom):\\n    print('Hello', str(whom))\\n\\nhello('World')\", \"def hello(whom):\\n    print('Hello', str(whom))\\n\\nhello('World')\\nhello(123)\", 'def get_ans4ultimateQ():\\n    return 42\\n\\nanswer = get_ans4ultimateQ()\\nprint(answer)', 'def get_ans4ultimateQ():\\n    return 42\\n    print(\"can\\'t reach this line\")\\n\\nanswer = get_ans4ultimateQ()\\nprint(answer)', 'print(get_ans4ultimateQ())', \"def fizzbuzz(number):\\n    if number%3 == 0 and number%5 == 0:\\n        return 'FizzBuzz'\\n    elif number%3 == 0:\\n        return 'Fizz'\\n    elif number%5 == 0:\\n        return 'Buzz'\\n    else:\\n        return str(number)\\n    \\nprint(fizzbuzz(289))\\nprint(fizzbuzz(123))\\nprint(fizzbuzz(125))\\nprint(fizzbuzz(150))\", \"def fizzbuzz(number):\\n    result = str(number)\\n    if number%3 == 0 and number%5 == 0:\\n        return 'FizzBuzz'\\n    elif number%3 == 0:\\n        return 'Fizz'\\n    elif number%5 == 0:\\n        return 'Buzz'\\n    return result\\n    \\nprint(fizzbuzz(289))\\nprint(fizzbuzz(123))\\nprint(fizzbuzz(125))\\nprint(fizzbuzz(150))\", \"def fizzbuzz(number):\\n    result = str(number)\\n    if number%3 == 0 and number%5 == 0:\\n        return 'FizzBuzz'\\n    elif number%3 == 0:\\n        return 'Fizz'\\n    elif number%5 == 0:\\n        return 'Buzz'\\n    return result\\n    \\nprint('289', fizzbuzz(289))\\nprint('123', fizzbuzz(123))\\nprint('125', fizzbuzz(125))\\nprint('150', fizzbuzz(150))\\n\\nuser = input('Please input number: ')\\nprint(user, fizzbuzz(int(user)))\", \"def myfunc(param1, param2, param3):\\n    return f'param1: {param1}, param2: {param2}, param3: {param3}'\\n\\nprint(myfunc(1, 2, 3))\", \"def myfunc(param1, param2, param3):\\n    return f'param1:{param1}, param2:{param2}, param3:{param3}'\\n\\nprint(myfunc(1, 2, 3))\", \"print('keyword arg', myfunc(param3=1, param2='string', param1=3))\", \"print('keyword arg -->', myfunc(param3=1, param2='string', param1=3))\", \"print(myfunc(1, param3='param3', param2=2))\", \"print(myfunc(param3='param3', 1, 2))\", \"print(myfunc(*'abc'))\", \"print(myfunc(*'abc'))\\nprint(myfunc(1, *'23'))\\nprint(myfunc(*'12', 3))\", \"print(myfunc(*'1234'))\", \"some_dict = {'key1': 1, 'key2': '2'}\\n\\narg_dict = {'param3': 'param3', 'param2': 2, 'param1': 1.0}\", \"arg_dict = {'param3': 'param3', 'param2': 2, 'param1': 1.0}\", 'print(myfunc(**arg_dict))', \"def myfunc(param1='param1', param2='param2', param3='param3'):\\n    return f'param1:{param1}, param2:{param2}, param3:{param3}\", \"def myfunc(param1='param1', param2='param2', param3='param3'):\\n    return f'param1:{param1}, param2:{param2}, param3:{param3}'\", 'print(myfunc())\\nprint(myfunc(1))\\nprint(myfunc(param2=2))', \"def myfunc(param1='param1', param2, param3='param3'):\\n    return f'param1:{param1}, param2:{param2}, param3:{param3}'\", \"import sys\\n\\nprint('some', 'value')\\nprint('some', 'value', sep=' ', end='\\\\n', file=sys.stdout, flush=False)\\nprint('some', 'value', sep='')\", \"def myfunc(param1, param2, *args):\\n    return f'param1:{param1}, param2:{param2}, other:{args}'\", 'print(myfunc(1, 2))\\nprint(myfunc(1, 2, 3))\\nprint(myfunc(1, 2, 3, 4))', \"def myfunc(param1, param2, *args):\\n    tmp = f'param1:{param1}, param2:{param2}'\\n    index = 3\\n    for item in args:\\n        tmp + = f', param{index}:{item}'\\n        index += 1\\n    return tmp\", \"def myfunc(param1, param2, *args):\\n    tmp = f'param1:{param1}, param2:{param2}'\\n    index = 3\\n    for item in args:\\n        tmp += f', param{index}:{item}'\\n        index += 1\\n    return tmp\", 'print(myfunc(1, 2))\\nprint(myfunc(1, 2, 3))\\nprint(myfunc(1, 2, 3, 4))', \"def myfunc (*, param1='default'):\\n    return f'param1:{param1}'\\n\\nprint(myfunc(1))\", \"def myfunc (*, param1='default'):\\n    return f'param1:{param1}'\\n\\nprint(myfunc(1, param1=1))\", \"def myfunc (*, param1='default'):\\n    return f'param1:{param1}'\\n\\nprint(myfunc(param1=1))\", \"# *のみのパラメータを指定することで\\ndef myfunc (param1 = 'param1', *, param2='default'):\\n    return f'param1:{param1}, param2:{param2}'\\n\\nprint(myfunc(param1=1))\", \"# *のみのパラメータを指定することで\\ndef myfunc (param1 = 'param1', *, param2='default'):\\n    return f'param1:{param1}, param2:{param2}'\\n\\nprint(myfunc(1))\", \"# *のみのパラメータを指定することで\\ndef myfunc (param1 = 'param1', *, param2='default'):\\n    return f'param1:{param1}, param2:{param2}'\\n\\nprint(myfunc(1, 2))\", \"# *のみのパラメータを指定することで\\ndef myfunc (param1 = 'param1', *, param2='default'):\\n    return f'param1:{param1}, param2:{param2}'\\n\\nprint(myfunc(1, param2=2))\", \"def myfunc(param1, **kwargs):\\n    return f'param1:{param1}, others:{kwargs}'\", \"print(myfunc(param2='param2', param1=1, foo='foo'))\", \"def myfunc(param1, **kwargs):\\n    tmp = f'param1:{param1}'\\n    for item in kwargs.items():\\n        tmp += f', {item[0]}:{item[1]}'\\n    return tmp\", \"print(myfunc(param2='param2', param1=1, foo='foo'))\", \"print(myfunc(param1=1, 2, 'bar', param2='param2', foo='foo'))\", \"print(myfunc(1, 2, 'bar', param2='param2', foo='foo'))\", \"def myfunc(param1, *args; **kwargs):\\n    tmp = f'param1:{param1}'\\n    index = 2\\n    for item in args:\\n        tmp += f', param{index}:{item}'\\n        index += 1\\n    # itemsでキーと値の組のタプルを取り出せる\\n    for item in kwargs.items():\\n        tmp += f', {item[0]}:{item[1]}'\\n    return tmp\", \"def myfunc(param1, *args, **kwargs):\\n    tmp = f'param1:{param1}'\\n    index = 2\\n    for item in args:\\n        tmp += f', param{index}:{item}'\\n        index += 1\\n    # itemsでキーと値の組のタプルを取り出せる\\n    for item in kwargs.items():\\n        tmp += f', {item[0]}:{item[1]}'\\n    return tmp\", \"print(myfunc(1, 2, 'bar', param2='param2', foo='foo'))\", \"print(myfunc(1, 2, 'bar', paramx='param2', foo='foo'))\", \"print(myfunc(1, 2, 'bar', paramx='paramx', foo='foo'))\", \"def myfunc():\\n    a = 'Python'\\n    print('a:', a)\\n\\nmyfunc()\\nprint(a)\", \"def myfunc():\\n    a = 'Python'\\n    print('a:', a)\\n\\na = 'Ruby'\\nmyfunc()\\nprint('a:', a)\", \"def myfunc():\\n    print('b;', b)\\n\\nmyfunc()\", \"def myfunc():\\n    print('b:', b)\", \"b = 'Python'\\nmyfunc()\", \"def myfunc():\\n    global a\\n    a = 'Python'\\n    print('a:', a)\\n\\na = 'Ruby'\\nmyfunc()\\nprint(a)\", '__name__', \"def myfunc():\\n    a = 'Python'\\n    print(locals())\\n\\nmyfunc()\\nprint(locals())\", \"def myfunc():\\n    a = 'Python'\\n    print(dir())\\n\\nmyfunc()\\nprint(dir())\", 'globals()', 'locals() == globals()', \"def myfunc():\\n    a = 'Python'\\n    print('locals', locals())\\n    print('globals', globals())\\n\\nmyfunc()\"], 'Out': {61: '__main__', 64: {...}, 65: True}, 'get_ipython': <bound method InteractiveShell.get_ipython of <ipykernel.zmqshell.ZMQInteractiveShell object at 0x000001F29CC5A3C8>>, 'exit': <IPython.core.autocall.ZMQExitAutocall object at 0x000001F29CCC9BE0>, 'quit': <IPython.core.autocall.ZMQExitAutocall object at 0x000001F29CCC9BE0>, '_': True, '__': {...}, '___': '__main__', '_i': 'locals() == globals()', '_ii': 'globals()', '_iii': \"def myfunc():\\n    a = 'Python'\\n    print(dir())\\n\\nmyfunc()\\nprint(dir())\", '_i1': \"import random\\nanswer = random.randint(1, 100)\\n\\nuser = int(input('Please input answer: '))\\n\\nwhile user != answer:\\n    if user < answer:\\n        print('Too low!')\\n    else:\\n        print('Too high')\\n    \\n    user = int(input('Please input next answer:'))\\n\\nelse:\\n    print('Congratulations!')\", 'random': <module 'random' from 'C:\\\\Users\\\\U268137\\\\AppData\\\\Local\\\\Continuum\\\\anaconda3\\\\lib\\\\random.py'>, 'answer': 42, 'user': '114', '_i2': \"while 0:\\n    user = int(input('Please input number: '))\\n    if user == answer:\\n        break\\n    elif user < answer:\\n        print('The answer is larger number.')\\n    else:\\n        print('The answer is smaller number.')\\nelse:\\n    print('Congratulations!')\", '_i3': \"answer = random.randint(1, 100)\\n\\nwhile 0:\\n    user = int(input('Please input number: '))\\n    if user == answer:\\n        break\\n    elif user < answer:\\n        print('The answer is larger number.')\\n    else:\\n        print('The answer is smaller number.')\\nelse:\\n    print('Congratulations!')\", '_i4': \"answer = random.randint(1, 100)\\n\\nwhile 0:\\n    user = int(input('Please input number: '))\\n    if user == answer:\\n        break\\n    elif user < answer:\\n        print('The answer is larger number.')\\n    else:\\n        print('The answer is smaller number.')\\nelse:\\n    print('Congratulations!')\", '_i5': \"answer = random.randint(1, 100)\\n\\nwhile 1:\\n    user = int(input('Please input number: '))\\n    if user == answer:\\n        break\\n    elif user < answer:\\n        print('The answer is larger number.')\\n    else:\\n        print('The answer is smaller number.')\\nelse:\\n    print('Congratulations!')\", '_i6': \"answer = random.randint(1, 100)\\n\\nwhile 1:\\n    user = int(input('Please input number: '))\\n    if user == answer:\\n        break\\n    elif user < answer:\\n        print('The answer is larger number.')\\n    else:\\n        print('The answer is smaller number.')\\nprint('Congratulations!')\", '_i7': \"def hello(whom):\\n    print('Hello', str(whom))\\n\\nhello('World')\", 'hello': <function hello at 0x000001F29CDEF2F0>, '_i8': \"def hello(whom):\\n    print('Hello', str(whom))\\n\\nhello('World')\\nhello(123)\", '_i9': 'def get_ans4ultimateQ():\\n    return 42\\n\\nanswer = get_ans4ultimateQ()\\nprint(answer)', 'get_ans4ultimateQ': <function get_ans4ultimateQ at 0x000001F29CDEF268>, '_i10': 'def get_ans4ultimateQ():\\n    return 42\\n    print(\"can\\'t reach this line\")\\n\\nanswer = get_ans4ultimateQ()\\nprint(answer)', '_i11': 'print(get_ans4ultimateQ())', '_i12': \"def fizzbuzz(number):\\n    if number%3 == 0 and number%5 == 0:\\n        return 'FizzBuzz'\\n    elif number%3 == 0:\\n        return 'Fizz'\\n    elif number%5 == 0:\\n        return 'Buzz'\\n    else:\\n        return str(number)\\n    \\nprint(fizzbuzz(289))\\nprint(fizzbuzz(123))\\nprint(fizzbuzz(125))\\nprint(fizzbuzz(150))\", 'fizzbuzz': <function fizzbuzz at 0x000001F29CDEF048>, '_i13': \"def fizzbuzz(number):\\n    result = str(number)\\n    if number%3 == 0 and number%5 == 0:\\n        return 'FizzBuzz'\\n    elif number%3 == 0:\\n        return 'Fizz'\\n    elif number%5 == 0:\\n        return 'Buzz'\\n    return result\\n    \\nprint(fizzbuzz(289))\\nprint(fizzbuzz(123))\\nprint(fizzbuzz(125))\\nprint(fizzbuzz(150))\", '_i14': \"def fizzbuzz(number):\\n    result = str(number)\\n    if number%3 == 0 and number%5 == 0:\\n        return 'FizzBuzz'\\n    elif number%3 == 0:\\n        return 'Fizz'\\n    elif number%5 == 0:\\n        return 'Buzz'\\n    return result\\n    \\nprint('289', fizzbuzz(289))\\nprint('123', fizzbuzz(123))\\nprint('125', fizzbuzz(125))\\nprint('150', fizzbuzz(150))\\n\\nuser = input('Please input number: ')\\nprint(user, fizzbuzz(int(user)))\", '_i15': \"def myfunc(param1, param2, param3):\\n    return f'param1: {param1}, param2: {param2}, param3: {param3}'\\n\\nprint(myfunc(1, 2, 3))\", 'myfunc': <function myfunc at 0x000001F29CDB6E18>, '_i16': \"def myfunc(param1, param2, param3):\\n    return f'param1:{param1}, param2:{param2}, param3:{param3}'\\n\\nprint(myfunc(1, 2, 3))\", '_i17': \"print('keyword arg', myfunc(param3=1, param2='string', param1=3))\", '_i18': \"print('keyword arg -->', myfunc(param3=1, param2='string', param1=3))\", '_i19': \"print(myfunc(1, param3='param3', param2=2))\", '_i20': \"print(myfunc(param3='param3', 1, 2))\", '_i21': \"print(myfunc(*'abc'))\", '_i22': \"print(myfunc(*'abc'))\\nprint(myfunc(1, *'23'))\\nprint(myfunc(*'12', 3))\", '_i23': \"print(myfunc(*'1234'))\", '_i24': \"some_dict = {'key1': 1, 'key2': '2'}\\n\\narg_dict = {'param3': 'param3', 'param2': 2, 'param1': 1.0}\", 'some_dict': {'key1': 1, 'key2': '2'}, 'arg_dict': {'param3': 'param3', 'param2': 2, 'param1': 1.0}, '_i25': \"arg_dict = {'param3': 'param3', 'param2': 2, 'param1': 1.0}\", '_i26': 'print(myfunc(**arg_dict))', '_i27': \"def myfunc(param1='param1', param2='param2', param3='param3'):\\n    return f'param1:{param1}, param2:{param2}, param3:{param3}\", '_i28': \"def myfunc(param1='param1', param2='param2', param3='param3'):\\n    return f'param1:{param1}, param2:{param2}, param3:{param3}'\", '_i29': 'print(myfunc())\\nprint(myfunc(1))\\nprint(myfunc(param2=2))', '_i30': \"def myfunc(param1='param1', param2, param3='param3'):\\n    return f'param1:{param1}, param2:{param2}, param3:{param3}'\", '_i31': \"import sys\\n\\nprint('some', 'value')\\nprint('some', 'value', sep=' ', end='\\\\n', file=sys.stdout, flush=False)\\nprint('some', 'value', sep='')\", 'sys': <module 'sys' (built-in)>, '_i32': \"def myfunc(param1, param2, *args):\\n    return f'param1:{param1}, param2:{param2}, other:{args}'\", '_i33': 'print(myfunc(1, 2))\\nprint(myfunc(1, 2, 3))\\nprint(myfunc(1, 2, 3, 4))', '_i34': \"def myfunc(param1, param2, *args):\\n    tmp = f'param1:{param1}, param2:{param2}'\\n    index = 3\\n    for item in args:\\n        tmp + = f', param{index}:{item}'\\n        index += 1\\n    return tmp\", '_i35': \"def myfunc(param1, param2, *args):\\n    tmp = f'param1:{param1}, param2:{param2}'\\n    index = 3\\n    for item in args:\\n        tmp += f', param{index}:{item}'\\n        index += 1\\n    return tmp\", '_i36': 'print(myfunc(1, 2))\\nprint(myfunc(1, 2, 3))\\nprint(myfunc(1, 2, 3, 4))', '_i37': \"def myfunc (*, param1='default'):\\n    return f'param1:{param1}'\\n\\nprint(myfunc(1))\", '_i38': \"def myfunc (*, param1='default'):\\n    return f'param1:{param1}'\\n\\nprint(myfunc(1, param1=1))\", '_i39': \"def myfunc (*, param1='default'):\\n    return f'param1:{param1}'\\n\\nprint(myfunc(param1=1))\", '_i40': \"# *のみのパラメータを指定することで\\ndef myfunc (param1 = 'param1', *, param2='default'):\\n    return f'param1:{param1}, param2:{param2}'\\n\\nprint(myfunc(param1=1))\", '_i41': \"# *のみのパラメータを指定することで\\ndef myfunc (param1 = 'param1', *, param2='default'):\\n    return f'param1:{param1}, param2:{param2}'\\n\\nprint(myfunc(1))\", '_i42': \"# *のみのパラメータを指定することで\\ndef myfunc (param1 = 'param1', *, param2='default'):\\n    return f'param1:{param1}, param2:{param2}'\\n\\nprint(myfunc(1, 2))\", '_i43': \"# *のみのパラメータを指定することで\\ndef myfunc (param1 = 'param1', *, param2='default'):\\n    return f'param1:{param1}, param2:{param2}'\\n\\nprint(myfunc(1, param2=2))\", '_i44': \"def myfunc(param1, **kwargs):\\n    return f'param1:{param1}, others:{kwargs}'\", '_i45': \"print(myfunc(param2='param2', param1=1, foo='foo'))\", '_i46': \"def myfunc(param1, **kwargs):\\n    tmp = f'param1:{param1}'\\n    for item in kwargs.items():\\n        tmp += f', {item[0]}:{item[1]}'\\n    return tmp\", '_i47': \"print(myfunc(param2='param2', param1=1, foo='foo'))\", '_i48': \"print(myfunc(param1=1, 2, 'bar', param2='param2', foo='foo'))\", '_i49': \"print(myfunc(1, 2, 'bar', param2='param2', foo='foo'))\", '_i50': \"def myfunc(param1, *args; **kwargs):\\n    tmp = f'param1:{param1}'\\n    index = 2\\n    for item in args:\\n        tmp += f', param{index}:{item}'\\n        index += 1\\n    # itemsでキーと値の組のタプルを取り出せる\\n    for item in kwargs.items():\\n        tmp += f', {item[0]}:{item[1]}'\\n    return tmp\", '_i51': \"def myfunc(param1, *args, **kwargs):\\n    tmp = f'param1:{param1}'\\n    index = 2\\n    for item in args:\\n        tmp += f', param{index}:{item}'\\n        index += 1\\n    # itemsでキーと値の組のタプルを取り出せる\\n    for item in kwargs.items():\\n        tmp += f', {item[0]}:{item[1]}'\\n    return tmp\", '_i52': \"print(myfunc(1, 2, 'bar', param2='param2', foo='foo'))\", '_i53': \"print(myfunc(1, 2, 'bar', paramx='param2', foo='foo'))\", '_i54': \"print(myfunc(1, 2, 'bar', paramx='paramx', foo='foo'))\", '_i55': \"def myfunc():\\n    a = 'Python'\\n    print('a:', a)\\n\\nmyfunc()\\nprint(a)\", '_i56': \"def myfunc():\\n    a = 'Python'\\n    print('a:', a)\\n\\na = 'Ruby'\\nmyfunc()\\nprint('a:', a)\", 'a': 'Python', '_i57': \"def myfunc():\\n    print('b;', b)\\n\\nmyfunc()\", '_i58': \"def myfunc():\\n    print('b:', b)\", '_i59': \"b = 'Python'\\nmyfunc()\", 'b': 'Python', '_i60': \"def myfunc():\\n    global a\\n    a = 'Python'\\n    print('a:', a)\\n\\na = 'Ruby'\\nmyfunc()\\nprint(a)\", '_i61': '__name__', '_61': '__main__', '_i62': \"def myfunc():\\n    a = 'Python'\\n    print(locals())\\n\\nmyfunc()\\nprint(locals())\", '_i63': \"def myfunc():\\n    a = 'Python'\\n    print(dir())\\n\\nmyfunc()\\nprint(dir())\", '_i64': 'globals()', '_64': {...}, '_i65': 'locals() == globals()', '_65': True, '_i66': \"def myfunc():\\n    a = 'Python'\\n    print('locals', locals())\\n    print('globals', globals())\\n\\nmyfunc()\"}\n"
     ]
    }
   ],
   "source": [
    "def myfunc():\n",
    "    a = 'Python'\n",
    "    print('locals', locals())\n",
    "    print('globals', globals())\n",
    "\n",
    "myfunc()"
   ]
  },
  {
   "cell_type": "markdown",
   "metadata": {},
   "source": [
    "# 第15回"
   ]
  },
  {
   "attachments": {
    "image.png": {
     "image/png": "[encoded data removed]"
    }
   },
   "cell_type": "markdown",
   "metadata": {},
   "source": [
    "![image.png](attachment:image.png)"
   ]
  },
  {
   "cell_type": "code",
   "execution_count": 67,
   "metadata": {},
   "outputs": [
    {
     "name": "stdout",
     "output_type": "stream",
     "text": [
      "6\n"
     ]
    }
   ],
   "source": [
    "mylen = len\n",
    "print(mylen('Python'))"
   ]
  },
  {
   "cell_type": "code",
   "execution_count": 68,
   "metadata": {},
   "outputs": [
    {
     "name": "stdout",
     "output_type": "stream",
     "text": [
      "<class 'builtin_function_or_method'>\n"
     ]
    }
   ],
   "source": [
    "print(type(len))"
   ]
  },
  {
   "cell_type": "code",
   "execution_count": 69,
   "metadata": {},
   "outputs": [],
   "source": [
    "def apply(func, param):\n",
    "    return func(param)"
   ]
  },
  {
   "cell_type": "code",
   "execution_count": 70,
   "metadata": {},
   "outputs": [
    {
     "data": {
      "text/plain": [
       "6"
      ]
     },
     "execution_count": 70,
     "metadata": {},
     "output_type": "execute_result"
    }
   ],
   "source": [
    "apply(len, 'Python')"
   ]
  },
  {
   "cell_type": "code",
   "execution_count": 71,
   "metadata": {},
   "outputs": [],
   "source": [
    "def make_adder(x):\n",
    "    def adder(y):\n",
    "        return x+y\n",
    "    return adder"
   ]
  },
  {
   "cell_type": "code",
   "execution_count": 72,
   "metadata": {},
   "outputs": [
    {
     "name": "stdout",
     "output_type": "stream",
     "text": [
      "101\n"
     ]
    }
   ],
   "source": [
    "one_adder = make_adder(1)\n",
    "print(one_adder(100))"
   ]
  },
  {
   "attachments": {
    "image.png": {
     "image/png": "[encoded data removed]"
    }
   },
   "cell_type": "markdown",
   "metadata": {},
   "source": [
    "![image.png](attachment:image.png)"
   ]
  },
  {
   "cell_type": "code",
   "execution_count": 73,
   "metadata": {},
   "outputs": [
    {
     "name": "stdout",
     "output_type": "stream",
     "text": [
      "101\n",
      "102\n"
     ]
    }
   ],
   "source": [
    "one_adder = make_adder(1)\n",
    "two_adder = make_adder(2)\n",
    "print(one_adder(100))\n",
    "print(two_adder(100))"
   ]
  },
  {
   "attachments": {
    "image.png": {
     "image/png": "[encoded data removed]"
    }
   },
   "cell_type": "markdown",
   "metadata": {},
   "source": [
    "![image.png](attachment:image.png)"
   ]
  },
  {
   "cell_type": "code",
   "execution_count": 76,
   "metadata": {},
   "outputs": [],
   "source": [
    "def make_counter():\n",
    "    count = 0\n",
    "    def counter():\n",
    "        nonlocal count\n",
    "        count = count + 1\n",
    "        return count\n",
    "    return counter"
   ]
  },
  {
   "cell_type": "code",
   "execution_count": 77,
   "metadata": {},
   "outputs": [
    {
     "name": "stdout",
     "output_type": "stream",
     "text": [
      "1\n",
      "2\n"
     ]
    }
   ],
   "source": [
    "countup = make_counter()\n",
    "print(countup())\n",
    "print(countup())"
   ]
  },
  {
   "cell_type": "code",
   "execution_count": 79,
   "metadata": {},
   "outputs": [
    {
     "data": {
      "text/plain": [
       "'Hello world'"
      ]
     },
     "execution_count": 79,
     "metadata": {},
     "output_type": "execute_result"
    }
   ],
   "source": [
    "hello = lambda x: 'Hello ' + x\n",
    "hello('world')"
   ]
  },
  {
   "cell_type": "code",
   "execution_count": 80,
   "metadata": {},
   "outputs": [
    {
     "name": "stdout",
     "output_type": "stream",
     "text": [
      "0\n",
      "2\n",
      "4\n",
      "6\n",
      "8\n"
     ]
    }
   ],
   "source": [
    "def is_even(x):\n",
    "    return int(x) % 2 == 0\n",
    "\n",
    "result = filter(is_even, '0123456789')\n",
    "for number in result:\n",
    "    print(number)"
   ]
  },
  {
   "cell_type": "code",
   "execution_count": 81,
   "metadata": {},
   "outputs": [
    {
     "name": "stdout",
     "output_type": "stream",
     "text": [
      "0\n",
      "2\n",
      "4\n",
      "6\n",
      "8\n"
     ]
    }
   ],
   "source": [
    "result = filter(lambda x: int(x) % 2 == 0, '0123456789')\n",
    "for number in result:\n",
    "    print(number)"
   ]
  },
  {
   "cell_type": "markdown",
   "metadata": {},
   "source": [
    "https://note.nkmk.me/python-if-conditional-expressions/"
   ]
  },
  {
   "cell_type": "code",
   "execution_count": 84,
   "metadata": {},
   "outputs": [
    {
     "name": "stdout",
     "output_type": "stream",
     "text": [
      "odd\n"
     ]
    }
   ],
   "source": [
    "a = 1\n",
    "result = 'even' if a % 2 == 0 else 'odd'\n",
    "print(result)"
   ]
  },
  {
   "cell_type": "code",
   "execution_count": 85,
   "metadata": {},
   "outputs": [
    {
     "name": "stdout",
     "output_type": "stream",
     "text": [
      "even\n"
     ]
    }
   ],
   "source": [
    "a = 2\n",
    "result = 'even' if a % 2 == 0 else 'odd'\n",
    "print(result)"
   ]
  },
  {
   "cell_type": "code",
   "execution_count": 86,
   "metadata": {},
   "outputs": [
    {
     "name": "stdout",
     "output_type": "stream",
     "text": [
      "odd\n"
     ]
    }
   ],
   "source": [
    "a = 1\n",
    "print('even') if a % 2 == 0 else print('odd')"
   ]
  },
  {
   "cell_type": "markdown",
   "metadata": {},
   "source": [
    "https://note.nkmk.me/python-lambda-usage/"
   ]
  },
  {
   "cell_type": "code",
   "execution_count": 88,
   "metadata": {},
   "outputs": [
    {
     "name": "stdout",
     "output_type": "stream",
     "text": [
      "default ['Alvarado', 'Mike', 'Yamamoto']\n",
      "key:len ['Mike', 'Yamamoto', 'Alvarado']\n"
     ]
    }
   ],
   "source": [
    "l = ['Mike', 'Yamamoto', 'Alvarado']\n",
    "print('default', sorted(l))\n",
    "print('key:len', sorted(l, key=len))"
   ]
  },
  {
   "cell_type": "code",
   "execution_count": 90,
   "metadata": {},
   "outputs": [
    {
     "name": "stdout",
     "output_type": "stream",
     "text": [
      "l\n",
      "i\n"
     ]
    }
   ],
   "source": [
    "print((lambda x: x[1])('Alice'))\n",
    "print((lambda x: x[1])('Mike'))"
   ]
  },
  {
   "cell_type": "code",
   "execution_count": 91,
   "metadata": {},
   "outputs": [
    {
     "name": "stdout",
     "output_type": "stream",
     "text": [
      "['Yamamoto', 'Mike', 'Alvarado']\n"
     ]
    }
   ],
   "source": [
    "print(sorted(l, key=lambda x: x[1]))"
   ]
  },
  {
   "cell_type": "markdown",
   "metadata": {},
   "source": [
    "print((lambda x: x[1])('Alice'))<br>\n",
    "一つ目の括弧は関数自体、2つ目の括弧は関数の引数\n",
    "\n",
    "出力はAliceの[1]に当たるlとなる。"
   ]
  }
 ],
 "metadata": {
  "kernelspec": {
   "display_name": "Python 3",
   "language": "python",
   "name": "python3"
  },
  "language_info": {
   "codemirror_mode": {
    "name": "ipython",
    "version": 3
   },
   "file_extension": ".py",
   "mimetype": "text/x-python",
   "name": "python",
   "nbconvert_exporter": "python",
   "pygments_lexer": "ipython3",
   "version": "3.7.3"
  }
 },
 "nbformat": 4,
 "nbformat_minor": 2
}
