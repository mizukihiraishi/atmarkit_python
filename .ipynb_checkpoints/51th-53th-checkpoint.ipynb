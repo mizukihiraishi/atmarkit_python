{
 "cells": [
  {
   "cell_type": "markdown",
   "metadata": {},
   "source": [
    "# 第51回"
   ]
  },
  {
   "cell_type": "code",
   "execution_count": 8,
   "metadata": {},
   "outputs": [],
   "source": [
    "def mydecorator(func):\n",
    "    def inner_func(*args):\n",
    "#         print(locals())\n",
    "        print(f'before execute {func.__name__}')\n",
    "        result = func(*args)\n",
    "        print(f'after execute {func.__name__}')\n",
    "        return result\n",
    "    return inner_func"
   ]
  },
  {
   "cell_type": "code",
   "execution_count": 4,
   "metadata": {},
   "outputs": [
    {
     "name": "stdout",
     "output_type": "stream",
     "text": [
      "{'args': ('string',), 'func': <built-in function len>}\n",
      "before execute len\n",
      "after execute len\n",
      "6\n"
     ]
    }
   ],
   "source": [
    "mylen = mydecorator(len)\n",
    "print(mylen('string'))"
   ]
  },
  {
   "cell_type": "code",
   "execution_count": 5,
   "metadata": {},
   "outputs": [
    {
     "name": "stdout",
     "output_type": "stream",
     "text": [
      "{'args': ('string',), 'func': <built-in function len>}\n",
      "before execute len\n",
      "after execute len\n"
     ]
    },
    {
     "data": {
      "text/plain": [
       "6"
      ]
     },
     "execution_count": 5,
     "metadata": {},
     "output_type": "execute_result"
    }
   ],
   "source": [
    "mydecorator(len)('string')"
   ]
  },
  {
   "cell_type": "code",
   "execution_count": 9,
   "metadata": {},
   "outputs": [
    {
     "name": "stdout",
     "output_type": "stream",
     "text": [
      "before execute myfunc\n",
      "hello world\n",
      "after execute myfunc\n"
     ]
    }
   ],
   "source": [
    "def myfunc(msg):\n",
    "    print(msg)\n",
    "\n",
    "myfunc = mydecorator(myfunc)\n",
    "myfunc('hello world')"
   ]
  },
  {
   "cell_type": "code",
   "execution_count": 10,
   "metadata": {},
   "outputs": [],
   "source": [
    "@mydecorator\n",
    "def myfunc(msg):\n",
    "    print(msg)"
   ]
  },
  {
   "cell_type": "code",
   "execution_count": 11,
   "metadata": {},
   "outputs": [],
   "source": [
    "def decorator1(func):\n",
    "    def inner_func(*args):\n",
    "        print('decorator 1')\n",
    "        result = func(*args)\n",
    "    return inner_func\n",
    "\n",
    "def decorator2(func):\n",
    "    def inner_func(*args):\n",
    "        print('decorator 2')\n",
    "        result = func(*args)\n",
    "    return inner_func"
   ]
  },
  {
   "cell_type": "code",
   "execution_count": 12,
   "metadata": {},
   "outputs": [],
   "source": [
    "@decorator1\n",
    "@decorator2\n",
    "def myfunc(msg):\n",
    "    print(msg)"
   ]
  },
  {
   "cell_type": "code",
   "execution_count": 13,
   "metadata": {},
   "outputs": [
    {
     "name": "stdout",
     "output_type": "stream",
     "text": [
      "decorator 1\n",
      "decorator 2\n",
      "hello world\n"
     ]
    }
   ],
   "source": [
    "myfunc('hello world')"
   ]
  },
  {
   "cell_type": "code",
   "execution_count": 14,
   "metadata": {},
   "outputs": [],
   "source": [
    "def yourfunc(msg):\n",
    "    print(msg)\n",
    "    \n",
    "tmp1 = decorator2(yourfunc)\n",
    "tmp2 = decorator1(tmp1)\n",
    "\n",
    "tmp3 = decorator1(yourfunc)\n",
    "tmp4 = decorator2(tmp3)"
   ]
  },
  {
   "cell_type": "code",
   "execution_count": 16,
   "metadata": {},
   "outputs": [
    {
     "name": "stdout",
     "output_type": "stream",
     "text": [
      "--- calling tmp2 ---\n",
      "decorator 1\n",
      "decorator 2\n",
      "hello world\n",
      "--- calling tmp4 ---\n",
      "decorator 2\n",
      "decorator 1\n",
      "hello world\n"
     ]
    }
   ],
   "source": [
    "print('--- calling tmp2 ---')\n",
    "tmp2('hello world')\n",
    "print('--- calling tmp4 ---')\n",
    "tmp4('hello world')"
   ]
  },
  {
   "cell_type": "code",
   "execution_count": 18,
   "metadata": {},
   "outputs": [],
   "source": [
    "def f1(msg='foo'):\n",
    "    def inner_func(func):\n",
    "        def most_inner_func(*arg):\n",
    "            print(f'msg: {msg}')\n",
    "            print('most_inner_func')\n",
    "            result = func(*arg)\n",
    "        return most_inner_func\n",
    "    return inner_func"
   ]
  },
  {
   "cell_type": "code",
   "execution_count": 19,
   "metadata": {},
   "outputs": [
    {
     "name": "stdout",
     "output_type": "stream",
     "text": [
      "msg: foo\n",
      "most_inner_func\n",
      "hello world\n"
     ]
    }
   ],
   "source": [
    "@f1('foo')\n",
    "def some_func(msg):\n",
    "    print(msg)\n",
    "\n",
    "some_func('hello world')"
   ]
  },
  {
   "cell_type": "code",
   "execution_count": 20,
   "metadata": {},
   "outputs": [],
   "source": [
    "def other_func(msg):\n",
    "    print(msg)"
   ]
  },
  {
   "cell_type": "code",
   "execution_count": 21,
   "metadata": {},
   "outputs": [
    {
     "name": "stdout",
     "output_type": "stream",
     "text": [
      "msg: bar\n",
      "most_inner_func\n",
      "hello world\n"
     ]
    }
   ],
   "source": [
    "other_func = f1('bar')(other_func)\n",
    "other_func('hello world')"
   ]
  },
  {
   "cell_type": "code",
   "execution_count": 22,
   "metadata": {},
   "outputs": [],
   "source": [
    "def f2(func):\n",
    "    def inner_func(*args):\n",
    "        print('decorator f2')\n",
    "        result = func(*args)\n",
    "        return result\n",
    "    return inner_func"
   ]
  },
  {
   "cell_type": "code",
   "execution_count": 23,
   "metadata": {},
   "outputs": [
    {
     "name": "stdout",
     "output_type": "stream",
     "text": [
      "msg: arg\n",
      "most_inner_func\n",
      "decorator f2\n",
      "func\n"
     ]
    }
   ],
   "source": [
    "@f1('arg')\n",
    "@f2\n",
    "def func():\n",
    "    print('func')\n",
    "\n",
    "func()"
   ]
  },
  {
   "cell_type": "code",
   "execution_count": 24,
   "metadata": {},
   "outputs": [],
   "source": [
    "f0 = f1('arg')\n",
    "\n",
    "@f0\n",
    "@f2\n",
    "def func():\n",
    "    print('func')"
   ]
  },
  {
   "cell_type": "code",
   "execution_count": 25,
   "metadata": {},
   "outputs": [
    {
     "name": "stdout",
     "output_type": "stream",
     "text": [
      "--- calling func ---\n",
      "msg: arg\n",
      "most_inner_func\n",
      "decorator f2\n",
      "func\n",
      "--- calling func2 ---\n",
      "msg: arg\n",
      "most_inner_func\n",
      "decorator f2\n",
      "func2\n"
     ]
    }
   ],
   "source": [
    "def func2():\n",
    "    print('func2')\n",
    "    \n",
    "func2 = f1('arg')(f2(func2))\n",
    "\n",
    "print('--- calling func ---')\n",
    "func()\n",
    "print('--- calling func2 ---')\n",
    "func2()"
   ]
  },
  {
   "cell_type": "markdown",
   "metadata": {},
   "source": [
    "# 第52回"
   ]
  },
  {
   "cell_type": "code",
   "execution_count": 26,
   "metadata": {},
   "outputs": [],
   "source": [
    "def hello(whom):\n",
    "    \"\"\"Returns f'Hello, {whom}'.\"\"\"\n",
    "    return f'Hello, {whom}'"
   ]
  },
  {
   "cell_type": "code",
   "execution_count": 27,
   "metadata": {},
   "outputs": [
    {
     "name": "stdout",
     "output_type": "stream",
     "text": [
      "Help on function hello in module __main__:\n",
      "\n",
      "hello(whom)\n",
      "    Returns f'Hello, {whom}'.\n",
      "\n"
     ]
    }
   ],
   "source": [
    "help(hello)"
   ]
  },
  {
   "cell_type": "code",
   "execution_count": 28,
   "metadata": {},
   "outputs": [
    {
     "name": "stdout",
     "output_type": "stream",
     "text": [
      "Returns f'Hello, {whom}'.\n"
     ]
    }
   ],
   "source": [
    "print(hello.__doc__)"
   ]
  },
  {
   "cell_type": "code",
   "execution_count": 29,
   "metadata": {},
   "outputs": [],
   "source": [
    "def add(x, y):\n",
    "    \"\"\"Returns sum of x and y\n",
    "    \n",
    "    Parameters:\n",
    "    ---------\n",
    "    x : int\n",
    "       operand1 of addition\n",
    "    y : int\n",
    "       operand2 of addition\n",
    "       \n",
    "    Returns:\n",
    "    ---------\n",
    "    int\n",
    "       sum of x and y\n",
    "    \"\"\"\n",
    "    return x + y"
   ]
  },
  {
   "cell_type": "code",
   "execution_count": 30,
   "metadata": {},
   "outputs": [
    {
     "name": "stdout",
     "output_type": "stream",
     "text": [
      "Returns sum of x and y\n",
      "    \n",
      "    Parameters:\n",
      "    ---------\n",
      "    x : int\n",
      "       operand1 of addition\n",
      "    y : int\n",
      "       operand2 of addition\n",
      "       \n",
      "    Returns:\n",
      "    ---------\n",
      "    int\n",
      "       sum of x and y\n",
      "    \n"
     ]
    }
   ],
   "source": [
    "print(add.__doc__)"
   ]
  },
  {
   "cell_type": "markdown",
   "metadata": {},
   "source": [
    "# 第53回"
   ]
  },
  {
   "cell_type": "raw",
   "metadata": {},
   "source": [
    "result = some_func(long_var_name1,\n",
    "                  long_var_name2,\n",
    "                  long_var_name3)\n",
    "\n",
    "def some_func(\n",
    "        long_param_name1,\n",
    "        long_param_name2,\n",
    "        long_param_name3):\n",
    "    pass\n",
    "\n",
    "result = some_func(\n",
    "    long_var_name1,\n",
    "    long_var_name2,\n",
    "    long_var_name3)"
   ]
  },
  {
   "cell_type": "code",
   "execution_count": 35,
   "metadata": {},
   "outputs": [
    {
     "name": "stdout",
     "output_type": "stream",
     "text": [
      "input number:2.2\n"
     ]
    }
   ],
   "source": [
    "x = input('input number:')\n",
    "if x.isdecimal():\n",
    "    x = int(x)\n",
    "\n",
    "# 非推奨\n",
    "if x.isdecimal(): x = int(x)"
   ]
  }
 ],
 "metadata": {
  "kernelspec": {
   "display_name": "Python 3",
   "language": "python",
   "name": "python3"
  },
  "language_info": {
   "codemirror_mode": {
    "name": "ipython",
    "version": 3
   },
   "file_extension": ".py",
   "mimetype": "text/x-python",
   "name": "python",
   "nbconvert_exporter": "python",
   "pygments_lexer": "ipython3",
   "version": "3.7.3"
  }
 },
 "nbformat": 4,
 "nbformat_minor": 2
}
