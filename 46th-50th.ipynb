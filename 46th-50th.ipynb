{
 "cells": [
  {
   "cell_type": "markdown",
   "metadata": {},
   "source": [
    "# 第46回"
   ]
  },
  {
   "cell_type": "code",
   "execution_count": 1,
   "metadata": {},
   "outputs": [],
   "source": [
    "import os\n",
    "from pathlib import Path\n",
    "import shutil\n",
    "\n",
    "Path('xxx.txt').write_text('xxx')\n",
    "os.chmod('xxx.txt', 0o777)"
   ]
  },
  {
   "cell_type": "code",
   "execution_count": 3,
   "metadata": {},
   "outputs": [
    {
     "name": "stdout",
     "output_type": "stream",
     "text": [
      " ドライブ C のボリューム ラベルは Windows です\n",
      " ボリューム シリアル番号は 8E4D-3B07 です\n",
      "\n",
      " C:\\Users\\U268137\\atmarkit_python のディレクトリ\n",
      "\n",
      "2022/03/24  11:21    <DIR>          .\n",
      "2022/03/24  11:21    <DIR>          ..\n",
      "2022/03/23  18:00    <DIR>          .ipynb_checkpoints\n",
      "2022/03/14  14:02    <DIR>          __pycache__\n",
      "2022/03/08  09:15               291 1.py\n",
      "2022/03/11  10:56           259,097 11th-15th.ipynb\n",
      "2022/03/11  15:57           923,031 16th-20th.ipynb\n",
      "2022/03/09  10:55            27,268 1st-5th.ipynb\n",
      "2022/03/14  14:52           232,312 21th-25th.ipynb\n",
      "2022/03/15  14:39            33,834 26th-30th.ipynb\n",
      "2022/03/18  15:14            47,551 31-35th.ipynb\n",
      "2022/03/23  13:20            51,051 36-40th.ipynb\n",
      "2022/03/23  18:00           199,950 41th-45th.ipynb\n",
      "2022/03/24  11:21               925 46th-50th.ipynb\n",
      "2022/03/09  10:57            30,569 6th-10th.ipynb\n",
      "2022/03/23  15:33    <DIR>          aaa\n",
      "2022/03/23  18:00                33 b.txt\n",
      "2022/03/23  17:53                 0 c.txt\n",
      "2022/03/22  14:08            14,945 di-pybasic3908.gif\n",
      "2022/03/23  15:26    <DIR>          foo\n",
      "2022/03/23  13:16                96 insecure.pickle\n",
      "2022/03/23  13:46                43 myaddrbook.bak\n",
      "2022/03/23  13:46               569 myaddrbook.dat\n",
      "2022/03/23  13:46                43 myaddrbook.dir\n",
      "2022/03/22  15:42                36 mydata.data\n",
      "2022/03/23  12:50               158 mydata.pickle\n",
      "2022/03/22  15:35                 0 myfile.bin\n",
      "2022/03/22  14:03                 2 myfile.txt\n",
      "2022/03/14  14:28    <DIR>          mypkg\n",
      "2022/03/14  13:49               482 myutil.py\n",
      "2022/03/18  16:54                32 sample.txt\n",
      "2022/03/14  14:02               160 somemod.py\n",
      "2022/03/23  15:35    <DIR>          top\n",
      "2022/03/23  17:47    <DIR>          xxx\n",
      "2022/03/24  10:27                 3 xxx.txt\n",
      "              26 個のファイル           1,822,481 バイト\n",
      "               9 個のディレクトリ  18,725,179,392 バイトの空き領域\n"
     ]
    }
   ],
   "source": [
    "ls"
   ]
  },
  {
   "cell_type": "code",
   "execution_count": 4,
   "metadata": {},
   "outputs": [
    {
     "data": {
      "text/plain": [
       "'ccc.txt'"
      ]
     },
     "execution_count": 4,
     "metadata": {},
     "output_type": "execute_result"
    }
   ],
   "source": [
    "shutil.copyfile('xxx.txt', 'aaa.txt')\n",
    "shutil.copy(Path('xxx.txt'), Path('bbb.txt'))\n",
    "shutil.copy2('xxx.txt', 'ccc.txt')"
   ]
  },
  {
   "cell_type": "code",
   "execution_count": 5,
   "metadata": {},
   "outputs": [
    {
     "name": "stdout",
     "output_type": "stream",
     "text": [
      " ドライブ C のボリューム ラベルは Windows です\n",
      " ボリューム シリアル番号は 8E4D-3B07 です\n",
      "\n",
      " C:\\Users\\U268137\\atmarkit_python のディレクトリ\n",
      "\n",
      "2022/03/25  08:26    <DIR>          .\n",
      "2022/03/25  08:26    <DIR>          ..\n",
      "2022/03/23  18:00    <DIR>          .ipynb_checkpoints\n",
      "2022/03/14  14:02    <DIR>          __pycache__\n",
      "2022/03/08  09:15               291 1.py\n",
      "2022/03/11  10:56           259,097 11th-15th.ipynb\n",
      "2022/03/11  15:57           923,031 16th-20th.ipynb\n",
      "2022/03/09  10:55            27,268 1st-5th.ipynb\n",
      "2022/03/14  14:52           232,312 21th-25th.ipynb\n",
      "2022/03/15  14:39            33,834 26th-30th.ipynb\n",
      "2022/03/18  15:14            47,551 31-35th.ipynb\n",
      "2022/03/23  13:20            51,051 36-40th.ipynb\n",
      "2022/03/23  18:00           199,950 41th-45th.ipynb\n",
      "2022/03/25  08:26             3,683 46th-50th.ipynb\n",
      "2022/03/09  10:57            30,569 6th-10th.ipynb\n",
      "2022/03/23  15:33    <DIR>          aaa\n",
      "2022/03/25  08:26                 3 aaa.txt\n",
      "2022/03/23  18:00                33 b.txt\n",
      "2022/03/25  08:26                 3 bbb.txt\n",
      "2022/03/23  17:53                 0 c.txt\n",
      "2022/03/24  10:27                 3 ccc.txt\n",
      "2022/03/22  14:08            14,945 di-pybasic3908.gif\n",
      "2022/03/23  15:26    <DIR>          foo\n",
      "2022/03/23  13:16                96 insecure.pickle\n",
      "2022/03/23  13:46                43 myaddrbook.bak\n",
      "2022/03/23  13:46               569 myaddrbook.dat\n",
      "2022/03/23  13:46                43 myaddrbook.dir\n",
      "2022/03/22  15:42                36 mydata.data\n",
      "2022/03/23  12:50               158 mydata.pickle\n",
      "2022/03/22  15:35                 0 myfile.bin\n",
      "2022/03/22  14:03                 2 myfile.txt\n",
      "2022/03/14  14:28    <DIR>          mypkg\n",
      "2022/03/14  13:49               482 myutil.py\n",
      "2022/03/18  16:54                32 sample.txt\n",
      "2022/03/14  14:02               160 somemod.py\n",
      "2022/03/23  15:35    <DIR>          top\n",
      "2022/03/23  17:47    <DIR>          xxx\n",
      "2022/03/24  10:27                 3 xxx.txt\n",
      "              29 個のファイル           1,825,248 バイト\n",
      "               9 個のディレクトリ  18,724,413,440 バイトの空き領域\n"
     ]
    }
   ],
   "source": [
    "ls"
   ]
  },
  {
   "cell_type": "code",
   "execution_count": 8,
   "metadata": {},
   "outputs": [
    {
     "data": {
      "text/plain": [
       "'foo\\\\xxx.txt'"
      ]
     },
     "execution_count": 8,
     "metadata": {},
     "output_type": "execute_result"
    }
   ],
   "source": [
    "Path('foo').mkdir()\n",
    "shutil.copy('xxx.txt', 'foo')"
   ]
  },
  {
   "cell_type": "code",
   "execution_count": 9,
   "metadata": {},
   "outputs": [
    {
     "name": "stdout",
     "output_type": "stream",
     "text": [
      " ドライブ C のボリューム ラベルは Windows です\n",
      " ボリューム シリアル番号は 8E4D-3B07 です\n",
      "\n",
      " C:\\Users\\U268137\\atmarkit_python のディレクトリ\n",
      "\n",
      "\n",
      " C:\\Users\\U268137\\atmarkit_python\\foo のディレクトリ\n",
      "\n",
      "2022/03/25  08:28    <DIR>          .\n",
      "2022/03/25  08:28    <DIR>          ..\n",
      "2022/03/25  08:28                 3 xxx.txt\n",
      "               1 個のファイル                   3 バイト\n",
      "               2 個のディレクトリ  18,726,440,960 バイトの空き領域\n"
     ]
    },
    {
     "name": "stderr",
     "output_type": "stream",
     "text": [
      "ファイルが見つかりません\n"
     ]
    }
   ],
   "source": [
    "ls -l foo"
   ]
  },
  {
   "cell_type": "code",
   "execution_count": 10,
   "metadata": {},
   "outputs": [
    {
     "ename": "FileExistsError",
     "evalue": "[WinError 183] 既に存在するファイルを作成することはできません。: 'bar'",
     "output_type": "error",
     "traceback": [
      "\u001b[1;31m---------------------------------------------------------------------------\u001b[0m",
      "\u001b[1;31mFileExistsError\u001b[0m                           Traceback (most recent call last)",
      "\u001b[1;32m<ipython-input-10-b78bb4aff9b6>\u001b[0m in \u001b[0;36m<module>\u001b[1;34m\u001b[0m\n\u001b[0;32m      1\u001b[0m \u001b[0mPath\u001b[0m\u001b[1;33m(\u001b[0m\u001b[1;34m'foo/foo2'\u001b[0m\u001b[1;33m)\u001b[0m\u001b[1;33m.\u001b[0m\u001b[0mmkdir\u001b[0m\u001b[1;33m(\u001b[0m\u001b[1;33m)\u001b[0m\u001b[1;33m\u001b[0m\u001b[1;33m\u001b[0m\u001b[0m\n\u001b[0;32m      2\u001b[0m \u001b[0mshutil\u001b[0m\u001b[1;33m.\u001b[0m\u001b[0mcopytree\u001b[0m\u001b[1;33m(\u001b[0m\u001b[1;34m'foo'\u001b[0m\u001b[1;33m,\u001b[0m \u001b[1;34m'bar'\u001b[0m\u001b[1;33m)\u001b[0m\u001b[1;33m\u001b[0m\u001b[1;33m\u001b[0m\u001b[0m\n\u001b[1;32m----> 3\u001b[1;33m \u001b[0mshutil\u001b[0m\u001b[1;33m.\u001b[0m\u001b[0mcopytree\u001b[0m\u001b[1;33m(\u001b[0m\u001b[1;34m'foo'\u001b[0m\u001b[1;33m,\u001b[0m \u001b[1;34m'bar'\u001b[0m\u001b[1;33m)\u001b[0m\u001b[1;33m\u001b[0m\u001b[1;33m\u001b[0m\u001b[0m\n\u001b[0m",
      "\u001b[1;32m~\\AppData\\Local\\Continuum\\anaconda3\\lib\\shutil.py\u001b[0m in \u001b[0;36mcopytree\u001b[1;34m(src, dst, symlinks, ignore, copy_function, ignore_dangling_symlinks)\u001b[0m\n\u001b[0;32m    319\u001b[0m         \u001b[0mignored_names\u001b[0m \u001b[1;33m=\u001b[0m \u001b[0mset\u001b[0m\u001b[1;33m(\u001b[0m\u001b[1;33m)\u001b[0m\u001b[1;33m\u001b[0m\u001b[1;33m\u001b[0m\u001b[0m\n\u001b[0;32m    320\u001b[0m \u001b[1;33m\u001b[0m\u001b[0m\n\u001b[1;32m--> 321\u001b[1;33m     \u001b[0mos\u001b[0m\u001b[1;33m.\u001b[0m\u001b[0mmakedirs\u001b[0m\u001b[1;33m(\u001b[0m\u001b[0mdst\u001b[0m\u001b[1;33m)\u001b[0m\u001b[1;33m\u001b[0m\u001b[1;33m\u001b[0m\u001b[0m\n\u001b[0m\u001b[0;32m    322\u001b[0m     \u001b[0merrors\u001b[0m \u001b[1;33m=\u001b[0m \u001b[1;33m[\u001b[0m\u001b[1;33m]\u001b[0m\u001b[1;33m\u001b[0m\u001b[1;33m\u001b[0m\u001b[0m\n\u001b[0;32m    323\u001b[0m     \u001b[1;32mfor\u001b[0m \u001b[0mname\u001b[0m \u001b[1;32min\u001b[0m \u001b[0mnames\u001b[0m\u001b[1;33m:\u001b[0m\u001b[1;33m\u001b[0m\u001b[1;33m\u001b[0m\u001b[0m\n",
      "\u001b[1;32m~\\AppData\\Local\\Continuum\\anaconda3\\lib\\os.py\u001b[0m in \u001b[0;36mmakedirs\u001b[1;34m(name, mode, exist_ok)\u001b[0m\n\u001b[0;32m    219\u001b[0m             \u001b[1;32mreturn\u001b[0m\u001b[1;33m\u001b[0m\u001b[1;33m\u001b[0m\u001b[0m\n\u001b[0;32m    220\u001b[0m     \u001b[1;32mtry\u001b[0m\u001b[1;33m:\u001b[0m\u001b[1;33m\u001b[0m\u001b[1;33m\u001b[0m\u001b[0m\n\u001b[1;32m--> 221\u001b[1;33m         \u001b[0mmkdir\u001b[0m\u001b[1;33m(\u001b[0m\u001b[0mname\u001b[0m\u001b[1;33m,\u001b[0m \u001b[0mmode\u001b[0m\u001b[1;33m)\u001b[0m\u001b[1;33m\u001b[0m\u001b[1;33m\u001b[0m\u001b[0m\n\u001b[0m\u001b[0;32m    222\u001b[0m     \u001b[1;32mexcept\u001b[0m \u001b[0mOSError\u001b[0m\u001b[1;33m:\u001b[0m\u001b[1;33m\u001b[0m\u001b[1;33m\u001b[0m\u001b[0m\n\u001b[0;32m    223\u001b[0m         \u001b[1;31m# Cannot rely on checking for EEXIST, since the operating system\u001b[0m\u001b[1;33m\u001b[0m\u001b[1;33m\u001b[0m\u001b[1;33m\u001b[0m\u001b[0m\n",
      "\u001b[1;31mFileExistsError\u001b[0m: [WinError 183] 既に存在するファイルを作成することはできません。: 'bar'"
     ]
    }
   ],
   "source": [
    "Path('foo/foo2').mkdir()\n",
    "shutil.copytree('foo', 'bar')\n",
    "shutil.copytree('foo', 'bar')"
   ]
  },
  {
   "cell_type": "code",
   "execution_count": 11,
   "metadata": {},
   "outputs": [
    {
     "name": "stdout",
     "output_type": "stream",
     "text": [
      " ドライブ C のボリューム ラベルは Windows です\n",
      " ボリューム シリアル番号は 8E4D-3B07 です\n",
      "\n",
      " C:\\Users\\U268137\\atmarkit_python\\bar のディレクトリ\n",
      "\n",
      "2022/03/25  09:39    <DIR>          .\n",
      "2022/03/25  09:39    <DIR>          ..\n",
      "2022/03/25  09:39    <DIR>          foo2\n",
      "2022/03/25  08:28                 3 xxx.txt\n",
      "               1 個のファイル                   3 バイト\n",
      "               3 個のディレクトリ  18,481,541,120 バイトの空き領域\n"
     ]
    }
   ],
   "source": [
    "ls bar"
   ]
  },
  {
   "cell_type": "code",
   "execution_count": 12,
   "metadata": {},
   "outputs": [
    {
     "data": {
      "text/plain": [
       "14"
      ]
     },
     "execution_count": 12,
     "metadata": {},
     "output_type": "execute_result"
    }
   ],
   "source": [
    "Path('foo/yyy.py').write_text('print(\"hello\")')"
   ]
  },
  {
   "cell_type": "code",
   "execution_count": 13,
   "metadata": {},
   "outputs": [
    {
     "data": {
      "text/plain": [
       "'baz'"
      ]
     },
     "execution_count": 13,
     "metadata": {},
     "output_type": "execute_result"
    }
   ],
   "source": [
    "shutil.copytree('foo', 'baz', ignore=shutil.ignore_patterns('*.txt'))"
   ]
  },
  {
   "cell_type": "code",
   "execution_count": 14,
   "metadata": {},
   "outputs": [
    {
     "name": "stdout",
     "output_type": "stream",
     "text": [
      " ドライブ C のボリューム ラベルは Windows です\n",
      " ボリューム シリアル番号は 8E4D-3B07 です\n",
      "\n",
      " C:\\Users\\U268137\\atmarkit_python\\baz のディレクトリ\n",
      "\n",
      "2022/03/25  09:53    <DIR>          .\n",
      "2022/03/25  09:53    <DIR>          ..\n",
      "2022/03/25  09:39    <DIR>          foo2\n",
      "2022/03/25  09:53                14 yyy.py\n",
      "               1 個のファイル                  14 バイト\n",
      "               3 個のディレクトリ  19,667,156,992 バイトの空き領域\n"
     ]
    }
   ],
   "source": [
    "ls baz"
   ]
  },
  {
   "cell_type": "code",
   "execution_count": 15,
   "metadata": {},
   "outputs": [],
   "source": [
    "shutil.rmtree('baz')"
   ]
  },
  {
   "cell_type": "code",
   "execution_count": 16,
   "metadata": {},
   "outputs": [
    {
     "name": "stdout",
     "output_type": "stream",
     "text": [
      " ドライブ C のボリューム ラベルは Windows です\n",
      " ボリューム シリアル番号は 8E4D-3B07 です\n",
      "\n",
      " C:\\Users\\U268137\\atmarkit_python のディレクトリ\n",
      "\n",
      "2022/03/25  09:58    <DIR>          .\n",
      "2022/03/25  09:58    <DIR>          ..\n",
      "2022/03/23  18:00    <DIR>          .ipynb_checkpoints\n",
      "2022/03/14  14:02    <DIR>          __pycache__\n",
      "2022/03/08  09:15               291 1.py\n",
      "2022/03/11  10:56           259,097 11th-15th.ipynb\n",
      "2022/03/11  15:57           923,031 16th-20th.ipynb\n",
      "2022/03/09  10:55            27,268 1st-5th.ipynb\n",
      "2022/03/14  14:52           232,312 21th-25th.ipynb\n",
      "2022/03/15  14:39            33,834 26th-30th.ipynb\n",
      "2022/03/18  15:14            47,551 31-35th.ipynb\n",
      "2022/03/23  13:20            51,051 36-40th.ipynb\n",
      "2022/03/23  18:00           199,950 41th-45th.ipynb\n",
      "2022/03/25  09:58            14,546 46th-50th.ipynb\n",
      "2022/03/09  10:57            30,569 6th-10th.ipynb\n",
      "2022/03/23  15:33    <DIR>          aaa\n",
      "2022/03/25  08:26                 3 aaa.txt\n",
      "2022/03/23  18:00                33 b.txt\n",
      "2022/03/25  09:39    <DIR>          bar\n",
      "2022/03/25  08:26                 3 bbb.txt\n",
      "2022/03/23  17:53                 0 c.txt\n",
      "2022/03/24  10:27                 3 ccc.txt\n",
      "2022/03/22  14:08            14,945 di-pybasic3908.gif\n",
      "2022/03/25  09:53    <DIR>          foo\n",
      "2022/03/23  13:16                96 insecure.pickle\n",
      "2022/03/23  13:46                43 myaddrbook.bak\n",
      "2022/03/23  13:46               569 myaddrbook.dat\n",
      "2022/03/23  13:46                43 myaddrbook.dir\n",
      "2022/03/22  15:42                36 mydata.data\n",
      "2022/03/23  12:50               158 mydata.pickle\n",
      "2022/03/22  15:35                 0 myfile.bin\n",
      "2022/03/22  14:03                 2 myfile.txt\n",
      "2022/03/14  14:28    <DIR>          mypkg\n",
      "2022/03/14  13:49               482 myutil.py\n",
      "2022/03/18  16:54                32 sample.txt\n",
      "2022/03/14  14:02               160 somemod.py\n",
      "2022/03/23  15:35    <DIR>          top\n",
      "2022/03/23  17:47    <DIR>          xxx\n",
      "2022/03/24  10:27                 3 xxx.txt\n",
      "              29 個のファイル           1,836,111 バイト\n",
      "              10 個のディレクトリ  19,661,176,832 バイトの空き領域\n"
     ]
    }
   ],
   "source": [
    "ls"
   ]
  },
  {
   "cell_type": "code",
   "execution_count": 17,
   "metadata": {},
   "outputs": [
    {
     "data": {
      "text/plain": [
       "'bar\\\\yyy.txt'"
      ]
     },
     "execution_count": 17,
     "metadata": {},
     "output_type": "execute_result"
    }
   ],
   "source": [
    "shutil.move('xxx.txt', 'yyy.txt')\n",
    "shutil.move('yyy.txt', Path('bar'))"
   ]
  },
  {
   "cell_type": "code",
   "execution_count": 18,
   "metadata": {},
   "outputs": [
    {
     "name": "stdout",
     "output_type": "stream",
     "text": [
      " ドライブ C のボリューム ラベルは Windows です\n",
      " ボリューム シリアル番号は 8E4D-3B07 です\n",
      "\n",
      " C:\\Users\\U268137\\atmarkit_python\\bar のディレクトリ\n",
      "\n",
      "2022/03/25  10:07    <DIR>          .\n",
      "2022/03/25  10:07    <DIR>          ..\n",
      "2022/03/25  09:39    <DIR>          foo2\n",
      "2022/03/25  08:28                 3 xxx.txt\n",
      "2022/03/24  10:27                 3 yyy.txt\n",
      "               2 個のファイル                   6 バイト\n",
      "               3 個のディレクトリ  19,575,255,040 バイトの空き領域\n"
     ]
    }
   ],
   "source": [
    "ls bar"
   ]
  },
  {
   "cell_type": "code",
   "execution_count": 20,
   "metadata": {},
   "outputs": [
    {
     "data": {
      "text/plain": [
       "'foo\\\\baz'"
      ]
     },
     "execution_count": 20,
     "metadata": {},
     "output_type": "execute_result"
    }
   ],
   "source": [
    "shutil.move('bar', 'baz')\n",
    "shutil.move('baz', 'foo')"
   ]
  },
  {
   "cell_type": "code",
   "execution_count": 21,
   "metadata": {},
   "outputs": [
    {
     "name": "stdout",
     "output_type": "stream",
     "text": [
      " ドライブ C のボリューム ラベルは Windows です\n",
      " ボリューム シリアル番号は 8E4D-3B07 です\n",
      "\n",
      " C:\\Users\\U268137\\atmarkit_python\\foo のディレクトリ\n",
      "\n",
      "2022/03/25  10:08    <DIR>          .\n",
      "2022/03/25  10:08    <DIR>          ..\n",
      "2022/03/25  10:07    <DIR>          baz\n",
      "2022/03/25  09:39    <DIR>          foo2\n",
      "2022/03/25  08:28                 3 xxx.txt\n",
      "2022/03/25  09:53                14 yyy.py\n",
      "               2 個のファイル                  17 バイト\n",
      "               4 個のディレクトリ  19,575,152,640 バイトの空き領域\n"
     ]
    }
   ],
   "source": [
    "ls foo"
   ]
  },
  {
   "cell_type": "code",
   "execution_count": 22,
   "metadata": {},
   "outputs": [
    {
     "name": "stdout",
     "output_type": "stream",
     "text": [
      " ドライブ C のボリューム ラベルは Windows です\n",
      " ボリューム シリアル番号は 8E4D-3B07 です\n",
      "\n",
      " C:\\Users\\U268137\\atmarkit_python のディレクトリ\n",
      "\n",
      "2022/03/25  10:08    <DIR>          .\n",
      "2022/03/25  10:08    <DIR>          ..\n",
      "2022/03/23  18:00    <DIR>          .ipynb_checkpoints\n",
      "2022/03/14  14:02    <DIR>          __pycache__\n",
      "2022/03/08  09:15               291 1.py\n",
      "2022/03/11  10:56           259,097 11th-15th.ipynb\n",
      "2022/03/11  15:57           923,031 16th-20th.ipynb\n",
      "2022/03/09  10:55            27,268 1st-5th.ipynb\n",
      "2022/03/14  14:52           232,312 21th-25th.ipynb\n",
      "2022/03/15  14:39            33,834 26th-30th.ipynb\n",
      "2022/03/18  15:14            47,551 31-35th.ipynb\n",
      "2022/03/23  13:20            51,051 36-40th.ipynb\n",
      "2022/03/23  18:00           199,950 41th-45th.ipynb\n",
      "2022/03/25  10:08            19,057 46th-50th.ipynb\n",
      "2022/03/09  10:57            30,569 6th-10th.ipynb\n",
      "2022/03/23  15:33    <DIR>          aaa\n",
      "2022/03/25  08:26                 3 aaa.txt\n",
      "2022/03/23  18:00                33 b.txt\n",
      "2022/03/25  08:26                 3 bbb.txt\n",
      "2022/03/23  17:53                 0 c.txt\n",
      "2022/03/24  10:27                 3 ccc.txt\n",
      "2022/03/22  14:08            14,945 di-pybasic3908.gif\n",
      "2022/03/25  10:08    <DIR>          foo\n",
      "2022/03/23  13:16                96 insecure.pickle\n",
      "2022/03/23  13:46                43 myaddrbook.bak\n",
      "2022/03/23  13:46               569 myaddrbook.dat\n",
      "2022/03/23  13:46                43 myaddrbook.dir\n",
      "2022/03/22  15:42                36 mydata.data\n",
      "2022/03/23  12:50               158 mydata.pickle\n",
      "2022/03/22  15:35                 0 myfile.bin\n",
      "2022/03/22  14:03                 2 myfile.txt\n",
      "2022/03/14  14:28    <DIR>          mypkg\n",
      "2022/03/14  13:49               482 myutil.py\n",
      "2022/03/18  16:54                32 sample.txt\n",
      "2022/03/14  14:02               160 somemod.py\n",
      "2022/03/23  15:35    <DIR>          top\n",
      "2022/03/23  17:47    <DIR>          xxx\n",
      "              28 個のファイル           1,840,619 バイト\n",
      "               9 個のディレクトリ  19,575,152,640 バイトの空き領域\n"
     ]
    }
   ],
   "source": [
    "ls"
   ]
  },
  {
   "cell_type": "code",
   "execution_count": 24,
   "metadata": {},
   "outputs": [
    {
     "ename": "Error",
     "evalue": "Destination path 'foo\\xxx.txt' already exists",
     "output_type": "error",
     "traceback": [
      "\u001b[1;31m---------------------------------------------------------------------------\u001b[0m",
      "\u001b[1;31mError\u001b[0m                                     Traceback (most recent call last)",
      "\u001b[1;32m<ipython-input-24-c3f348007361>\u001b[0m in \u001b[0;36m<module>\u001b[1;34m\u001b[0m\n\u001b[0;32m      1\u001b[0m \u001b[0mPath\u001b[0m\u001b[1;33m(\u001b[0m\u001b[1;34m'xxx.txt'\u001b[0m\u001b[1;33m)\u001b[0m\u001b[1;33m.\u001b[0m\u001b[0mtouch\u001b[0m\u001b[1;33m(\u001b[0m\u001b[1;33m)\u001b[0m\u001b[1;33m\u001b[0m\u001b[1;33m\u001b[0m\u001b[0m\n\u001b[1;32m----> 2\u001b[1;33m \u001b[0mshutil\u001b[0m\u001b[1;33m.\u001b[0m\u001b[0mmove\u001b[0m\u001b[1;33m(\u001b[0m\u001b[1;34m'xxx.txt'\u001b[0m\u001b[1;33m,\u001b[0m \u001b[1;34m'foo'\u001b[0m\u001b[1;33m)\u001b[0m\u001b[1;33m\u001b[0m\u001b[1;33m\u001b[0m\u001b[0m\n\u001b[0m",
      "\u001b[1;32m~\\AppData\\Local\\Continuum\\anaconda3\\lib\\shutil.py\u001b[0m in \u001b[0;36mmove\u001b[1;34m(src, dst, copy_function)\u001b[0m\n\u001b[0;32m    559\u001b[0m         \u001b[0mreal_dst\u001b[0m \u001b[1;33m=\u001b[0m \u001b[0mos\u001b[0m\u001b[1;33m.\u001b[0m\u001b[0mpath\u001b[0m\u001b[1;33m.\u001b[0m\u001b[0mjoin\u001b[0m\u001b[1;33m(\u001b[0m\u001b[0mdst\u001b[0m\u001b[1;33m,\u001b[0m \u001b[0m_basename\u001b[0m\u001b[1;33m(\u001b[0m\u001b[0msrc\u001b[0m\u001b[1;33m)\u001b[0m\u001b[1;33m)\u001b[0m\u001b[1;33m\u001b[0m\u001b[1;33m\u001b[0m\u001b[0m\n\u001b[0;32m    560\u001b[0m         \u001b[1;32mif\u001b[0m \u001b[0mos\u001b[0m\u001b[1;33m.\u001b[0m\u001b[0mpath\u001b[0m\u001b[1;33m.\u001b[0m\u001b[0mexists\u001b[0m\u001b[1;33m(\u001b[0m\u001b[0mreal_dst\u001b[0m\u001b[1;33m)\u001b[0m\u001b[1;33m:\u001b[0m\u001b[1;33m\u001b[0m\u001b[1;33m\u001b[0m\u001b[0m\n\u001b[1;32m--> 561\u001b[1;33m             \u001b[1;32mraise\u001b[0m \u001b[0mError\u001b[0m\u001b[1;33m(\u001b[0m\u001b[1;34m\"Destination path '%s' already exists\"\u001b[0m \u001b[1;33m%\u001b[0m \u001b[0mreal_dst\u001b[0m\u001b[1;33m)\u001b[0m\u001b[1;33m\u001b[0m\u001b[1;33m\u001b[0m\u001b[0m\n\u001b[0m\u001b[0;32m    562\u001b[0m     \u001b[1;32mtry\u001b[0m\u001b[1;33m:\u001b[0m\u001b[1;33m\u001b[0m\u001b[1;33m\u001b[0m\u001b[0m\n\u001b[0;32m    563\u001b[0m         \u001b[0mos\u001b[0m\u001b[1;33m.\u001b[0m\u001b[0mrename\u001b[0m\u001b[1;33m(\u001b[0m\u001b[0msrc\u001b[0m\u001b[1;33m,\u001b[0m \u001b[0mreal_dst\u001b[0m\u001b[1;33m)\u001b[0m\u001b[1;33m\u001b[0m\u001b[1;33m\u001b[0m\u001b[0m\n",
      "\u001b[1;31mError\u001b[0m: Destination path 'foo\\xxx.txt' already exists"
     ]
    }
   ],
   "source": [
    "Path('xxx.txt').touch()\n",
    "shutil.move('xxx.txt', 'foo')"
   ]
  },
  {
   "cell_type": "markdown",
   "metadata": {},
   "source": [
    "# 第47回"
   ]
  },
  {
   "cell_type": "code",
   "execution_count": 25,
   "metadata": {},
   "outputs": [],
   "source": [
    "def get_content(src):\n",
    "    fsrc = open(src)\n",
    "    content = fsrc.read()\n",
    "    return content"
   ]
  },
  {
   "cell_type": "code",
   "execution_count": 26,
   "metadata": {},
   "outputs": [
    {
     "name": "stdout",
     "output_type": "stream",
     "text": [
      "foo, bar, baz\n"
     ]
    }
   ],
   "source": [
    "from pathlib import Path\n",
    "\n",
    "Path('foo.txt').write_text('foo, bar, baz')\n",
    "\n",
    "content = get_content('foo.txt')\n",
    "print(content)"
   ]
  },
  {
   "cell_type": "code",
   "execution_count": 27,
   "metadata": {},
   "outputs": [
    {
     "ename": "FileNotFoundError",
     "evalue": "[Errno 2] No such file or directory: 'nonexist.txt'",
     "output_type": "error",
     "traceback": [
      "\u001b[1;31m---------------------------------------------------------------------------\u001b[0m",
      "\u001b[1;31mFileNotFoundError\u001b[0m                         Traceback (most recent call last)",
      "\u001b[1;32m<ipython-input-27-30df6abbeea3>\u001b[0m in \u001b[0;36m<module>\u001b[1;34m\u001b[0m\n\u001b[1;32m----> 1\u001b[1;33m \u001b[0mget_content\u001b[0m\u001b[1;33m(\u001b[0m\u001b[1;34m'nonexist.txt'\u001b[0m\u001b[1;33m)\u001b[0m\u001b[1;33m\u001b[0m\u001b[1;33m\u001b[0m\u001b[0m\n\u001b[0m",
      "\u001b[1;32m<ipython-input-25-d859bbb17e2e>\u001b[0m in \u001b[0;36mget_content\u001b[1;34m(src)\u001b[0m\n\u001b[0;32m      1\u001b[0m \u001b[1;32mdef\u001b[0m \u001b[0mget_content\u001b[0m\u001b[1;33m(\u001b[0m\u001b[0msrc\u001b[0m\u001b[1;33m)\u001b[0m\u001b[1;33m:\u001b[0m\u001b[1;33m\u001b[0m\u001b[1;33m\u001b[0m\u001b[0m\n\u001b[1;32m----> 2\u001b[1;33m     \u001b[0mfsrc\u001b[0m \u001b[1;33m=\u001b[0m \u001b[0mopen\u001b[0m\u001b[1;33m(\u001b[0m\u001b[0msrc\u001b[0m\u001b[1;33m)\u001b[0m\u001b[1;33m\u001b[0m\u001b[1;33m\u001b[0m\u001b[0m\n\u001b[0m\u001b[0;32m      3\u001b[0m     \u001b[0mcontent\u001b[0m \u001b[1;33m=\u001b[0m \u001b[0mfsrc\u001b[0m\u001b[1;33m.\u001b[0m\u001b[0mread\u001b[0m\u001b[1;33m(\u001b[0m\u001b[1;33m)\u001b[0m\u001b[1;33m\u001b[0m\u001b[1;33m\u001b[0m\u001b[0m\n\u001b[0;32m      4\u001b[0m     \u001b[1;32mreturn\u001b[0m \u001b[0mcontent\u001b[0m\u001b[1;33m\u001b[0m\u001b[1;33m\u001b[0m\u001b[0m\n",
      "\u001b[1;31mFileNotFoundError\u001b[0m: [Errno 2] No such file or directory: 'nonexist.txt'"
     ]
    }
   ],
   "source": [
    "get_content('nonexist.txt')"
   ]
  },
  {
   "cell_type": "code",
   "execution_count": 28,
   "metadata": {},
   "outputs": [],
   "source": [
    "def get_content(src):\n",
    "    try:\n",
    "        fsrc = open(src)\n",
    "    except OSError as e:\n",
    "        print(e)\n",
    "    else:\n",
    "        content = fsrc.read()\n",
    "        fsrc.close()\n",
    "        return content"
   ]
  },
  {
   "cell_type": "code",
   "execution_count": 29,
   "metadata": {},
   "outputs": [
    {
     "name": "stdout",
     "output_type": "stream",
     "text": [
      "[Errno 2] No such file or directory: 'nonexist.txt'\n"
     ]
    }
   ],
   "source": [
    "get_content('nonexist.txt')"
   ]
  },
  {
   "cell_type": "code",
   "execution_count": 31,
   "metadata": {},
   "outputs": [],
   "source": [
    "def get_content(src):\n",
    "    try:\n",
    "        fsrc = open(src)\n",
    "    except OSError as e:\n",
    "        print(e)\n",
    "    else:\n",
    "        try:\n",
    "            content = fsrc.read()\n",
    "            raise Exception('hello from nested try statement')\n",
    "            return content\n",
    "        except Exception as e:\n",
    "            print(e)\n",
    "        finally:\n",
    "            print('closing fsrc')\n",
    "            fsrc.close()"
   ]
  },
  {
   "cell_type": "code",
   "execution_count": 32,
   "metadata": {},
   "outputs": [
    {
     "name": "stdout",
     "output_type": "stream",
     "text": [
      "hello from nested try statement\n",
      "closing fsrc\n"
     ]
    }
   ],
   "source": [
    "get_content('foo.txt')"
   ]
  },
  {
   "cell_type": "code",
   "execution_count": 33,
   "metadata": {},
   "outputs": [],
   "source": [
    "def get_content(src):\n",
    "    with open(src) as fsrc:\n",
    "        try:\n",
    "            content = fsrc.read()\n",
    "            return content\n",
    "        except Exception as e:\n",
    "            print(e)"
   ]
  },
  {
   "cell_type": "code",
   "execution_count": 34,
   "metadata": {},
   "outputs": [],
   "source": [
    "def file_copy(src, dst):\n",
    "    fsrc = open(src, 'rb')\n",
    "    fdst = open(dst, 'wb')\n",
    "    content = fsrc.read()\n",
    "    fdst.write(content)\n",
    "    fsrc.close()\n",
    "    fdst.close()"
   ]
  },
  {
   "cell_type": "code",
   "execution_count": 35,
   "metadata": {},
   "outputs": [
    {
     "name": "stdout",
     "output_type": "stream",
     "text": [
      "foo, bar, baz\n"
     ]
    }
   ],
   "source": [
    "file_copy('foo.txt', 'bar.txt')\n",
    "print(Path('bar.txt').read_text())"
   ]
  },
  {
   "cell_type": "code",
   "execution_count": 36,
   "metadata": {},
   "outputs": [],
   "source": [
    "def file_copy(src, dst):\n",
    "    try:\n",
    "        fsrc = open(src, 'rb')\n",
    "        fdst = open(dst, 'wb')\n",
    "    except OSError as e:\n",
    "        print(e)\n",
    "    else:\n",
    "        try:\n",
    "            content = fsrc.read()\n",
    "            fdst.write(content)\n",
    "        except Exception as e:\n",
    "            print(e)\n",
    "    finally:\n",
    "        fsrc.close()\n",
    "        fdst.close()"
   ]
  },
  {
   "cell_type": "code",
   "execution_count": 37,
   "metadata": {},
   "outputs": [
    {
     "name": "stdout",
     "output_type": "stream",
     "text": [
      "[Errno 2] No such file or directory: ''\n"
     ]
    },
    {
     "ename": "UnboundLocalError",
     "evalue": "local variable 'fdst' referenced before assignment",
     "output_type": "error",
     "traceback": [
      "\u001b[1;31m---------------------------------------------------------------------------\u001b[0m",
      "\u001b[1;31mUnboundLocalError\u001b[0m                         Traceback (most recent call last)",
      "\u001b[1;32m<ipython-input-37-9bb11f78cf00>\u001b[0m in \u001b[0;36m<module>\u001b[1;34m\u001b[0m\n\u001b[1;32m----> 1\u001b[1;33m \u001b[0mfile_copy\u001b[0m\u001b[1;33m(\u001b[0m\u001b[1;34m'foo.txt'\u001b[0m\u001b[1;33m,\u001b[0m \u001b[1;34m''\u001b[0m\u001b[1;33m)\u001b[0m\u001b[1;33m\u001b[0m\u001b[1;33m\u001b[0m\u001b[0m\n\u001b[0m",
      "\u001b[1;32m<ipython-input-36-09d94798343b>\u001b[0m in \u001b[0;36mfile_copy\u001b[1;34m(src, dst)\u001b[0m\n\u001b[0;32m     13\u001b[0m     \u001b[1;32mfinally\u001b[0m\u001b[1;33m:\u001b[0m\u001b[1;33m\u001b[0m\u001b[1;33m\u001b[0m\u001b[0m\n\u001b[0;32m     14\u001b[0m         \u001b[0mfsrc\u001b[0m\u001b[1;33m.\u001b[0m\u001b[0mclose\u001b[0m\u001b[1;33m(\u001b[0m\u001b[1;33m)\u001b[0m\u001b[1;33m\u001b[0m\u001b[1;33m\u001b[0m\u001b[0m\n\u001b[1;32m---> 15\u001b[1;33m         \u001b[0mfdst\u001b[0m\u001b[1;33m.\u001b[0m\u001b[0mclose\u001b[0m\u001b[1;33m(\u001b[0m\u001b[1;33m)\u001b[0m\u001b[1;33m\u001b[0m\u001b[1;33m\u001b[0m\u001b[0m\n\u001b[0m",
      "\u001b[1;31mUnboundLocalError\u001b[0m: local variable 'fdst' referenced before assignment"
     ]
    }
   ],
   "source": [
    "file_copy('foo.txt', '')"
   ]
  },
  {
   "cell_type": "code",
   "execution_count": 46,
   "metadata": {},
   "outputs": [],
   "source": [
    "def file_copy(src, dst):\n",
    "    try:\n",
    "        fsrc = open(src, 'rb')\n",
    "    except OSError as e:\n",
    "        print(e)\n",
    "    else:\n",
    "        try:\n",
    "            fdst = open(dst, 'wb')\n",
    "        except OSError as e:\n",
    "            print(e)\n",
    "        else:\n",
    "            try:\n",
    "                content = fsrc.read()\n",
    "                raise Exception('ppppp')\n",
    "                fdst.write(content)\n",
    "            except Exception as e:\n",
    "                print(e)\n",
    "            finally:\n",
    "                print('closing fsrc and fdst')\n",
    "                fsrc.close()\n",
    "                fdst.close()\n",
    "        finally:\n",
    "            print('closing fsrc')\n",
    "            fsrc.close()"
   ]
  },
  {
   "cell_type": "code",
   "execution_count": 50,
   "metadata": {},
   "outputs": [
    {
     "name": "stdout",
     "output_type": "stream",
     "text": [
      "ppppp\n",
      "closing fsrc and fdst\n",
      "closing fsrc\n"
     ]
    }
   ],
   "source": [
    "file_copy('foo.txt', 'zzz.txt')"
   ]
  },
  {
   "cell_type": "code",
   "execution_count": 51,
   "metadata": {},
   "outputs": [],
   "source": [
    "def file_copy(src, dst):\n",
    "    try:\n",
    "        with open(src, 'rb') as fsrc:\n",
    "            with open(dst, 'wb') as fdst:\n",
    "                try:\n",
    "                    content = fsrc.read()\n",
    "                    fdst.write(content)\n",
    "                except Exception as e:\n",
    "                    print(e)\n",
    "    except OSError as e:\n",
    "        print(e)"
   ]
  },
  {
   "cell_type": "code",
   "execution_count": 55,
   "metadata": {},
   "outputs": [],
   "source": [
    "def file_copy(src, dst):\n",
    "    try:\n",
    "        with open(src, 'rb') as fsrc, open(dst, 'wb') as fdst:\n",
    "            try:\n",
    "                content = fsrc.read()\n",
    "                fdst.write(content)\n",
    "            except Exception as e:\n",
    "                print(e)\n",
    "    except OSError as e:\n",
    "        print(e)"
   ]
  },
  {
   "cell_type": "code",
   "execution_count": 56,
   "metadata": {},
   "outputs": [],
   "source": [
    "file_copy('xxx.txt', 'zzz.txt')"
   ]
  },
  {
   "cell_type": "markdown",
   "metadata": {},
   "source": [
    "# 第48回"
   ]
  },
  {
   "cell_type": "code",
   "execution_count": 57,
   "metadata": {},
   "outputs": [
    {
     "name": "stdout",
     "output_type": "stream",
     "text": [
      "<class 'range'>\n"
     ]
    }
   ],
   "source": [
    "r = range(3)\n",
    "print(type(r))"
   ]
  },
  {
   "cell_type": "code",
   "execution_count": 58,
   "metadata": {},
   "outputs": [
    {
     "name": "stdout",
     "output_type": "stream",
     "text": [
      "True\n",
      "False\n"
     ]
    }
   ],
   "source": [
    "print('__iter__' in dir(r))\n",
    "print('__next__' in dir(r))"
   ]
  },
  {
   "cell_type": "code",
   "execution_count": 59,
   "metadata": {},
   "outputs": [
    {
     "name": "stdout",
     "output_type": "stream",
     "text": [
      "<class 'range_iterator'>\n",
      "<class 'range_iterator'>\n"
     ]
    }
   ],
   "source": [
    "range_iter = r.__iter__()\n",
    "range_iter2 = iter(r)\n",
    "\n",
    "print(type(range_iter))\n",
    "print(type(range_iter2))"
   ]
  },
  {
   "cell_type": "code",
   "execution_count": 60,
   "metadata": {},
   "outputs": [
    {
     "name": "stdout",
     "output_type": "stream",
     "text": [
      "0\n",
      "1\n",
      "0\n",
      "1\n"
     ]
    }
   ],
   "source": [
    "print(range_iter.__next__())\n",
    "print(range_iter.__next__())\n",
    "print(next(range_iter2))\n",
    "print(next(range_iter2))"
   ]
  },
  {
   "cell_type": "code",
   "execution_count": 61,
   "metadata": {},
   "outputs": [
    {
     "ename": "TypeError",
     "evalue": "'range' object is not an iterator",
     "output_type": "error",
     "traceback": [
      "\u001b[1;31m---------------------------------------------------------------------------\u001b[0m",
      "\u001b[1;31mTypeError\u001b[0m                                 Traceback (most recent call last)",
      "\u001b[1;32m<ipython-input-61-8ebe59a56b1d>\u001b[0m in \u001b[0;36m<module>\u001b[1;34m\u001b[0m\n\u001b[1;32m----> 1\u001b[1;33m \u001b[0mnext\u001b[0m\u001b[1;33m(\u001b[0m\u001b[0mr\u001b[0m\u001b[1;33m)\u001b[0m\u001b[1;33m\u001b[0m\u001b[1;33m\u001b[0m\u001b[0m\n\u001b[0m",
      "\u001b[1;31mTypeError\u001b[0m: 'range' object is not an iterator"
     ]
    }
   ],
   "source": [
    "next(r)"
   ]
  },
  {
   "cell_type": "code",
   "execution_count": 62,
   "metadata": {},
   "outputs": [
    {
     "ename": "AttributeError",
     "evalue": "'range' object has no attribute '__next__'",
     "output_type": "error",
     "traceback": [
      "\u001b[1;31m---------------------------------------------------------------------------\u001b[0m",
      "\u001b[1;31mAttributeError\u001b[0m                            Traceback (most recent call last)",
      "\u001b[1;32m<ipython-input-62-3a998f5f1be5>\u001b[0m in \u001b[0;36m<module>\u001b[1;34m\u001b[0m\n\u001b[1;32m----> 1\u001b[1;33m \u001b[0mr\u001b[0m\u001b[1;33m.\u001b[0m\u001b[0m__next__\u001b[0m\u001b[1;33m(\u001b[0m\u001b[1;33m)\u001b[0m\u001b[1;33m\u001b[0m\u001b[1;33m\u001b[0m\u001b[0m\n\u001b[0m",
      "\u001b[1;31mAttributeError\u001b[0m: 'range' object has no attribute '__next__'"
     ]
    }
   ],
   "source": [
    "r.__next__()"
   ]
  },
  {
   "cell_type": "code",
   "execution_count": 63,
   "metadata": {},
   "outputs": [
    {
     "data": {
      "text/plain": [
       "<range_iterator at 0x1e1af266ef0>"
      ]
     },
     "execution_count": 63,
     "metadata": {},
     "output_type": "execute_result"
    }
   ],
   "source": [
    "r.__iter__()"
   ]
  },
  {
   "cell_type": "code",
   "execution_count": 64,
   "metadata": {},
   "outputs": [
    {
     "name": "stdout",
     "output_type": "stream",
     "text": [
      "2\n"
     ]
    },
    {
     "ename": "StopIteration",
     "evalue": "",
     "output_type": "error",
     "traceback": [
      "\u001b[1;31m---------------------------------------------------------------------------\u001b[0m",
      "\u001b[1;31mStopIteration\u001b[0m                             Traceback (most recent call last)",
      "\u001b[1;32m<ipython-input-64-5a806174dc41>\u001b[0m in \u001b[0;36m<module>\u001b[1;34m\u001b[0m\n\u001b[0;32m      1\u001b[0m \u001b[0mprint\u001b[0m\u001b[1;33m(\u001b[0m\u001b[0mnext\u001b[0m\u001b[1;33m(\u001b[0m\u001b[0mrange_iter\u001b[0m\u001b[1;33m)\u001b[0m\u001b[1;33m)\u001b[0m\u001b[1;33m\u001b[0m\u001b[1;33m\u001b[0m\u001b[0m\n\u001b[1;32m----> 2\u001b[1;33m \u001b[0mprint\u001b[0m\u001b[1;33m(\u001b[0m\u001b[0mnext\u001b[0m\u001b[1;33m(\u001b[0m\u001b[0mrange_iter\u001b[0m\u001b[1;33m)\u001b[0m\u001b[1;33m)\u001b[0m\u001b[1;33m\u001b[0m\u001b[1;33m\u001b[0m\u001b[0m\n\u001b[0m",
      "\u001b[1;31mStopIteration\u001b[0m: "
     ]
    }
   ],
   "source": [
    "print(next(range_iter))\n",
    "print(next(range_iter))"
   ]
  },
  {
   "cell_type": "code",
   "execution_count": 65,
   "metadata": {},
   "outputs": [],
   "source": [
    "range_iter3 = range_iter.__iter__()"
   ]
  },
  {
   "cell_type": "code",
   "execution_count": 66,
   "metadata": {},
   "outputs": [
    {
     "ename": "StopIteration",
     "evalue": "",
     "output_type": "error",
     "traceback": [
      "\u001b[1;31m---------------------------------------------------------------------------\u001b[0m",
      "\u001b[1;31mStopIteration\u001b[0m                             Traceback (most recent call last)",
      "\u001b[1;32m<ipython-input-66-de554c3fa1c5>\u001b[0m in \u001b[0;36m<module>\u001b[1;34m\u001b[0m\n\u001b[1;32m----> 1\u001b[1;33m \u001b[0mprint\u001b[0m\u001b[1;33m(\u001b[0m\u001b[0mnext\u001b[0m\u001b[1;33m(\u001b[0m\u001b[0mrange_iter3\u001b[0m\u001b[1;33m)\u001b[0m\u001b[1;33m)\u001b[0m\u001b[1;33m\u001b[0m\u001b[1;33m\u001b[0m\u001b[0m\n\u001b[0m",
      "\u001b[1;31mStopIteration\u001b[0m: "
     ]
    }
   ],
   "source": [
    "print(next(range_iter3))"
   ]
  },
  {
   "cell_type": "code",
   "execution_count": 70,
   "metadata": {},
   "outputs": [],
   "source": [
    "class CountUpIterator:\n",
    "    def __init__(self, limit=5):\n",
    "        self.limit = limit\n",
    "        self.counter = -1\n",
    "    def __iter__(self):\n",
    "        print('__iter__ method called')\n",
    "        return self\n",
    "    def __next__(self):\n",
    "        print('__next__ method called')\n",
    "        self.counter += 1\n",
    "        if self.counter >= self.limit:\n",
    "            raise StopIteration()\n",
    "        return self.counter"
   ]
  },
  {
   "cell_type": "code",
   "execution_count": 71,
   "metadata": {},
   "outputs": [
    {
     "name": "stdout",
     "output_type": "stream",
     "text": [
      "__iter__ method called\n",
      "True\n"
     ]
    }
   ],
   "source": [
    "countup_iter = CountUpIterator(3)\n",
    "countup_iter2 = iter(countup_iter)\n",
    "print(countup_iter is countup_iter2)"
   ]
  },
  {
   "cell_type": "code",
   "execution_count": 72,
   "metadata": {},
   "outputs": [
    {
     "name": "stdout",
     "output_type": "stream",
     "text": [
      "__next__ method called\n",
      "0\n",
      "__next__ method called\n",
      "1\n",
      "__next__ method called\n",
      "2\n",
      "__next__ method called\n"
     ]
    },
    {
     "ename": "StopIteration",
     "evalue": "",
     "output_type": "error",
     "traceback": [
      "\u001b[1;31m---------------------------------------------------------------------------\u001b[0m",
      "\u001b[1;31mStopIteration\u001b[0m                             Traceback (most recent call last)",
      "\u001b[1;32m<ipython-input-72-637be88818df>\u001b[0m in \u001b[0;36m<module>\u001b[1;34m\u001b[0m\n\u001b[0;32m      2\u001b[0m \u001b[0mprint\u001b[0m\u001b[1;33m(\u001b[0m\u001b[0mcountup_iter2\u001b[0m\u001b[1;33m.\u001b[0m\u001b[0m__next__\u001b[0m\u001b[1;33m(\u001b[0m\u001b[1;33m)\u001b[0m\u001b[1;33m)\u001b[0m\u001b[1;33m\u001b[0m\u001b[1;33m\u001b[0m\u001b[0m\n\u001b[0;32m      3\u001b[0m \u001b[0mprint\u001b[0m\u001b[1;33m(\u001b[0m\u001b[0mnext\u001b[0m\u001b[1;33m(\u001b[0m\u001b[0mcountup_iter2\u001b[0m\u001b[1;33m)\u001b[0m\u001b[1;33m)\u001b[0m\u001b[1;33m\u001b[0m\u001b[1;33m\u001b[0m\u001b[0m\n\u001b[1;32m----> 4\u001b[1;33m \u001b[0mprint\u001b[0m\u001b[1;33m(\u001b[0m\u001b[0mcountup_iter\u001b[0m\u001b[1;33m.\u001b[0m\u001b[0m__next__\u001b[0m\u001b[1;33m(\u001b[0m\u001b[1;33m)\u001b[0m\u001b[1;33m)\u001b[0m\u001b[1;33m\u001b[0m\u001b[1;33m\u001b[0m\u001b[0m\n\u001b[0m",
      "\u001b[1;32m<ipython-input-70-80d8e03f6264>\u001b[0m in \u001b[0;36m__next__\u001b[1;34m(self)\u001b[0m\n\u001b[0;32m     10\u001b[0m         \u001b[0mself\u001b[0m\u001b[1;33m.\u001b[0m\u001b[0mcounter\u001b[0m \u001b[1;33m+=\u001b[0m \u001b[1;36m1\u001b[0m\u001b[1;33m\u001b[0m\u001b[1;33m\u001b[0m\u001b[0m\n\u001b[0;32m     11\u001b[0m         \u001b[1;32mif\u001b[0m \u001b[0mself\u001b[0m\u001b[1;33m.\u001b[0m\u001b[0mcounter\u001b[0m \u001b[1;33m>=\u001b[0m \u001b[0mself\u001b[0m\u001b[1;33m.\u001b[0m\u001b[0mlimit\u001b[0m\u001b[1;33m:\u001b[0m\u001b[1;33m\u001b[0m\u001b[1;33m\u001b[0m\u001b[0m\n\u001b[1;32m---> 12\u001b[1;33m             \u001b[1;32mraise\u001b[0m \u001b[0mStopIteration\u001b[0m\u001b[1;33m(\u001b[0m\u001b[1;33m)\u001b[0m\u001b[1;33m\u001b[0m\u001b[1;33m\u001b[0m\u001b[0m\n\u001b[0m\u001b[0;32m     13\u001b[0m         \u001b[1;32mreturn\u001b[0m \u001b[0mself\u001b[0m\u001b[1;33m.\u001b[0m\u001b[0mcounter\u001b[0m\u001b[1;33m\u001b[0m\u001b[1;33m\u001b[0m\u001b[0m\n",
      "\u001b[1;31mStopIteration\u001b[0m: "
     ]
    }
   ],
   "source": [
    "print(next(countup_iter))\n",
    "print(countup_iter2.__next__())\n",
    "print(next(countup_iter2))\n",
    "print(countup_iter.__next__())"
   ]
  },
  {
   "cell_type": "code",
   "execution_count": 73,
   "metadata": {},
   "outputs": [],
   "source": [
    "from random import randint\n",
    "\n",
    "class RandomIntIterator:\n",
    "    def __init__(self, limit=5):\n",
    "        self.limit = limit\n",
    "        self.counter = -1\n",
    "    def __iter__(self):\n",
    "        return self\n",
    "    def __next__(self):\n",
    "        self.counter += 1\n",
    "        if self.counter >= self.limit:\n",
    "            raise StopIteration()\n",
    "        return randint(0, 100)"
   ]
  },
  {
   "cell_type": "code",
   "execution_count": 74,
   "metadata": {},
   "outputs": [
    {
     "name": "stdout",
     "output_type": "stream",
     "text": [
      "[70, 42, 46, 44, 92]\n"
     ]
    }
   ],
   "source": [
    "mylist = list(RandomIntIterator())\n",
    "print(mylist)"
   ]
  },
  {
   "cell_type": "code",
   "execution_count": 76,
   "metadata": {},
   "outputs": [
    {
     "name": "stdout",
     "output_type": "stream",
     "text": [
      "98\n",
      "20\n",
      "54\n"
     ]
    }
   ],
   "source": [
    "for num in RandomIntIterator(3):\n",
    "    print(num)"
   ]
  },
  {
   "cell_type": "markdown",
   "metadata": {},
   "source": [
    "# 第49回"
   ]
  },
  {
   "cell_type": "code",
   "execution_count": 77,
   "metadata": {},
   "outputs": [],
   "source": [
    "def simple_generator():\n",
    "    yield 1\n",
    "    yield 2\n",
    "    yield 3"
   ]
  },
  {
   "cell_type": "code",
   "execution_count": 81,
   "metadata": {},
   "outputs": [
    {
     "name": "stdout",
     "output_type": "stream",
     "text": [
      "<class 'generator'>\n",
      "True\n",
      "True\n"
     ]
    }
   ],
   "source": [
    "mygeniter = simple_generator()\n",
    "print(type(mygeniter))\n",
    "\n",
    "print('__iter__' in dir(mygeniter))\n",
    "print('__next__' in dir(mygeniter))"
   ]
  },
  {
   "cell_type": "code",
   "execution_count": 82,
   "metadata": {},
   "outputs": [
    {
     "name": "stdout",
     "output_type": "stream",
     "text": [
      "1\n",
      "2\n",
      "3\n"
     ]
    },
    {
     "ename": "StopIteration",
     "evalue": "",
     "output_type": "error",
     "traceback": [
      "\u001b[1;31m---------------------------------------------------------------------------\u001b[0m",
      "\u001b[1;31mStopIteration\u001b[0m                             Traceback (most recent call last)",
      "\u001b[1;32m<ipython-input-82-5b52b11ce1fc>\u001b[0m in \u001b[0;36m<module>\u001b[1;34m\u001b[0m\n\u001b[0;32m      2\u001b[0m \u001b[0mprint\u001b[0m\u001b[1;33m(\u001b[0m\u001b[0mmygeniter\u001b[0m\u001b[1;33m.\u001b[0m\u001b[0m__next__\u001b[0m\u001b[1;33m(\u001b[0m\u001b[1;33m)\u001b[0m\u001b[1;33m)\u001b[0m\u001b[1;33m\u001b[0m\u001b[1;33m\u001b[0m\u001b[0m\n\u001b[0;32m      3\u001b[0m \u001b[0mprint\u001b[0m\u001b[1;33m(\u001b[0m\u001b[0mnext\u001b[0m\u001b[1;33m(\u001b[0m\u001b[0mmygeniter\u001b[0m\u001b[1;33m)\u001b[0m\u001b[1;33m)\u001b[0m\u001b[1;33m\u001b[0m\u001b[1;33m\u001b[0m\u001b[0m\n\u001b[1;32m----> 4\u001b[1;33m \u001b[0mprint\u001b[0m\u001b[1;33m(\u001b[0m\u001b[0mmygeniter\u001b[0m\u001b[1;33m.\u001b[0m\u001b[0m__next__\u001b[0m\u001b[1;33m(\u001b[0m\u001b[1;33m)\u001b[0m\u001b[1;33m)\u001b[0m\u001b[1;33m\u001b[0m\u001b[1;33m\u001b[0m\u001b[0m\n\u001b[0m",
      "\u001b[1;31mStopIteration\u001b[0m: "
     ]
    }
   ],
   "source": [
    "print(next(mygeniter))\n",
    "print(mygeniter.__next__())\n",
    "print(next(mygeniter))\n",
    "print(mygeniter.__next__())"
   ]
  },
  {
   "cell_type": "code",
   "execution_count": 83,
   "metadata": {},
   "outputs": [],
   "source": [
    "def simple_generator():\n",
    "    yield 1\n",
    "    print('first yield expression done')\n",
    "    yield 2\n",
    "    print('second yield expression done')\n",
    "    yield 3\n",
    "    print('third yield expression done')"
   ]
  },
  {
   "cell_type": "code",
   "execution_count": 84,
   "metadata": {},
   "outputs": [
    {
     "name": "stdout",
     "output_type": "stream",
     "text": [
      "1\n"
     ]
    }
   ],
   "source": [
    "mygeniter = simple_generator()\n",
    "\n",
    "print(next(mygeniter))"
   ]
  },
  {
   "cell_type": "code",
   "execution_count": 86,
   "metadata": {},
   "outputs": [
    {
     "name": "stdout",
     "output_type": "stream",
     "text": [
      "second yield expression done\n",
      "3\n",
      "third yield expression done\n"
     ]
    },
    {
     "ename": "StopIteration",
     "evalue": "",
     "output_type": "error",
     "traceback": [
      "\u001b[1;31m---------------------------------------------------------------------------\u001b[0m",
      "\u001b[1;31mStopIteration\u001b[0m                             Traceback (most recent call last)",
      "\u001b[1;32m<ipython-input-86-9f2c30678d0b>\u001b[0m in \u001b[0;36m<module>\u001b[1;34m\u001b[0m\n\u001b[0;32m      1\u001b[0m \u001b[0mprint\u001b[0m\u001b[1;33m(\u001b[0m\u001b[0mnext\u001b[0m\u001b[1;33m(\u001b[0m\u001b[0mmygeniter\u001b[0m\u001b[1;33m)\u001b[0m\u001b[1;33m)\u001b[0m\u001b[1;33m\u001b[0m\u001b[1;33m\u001b[0m\u001b[0m\n\u001b[1;32m----> 2\u001b[1;33m \u001b[0mprint\u001b[0m\u001b[1;33m(\u001b[0m\u001b[0mnext\u001b[0m\u001b[1;33m(\u001b[0m\u001b[0mmygeniter\u001b[0m\u001b[1;33m)\u001b[0m\u001b[1;33m)\u001b[0m\u001b[1;33m\u001b[0m\u001b[1;33m\u001b[0m\u001b[0m\n\u001b[0m\u001b[0;32m      3\u001b[0m \u001b[0mprint\u001b[0m\u001b[1;33m(\u001b[0m\u001b[0mnext\u001b[0m\u001b[1;33m(\u001b[0m\u001b[0mmygeniter\u001b[0m\u001b[1;33m)\u001b[0m\u001b[1;33m)\u001b[0m\u001b[1;33m\u001b[0m\u001b[1;33m\u001b[0m\u001b[0m\n",
      "\u001b[1;31mStopIteration\u001b[0m: "
     ]
    }
   ],
   "source": [
    "print(next(mygeniter))\n",
    "print(next(mygeniter))\n",
    "print(next(mygeniter))"
   ]
  },
  {
   "cell_type": "code",
   "execution_count": 87,
   "metadata": {},
   "outputs": [],
   "source": [
    "def countup_geniter(limit=5):\n",
    "    counter = -1\n",
    "    \n",
    "    while True:\n",
    "        counter += 1\n",
    "        if counter >= limit:\n",
    "            break\n",
    "        yield counter"
   ]
  },
  {
   "cell_type": "code",
   "execution_count": 88,
   "metadata": {},
   "outputs": [
    {
     "name": "stdout",
     "output_type": "stream",
     "text": [
      "0\n",
      "1\n",
      "2\n"
     ]
    }
   ],
   "source": [
    "for num in countup_geniter(3):\n",
    "    print(num)"
   ]
  },
  {
   "cell_type": "code",
   "execution_count": 89,
   "metadata": {},
   "outputs": [],
   "source": [
    "def countup_geniter(limit=5):\n",
    "    counter = 0\n",
    "    while True:\n",
    "        if counter >= limit:\n",
    "            break\n",
    "        yield counter\n",
    "        counter += 1"
   ]
  },
  {
   "cell_type": "code",
   "execution_count": 91,
   "metadata": {},
   "outputs": [],
   "source": [
    "def simple_generator():\n",
    "    value = yield 1\n",
    "    print('value of first yield:', value)\n",
    "    value = yield 2\n",
    "    print('value of second yield:', value)\n",
    "    value = yield 3\n",
    "    print('value of third yield:', value)"
   ]
  },
  {
   "cell_type": "code",
   "execution_count": 93,
   "metadata": {},
   "outputs": [
    {
     "name": "stdout",
     "output_type": "stream",
     "text": [
      "1\n"
     ]
    }
   ],
   "source": [
    "mygeniter = simple_generator()\n",
    "\n",
    "print(next(mygeniter))"
   ]
  },
  {
   "cell_type": "code",
   "execution_count": 94,
   "metadata": {},
   "outputs": [
    {
     "name": "stdout",
     "output_type": "stream",
     "text": [
      "value of first yield: None\n",
      "2\n"
     ]
    }
   ],
   "source": [
    "print(next(mygeniter))"
   ]
  },
  {
   "cell_type": "code",
   "execution_count": 95,
   "metadata": {},
   "outputs": [
    {
     "name": "stdout",
     "output_type": "stream",
     "text": [
      "value of second yield: hello\n",
      "3\n"
     ]
    }
   ],
   "source": [
    "print(mygeniter.send('hello'))"
   ]
  },
  {
   "cell_type": "code",
   "execution_count": 106,
   "metadata": {},
   "outputs": [],
   "source": [
    "def hellomsg_geniter():\n",
    "    namelist = ['kawasaki', 'isshiki', 'endo']\n",
    "    counter = 0\n",
    "    length = len(namelist)\n",
    "    value = None\n",
    "    while True:\n",
    "        if value:\n",
    "            namelist.append(str(value))\n",
    "            length += 1\n",
    "            counter = length -1\n",
    "        value = yield 'hello ' + namelist[counter]\n",
    "        print('2',namelist)\n",
    "        counter += 1\n",
    "        if counter % length == 0:\n",
    "            counter = 0"
   ]
  },
  {
   "cell_type": "code",
   "execution_count": 107,
   "metadata": {},
   "outputs": [
    {
     "name": "stdout",
     "output_type": "stream",
     "text": [
      "hello kawasaki\n",
      "2 ['kawasaki', 'isshiki', 'endo']\n",
      "hello isshiki\n",
      "2 ['kawasaki', 'isshiki', 'endo']\n",
      "hello endo\n",
      "2 ['kawasaki', 'isshiki', 'endo']\n",
      "hello kawasaki\n",
      "2 ['kawasaki', 'isshiki', 'endo']\n",
      "hello deep insider\n",
      "2 ['kawasaki', 'isshiki', 'endo', 'deep insider']\n",
      "hello kawasaki\n"
     ]
    }
   ],
   "source": [
    "mygeniter = hellomsg_geniter()\n",
    "print(next(mygeniter))\n",
    "print(next(mygeniter))\n",
    "print(next(mygeniter))\n",
    "print(next(mygeniter))\n",
    "print(mygeniter.send('deep insider'))\n",
    "print(next(mygeniter))"
   ]
  },
  {
   "cell_type": "markdown",
   "metadata": {},
   "source": [
    "# 第50回"
   ]
  },
  {
   "cell_type": "code",
   "execution_count": 108,
   "metadata": {},
   "outputs": [],
   "source": [
    "def sample_geniter():\n",
    "    counter = 0\n",
    "    while True:\n",
    "        try:\n",
    "            yield counter\n",
    "            counter += 1\n",
    "        except TypeError as e:\n",
    "            break\n",
    "        except Exception as e:\n",
    "            print(e)\n",
    "            counter += 1\n",
    "        finally:\n",
    "            print('finally')"
   ]
  },
  {
   "cell_type": "code",
   "execution_count": 109,
   "metadata": {},
   "outputs": [
    {
     "name": "stdout",
     "output_type": "stream",
     "text": [
      "0\n",
      "name error\n",
      "finally\n",
      "1\n",
      "finally\n"
     ]
    },
    {
     "ename": "StopIteration",
     "evalue": "",
     "output_type": "error",
     "traceback": [
      "\u001b[1;31m---------------------------------------------------------------------------\u001b[0m",
      "\u001b[1;31mStopIteration\u001b[0m                             Traceback (most recent call last)",
      "\u001b[1;32m<ipython-input-109-9ae5bca8cffd>\u001b[0m in \u001b[0;36m<module>\u001b[1;34m\u001b[0m\n\u001b[0;32m      2\u001b[0m \u001b[0mprint\u001b[0m\u001b[1;33m(\u001b[0m\u001b[0mnext\u001b[0m\u001b[1;33m(\u001b[0m\u001b[0mmygeniter\u001b[0m\u001b[1;33m)\u001b[0m\u001b[1;33m)\u001b[0m\u001b[1;33m\u001b[0m\u001b[1;33m\u001b[0m\u001b[0m\n\u001b[0;32m      3\u001b[0m \u001b[0mprint\u001b[0m\u001b[1;33m(\u001b[0m\u001b[0mmygeniter\u001b[0m\u001b[1;33m.\u001b[0m\u001b[0mthrow\u001b[0m\u001b[1;33m(\u001b[0m\u001b[0mNameError\u001b[0m\u001b[1;33m,\u001b[0m \u001b[1;34m'name error'\u001b[0m\u001b[1;33m)\u001b[0m\u001b[1;33m)\u001b[0m\u001b[1;33m\u001b[0m\u001b[1;33m\u001b[0m\u001b[0m\n\u001b[1;32m----> 4\u001b[1;33m \u001b[0mprint\u001b[0m\u001b[1;33m(\u001b[0m\u001b[0mmygeniter\u001b[0m\u001b[1;33m.\u001b[0m\u001b[0mthrow\u001b[0m\u001b[1;33m(\u001b[0m\u001b[0mTypeError\u001b[0m\u001b[1;33m,\u001b[0m \u001b[1;34m'type error'\u001b[0m\u001b[1;33m)\u001b[0m\u001b[1;33m)\u001b[0m\u001b[1;33m\u001b[0m\u001b[1;33m\u001b[0m\u001b[0m\n\u001b[0m",
      "\u001b[1;31mStopIteration\u001b[0m: "
     ]
    }
   ],
   "source": [
    "mygeniter = sample_geniter()\n",
    "print(next(mygeniter))\n",
    "print(mygeniter.throw(NameError, 'name error'))\n",
    "print(mygeniter.throw(TypeError, 'type error'))"
   ]
  },
  {
   "cell_type": "code",
   "execution_count": 110,
   "metadata": {},
   "outputs": [
    {
     "name": "stdout",
     "output_type": "stream",
     "text": [
      "finally\n",
      "hello\n"
     ]
    }
   ],
   "source": [
    "mygeniter = sample_geniter()\n",
    "next(mygeniter)\n",
    "del mygeniter\n",
    "print('hello')"
   ]
  },
  {
   "cell_type": "code",
   "execution_count": 111,
   "metadata": {},
   "outputs": [
    {
     "name": "stdout",
     "output_type": "stream",
     "text": [
      "finally\n"
     ]
    }
   ],
   "source": [
    "mygeniter = sample_geniter()\n",
    "next(mygeniter)\n",
    "mygeniter = sample_geniter()"
   ]
  },
  {
   "cell_type": "code",
   "execution_count": 114,
   "metadata": {},
   "outputs": [
    {
     "name": "stdout",
     "output_type": "stream",
     "text": [
      "0\n",
      "1\n",
      "2\n",
      "3\n"
     ]
    }
   ],
   "source": [
    "gen_expr = (x for x in range(4))\n",
    "\n",
    "for num in gen_expr:\n",
    "    print(num)"
   ]
  },
  {
   "cell_type": "code",
   "execution_count": 115,
   "metadata": {},
   "outputs": [
    {
     "name": "stdout",
     "output_type": "stream",
     "text": [
      "0\n",
      "1\n",
      "2\n",
      "3\n"
     ]
    }
   ],
   "source": [
    "def sample_geniter():\n",
    "    yield from range(4)\n",
    "\n",
    "gen_expr = sample_geniter()\n",
    "\n",
    "for num in gen_expr:\n",
    "    print(num)"
   ]
  },
  {
   "cell_type": "code",
   "execution_count": 116,
   "metadata": {},
   "outputs": [
    {
     "name": "stdout",
     "output_type": "stream",
     "text": [
      "0\n",
      "2\n",
      "4\n"
     ]
    }
   ],
   "source": [
    "sample_geniter = lambda x, y: (z for z in range(x, y) if z % 2 == 0)\n",
    "\n",
    "for num in sample_geniter(0, 5):\n",
    "    print(num)"
   ]
  },
  {
   "cell_type": "code",
   "execution_count": 117,
   "metadata": {},
   "outputs": [
    {
     "name": "stdout",
     "output_type": "stream",
     "text": [
      "1\n",
      "2\n",
      "3\n",
      "4\n",
      "finished\n",
      "hello\n"
     ]
    }
   ],
   "source": [
    "def sample_geniter():\n",
    "    yield from [1, 2, 3, 4]\n",
    "    print('finished')\n",
    "    \n",
    "for num in sample_geniter():\n",
    "    print(num)\n",
    "\n",
    "print('hello')"
   ]
  },
  {
   "cell_type": "code",
   "execution_count": 118,
   "metadata": {},
   "outputs": [
    {
     "name": "stdout",
     "output_type": "stream",
     "text": [
      "finally\n",
      "0\n",
      "1\n",
      "2\n",
      "3\n",
      "finished\n"
     ]
    },
    {
     "ename": "StopIteration",
     "evalue": "",
     "output_type": "error",
     "traceback": [
      "\u001b[1;31m---------------------------------------------------------------------------\u001b[0m",
      "\u001b[1;31mStopIteration\u001b[0m                             Traceback (most recent call last)",
      "\u001b[1;32m<ipython-input-118-2c8e1fd5ba3b>\u001b[0m in \u001b[0;36m<module>\u001b[1;34m\u001b[0m\n\u001b[0;32m      7\u001b[0m \u001b[1;32mwhile\u001b[0m \u001b[1;32mTrue\u001b[0m\u001b[1;33m:\u001b[0m\u001b[1;33m\u001b[0m\u001b[1;33m\u001b[0m\u001b[0m\n\u001b[0;32m      8\u001b[0m     \u001b[0mprint\u001b[0m\u001b[1;33m(\u001b[0m\u001b[0mnum\u001b[0m\u001b[1;33m)\u001b[0m\u001b[1;33m\u001b[0m\u001b[1;33m\u001b[0m\u001b[0m\n\u001b[1;32m----> 9\u001b[1;33m     \u001b[0mnum\u001b[0m \u001b[1;33m=\u001b[0m \u001b[0mnext\u001b[0m\u001b[1;33m(\u001b[0m\u001b[0mmygeniter\u001b[0m\u001b[1;33m)\u001b[0m\u001b[1;33m\u001b[0m\u001b[1;33m\u001b[0m\u001b[0m\n\u001b[0m",
      "\u001b[1;31mStopIteration\u001b[0m: "
     ]
    }
   ],
   "source": [
    "def sample_geniter():\n",
    "    yield from [0, 1, 2, 3]\n",
    "    print('finished')\n",
    "    \n",
    "mygeniter = sample_geniter()\n",
    "num = next(mygeniter)\n",
    "while True:\n",
    "    print(num)\n",
    "    num = next(mygeniter)"
   ]
  },
  {
   "cell_type": "code",
   "execution_count": 119,
   "metadata": {},
   "outputs": [],
   "source": [
    "def sub_generator():\n",
    "    value = 0\n",
    "    while True:\n",
    "        if value == 'stop':\n",
    "            return -1\n",
    "        else:\n",
    "            result = sum(range(value+1))\n",
    "            value = yield result\n",
    "            \n",
    "def outer_geniter():\n",
    "    value = yield from sub_generator()\n",
    "    yield value"
   ]
  },
  {
   "cell_type": "code",
   "execution_count": 120,
   "metadata": {},
   "outputs": [
    {
     "name": "stdout",
     "output_type": "stream",
     "text": [
      "0\n"
     ]
    }
   ],
   "source": [
    "mygeniter = outer_geniter()\n",
    "print(next(mygeniter))"
   ]
  },
  {
   "cell_type": "code",
   "execution_count": 121,
   "metadata": {},
   "outputs": [
    {
     "name": "stdout",
     "output_type": "stream",
     "text": [
      "15\n",
      "-1\n"
     ]
    }
   ],
   "source": [
    "print(mygeniter.send(5))\n",
    "print(mygeniter.send('stop'))"
   ]
  },
  {
   "cell_type": "code",
   "execution_count": null,
   "metadata": {},
   "outputs": [],
   "source": []
  }
 ],
 "metadata": {
  "kernelspec": {
   "display_name": "Python 3",
   "language": "python",
   "name": "python3"
  },
  "language_info": {
   "codemirror_mode": {
    "name": "ipython",
    "version": 3
   },
   "file_extension": ".py",
   "mimetype": "text/x-python",
   "name": "python",
   "nbconvert_exporter": "python",
   "pygments_lexer": "ipython3",
   "version": "3.7.3"
  }
 },
 "nbformat": 4,
 "nbformat_minor": 2
}
